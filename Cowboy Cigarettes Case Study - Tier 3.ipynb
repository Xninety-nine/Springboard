{
 "cells": [
  {
   "cell_type": "markdown",
   "metadata": {},
   "source": [
    "# Springboard Time Series - 'Cowboy Cigarettes' Case Study - Tier 3"
   ]
  },
  {
   "cell_type": "markdown",
   "metadata": {},
   "source": [
    "## Brief\n",
    "\n",
    "You're working in the US federal government as a data scientist in the Health and Environment department. You've been tasked with determining whether sales for the oldest and most powerful producers of cigarettes in the country are increasing or declining. \n",
    "\n",
    "**Cowboy Cigarettes (TM, *est.* 1890)** is the US's longest-running cigarette manufacturer. Like many cigarette companies, however, they haven't always been that public about their sales and marketing data. The available post-war historical data runs for only 11 years after they resumed production in 1949; stopping in 1960 before resuming again in 1970. Your job is to use the 1949-1960 data to predict whether the manufacturer's cigarette sales actually increased, decreased, or stayed the same. You need to make a probable reconstruction of the sales record of the manufacturer - predicting the future, from the perspective of the past - to contribute to a full report on US public health in relation to major cigarette companies. \n",
    "\n",
    "The results of your analysis will be used as part of a major report relating public health and local economics, and will be combined with other studies executed by your colleagues to provide important government advice.  \n",
    "\n",
    "-------------------------------\n",
    "As ever, this notebook is **tiered**, meaning you can elect that tier that is right for your confidence and skill level. There are 3 tiers, with tier 1 being the easiest and tier 3 being the hardest.  \n",
    "\n",
    "**1. Sourcing and loading** \n",
    "- Load relevant libraries \n",
    "- Load the data\n",
    "- Explore the data\n",
    "\n",
    " \n",
    "**2. Cleaning, transforming and visualizing**\n",
    "- Dropping unwanted columns\n",
    "- Nomenclature\n",
    "- Type conversions\n",
    "- Making a predictor variable `y` \n",
    "- Getting summary statistics for `y`\n",
    "- Plotting `y`\n",
    "  \n",
    "  \n",
    "**3. Modelling** \n",
    "- Decomposition\n",
    "    - Trend\n",
    "    - Seasonality\n",
    "    - Noise\n",
    "- Testing for stationarity with KPSS\n",
    "- Making the data stationary\n",
    "- The ARIMA Model\n",
    "    - Make a function to find the MSE of a single ARIMA model\n",
    "    - Make a function to evaluate the different ARIMA models with different p, d, and q values\n",
    "- Visualize the results\n",
    "- Application: Forecasting\n",
    "\n",
    "**4. Evaluating and concluding** \n",
    "- What is our conclusion?\n",
    "- Next steps\n",
    "    "
   ]
  },
  {
   "cell_type": "markdown",
   "metadata": {},
   "source": [
    "## 0. Preliminaries \n",
    "\n",
    "Time series data is just any data displaying how a single variable changes over time. It comes as a collection of metrics typically taken at regular intervals. Common examples of time series data include weekly sales data and daily stock prices. You can also easily acquire time series data from [Google Trends](https://trends.google.com/trends/?geo=US), which shows you how popular certain search terms are, measured in number of Google searches. "
   ]
  },
  {
   "cell_type": "markdown",
   "metadata": {},
   "source": [
    "## 1. Sourcing and Loading\n",
    "\n",
    "### 1a. Load relevant libraries "
   ]
  },
  {
   "cell_type": "code",
   "execution_count": 1,
   "metadata": {},
   "outputs": [],
   "source": [
    "import pandas as pd\n",
    "import matplotlib.pyplot as plt\n",
    "import statsmodels.api as sm\n",
    "import numpy as np\n",
    "import datetime \n",
    "import seaborn as sns"
   ]
  },
  {
   "cell_type": "code",
   "execution_count": 2,
   "metadata": {},
   "outputs": [],
   "source": [
    "from statsmodels.graphics.tsaplots import plot_acf\n",
    "from statsmodels.tsa.stattools import acf\n",
    "from statsmodels.graphics.tsaplots import plot_pacf\n",
    "from math import sqrt\n",
    "from statsmodels.tsa.stattools import adfuller\n",
    "from statsmodels.tsa.arima_process import ArmaProcess\n",
    "from statsmodels.tsa.arima.model import ARIMA\n",
    "from statsmodels.graphics.tsaplots import plot_predict\n"
   ]
  },
  {
   "cell_type": "markdown",
   "metadata": {},
   "source": [
    "### 1b. Load the data\n",
    "Call the variable `cigData`. "
   ]
  },
  {
   "cell_type": "code",
   "execution_count": 3,
   "metadata": {},
   "outputs": [],
   "source": [
    "cigData = pd.read_csv('CowboyCigsData.csv')"
   ]
  },
  {
   "cell_type": "markdown",
   "metadata": {},
   "source": [
    "### 1c. Explore the data\n",
    "We now need to check whether the data conduces to a time series style analysis."
   ]
  },
  {
   "cell_type": "code",
   "execution_count": 4,
   "metadata": {
    "scrolled": true
   },
   "outputs": [
    {
     "data": {
      "text/html": [
       "<div>\n",
       "<style scoped>\n",
       "    .dataframe tbody tr th:only-of-type {\n",
       "        vertical-align: middle;\n",
       "    }\n",
       "\n",
       "    .dataframe tbody tr th {\n",
       "        vertical-align: top;\n",
       "    }\n",
       "\n",
       "    .dataframe thead th {\n",
       "        text-align: right;\n",
       "    }\n",
       "</style>\n",
       "<table border=\"1\" class=\"dataframe\">\n",
       "  <thead>\n",
       "    <tr style=\"text-align: right;\">\n",
       "      <th></th>\n",
       "      <th>Unnamed: 0</th>\n",
       "      <th>Time</th>\n",
       "      <th>#CigSales</th>\n",
       "    </tr>\n",
       "  </thead>\n",
       "  <tbody>\n",
       "    <tr>\n",
       "      <th>0</th>\n",
       "      <td>0</td>\n",
       "      <td>1949-01</td>\n",
       "      <td>1000112</td>\n",
       "    </tr>\n",
       "    <tr>\n",
       "      <th>1</th>\n",
       "      <td>1</td>\n",
       "      <td>1949-02</td>\n",
       "      <td>1000118</td>\n",
       "    </tr>\n",
       "    <tr>\n",
       "      <th>2</th>\n",
       "      <td>2</td>\n",
       "      <td>1949-03</td>\n",
       "      <td>1000132</td>\n",
       "    </tr>\n",
       "    <tr>\n",
       "      <th>3</th>\n",
       "      <td>3</td>\n",
       "      <td>1949-04</td>\n",
       "      <td>1000129</td>\n",
       "    </tr>\n",
       "    <tr>\n",
       "      <th>4</th>\n",
       "      <td>4</td>\n",
       "      <td>1949-05</td>\n",
       "      <td>1000121</td>\n",
       "    </tr>\n",
       "  </tbody>\n",
       "</table>\n",
       "</div>"
      ],
      "text/plain": [
       "   Unnamed: 0     Time  #CigSales\n",
       "0           0  1949-01    1000112\n",
       "1           1  1949-02    1000118\n",
       "2           2  1949-03    1000132\n",
       "3           3  1949-04    1000129\n",
       "4           4  1949-05    1000121"
      ]
     },
     "execution_count": 4,
     "metadata": {},
     "output_type": "execute_result"
    }
   ],
   "source": [
    "cigData.head()"
   ]
  },
  {
   "cell_type": "markdown",
   "metadata": {},
   "source": [
    "Over a million cigarettes sold in the month of January 1949. This certainly is a popular cigarette brand. "
   ]
  },
  {
   "cell_type": "markdown",
   "metadata": {},
   "source": [
    "Check out the columns feature of the data. How many columns are there? "
   ]
  },
  {
   "cell_type": "code",
   "execution_count": 5,
   "metadata": {},
   "outputs": [
    {
     "data": {
      "text/plain": [
       "Index(['Unnamed: 0', 'Time', '#CigSales'], dtype='object')"
      ]
     },
     "execution_count": 5,
     "metadata": {},
     "output_type": "execute_result"
    }
   ],
   "source": [
    "cigData.columns"
   ]
  },
  {
   "cell_type": "markdown",
   "metadata": {},
   "source": [
    "Let's check out the data types of our columns."
   ]
  },
  {
   "cell_type": "code",
   "execution_count": 6,
   "metadata": {
    "scrolled": false
   },
   "outputs": [
    {
     "data": {
      "text/plain": [
       "Unnamed: 0     int64\n",
       "Time          object\n",
       "#CigSales      int64\n",
       "dtype: object"
      ]
     },
     "execution_count": 6,
     "metadata": {},
     "output_type": "execute_result"
    }
   ],
   "source": [
    "cigData.dtypes"
   ]
  },
  {
   "cell_type": "markdown",
   "metadata": {},
   "source": [
    "Check whether there are any null values. "
   ]
  },
  {
   "cell_type": "code",
   "execution_count": 7,
   "metadata": {},
   "outputs": [
    {
     "data": {
      "text/plain": [
       "False"
      ]
     },
     "execution_count": 7,
     "metadata": {},
     "output_type": "execute_result"
    }
   ],
   "source": [
    "cigData.isnull().values.any()"
   ]
  },
  {
   "cell_type": "markdown",
   "metadata": {},
   "source": [
    "## 2. Cleaning, transforming and visualizing"
   ]
  },
  {
   "cell_type": "markdown",
   "metadata": {},
   "source": [
    "### 2a. Dropping unwanted columns\n",
    "We need to cut that `Unnamed: 0` column. Delete it here."
   ]
  },
  {
   "cell_type": "code",
   "execution_count": 8,
   "metadata": {},
   "outputs": [],
   "source": [
    "cigData.drop(columns='Unnamed: 0',inplace=True) "
   ]
  },
  {
   "cell_type": "code",
   "execution_count": 9,
   "metadata": {},
   "outputs": [
    {
     "data": {
      "text/html": [
       "<div>\n",
       "<style scoped>\n",
       "    .dataframe tbody tr th:only-of-type {\n",
       "        vertical-align: middle;\n",
       "    }\n",
       "\n",
       "    .dataframe tbody tr th {\n",
       "        vertical-align: top;\n",
       "    }\n",
       "\n",
       "    .dataframe thead th {\n",
       "        text-align: right;\n",
       "    }\n",
       "</style>\n",
       "<table border=\"1\" class=\"dataframe\">\n",
       "  <thead>\n",
       "    <tr style=\"text-align: right;\">\n",
       "      <th></th>\n",
       "      <th>Time</th>\n",
       "      <th>#CigSales</th>\n",
       "    </tr>\n",
       "  </thead>\n",
       "  <tbody>\n",
       "    <tr>\n",
       "      <th>0</th>\n",
       "      <td>1949-01</td>\n",
       "      <td>1000112</td>\n",
       "    </tr>\n",
       "    <tr>\n",
       "      <th>1</th>\n",
       "      <td>1949-02</td>\n",
       "      <td>1000118</td>\n",
       "    </tr>\n",
       "    <tr>\n",
       "      <th>2</th>\n",
       "      <td>1949-03</td>\n",
       "      <td>1000132</td>\n",
       "    </tr>\n",
       "    <tr>\n",
       "      <th>3</th>\n",
       "      <td>1949-04</td>\n",
       "      <td>1000129</td>\n",
       "    </tr>\n",
       "    <tr>\n",
       "      <th>4</th>\n",
       "      <td>1949-05</td>\n",
       "      <td>1000121</td>\n",
       "    </tr>\n",
       "  </tbody>\n",
       "</table>\n",
       "</div>"
      ],
      "text/plain": [
       "      Time  #CigSales\n",
       "0  1949-01    1000112\n",
       "1  1949-02    1000118\n",
       "2  1949-03    1000132\n",
       "3  1949-04    1000129\n",
       "4  1949-05    1000121"
      ]
     },
     "execution_count": 9,
     "metadata": {},
     "output_type": "execute_result"
    }
   ],
   "source": [
    "cigData.head()"
   ]
  },
  {
   "cell_type": "markdown",
   "metadata": {},
   "source": [
    "### 2b. Nomenclature"
   ]
  },
  {
   "cell_type": "markdown",
   "metadata": {},
   "source": [
    "We can see that the `Time` column actually has the granularity of months. Change the name of that column to `Month`."
   ]
  },
  {
   "cell_type": "code",
   "execution_count": 10,
   "metadata": {},
   "outputs": [],
   "source": [
    "cigData.rename(columns={'Time':'Month'},inplace=True)"
   ]
  },
  {
   "cell_type": "markdown",
   "metadata": {},
   "source": [
    "Call a head() to check this has worked. "
   ]
  },
  {
   "cell_type": "code",
   "execution_count": 11,
   "metadata": {},
   "outputs": [
    {
     "data": {
      "text/html": [
       "<div>\n",
       "<style scoped>\n",
       "    .dataframe tbody tr th:only-of-type {\n",
       "        vertical-align: middle;\n",
       "    }\n",
       "\n",
       "    .dataframe tbody tr th {\n",
       "        vertical-align: top;\n",
       "    }\n",
       "\n",
       "    .dataframe thead th {\n",
       "        text-align: right;\n",
       "    }\n",
       "</style>\n",
       "<table border=\"1\" class=\"dataframe\">\n",
       "  <thead>\n",
       "    <tr style=\"text-align: right;\">\n",
       "      <th></th>\n",
       "      <th>Month</th>\n",
       "      <th>#CigSales</th>\n",
       "    </tr>\n",
       "  </thead>\n",
       "  <tbody>\n",
       "    <tr>\n",
       "      <th>0</th>\n",
       "      <td>1949-01</td>\n",
       "      <td>1000112</td>\n",
       "    </tr>\n",
       "    <tr>\n",
       "      <th>1</th>\n",
       "      <td>1949-02</td>\n",
       "      <td>1000118</td>\n",
       "    </tr>\n",
       "    <tr>\n",
       "      <th>2</th>\n",
       "      <td>1949-03</td>\n",
       "      <td>1000132</td>\n",
       "    </tr>\n",
       "    <tr>\n",
       "      <th>3</th>\n",
       "      <td>1949-04</td>\n",
       "      <td>1000129</td>\n",
       "    </tr>\n",
       "    <tr>\n",
       "      <th>4</th>\n",
       "      <td>1949-05</td>\n",
       "      <td>1000121</td>\n",
       "    </tr>\n",
       "  </tbody>\n",
       "</table>\n",
       "</div>"
      ],
      "text/plain": [
       "     Month  #CigSales\n",
       "0  1949-01    1000112\n",
       "1  1949-02    1000118\n",
       "2  1949-03    1000132\n",
       "3  1949-04    1000129\n",
       "4  1949-05    1000121"
      ]
     },
     "execution_count": 11,
     "metadata": {},
     "output_type": "execute_result"
    }
   ],
   "source": [
    "cigData.head()"
   ]
  },
  {
   "cell_type": "code",
   "execution_count": null,
   "metadata": {},
   "outputs": [],
   "source": []
  },
  {
   "cell_type": "markdown",
   "metadata": {},
   "source": [
    "### 2c. Type conversions "
   ]
  },
  {
   "cell_type": "markdown",
   "metadata": {},
   "source": [
    "Now, do time series analysis on a Pandas dataframe is overkill, and is actually counter-productive. It's much more easy to carry out this type of analysis if we convert our data to a series first.\n",
    "\n",
    "Notice that the `Month` field was an object. Let's type convert the `Month` column to a Python `datetime`, before making that the index."
   ]
  },
  {
   "cell_type": "code",
   "execution_count": 12,
   "metadata": {},
   "outputs": [
    {
     "name": "stdout",
     "output_type": "stream",
     "text": [
      "<class 'pandas.core.frame.DataFrame'>\n",
      "RangeIndex: 144 entries, 0 to 143\n",
      "Data columns (total 2 columns):\n",
      " #   Column     Non-Null Count  Dtype \n",
      "---  ------     --------------  ----- \n",
      " 0   Month      144 non-null    object\n",
      " 1   #CigSales  144 non-null    int64 \n",
      "dtypes: int64(1), object(1)\n",
      "memory usage: 2.4+ KB\n"
     ]
    }
   ],
   "source": [
    "cigData.info()"
   ]
  },
  {
   "cell_type": "code",
   "execution_count": 13,
   "metadata": {},
   "outputs": [],
   "source": [
    "cigData['Month'] = pd.to_datetime(cigData['Month'])"
   ]
  },
  {
   "cell_type": "code",
   "execution_count": 14,
   "metadata": {},
   "outputs": [
    {
     "data": {
      "text/plain": [
       "Month        datetime64[ns]\n",
       "#CigSales             int64\n",
       "dtype: object"
      ]
     },
     "execution_count": 14,
     "metadata": {},
     "output_type": "execute_result"
    }
   ],
   "source": [
    "cigData.dtypes"
   ]
  },
  {
   "cell_type": "code",
   "execution_count": 15,
   "metadata": {},
   "outputs": [],
   "source": [
    "# Setting Month column as Index\n",
    "cigData.set_index('Month', inplace=True)"
   ]
  },
  {
   "cell_type": "code",
   "execution_count": 16,
   "metadata": {},
   "outputs": [
    {
     "data": {
      "text/plain": [
       "DatetimeIndex(['1949-01-01', '1949-02-01', '1949-03-01', '1949-04-01',\n",
       "               '1949-05-01', '1949-06-01', '1949-07-01', '1949-08-01',\n",
       "               '1949-09-01', '1949-10-01',\n",
       "               ...\n",
       "               '1960-03-01', '1960-04-01', '1960-05-01', '1960-06-01',\n",
       "               '1960-07-01', '1960-08-01', '1960-09-01', '1960-10-01',\n",
       "               '1960-11-01', '1960-12-01'],\n",
       "              dtype='datetime64[ns]', name='Month', length=144, freq=None)"
      ]
     },
     "execution_count": 16,
     "metadata": {},
     "output_type": "execute_result"
    }
   ],
   "source": [
    "cigData.index"
   ]
  },
  {
   "cell_type": "code",
   "execution_count": 17,
   "metadata": {},
   "outputs": [
    {
     "name": "stdout",
     "output_type": "stream",
     "text": [
      "<class 'pandas.core.frame.DataFrame'>\n",
      "DatetimeIndex: 144 entries, 1949-01-01 to 1960-12-01\n",
      "Data columns (total 1 columns):\n",
      " #   Column     Non-Null Count  Dtype\n",
      "---  ------     --------------  -----\n",
      " 0   #CigSales  144 non-null    int64\n",
      "dtypes: int64(1)\n",
      "memory usage: 2.2 KB\n"
     ]
    }
   ],
   "source": [
    "cigData.info()"
   ]
  },
  {
   "cell_type": "markdown",
   "metadata": {},
   "source": [
    "Perfect! "
   ]
  },
  {
   "cell_type": "markdown",
   "metadata": {},
   "source": [
    "### 2d. Making a predictor variable `y`"
   ]
  },
  {
   "cell_type": "markdown",
   "metadata": {},
   "source": [
    "The data is now indexed by date, as time series data ought to be.\n",
    "\n",
    "Since we want to predict the number of cigarette sales at Cowboy cigarettes, and `y` is typically used to signify a predictor variable, let's create a new variable called `y` and assign the indexed #Passenger column. "
   ]
  },
  {
   "cell_type": "code",
   "execution_count": 18,
   "metadata": {},
   "outputs": [],
   "source": [
    "y = cigData['#CigSales']"
   ]
  },
  {
   "cell_type": "markdown",
   "metadata": {},
   "source": [
    "Check the type of our new variable. "
   ]
  },
  {
   "cell_type": "code",
   "execution_count": 19,
   "metadata": {
    "scrolled": true
   },
   "outputs": [
    {
     "data": {
      "text/plain": [
       "pandas.core.series.Series"
      ]
     },
     "execution_count": 19,
     "metadata": {},
     "output_type": "execute_result"
    }
   ],
   "source": [
    "type(y)"
   ]
  },
  {
   "cell_type": "markdown",
   "metadata": {},
   "source": [
    "### 2e. Getting summary statistics for `y`"
   ]
  },
  {
   "cell_type": "markdown",
   "metadata": {},
   "source": [
    "Get the summary statistics of our data here. "
   ]
  },
  {
   "cell_type": "code",
   "execution_count": 20,
   "metadata": {
    "scrolled": true
   },
   "outputs": [
    {
     "data": {
      "text/plain": [
       "count    1.440000e+02\n",
       "mean     1.000280e+06\n",
       "std      1.199663e+02\n",
       "min      1.000104e+06\n",
       "25%      1.000180e+06\n",
       "50%      1.000266e+06\n",
       "75%      1.000360e+06\n",
       "max      1.000622e+06\n",
       "Name: #CigSales, dtype: float64"
      ]
     },
     "execution_count": 20,
     "metadata": {},
     "output_type": "execute_result"
    }
   ],
   "source": [
    "y.describe()"
   ]
  },
  {
   "cell_type": "code",
   "execution_count": 21,
   "metadata": {},
   "outputs": [
    {
     "data": {
      "text/plain": [
       "Month\n",
       "1949-01-01    1000112\n",
       "1949-02-01    1000118\n",
       "1949-03-01    1000132\n",
       "1949-04-01    1000129\n",
       "1949-05-01    1000121\n",
       "Name: #CigSales, dtype: int64"
      ]
     },
     "execution_count": 21,
     "metadata": {},
     "output_type": "execute_result"
    }
   ],
   "source": [
    "y.head()"
   ]
  },
  {
   "cell_type": "markdown",
   "metadata": {},
   "source": [
    "Try visualizing the data. A simple `matplotlib` plot should do the trick.  "
   ]
  },
  {
   "cell_type": "markdown",
   "metadata": {},
   "source": [
    "### 2f. Plotting `y`"
   ]
  },
  {
   "cell_type": "code",
   "execution_count": 22,
   "metadata": {},
   "outputs": [
    {
     "data": {
      "text/plain": [
       "Text(0, 0.5, 'Sales in Million')"
      ]
     },
     "execution_count": 22,
     "metadata": {},
     "output_type": "execute_result"
    },
    {
     "data": {
      "image/png": "[encoded data removed]",
      "text/plain": [
       "<Figure size 640x480 with 1 Axes>"
      ]
     },
     "metadata": {},
     "output_type": "display_data"
    }
   ],
   "source": [
    "plt.plot(y.index,y, color='red')\n",
    "\n",
    "plt.title('Cowboy Cig Sales over the years')\n",
    "\n",
    "plt.xlabel('Year')\n",
    "plt.ylabel('Sales in Million')"
   ]
  },
  {
   "cell_type": "markdown",
   "metadata": {},
   "source": [
    "## Making a copy to manipulate to extract months and visualize seasonality in sales"
   ]
  },
  {
   "cell_type": "code",
   "execution_count": 23,
   "metadata": {},
   "outputs": [],
   "source": [
    "seasonal_data = cigData.copy()"
   ]
  },
  {
   "cell_type": "code",
   "execution_count": 24,
   "metadata": {},
   "outputs": [
    {
     "data": {
      "text/html": [
       "<div>\n",
       "<style scoped>\n",
       "    .dataframe tbody tr th:only-of-type {\n",
       "        vertical-align: middle;\n",
       "    }\n",
       "\n",
       "    .dataframe tbody tr th {\n",
       "        vertical-align: top;\n",
       "    }\n",
       "\n",
       "    .dataframe thead th {\n",
       "        text-align: right;\n",
       "    }\n",
       "</style>\n",
       "<table border=\"1\" class=\"dataframe\">\n",
       "  <thead>\n",
       "    <tr style=\"text-align: right;\">\n",
       "      <th></th>\n",
       "      <th>#CigSales</th>\n",
       "    </tr>\n",
       "    <tr>\n",
       "      <th>Month</th>\n",
       "      <th></th>\n",
       "    </tr>\n",
       "  </thead>\n",
       "  <tbody>\n",
       "    <tr>\n",
       "      <th>1949-01-01</th>\n",
       "      <td>1000112</td>\n",
       "    </tr>\n",
       "    <tr>\n",
       "      <th>1949-02-01</th>\n",
       "      <td>1000118</td>\n",
       "    </tr>\n",
       "    <tr>\n",
       "      <th>1949-03-01</th>\n",
       "      <td>1000132</td>\n",
       "    </tr>\n",
       "    <tr>\n",
       "      <th>1949-04-01</th>\n",
       "      <td>1000129</td>\n",
       "    </tr>\n",
       "    <tr>\n",
       "      <th>1949-05-01</th>\n",
       "      <td>1000121</td>\n",
       "    </tr>\n",
       "  </tbody>\n",
       "</table>\n",
       "</div>"
      ],
      "text/plain": [
       "            #CigSales\n",
       "Month                \n",
       "1949-01-01    1000112\n",
       "1949-02-01    1000118\n",
       "1949-03-01    1000132\n",
       "1949-04-01    1000129\n",
       "1949-05-01    1000121"
      ]
     },
     "execution_count": 24,
     "metadata": {},
     "output_type": "execute_result"
    }
   ],
   "source": [
    "seasonal_data.head()"
   ]
  },
  {
   "cell_type": "code",
   "execution_count": 25,
   "metadata": {},
   "outputs": [],
   "source": [
    "seasonal_data['Date'] = seasonal_data.index"
   ]
  },
  {
   "cell_type": "code",
   "execution_count": 26,
   "metadata": {},
   "outputs": [
    {
     "data": {
      "text/html": [
       "<div>\n",
       "<style scoped>\n",
       "    .dataframe tbody tr th:only-of-type {\n",
       "        vertical-align: middle;\n",
       "    }\n",
       "\n",
       "    .dataframe tbody tr th {\n",
       "        vertical-align: top;\n",
       "    }\n",
       "\n",
       "    .dataframe thead th {\n",
       "        text-align: right;\n",
       "    }\n",
       "</style>\n",
       "<table border=\"1\" class=\"dataframe\">\n",
       "  <thead>\n",
       "    <tr style=\"text-align: right;\">\n",
       "      <th></th>\n",
       "      <th>#CigSales</th>\n",
       "      <th>Date</th>\n",
       "    </tr>\n",
       "    <tr>\n",
       "      <th>Month</th>\n",
       "      <th></th>\n",
       "      <th></th>\n",
       "    </tr>\n",
       "  </thead>\n",
       "  <tbody>\n",
       "    <tr>\n",
       "      <th>1949-01-01</th>\n",
       "      <td>1000112</td>\n",
       "      <td>1949-01-01</td>\n",
       "    </tr>\n",
       "    <tr>\n",
       "      <th>1949-02-01</th>\n",
       "      <td>1000118</td>\n",
       "      <td>1949-02-01</td>\n",
       "    </tr>\n",
       "    <tr>\n",
       "      <th>1949-03-01</th>\n",
       "      <td>1000132</td>\n",
       "      <td>1949-03-01</td>\n",
       "    </tr>\n",
       "    <tr>\n",
       "      <th>1949-04-01</th>\n",
       "      <td>1000129</td>\n",
       "      <td>1949-04-01</td>\n",
       "    </tr>\n",
       "    <tr>\n",
       "      <th>1949-05-01</th>\n",
       "      <td>1000121</td>\n",
       "      <td>1949-05-01</td>\n",
       "    </tr>\n",
       "  </tbody>\n",
       "</table>\n",
       "</div>"
      ],
      "text/plain": [
       "            #CigSales       Date\n",
       "Month                           \n",
       "1949-01-01    1000112 1949-01-01\n",
       "1949-02-01    1000118 1949-02-01\n",
       "1949-03-01    1000132 1949-03-01\n",
       "1949-04-01    1000129 1949-04-01\n",
       "1949-05-01    1000121 1949-05-01"
      ]
     },
     "execution_count": 26,
     "metadata": {},
     "output_type": "execute_result"
    }
   ],
   "source": [
    "seasonal_data.head()"
   ]
  },
  {
   "cell_type": "code",
   "execution_count": 27,
   "metadata": {},
   "outputs": [],
   "source": [
    "seasonal_data['Months'] = seasonal_data['Date'].dt.month"
   ]
  },
  {
   "cell_type": "code",
   "execution_count": 28,
   "metadata": {},
   "outputs": [
    {
     "data": {
      "text/html": [
       "<div>\n",
       "<style scoped>\n",
       "    .dataframe tbody tr th:only-of-type {\n",
       "        vertical-align: middle;\n",
       "    }\n",
       "\n",
       "    .dataframe tbody tr th {\n",
       "        vertical-align: top;\n",
       "    }\n",
       "\n",
       "    .dataframe thead th {\n",
       "        text-align: right;\n",
       "    }\n",
       "</style>\n",
       "<table border=\"1\" class=\"dataframe\">\n",
       "  <thead>\n",
       "    <tr style=\"text-align: right;\">\n",
       "      <th></th>\n",
       "      <th>#CigSales</th>\n",
       "      <th>Date</th>\n",
       "      <th>Months</th>\n",
       "    </tr>\n",
       "    <tr>\n",
       "      <th>Month</th>\n",
       "      <th></th>\n",
       "      <th></th>\n",
       "      <th></th>\n",
       "    </tr>\n",
       "  </thead>\n",
       "  <tbody>\n",
       "    <tr>\n",
       "      <th>1949-01-01</th>\n",
       "      <td>1000112</td>\n",
       "      <td>1949-01-01</td>\n",
       "      <td>1</td>\n",
       "    </tr>\n",
       "    <tr>\n",
       "      <th>1949-02-01</th>\n",
       "      <td>1000118</td>\n",
       "      <td>1949-02-01</td>\n",
       "      <td>2</td>\n",
       "    </tr>\n",
       "    <tr>\n",
       "      <th>1949-03-01</th>\n",
       "      <td>1000132</td>\n",
       "      <td>1949-03-01</td>\n",
       "      <td>3</td>\n",
       "    </tr>\n",
       "    <tr>\n",
       "      <th>1949-04-01</th>\n",
       "      <td>1000129</td>\n",
       "      <td>1949-04-01</td>\n",
       "      <td>4</td>\n",
       "    </tr>\n",
       "    <tr>\n",
       "      <th>1949-05-01</th>\n",
       "      <td>1000121</td>\n",
       "      <td>1949-05-01</td>\n",
       "      <td>5</td>\n",
       "    </tr>\n",
       "  </tbody>\n",
       "</table>\n",
       "</div>"
      ],
      "text/plain": [
       "            #CigSales       Date  Months\n",
       "Month                                   \n",
       "1949-01-01    1000112 1949-01-01       1\n",
       "1949-02-01    1000118 1949-02-01       2\n",
       "1949-03-01    1000132 1949-03-01       3\n",
       "1949-04-01    1000129 1949-04-01       4\n",
       "1949-05-01    1000121 1949-05-01       5"
      ]
     },
     "execution_count": 28,
     "metadata": {},
     "output_type": "execute_result"
    }
   ],
   "source": [
    "seasonal_data.head()"
   ]
  },
  {
   "cell_type": "code",
   "execution_count": 29,
   "metadata": {},
   "outputs": [
    {
     "name": "stderr",
     "output_type": "stream",
     "text": [
      "/var/folders/yw/y4pg_jgd1337cpj1cjwrm82c0000gn/T/ipykernel_964/4236716652.py:9: FutureWarning: \n",
      "\n",
      "Passing `palette` without assigning `hue` is deprecated and will be removed in v0.14.0. Assign the `x` variable to `hue` and set `legend=False` for the same effect.\n",
      "\n",
      "  sns.boxplot(x='Months', y='#CigSales', data=seasonal_data, ax=ax, palette='Set3')\n",
      "/var/folders/yw/y4pg_jgd1337cpj1cjwrm82c0000gn/T/ipykernel_964/4236716652.py:16: UserWarning: set_ticklabels() should only be used with a fixed number of ticks, i.e. after set_ticks() or using a FixedLocator.\n",
      "  ax.set_xticklabels([\n"
     ]
    },
    {
     "data": {
      "image/png": "[encoded data removed]",
      "text/plain": [
       "<Figure size 1000x600 with 1 Axes>"
      ]
     },
     "metadata": {},
     "output_type": "display_data"
    }
   ],
   "source": [
    "months_grouped_ = seasonal_data['Months']\n",
    "\n",
    "\n",
    "#  Create box plots\n",
    "fig, ax = plt.subplots(figsize=(10, 6))\n",
    "\n",
    "# Group the data by month and create a box plot for each month's values\n",
    "\n",
    "sns.boxplot(x='Months', y='#CigSales', data=seasonal_data, ax=ax, palette='Set3')\n",
    "\n",
    "# Customize the plot\n",
    "#ax.set_xticklabels(seasonal_data['Months'].unique())  # Set x-axis labels to unique years\n",
    "ax.set_xlabel('Month')  # Set x-axis label\n",
    "ax.set_ylabel('Sales')  # Set y-axis label\n",
    "ax.set_title('Month-wise Box Plot (Seasonality in Cig sales)')  # Set plot title\n",
    "ax.set_xticklabels([\n",
    "        'Jan', 'Feb', 'Mar', 'Apr', 'May', 'Jun',\n",
    "        'Jul', 'Aug', 'Sept', 'Oct', 'Nov', 'Dec'\n",
    "    ])#This code changes the values from numeric to the corresponding acronyms :)\n",
    "\n",
    "# adding grid lines \n",
    "ax.grid(True)\n",
    "plt.tight_layout()\n",
    "plt.show()"
   ]
  },
  {
   "cell_type": "markdown",
   "metadata": {},
   "source": [
    "## Observations:\n",
    "\n",
    "Cigarette sales increase during the summer months; June, July and August. \n",
    "\n",
    "Hypothesis: Sales increase during summer months becuase time spent outdoors also increases. "
   ]
  },
  {
   "cell_type": "markdown",
   "metadata": {},
   "source": [
    "## 3. Modelling \n",
    "### 3a. Decomposition\n",
    "What do you notice from the plot? Take at least `2` minutes to examine the plot, and write down everything you observe.  \n",
    "\n",
    "All done?\n",
    "\n",
    "We can see that, generally, there is a trend upwards in cigarette sales from at Cowboy Cigarettes. But there are also some striking - and perhaps unexpected - seasonal fluctuations. These seasonal fluctations come in a repeated pattern. Work out when these seasonal fluctuations are happening, and take 2 minutes to hypothesize on their cause here.\n",
    "\n",
    "What does it mean to *decompose* time series data? It means breaking that data into 3 components: \n",
    "\n",
    "1. **Trend**: The overall direction that the data is travelling in (like upwards or downwards)\n",
    "2. **Seasonality**: Cyclical patterns in the data \n",
    "3. **Noise**: The random variation in the data\n",
    "\n",
    "We can treat these components differently, depending on the question and what's appropriate in the context. They can either be added together in an *additive* model, or multiplied together in a *multiplicative* model. \n",
    "\n",
    "Make a coffee, take `5` minutes and read [this article](https://medium.com/@sigmundojr/seasonality-in-python-additive-or-multiplicative-model-d4b9cf1f48a7) and think about whether our data would conduce to an additive or multiplicative model here. Write your conclusion down just here: \n",
    "\n",
    "-------------------------------"
   ]
  },
  {
   "cell_type": "markdown",
   "metadata": {},
   "source": [
    "All done? Well, just on the basis of the plot above, it seems our Cowboy Cigarettes data is actually multiplicative. \n",
    "\n",
    "That's because, as time progresses, the general trend seems to be increasing *at a rate that's also increasing*. We also see that the seasonal fluctuations (the peaks and troughs) get bigger and bigger as time progresses.\n",
    "\n",
    "Now on the other hand, if the data were simply additive, we could expect the general trend to increase at a *steadily*, and a constant speed; and also for seasonal ups and downs not to increase or decrease in extent over time.\n",
    "\n",
    "Happily, we can use the `decompose()` function to quantify the component parts described above in our data."
   ]
  },
  {
   "cell_type": "code",
   "execution_count": 30,
   "metadata": {
    "scrolled": true
   },
   "outputs": [],
   "source": [
    "from statsmodels.tsa.seasonal import seasonal_decompose\n",
    "decomposition = seasonal_decompose(y, model='multiplicative')\n",
    "\n",
    "# Plot the original data, the trend, the seasonality, and the residuals \n",
    "#decomposition.plot()"
   ]
  },
  {
   "cell_type": "code",
   "execution_count": 31,
   "metadata": {},
   "outputs": [],
   "source": [
    "trend = decomposition.trend\n",
    "seasonal = decomposition.seasonal\n",
    "residual = decomposition.resid\n"
   ]
  },
  {
   "cell_type": "code",
   "execution_count": 32,
   "metadata": {},
   "outputs": [
    {
     "data": {
      "image/png": "[encoded data removed]",
      "text/plain": [
       "<Figure size 640x480 with 4 Axes>"
      ]
     },
     "metadata": {},
     "output_type": "display_data"
    }
   ],
   "source": [
    "# Plot the original data, the trend, the seasonality, and the residuals \n",
    "plt.subplot(411)\n",
    "plt.plot(y, label = 'Original')\n",
    "plt.legend(loc = 'best')\n",
    "plt.subplot(412)\n",
    "plt.plot(trend, label = 'Trend')\n",
    "plt.legend(loc = 'best')\n",
    "plt.subplot(413)\n",
    "plt.plot(seasonal, label = 'seasonal')\n",
    "plt.legend(loc = 'best')\n",
    "plt.subplot(414)\n",
    "plt.plot(residual, label = 'Residuals')\n",
    "plt.legend(loc = 'best')\n",
    "plt.tight_layout()"
   ]
  },
  {
   "cell_type": "markdown",
   "metadata": {},
   "source": [
    "### 3b. Testing for stationarity with KPSS\n",
    "As you know, when doing time series analysis we always have to check for stationarity. Imprecisely, a time series dataset is stationary just if its statistical features don't change over time. A little more precisely, a stationary time series dataset will have constant mean, variance, and covariance.\n",
    "\n",
    "There are many ways to test for stationarity, but one of the most common is the KPSS test. The Null hypothesis of this test is that the time series data in question is stationary; hence, if the *p*-value is less than the significance level (typically 0.05, but we decide) then we reject the Null and infer that the data is not stationary."
   ]
  },
  {
   "cell_type": "code",
   "execution_count": 33,
   "metadata": {},
   "outputs": [],
   "source": [
    "from statsmodels.tsa.stattools import kpss\n",
    "#kpss(y)"
   ]
  },
  {
   "cell_type": "code",
   "execution_count": 62,
   "metadata": {
    "scrolled": true
   },
   "outputs": [
    {
     "name": "stdout",
     "output_type": "stream",
     "text": [
      "KPSS Statistic: 1.651312235417082\n",
      "p-value: 0.01\n",
      "Critical Values: {'10%': 0.347, '5%': 0.463, '2.5%': 0.574, '1%': 0.739}\n"
     ]
    }
   ],
   "source": [
    "\n",
    "statistic, p_value, lags, critical_values = kpss(y, regression='c')\n",
    "\n",
    "print(\"KPSS Statistic:\", statistic)\n",
    "print(\"p-value:\", p_value)\n",
    "print(\"Critical Values:\", critical_values)"
   ]
  },
  {
   "cell_type": "markdown",
   "metadata": {},
   "source": [
    "Since our p-value is less than 0.05, we should reject the Null hypothesis and deduce the non-stationarity of our data. \n",
    "\n",
    "But our data need to be stationary! So we need to do some transforming."
   ]
  },
  {
   "cell_type": "markdown",
   "metadata": {},
   "source": [
    "### 3c. Making the data stationary \n",
    "Let's recall what it looks like. "
   ]
  },
  {
   "cell_type": "code",
   "execution_count": 35,
   "metadata": {},
   "outputs": [
    {
     "data": {
      "text/plain": [
       "Text(0, 0.5, 'Sales in Million')"
      ]
     },
     "execution_count": 35,
     "metadata": {},
     "output_type": "execute_result"
    },
    {
     "data": {
      "image/png": "[encoded data removed]",
      "text/plain": [
       "<Figure size 640x480 with 1 Axes>"
      ]
     },
     "metadata": {},
     "output_type": "display_data"
    }
   ],
   "source": [
    "plt.plot(y, color='red')\n",
    "\n",
    "plt.title('Cowboy Cig Sales over the years')\n",
    "\n",
    "plt.xlabel('Year')\n",
    "plt.ylabel('Sales in Million')"
   ]
  },
  {
   "cell_type": "code",
   "execution_count": 36,
   "metadata": {},
   "outputs": [],
   "source": [
    "from scipy.stats import boxcox"
   ]
  },
  {
   "cell_type": "code",
   "execution_count": 37,
   "metadata": {},
   "outputs": [
    {
     "data": {
      "text/html": [
       "<div>\n",
       "<style scoped>\n",
       "    .dataframe tbody tr th:only-of-type {\n",
       "        vertical-align: middle;\n",
       "    }\n",
       "\n",
       "    .dataframe tbody tr th {\n",
       "        vertical-align: top;\n",
       "    }\n",
       "\n",
       "    .dataframe thead th {\n",
       "        text-align: right;\n",
       "    }\n",
       "</style>\n",
       "<table border=\"1\" class=\"dataframe\">\n",
       "  <thead>\n",
       "    <tr style=\"text-align: right;\">\n",
       "      <th></th>\n",
       "      <th>#CigSales</th>\n",
       "    </tr>\n",
       "    <tr>\n",
       "      <th>Month</th>\n",
       "      <th></th>\n",
       "    </tr>\n",
       "  </thead>\n",
       "  <tbody>\n",
       "    <tr>\n",
       "      <th>1949-01-01</th>\n",
       "      <td>1000112</td>\n",
       "    </tr>\n",
       "    <tr>\n",
       "      <th>1949-02-01</th>\n",
       "      <td>1000118</td>\n",
       "    </tr>\n",
       "    <tr>\n",
       "      <th>1949-03-01</th>\n",
       "      <td>1000132</td>\n",
       "    </tr>\n",
       "    <tr>\n",
       "      <th>1949-04-01</th>\n",
       "      <td>1000129</td>\n",
       "    </tr>\n",
       "    <tr>\n",
       "      <th>1949-05-01</th>\n",
       "      <td>1000121</td>\n",
       "    </tr>\n",
       "  </tbody>\n",
       "</table>\n",
       "</div>"
      ],
      "text/plain": [
       "            #CigSales\n",
       "Month                \n",
       "1949-01-01    1000112\n",
       "1949-02-01    1000118\n",
       "1949-03-01    1000132\n",
       "1949-04-01    1000129\n",
       "1949-05-01    1000121"
      ]
     },
     "execution_count": 37,
     "metadata": {},
     "output_type": "execute_result"
    }
   ],
   "source": [
    "cigData.head()"
   ]
  },
  {
   "cell_type": "code",
   "execution_count": 38,
   "metadata": {},
   "outputs": [
    {
     "name": "stdout",
     "output_type": "stream",
     "text": [
      "Requirement already satisfied: nbformat in /Library/Frameworks/Python.framework/Versions/3.12/lib/python3.12/site-packages (5.10.4)\n",
      "Requirement already satisfied: fastjsonschema>=2.15 in /Library/Frameworks/Python.framework/Versions/3.12/lib/python3.12/site-packages (from nbformat) (2.20.0)\n",
      "Requirement already satisfied: jsonschema>=2.6 in /Library/Frameworks/Python.framework/Versions/3.12/lib/python3.12/site-packages (from nbformat) (4.23.0)\n",
      "Requirement already satisfied: jupyter-core!=5.0.*,>=4.12 in /Users/vcarrillo/Library/Python/3.12/lib/python/site-packages (from nbformat) (5.7.2)\n",
      "Requirement already satisfied: traitlets>=5.1 in /Library/Frameworks/Python.framework/Versions/3.12/lib/python3.12/site-packages (from nbformat) (5.14.3)\n",
      "Requirement already satisfied: attrs>=22.2.0 in /Library/Frameworks/Python.framework/Versions/3.12/lib/python3.12/site-packages (from jsonschema>=2.6->nbformat) (23.2.0)\n",
      "Requirement already satisfied: jsonschema-specifications>=2023.03.6 in /Library/Frameworks/Python.framework/Versions/3.12/lib/python3.12/site-packages (from jsonschema>=2.6->nbformat) (2024.10.1)\n",
      "Requirement already satisfied: referencing>=0.28.4 in /Library/Frameworks/Python.framework/Versions/3.12/lib/python3.12/site-packages (from jsonschema>=2.6->nbformat) (0.35.1)\n",
      "Requirement already satisfied: rpds-py>=0.7.1 in /Library/Frameworks/Python.framework/Versions/3.12/lib/python3.12/site-packages (from jsonschema>=2.6->nbformat) (0.21.0)\n",
      "Requirement already satisfied: platformdirs>=2.5 in /Users/vcarrillo/Library/Python/3.12/lib/python/site-packages (from jupyter-core!=5.0.*,>=4.12->nbformat) (4.2.2)\n",
      "\n",
      "\u001b[1m[\u001b[0m\u001b[34;49mnotice\u001b[0m\u001b[1;39;49m]\u001b[0m\u001b[39;49m A new release of pip is available: \u001b[0m\u001b[31;49m24.0\u001b[0m\u001b[39;49m -> \u001b[0m\u001b[32;49m24.3.1\u001b[0m\n",
      "\u001b[1m[\u001b[0m\u001b[34;49mnotice\u001b[0m\u001b[1;39;49m]\u001b[0m\u001b[39;49m To update, run: \u001b[0m\u001b[32;49mpip install --upgrade pip\u001b[0m\n"
     ]
    }
   ],
   "source": [
    "! pip install nbformat --upgrade\n"
   ]
  },
  {
   "cell_type": "code",
   "execution_count": 39,
   "metadata": {},
   "outputs": [
    {
     "data": {
      "application/vnd.plotly.v1+json": {
       "config": {
        "plotlyServerURL": "https://plot.ly"
       },
       "data": [
        {
         "hovertemplate": "Month=%{x}<br>#CigSales=%{y}<extra></extra>",
         "legendgroup": "",
         "line": {
          "color": "#636efa",
          "dash": "solid"
         },
         "marker": {
          "symbol": "circle"
         },
         "mode": "lines",
         "name": "",
         "orientation": "v",
         "showlegend": false,
         "type": "scatter",
         "x": [
          "1949-01-01T00:00:00",
          "1949-02-01T00:00:00",
          "1949-03-01T00:00:00",
          "1949-04-01T00:00:00",
          "1949-05-01T00:00:00",
          "1949-06-01T00:00:00",
          "1949-07-01T00:00:00",
          "1949-08-01T00:00:00",
          "1949-09-01T00:00:00",
          "1949-10-01T00:00:00",
          "1949-11-01T00:00:00",
          "1949-12-01T00:00:00",
          "1950-01-01T00:00:00",
          "1950-02-01T00:00:00",
          "1950-03-01T00:00:00",
          "1950-04-01T00:00:00",
          "1950-05-01T00:00:00",
          "1950-06-01T00:00:00",
          "1950-07-01T00:00:00",
          "1950-08-01T00:00:00",
          "1950-09-01T00:00:00",
          "1950-10-01T00:00:00",
          "1950-11-01T00:00:00",
          "1950-12-01T00:00:00",
          "1951-01-01T00:00:00",
          "1951-02-01T00:00:00",
          "1951-03-01T00:00:00",
          "1951-04-01T00:00:00",
          "1951-05-01T00:00:00",
          "1951-06-01T00:00:00",
          "1951-07-01T00:00:00",
          "1951-08-01T00:00:00",
          "1951-09-01T00:00:00",
          "1951-10-01T00:00:00",
          "1951-11-01T00:00:00",
          "1951-12-01T00:00:00",
          "1952-01-01T00:00:00",
          "1952-02-01T00:00:00",
          "1952-03-01T00:00:00",
          "1952-04-01T00:00:00",
          "1952-05-01T00:00:00",
          "1952-06-01T00:00:00",
          "1952-07-01T00:00:00",
          "1952-08-01T00:00:00",
          "1952-09-01T00:00:00",
          "1952-10-01T00:00:00",
          "1952-11-01T00:00:00",
          "1952-12-01T00:00:00",
          "1953-01-01T00:00:00",
          "1953-02-01T00:00:00",
          "1953-03-01T00:00:00",
          "1953-04-01T00:00:00",
          "1953-05-01T00:00:00",
          "1953-06-01T00:00:00",
          "1953-07-01T00:00:00",
          "1953-08-01T00:00:00",
          "1953-09-01T00:00:00",
          "1953-10-01T00:00:00",
          "1953-11-01T00:00:00",
          "1953-12-01T00:00:00",
          "1954-01-01T00:00:00",
          "1954-02-01T00:00:00",
          "1954-03-01T00:00:00",
          "1954-04-01T00:00:00",
          "1954-05-01T00:00:00",
          "1954-06-01T00:00:00",
          "1954-07-01T00:00:00",
          "1954-08-01T00:00:00",
          "1954-09-01T00:00:00",
          "1954-10-01T00:00:00",
          "1954-11-01T00:00:00",
          "1954-12-01T00:00:00",
          "1955-01-01T00:00:00",
          "1955-02-01T00:00:00",
          "1955-03-01T00:00:00",
          "1955-04-01T00:00:00",
          "1955-05-01T00:00:00",
          "1955-06-01T00:00:00",
          "1955-07-01T00:00:00",
          "1955-08-01T00:00:00",
          "1955-09-01T00:00:00",
          "1955-10-01T00:00:00",
          "1955-11-01T00:00:00",
          "1955-12-01T00:00:00",
          "1956-01-01T00:00:00",
          "1956-02-01T00:00:00",
          "1956-03-01T00:00:00",
          "1956-04-01T00:00:00",
          "1956-05-01T00:00:00",
          "1956-06-01T00:00:00",
          "1956-07-01T00:00:00",
          "1956-08-01T00:00:00",
          "1956-09-01T00:00:00",
          "1956-10-01T00:00:00",
          "1956-11-01T00:00:00",
          "1956-12-01T00:00:00",
          "1957-01-01T00:00:00",
          "1957-02-01T00:00:00",
          "1957-03-01T00:00:00",
          "1957-04-01T00:00:00",
          "1957-05-01T00:00:00",
          "1957-06-01T00:00:00",
          "1957-07-01T00:00:00",
          "1957-08-01T00:00:00",
          "1957-09-01T00:00:00",
          "1957-10-01T00:00:00",
          "1957-11-01T00:00:00",
          "1957-12-01T00:00:00",
          "1958-01-01T00:00:00",
          "1958-02-01T00:00:00",
          "1958-03-01T00:00:00",
          "1958-04-01T00:00:00",
          "1958-05-01T00:00:00",
          "1958-06-01T00:00:00",
          "1958-07-01T00:00:00",
          "1958-08-01T00:00:00",
          "1958-09-01T00:00:00",
          "1958-10-01T00:00:00",
          "1958-11-01T00:00:00",
          "1958-12-01T00:00:00",
          "1959-01-01T00:00:00",
          "1959-02-01T00:00:00",
          "1959-03-01T00:00:00",
          "1959-04-01T00:00:00",
          "1959-05-01T00:00:00",
          "1959-06-01T00:00:00",
          "1959-07-01T00:00:00",
          "1959-08-01T00:00:00",
          "1959-09-01T00:00:00",
          "1959-10-01T00:00:00",
          "1959-11-01T00:00:00",
          "1959-12-01T00:00:00",
          "1960-01-01T00:00:00",
          "1960-02-01T00:00:00",
          "1960-03-01T00:00:00",
          "1960-04-01T00:00:00",
          "1960-05-01T00:00:00",
          "1960-06-01T00:00:00",
          "1960-07-01T00:00:00",
          "1960-08-01T00:00:00",
          "1960-09-01T00:00:00",
          "1960-10-01T00:00:00",
          "1960-11-01T00:00:00",
          "1960-12-01T00:00:00"
         ],
         "xaxis": "x",
         "y": [
          1000112,
          1000118,
          1000132,
          1000129,
          1000121,
          1000135,
          1000148,
          1000148,
          1000136,
          1000119,
          1000104,
          1000118,
          1000115,
          1000126,
          1000141,
          1000135,
          1000125,
          1000149,
          1000170,
          1000170,
          1000158,
          1000133,
          1000114,
          1000140,
          1000145,
          1000150,
          1000178,
          1000163,
          1000172,
          1000178,
          1000199,
          1000199,
          1000184,
          1000162,
          1000146,
          1000166,
          1000171,
          1000180,
          1000193,
          1000181,
          1000183,
          1000218,
          1000230,
          1000242,
          1000209,
          1000191,
          1000172,
          1000194,
          1000196,
          1000196,
          1000236,
          1000235,
          1000229,
          1000243,
          1000264,
          1000272,
          1000237,
          1000211,
          1000180,
          1000201,
          1000204,
          1000188,
          1000235,
          1000227,
          1000234,
          1000264,
          1000302,
          1000293,
          1000259,
          1000229,
          1000203,
          1000229,
          1000242,
          1000233,
          1000267,
          1000269,
          1000270,
          1000315,
          1000364,
          1000347,
          1000312,
          1000274,
          1000237,
          1000278,
          1000284,
          1000277,
          1000317,
          1000313,
          1000318,
          1000374,
          1000413,
          1000405,
          1000355,
          1000306,
          1000271,
          1000306,
          1000315,
          1000301,
          1000356,
          1000348,
          1000355,
          1000422,
          1000465,
          1000467,
          1000404,
          1000347,
          1000305,
          1000336,
          1000340,
          1000318,
          1000362,
          1000348,
          1000363,
          1000435,
          1000491,
          1000505,
          1000404,
          1000359,
          1000310,
          1000337,
          1000360,
          1000342,
          1000406,
          1000396,
          1000420,
          1000472,
          1000548,
          1000559,
          1000463,
          1000407,
          1000362,
          1000405,
          1000417,
          1000391,
          1000419,
          1000461,
          1000472,
          1000535,
          1000622,
          1000606,
          1000508,
          1000461,
          1000390,
          1000432
         ],
         "yaxis": "y"
        }
       ],
       "layout": {
        "legend": {
         "tracegroupgap": 0
        },
        "margin": {
         "t": 60
        },
        "template": {
         "data": {
          "bar": [
           {
            "error_x": {
             "color": "#2a3f5f"
            },
            "error_y": {
             "color": "#2a3f5f"
            },
            "marker": {
             "line": {
              "color": "#E5ECF6",
              "width": 0.5
             },
             "pattern": {
              "fillmode": "overlay",
              "size": 10,
              "solidity": 0.2
             }
            },
            "type": "bar"
           }
          ],
          "barpolar": [
           {
            "marker": {
             "line": {
              "color": "#E5ECF6",
              "width": 0.5
             },
             "pattern": {
              "fillmode": "overlay",
              "size": 10,
              "solidity": 0.2
             }
            },
            "type": "barpolar"
           }
          ],
          "carpet": [
           {
            "aaxis": {
             "endlinecolor": "#2a3f5f",
             "gridcolor": "white",
             "linecolor": "white",
             "minorgridcolor": "white",
             "startlinecolor": "#2a3f5f"
            },
            "baxis": {
             "endlinecolor": "#2a3f5f",
             "gridcolor": "white",
             "linecolor": "white",
             "minorgridcolor": "white",
             "startlinecolor": "#2a3f5f"
            },
            "type": "carpet"
           }
          ],
          "choropleth": [
           {
            "colorbar": {
             "outlinewidth": 0,
             "ticks": ""
            },
            "type": "choropleth"
           }
          ],
          "contour": [
           {
            "colorbar": {
             "outlinewidth": 0,
             "ticks": ""
            },
            "colorscale": [
             [
              0,
              "#0d0887"
             ],
             [
              0.1111111111111111,
              "#46039f"
             ],
             [
              0.2222222222222222,
              "#7201a8"
             ],
             [
              0.3333333333333333,
              "#9c179e"
             ],
             [
              0.4444444444444444,
              "#bd3786"
             ],
             [
              0.5555555555555556,
              "#d8576b"
             ],
             [
              0.6666666666666666,
              "#ed7953"
             ],
             [
              0.7777777777777778,
              "#fb9f3a"
             ],
             [
              0.8888888888888888,
              "#fdca26"
             ],
             [
              1,
              "#f0f921"
             ]
            ],
            "type": "contour"
           }
          ],
          "contourcarpet": [
           {
            "colorbar": {
             "outlinewidth": 0,
             "ticks": ""
            },
            "type": "contourcarpet"
           }
          ],
          "heatmap": [
           {
            "colorbar": {
             "outlinewidth": 0,
             "ticks": ""
            },
            "colorscale": [
             [
              0,
              "#0d0887"
             ],
             [
              0.1111111111111111,
              "#46039f"
             ],
             [
              0.2222222222222222,
              "#7201a8"
             ],
             [
              0.3333333333333333,
              "#9c179e"
             ],
             [
              0.4444444444444444,
              "#bd3786"
             ],
             [
              0.5555555555555556,
              "#d8576b"
             ],
             [
              0.6666666666666666,
              "#ed7953"
             ],
             [
              0.7777777777777778,
              "#fb9f3a"
             ],
             [
              0.8888888888888888,
              "#fdca26"
             ],
             [
              1,
              "#f0f921"
             ]
            ],
            "type": "heatmap"
           }
          ],
          "heatmapgl": [
           {
            "colorbar": {
             "outlinewidth": 0,
             "ticks": ""
            },
            "colorscale": [
             [
              0,
              "#0d0887"
             ],
             [
              0.1111111111111111,
              "#46039f"
             ],
             [
              0.2222222222222222,
              "#7201a8"
             ],
             [
              0.3333333333333333,
              "#9c179e"
             ],
             [
              0.4444444444444444,
              "#bd3786"
             ],
             [
              0.5555555555555556,
              "#d8576b"
             ],
             [
              0.6666666666666666,
              "#ed7953"
             ],
             [
              0.7777777777777778,
              "#fb9f3a"
             ],
             [
              0.8888888888888888,
              "#fdca26"
             ],
             [
              1,
              "#f0f921"
             ]
            ],
            "type": "heatmapgl"
           }
          ],
          "histogram": [
           {
            "marker": {
             "pattern": {
              "fillmode": "overlay",
              "size": 10,
              "solidity": 0.2
             }
            },
            "type": "histogram"
           }
          ],
          "histogram2d": [
           {
            "colorbar": {
             "outlinewidth": 0,
             "ticks": ""
            },
            "colorscale": [
             [
              0,
              "#0d0887"
             ],
             [
              0.1111111111111111,
              "#46039f"
             ],
             [
              0.2222222222222222,
              "#7201a8"
             ],
             [
              0.3333333333333333,
              "#9c179e"
             ],
             [
              0.4444444444444444,
              "#bd3786"
             ],
             [
              0.5555555555555556,
              "#d8576b"
             ],
             [
              0.6666666666666666,
              "#ed7953"
             ],
             [
              0.7777777777777778,
              "#fb9f3a"
             ],
             [
              0.8888888888888888,
              "#fdca26"
             ],
             [
              1,
              "#f0f921"
             ]
            ],
            "type": "histogram2d"
           }
          ],
          "histogram2dcontour": [
           {
            "colorbar": {
             "outlinewidth": 0,
             "ticks": ""
            },
            "colorscale": [
             [
              0,
              "#0d0887"
             ],
             [
              0.1111111111111111,
              "#46039f"
             ],
             [
              0.2222222222222222,
              "#7201a8"
             ],
             [
              0.3333333333333333,
              "#9c179e"
             ],
             [
              0.4444444444444444,
              "#bd3786"
             ],
             [
              0.5555555555555556,
              "#d8576b"
             ],
             [
              0.6666666666666666,
              "#ed7953"
             ],
             [
              0.7777777777777778,
              "#fb9f3a"
             ],
             [
              0.8888888888888888,
              "#fdca26"
             ],
             [
              1,
              "#f0f921"
             ]
            ],
            "type": "histogram2dcontour"
           }
          ],
          "mesh3d": [
           {
            "colorbar": {
             "outlinewidth": 0,
             "ticks": ""
            },
            "type": "mesh3d"
           }
          ],
          "parcoords": [
           {
            "line": {
             "colorbar": {
              "outlinewidth": 0,
              "ticks": ""
             }
            },
            "type": "parcoords"
           }
          ],
          "pie": [
           {
            "automargin": true,
            "type": "pie"
           }
          ],
          "scatter": [
           {
            "fillpattern": {
             "fillmode": "overlay",
             "size": 10,
             "solidity": 0.2
            },
            "type": "scatter"
           }
          ],
          "scatter3d": [
           {
            "line": {
             "colorbar": {
              "outlinewidth": 0,
              "ticks": ""
             }
            },
            "marker": {
             "colorbar": {
              "outlinewidth": 0,
              "ticks": ""
             }
            },
            "type": "scatter3d"
           }
          ],
          "scattercarpet": [
           {
            "marker": {
             "colorbar": {
              "outlinewidth": 0,
              "ticks": ""
             }
            },
            "type": "scattercarpet"
           }
          ],
          "scattergeo": [
           {
            "marker": {
             "colorbar": {
              "outlinewidth": 0,
              "ticks": ""
             }
            },
            "type": "scattergeo"
           }
          ],
          "scattergl": [
           {
            "marker": {
             "colorbar": {
              "outlinewidth": 0,
              "ticks": ""
             }
            },
            "type": "scattergl"
           }
          ],
          "scattermapbox": [
           {
            "marker": {
             "colorbar": {
              "outlinewidth": 0,
              "ticks": ""
             }
            },
            "type": "scattermapbox"
           }
          ],
          "scatterpolar": [
           {
            "marker": {
             "colorbar": {
              "outlinewidth": 0,
              "ticks": ""
             }
            },
            "type": "scatterpolar"
           }
          ],
          "scatterpolargl": [
           {
            "marker": {
             "colorbar": {
              "outlinewidth": 0,
              "ticks": ""
             }
            },
            "type": "scatterpolargl"
           }
          ],
          "scatterternary": [
           {
            "marker": {
             "colorbar": {
              "outlinewidth": 0,
              "ticks": ""
             }
            },
            "type": "scatterternary"
           }
          ],
          "surface": [
           {
            "colorbar": {
             "outlinewidth": 0,
             "ticks": ""
            },
            "colorscale": [
             [
              0,
              "#0d0887"
             ],
             [
              0.1111111111111111,
              "#46039f"
             ],
             [
              0.2222222222222222,
              "#7201a8"
             ],
             [
              0.3333333333333333,
              "#9c179e"
             ],
             [
              0.4444444444444444,
              "#bd3786"
             ],
             [
              0.5555555555555556,
              "#d8576b"
             ],
             [
              0.6666666666666666,
              "#ed7953"
             ],
             [
              0.7777777777777778,
              "#fb9f3a"
             ],
             [
              0.8888888888888888,
              "#fdca26"
             ],
             [
              1,
              "#f0f921"
             ]
            ],
            "type": "surface"
           }
          ],
          "table": [
           {
            "cells": {
             "fill": {
              "color": "#EBF0F8"
             },
             "line": {
              "color": "white"
             }
            },
            "header": {
             "fill": {
              "color": "#C8D4E3"
             },
             "line": {
              "color": "white"
             }
            },
            "type": "table"
           }
          ]
         },
         "layout": {
          "annotationdefaults": {
           "arrowcolor": "#2a3f5f",
           "arrowhead": 0,
           "arrowwidth": 1
          },
          "autotypenumbers": "strict",
          "coloraxis": {
           "colorbar": {
            "outlinewidth": 0,
            "ticks": ""
           }
          },
          "colorscale": {
           "diverging": [
            [
             0,
             "#8e0152"
            ],
            [
             0.1,
             "#c51b7d"
            ],
            [
             0.2,
             "#de77ae"
            ],
            [
             0.3,
             "#f1b6da"
            ],
            [
             0.4,
             "#fde0ef"
            ],
            [
             0.5,
             "#f7f7f7"
            ],
            [
             0.6,
             "#e6f5d0"
            ],
            [
             0.7,
             "#b8e186"
            ],
            [
             0.8,
             "#7fbc41"
            ],
            [
             0.9,
             "#4d9221"
            ],
            [
             1,
             "#276419"
            ]
           ],
           "sequential": [
            [
             0,
             "#0d0887"
            ],
            [
             0.1111111111111111,
             "#46039f"
            ],
            [
             0.2222222222222222,
             "#7201a8"
            ],
            [
             0.3333333333333333,
             "#9c179e"
            ],
            [
             0.4444444444444444,
             "#bd3786"
            ],
            [
             0.5555555555555556,
             "#d8576b"
            ],
            [
             0.6666666666666666,
             "#ed7953"
            ],
            [
             0.7777777777777778,
             "#fb9f3a"
            ],
            [
             0.8888888888888888,
             "#fdca26"
            ],
            [
             1,
             "#f0f921"
            ]
           ],
           "sequentialminus": [
            [
             0,
             "#0d0887"
            ],
            [
             0.1111111111111111,
             "#46039f"
            ],
            [
             0.2222222222222222,
             "#7201a8"
            ],
            [
             0.3333333333333333,
             "#9c179e"
            ],
            [
             0.4444444444444444,
             "#bd3786"
            ],
            [
             0.5555555555555556,
             "#d8576b"
            ],
            [
             0.6666666666666666,
             "#ed7953"
            ],
            [
             0.7777777777777778,
             "#fb9f3a"
            ],
            [
             0.8888888888888888,
             "#fdca26"
            ],
            [
             1,
             "#f0f921"
            ]
           ]
          },
          "colorway": [
           "#636efa",
           "#EF553B",
           "#00cc96",
           "#ab63fa",
           "#FFA15A",
           "#19d3f3",
           "#FF6692",
           "#B6E880",
           "#FF97FF",
           "#FECB52"
          ],
          "font": {
           "color": "#2a3f5f"
          },
          "geo": {
           "bgcolor": "white",
           "lakecolor": "white",
           "landcolor": "#E5ECF6",
           "showlakes": true,
           "showland": true,
           "subunitcolor": "white"
          },
          "hoverlabel": {
           "align": "left"
          },
          "hovermode": "closest",
          "mapbox": {
           "style": "light"
          },
          "paper_bgcolor": "white",
          "plot_bgcolor": "#E5ECF6",
          "polar": {
           "angularaxis": {
            "gridcolor": "white",
            "linecolor": "white",
            "ticks": ""
           },
           "bgcolor": "#E5ECF6",
           "radialaxis": {
            "gridcolor": "white",
            "linecolor": "white",
            "ticks": ""
           }
          },
          "scene": {
           "xaxis": {
            "backgroundcolor": "#E5ECF6",
            "gridcolor": "white",
            "gridwidth": 2,
            "linecolor": "white",
            "showbackground": true,
            "ticks": "",
            "zerolinecolor": "white"
           },
           "yaxis": {
            "backgroundcolor": "#E5ECF6",
            "gridcolor": "white",
            "gridwidth": 2,
            "linecolor": "white",
            "showbackground": true,
            "ticks": "",
            "zerolinecolor": "white"
           },
           "zaxis": {
            "backgroundcolor": "#E5ECF6",
            "gridcolor": "white",
            "gridwidth": 2,
            "linecolor": "white",
            "showbackground": true,
            "ticks": "",
            "zerolinecolor": "white"
           }
          },
          "shapedefaults": {
           "line": {
            "color": "#2a3f5f"
           }
          },
          "ternary": {
           "aaxis": {
            "gridcolor": "white",
            "linecolor": "white",
            "ticks": ""
           },
           "baxis": {
            "gridcolor": "white",
            "linecolor": "white",
            "ticks": ""
           },
           "bgcolor": "#E5ECF6",
           "caxis": {
            "gridcolor": "white",
            "linecolor": "white",
            "ticks": ""
           }
          },
          "title": {
           "x": 0.05
          },
          "xaxis": {
           "automargin": true,
           "gridcolor": "white",
           "linecolor": "white",
           "ticks": "",
           "title": {
            "standoff": 15
           },
           "zerolinecolor": "white",
           "zerolinewidth": 2
          },
          "yaxis": {
           "automargin": true,
           "gridcolor": "white",
           "linecolor": "white",
           "ticks": "",
           "title": {
            "standoff": 15
           },
           "zerolinecolor": "white",
           "zerolinewidth": 2
          }
         }
        },
        "xaxis": {
         "anchor": "y",
         "domain": [
          0,
          1
         ],
         "title": {
          "text": "Month"
         }
        },
        "yaxis": {
         "anchor": "x",
         "domain": [
          0,
          1
         ],
         "title": {
          "text": "#CigSales"
         }
        }
       }
      }
     },
     "metadata": {},
     "output_type": "display_data"
    }
   ],
   "source": [
    "import plotly.express as px\n",
    "\n",
    "\n",
    "def plot_CigSales_volumes(df: pd.DataFrame,\n",
    "                           y: str) -> None:\n",
    "    \"\"\"General function to plot the passenger data.\"\"\"\n",
    "\n",
    "    fig = px.line(df, x=df.index, y=y,)\n",
    "   \n",
    "\n",
    "    return fig.show()\n",
    "\n",
    "\n",
    "# Plot the airline passenger data\n",
    "plot_CigSales_volumes(df=cigData, y='#CigSales')"
   ]
  },
  {
   "cell_type": "markdown",
   "metadata": {},
   "source": [
    "In our plot, we can see that both the mean and the variance *increase as time progresses*. At the moment, our data has neither a constant mean, nor a constant variance (the covariance, however, seems constant). \n",
    "\n",
    "One ofte  used way of getting rid of changing variance is to take the natural log of all the values in our dataset. Let's do this now. "
   ]
  },
  {
   "cell_type": "code",
   "execution_count": 40,
   "metadata": {},
   "outputs": [],
   "source": [
    "# Note: Make sure your data has no zero or negative values before applying the log transform\n",
    "\n",
    "log_y = np.log(y +1)\n",
    "\n",
    "# np.log computes the natural log of each value \n",
    "\n",
    "# applymap() applies np.log() function to every element in the df"
   ]
  },
  {
   "cell_type": "code",
   "execution_count": 41,
   "metadata": {},
   "outputs": [
    {
     "name": "stdout",
     "output_type": "stream",
     "text": [
      "Month\n",
      "1949-01-01    13.815624\n",
      "1949-02-01    13.815630\n",
      "1949-03-01    13.815644\n",
      "1949-04-01    13.815641\n",
      "1949-05-01    13.815633\n",
      "Name: #CigSales, dtype: float64\n"
     ]
    }
   ],
   "source": [
    "print(log_y.head())"
   ]
  },
  {
   "cell_type": "code",
   "execution_count": 42,
   "metadata": {},
   "outputs": [
    {
     "data": {
      "text/plain": [
       "count    144.000000\n",
       "mean      13.815792\n",
       "std        0.000120\n",
       "min       13.815616\n",
       "25%       13.815692\n",
       "50%       13.815777\n",
       "75%       13.815872\n",
       "max       13.816133\n",
       "Name: #CigSales, dtype: float64"
      ]
     },
     "execution_count": 42,
     "metadata": {},
     "output_type": "execute_result"
    }
   ],
   "source": [
    "log_y.describe()"
   ]
  },
  {
   "cell_type": "code",
   "execution_count": 43,
   "metadata": {},
   "outputs": [
    {
     "data": {
      "text/plain": [
       "[<matplotlib.lines.Line2D at 0x13865f9b0>]"
      ]
     },
     "execution_count": 43,
     "metadata": {},
     "output_type": "execute_result"
    },
    {
     "data": {
      "image/png": "[encoded data removed]",
      "text/plain": [
       "<Figure size 640x480 with 1 Axes>"
      ]
     },
     "metadata": {},
     "output_type": "display_data"
    }
   ],
   "source": [
    "plt.plot(log_y)"
   ]
  },
  {
   "cell_type": "code",
   "execution_count": 63,
   "metadata": {},
   "outputs": [
    {
     "name": "stdout",
     "output_type": "stream",
     "text": [
      "ADF Statistic: 0.8148180237178488\n",
      "p-value: 0.9918716322633944\n",
      "The series is not stationary. Consider additional differencing or transformations.\n"
     ]
    }
   ],
   "source": [
    "result = adfuller(log_y)\n",
    "print(\"ADF Statistic:\", result[0])\n",
    "print(\"p-value:\", result[1])\n",
    "\n",
    "if result[1] < 0.05:\n",
    "    print(\"The series is stationary.\")\n",
    "else:\n",
    "    print(\"The series is not stationary. Consider additional differencing or transformations.\")"
   ]
  },
  {
   "cell_type": "markdown",
   "metadata": {},
   "source": [
    "\n",
    "When you plot this, you can see how the variance in our data now remains contant over time."
   ]
  },
  {
   "cell_type": "markdown",
   "metadata": {},
   "source": [
    "We now have a constant variance, but we also need a constant mean.\n",
    "\n",
    "We can do this by *differencing* our data. We difference a time series dataset when we create a new time series comprising the difference between the values of our existing dataset.\n",
    "\n",
    "Python is powerful, and we can use the `diff()` function to do this. You'll notice there's one less value than our existing dataset (since we're taking the difference between the existing values)."
   ]
  },
  {
   "cell_type": "code",
   "execution_count": 64,
   "metadata": {
    "scrolled": true
   },
   "outputs": [],
   "source": [
    "log_diff = log_y.diff().dropna()"
   ]
  },
  {
   "cell_type": "code",
   "execution_count": 65,
   "metadata": {},
   "outputs": [
    {
     "data": {
      "text/plain": [
       "Month\n",
       "1949-02-01    0.000006\n",
       "1949-03-01    0.000014\n",
       "1949-04-01   -0.000003\n",
       "1949-05-01   -0.000008\n",
       "1949-06-01    0.000014\n",
       "Name: #CigSales, dtype: float64"
      ]
     },
     "execution_count": 65,
     "metadata": {},
     "output_type": "execute_result"
    }
   ],
   "source": [
    "log_diff.head()"
   ]
  },
  {
   "cell_type": "code",
   "execution_count": 66,
   "metadata": {},
   "outputs": [
    {
     "data": {
      "text/plain": [
       "[<matplotlib.lines.Line2D at 0x13b3b4620>]"
      ]
     },
     "execution_count": 66,
     "metadata": {},
     "output_type": "execute_result"
    },
    {
     "data": {
      "image/png": "[encoded data removed]",
      "text/plain": [
       "<Figure size 640x480 with 1 Axes>"
      ]
     },
     "metadata": {},
     "output_type": "display_data"
    }
   ],
   "source": [
    "plt.plot(log_diff)"
   ]
  },
  {
   "cell_type": "code",
   "execution_count": 43,
   "metadata": {},
   "outputs": [],
   "source": [
    "# Apply second-order differencing\n",
    "#log_diff_2 = log_diff.diff().dropna()\n"
   ]
  },
  {
   "cell_type": "code",
   "execution_count": 67,
   "metadata": {},
   "outputs": [
    {
     "name": "stdout",
     "output_type": "stream",
     "text": [
      "KPSS Statistic: 0.02389767420746404\n",
      "p-value: 0.1\n",
      "Critical Values: {'10%': 0.347, '5%': 0.463, '2.5%': 0.574, '1%': 0.739}\n"
     ]
    }
   ],
   "source": [
    "statistic, p_value, lags, critical_values = kpss(log_diff)\n",
    "\n",
    "print(\"KPSS Statistic:\", statistic)\n",
    "print(\"p-value:\", p_value)\n",
    "print(\"Critical Values:\", critical_values)"
   ]
  },
  {
   "cell_type": "code",
   "execution_count": 45,
   "metadata": {},
   "outputs": [],
   "source": [
    "#import numpy as np\n",
    "\n",
    "# Remove NaN and inf values from the data\n",
    "#log_diff_2 = log_diff_2.replace([np.inf, -np.inf], np.nan)\n",
    "#log_diff_2 = log_diff_2.dropna()\n"
   ]
  },
  {
   "cell_type": "code",
   "execution_count": 68,
   "metadata": {},
   "outputs": [
    {
     "name": "stdout",
     "output_type": "stream",
     "text": [
      "ADF Statistic: -2.829562441568014\n",
      "p-value: 0.054173485673031464\n",
      "The series is not stationary. Consider additional differencing or transformations.\n"
     ]
    }
   ],
   "source": [
    "\n",
    "\n",
    "result = adfuller(log_diff)\n",
    "print(\"ADF Statistic:\", result[0])\n",
    "print(\"p-value:\", result[1])\n",
    "\n",
    "if result[1] < 0.05:\n",
    "    print(\"The series is stationary.\")\n",
    "else:\n",
    "    print(\"The series is not stationary. Consider additional differencing or transformations.\")\n"
   ]
  },
  {
   "cell_type": "markdown",
   "metadata": {},
   "source": [
    "Our p-value is now greater than 0.05, so we can accept the null hypothesis that our data is stationary."
   ]
  },
  {
   "cell_type": "markdown",
   "metadata": {},
   "source": [
    "### 3d. The ARIMA model\n",
    "\n",
    "Recall that ARIMA models are based around the idea that it's possible to predict the next value in a time series by using information about the most recent data points. It also assumes there will be some randomness in our data that can't ever be predicted.\n",
    "\n",
    "We can find some good parameters for our model using the `sklearn` and `statsmodels` libraries, and in particular `mean_squared_error` and `ARIMA`. "
   ]
  },
  {
   "cell_type": "code",
   "execution_count": 49,
   "metadata": {},
   "outputs": [],
   "source": [
    "# Import mean_squared_error and ARIMA\n",
    "from sklearn.metrics import mean_squared_error\n",
    "from statsmodels.tsa.arima.model import ARIMA"
   ]
  },
  {
   "cell_type": "markdown",
   "metadata": {},
   "source": [
    "#### 3di. Make a function to find the MSE of a single ARIMA model\n",
    "Things get intricate here. Don't worry if you can't do this yourself and need to drop down a Tier. "
   ]
  },
  {
   "cell_type": "code",
   "execution_count": 48,
   "metadata": {},
   "outputs": [
    {
     "data": {
      "text/plain": [
       "\"\\n# Make a function called evaluate_arima_model to find the MSE of a single ARIMA model \\ndef evaluate_arima_model(data, arima_order):\\n    # Needs to be an integer because it is later used as an index.\\n    # Use int()\\n    split= int(len(data) * 0.8) \\n    # Make train and test variables, with 'train, test'\\n    train, test = data[0:split], data[split:len(data)]\\n    past=[x for x in train]\\n    # make predictions\\n    predictions = list()\\n    for i in range(len(test)):#timestep-wise comparison between test data and one-step prediction ARIMA model. \\n        model = ARIMA(past, order=arima_order)\\n        model_fit = model.fit(disp=0)\\n        future = model_fit.forecast()[0]\\n        predictions.append(future)\\n        past.append(test[i])\\n    # calculate out of sample error\\n    error = mean_squared_error(test, predictions)\\n    # Return the error\\n    return error\\n\""
      ]
     },
     "execution_count": 48,
     "metadata": {},
     "output_type": "execute_result"
    }
   ],
   "source": [
    "#Note: Had to drop down a tier to get help on how to do this\n",
    "\"\"\"\n",
    "# Make a function called evaluate_arima_model to find the MSE of a single ARIMA model \n",
    "def evaluate_arima_model(data, arima_order):\n",
    "    # Needs to be an integer because it is later used as an index.\n",
    "    # Use int()\n",
    "    split= int(len(data) * 0.8) \n",
    "    # Make train and test variables, with 'train, test'\n",
    "    train, test = data[0:split], data[split:len(data)]\n",
    "    past=[x for x in train]\n",
    "    # make predictions\n",
    "    predictions = list()\n",
    "    for i in range(len(test)):#timestep-wise comparison between test data and one-step prediction ARIMA model. \n",
    "        model = ARIMA(past, order=arima_order)\n",
    "        model_fit = model.fit(disp=0)\n",
    "        future = model_fit.forecast()[0]\n",
    "        predictions.append(future)\n",
    "        past.append(test[i])\n",
    "    # calculate out of sample error\n",
    "    error = mean_squared_error(test, predictions)\n",
    "    # Return the error\n",
    "    return error\n",
    "\"\"\""
   ]
  },
  {
   "cell_type": "markdown",
   "metadata": {},
   "source": [
    "#### 3dii. Make a function to evaluate the different ARIMA models with different p, d, and q values"
   ]
  },
  {
   "cell_type": "code",
   "execution_count": 49,
   "metadata": {},
   "outputs": [
    {
     "data": {
      "text/plain": [
       "'\\n# Make a function to evaluate different ARIMA models with several different p, d, and q values.\\ndef evaluate_models(dataset, p_values, d_values, q_values):\\n    best_score, best_cfg = float(\"inf\"), None\\n    #\\xa0Iterate through p_values\\n    for p in p_values:\\n        # Iterate through d_values\\n        for d in d_values:\\n            # Iterate through q_values\\n            for q in q_values:\\n                # p, d, q iterator variables in that order\\n                order = (p,d,q)\\n                try:\\n                    # Make a variable called mse for the Mean squared error\\n                    mse = evaluate_arima_model(dataset, order)\\n                    if mse < best_score:\\n                        best_score, best_cfg = mse, order\\n                    print(\\'ARIMA%s MSE=%.3f\\' % (order,mse))\\n                except:\\n                    continue\\n    return print(\\'Best ARIMA%s MSE=%.3f\\' % (best_cfg, best_score))\\n'"
      ]
     },
     "execution_count": 49,
     "metadata": {},
     "output_type": "execute_result"
    }
   ],
   "source": [
    "#Note: Had to drop down a tier to get help on how to do this\n",
    "\"\"\"\n",
    "# Make a function to evaluate different ARIMA models with several different p, d, and q values.\n",
    "def evaluate_models(dataset, p_values, d_values, q_values):\n",
    "    best_score, best_cfg = float(\"inf\"), None\n",
    "    # Iterate through p_values\n",
    "    for p in p_values:\n",
    "        # Iterate through d_values\n",
    "        for d in d_values:\n",
    "            # Iterate through q_values\n",
    "            for q in q_values:\n",
    "                # p, d, q iterator variables in that order\n",
    "                order = (p,d,q)\n",
    "                try:\n",
    "                    # Make a variable called mse for the Mean squared error\n",
    "                    mse = evaluate_arima_model(dataset, order)\n",
    "                    if mse < best_score:\n",
    "                        best_score, best_cfg = mse, order\n",
    "                    print('ARIMA%s MSE=%.3f' % (order,mse))\n",
    "                except:\n",
    "                    continue\n",
    "    return print('Best ARIMA%s MSE=%.3f' % (best_cfg, best_score))\n",
    "\"\"\""
   ]
  },
  {
   "cell_type": "code",
   "execution_count": 50,
   "metadata": {},
   "outputs": [
    {
     "data": {
      "text/plain": [
       "'\\n# Now, we choose a couple of values to try for each parameter: p_values, d_values and q_values\\n# Fill in the blanks as appropriate\\np_values = [x for x in range(0,3)]\\nd_values = [x for x in range(0, 3)]\\nq_values = [x for x in range(0, 3)]\\n\\n'"
      ]
     },
     "execution_count": 50,
     "metadata": {},
     "output_type": "execute_result"
    }
   ],
   "source": [
    "\"\"\"\n",
    "# Now, we choose a couple of values to try for each parameter: p_values, d_values and q_values\n",
    "# Fill in the blanks as appropriate\n",
    "p_values = [x for x in range(0,3)]\n",
    "d_values = [x for x in range(0, 3)]\n",
    "q_values = [x for x in range(0, 3)]\n",
    "\n",
    "\"\"\""
   ]
  },
  {
   "cell_type": "code",
   "execution_count": 70,
   "metadata": {},
   "outputs": [
    {
     "name": "stdout",
     "output_type": "stream",
     "text": [
      "ARIMA(0, 0, 0) MSE=0.000\n",
      "ARIMA(0, 0, 1) MSE=0.000\n",
      "ARIMA(0, 0, 2) MSE=0.000\n",
      "ARIMA(1, 0, 0) MSE=0.000\n",
      "ARIMA(1, 0, 1) MSE=0.000\n",
      "ARIMA(1, 0, 2) MSE=0.000\n",
      "ARIMA(2, 0, 0) MSE=0.000\n",
      "ARIMA(2, 0, 1) MSE=0.000\n",
      "ARIMA(2, 0, 2) MSE=0.000\n",
      "Best ARIMA(2, 0, 1) MSE=0.000\n"
     ]
    },
    {
     "data": {
      "text/plain": [
       "((2, 0, 1), 2.2734414639958104e-09)"
      ]
     },
     "execution_count": 70,
     "metadata": {},
     "output_type": "execute_result"
    }
   ],
   "source": [
    "# Import mean_squared_error and the updated ARIMA class\n",
    "from sklearn.metrics import mean_squared_error\n",
    "from statsmodels.tsa.arima.model import ARIMA  # Updated import\n",
    "\n",
    "# Function to evaluate a single ARIMA model\n",
    "def evaluate_arima_model(data, arima_order):\n",
    "    split = int(len(data) * 0.8)\n",
    "    train, test = data[0:split], data[split:len(data)]\n",
    "    past = [x for x in train]\n",
    "    predictions = list()\n",
    "    \n",
    "    for i in range(len(test)):\n",
    "        try:\n",
    "            model = ARIMA(past, order=arima_order)\n",
    "            model_fit = model.fit()\n",
    "            future = model_fit.forecast()[0]\n",
    "            predictions.append(future)\n",
    "            past.append(test[i])\n",
    "        except Exception as e:\n",
    "            print(f\"Error fitting ARIMA{arima_order}: {e}\")\n",
    "            return float(\"inf\")\n",
    "    \n",
    "    error = mean_squared_error(test, predictions)\n",
    "    return error\n",
    "\n",
    "# Function to evaluate different ARIMA models\n",
    "def evaluate_models(dataset, p_values, d_values, q_values):\n",
    "    best_score, best_cfg = float(\"inf\"), None\n",
    "    for p in p_values:\n",
    "        for d in d_values:\n",
    "            for q in q_values:\n",
    "                order = (p, d, q)\n",
    "                try:\n",
    "                    mse = evaluate_arima_model(dataset, order)\n",
    "                    if mse < best_score:\n",
    "                        best_score, best_cfg = mse, order\n",
    "                    print('ARIMA%s MSE=%.3f' % (order, mse))\n",
    "                except Exception as e:\n",
    "                    print(f\"Error evaluating ARIMA{order}: {e}\")\n",
    "                    continue\n",
    "    print('Best ARIMA%s MSE=%.3f' % (best_cfg, best_score))\n",
    "    return best_cfg, best_score\n",
    "\n",
    "# Define parameter ranges\n",
    "p_values = [x for x in range(0, 3)]\n",
    "d_values = [x for x in range(0, 1)]\n",
    "q_values = [x for x in range(0, 3)]\n",
    "\n",
    "import warnings\n",
    "warnings.filterwarnings(\"ignore\")\n",
    "# Example usage\n",
    "evaluate_models(log_diff, p_values, d_values, q_values)\n"
   ]
  },
  {
   "cell_type": "markdown",
   "metadata": {},
   "source": [
    "So the best p,d, q, parameters for our ARIMA model are 2, 1, 1 respectively. Now we know this, we can build the model."
   ]
  },
  {
   "cell_type": "code",
   "execution_count": 71,
   "metadata": {},
   "outputs": [],
   "source": [
    "p= 2\n",
    "d= 0\n",
    "q= 1\n",
    "model = ARIMA(log_diff, order=(p,d,q))\n",
    "model_fit = model.fit()\n",
    "forecast = model_fit.forecast(24)"
   ]
  },
  {
   "cell_type": "markdown",
   "metadata": {},
   "source": [
    "We can take a look at a summary of the model this library has built around our data."
   ]
  },
  {
   "cell_type": "code",
   "execution_count": 72,
   "metadata": {
    "scrolled": false
   },
   "outputs": [
    {
     "data": {
      "text/html": [
       "<table class=\"simpletable\">\n",
       "<caption>SARIMAX Results</caption>\n",
       "<tr>\n",
       "  <th>Dep. Variable:</th>       <td>#CigSales</td>    <th>  No. Observations:  </th>    <td>143</td>   \n",
       "</tr>\n",
       "<tr>\n",
       "  <th>Model:</th>            <td>ARIMA(2, 0, 1)</td>  <th>  Log Likelihood     </th> <td>1287.929</td> \n",
       "</tr>\n",
       "<tr>\n",
       "  <th>Date:</th>            <td>Sun, 10 Nov 2024</td> <th>  AIC                </th> <td>-2565.858</td>\n",
       "</tr>\n",
       "<tr>\n",
       "  <th>Time:</th>                <td>19:17:41</td>     <th>  BIC                </th> <td>-2551.044</td>\n",
       "</tr>\n",
       "<tr>\n",
       "  <th>Sample:</th>             <td>02-01-1949</td>    <th>  HQIC               </th> <td>-2559.838</td>\n",
       "</tr>\n",
       "<tr>\n",
       "  <th></th>                   <td>- 12-01-1960</td>   <th>                     </th>     <td> </td>    \n",
       "</tr>\n",
       "<tr>\n",
       "  <th>Covariance Type:</th>        <td>opg</td>       <th>                     </th>     <td> </td>    \n",
       "</tr>\n",
       "</table>\n",
       "<table class=\"simpletable\">\n",
       "<tr>\n",
       "     <td></td>       <th>coef</th>     <th>std err</th>      <th>z</th>      <th>P>|z|</th>  <th>[0.025</th>    <th>0.975]</th>  \n",
       "</tr>\n",
       "<tr>\n",
       "  <th>const</th>  <td> 1.354e-06</td> <td> 1.92e-06</td> <td>    0.705</td> <td> 0.481</td> <td>-2.41e-06</td> <td> 5.12e-06</td>\n",
       "</tr>\n",
       "<tr>\n",
       "  <th>ar.L1</th>  <td>    1.0672</td> <td> 1.88e-11</td> <td> 5.66e+10</td> <td> 0.000</td> <td>    1.067</td> <td>    1.067</td>\n",
       "</tr>\n",
       "<tr>\n",
       "  <th>ar.L2</th>  <td>   -0.4449</td> <td>  2.4e-11</td> <td>-1.86e+10</td> <td> 0.000</td> <td>   -0.445</td> <td>   -0.445</td>\n",
       "</tr>\n",
       "<tr>\n",
       "  <th>ma.L1</th>  <td>   -0.7214</td> <td> 1.63e-11</td> <td>-4.42e+10</td> <td> 0.000</td> <td>   -0.721</td> <td>   -0.721</td>\n",
       "</tr>\n",
       "<tr>\n",
       "  <th>sigma2</th> <td> 9.169e-10</td> <td> 2.91e-10</td> <td>    3.146</td> <td> 0.002</td> <td> 3.46e-10</td> <td> 1.49e-09</td>\n",
       "</tr>\n",
       "</table>\n",
       "<table class=\"simpletable\">\n",
       "<tr>\n",
       "  <th>Ljung-Box (L1) (Q):</th>     <td>1.36</td> <th>  Jarque-Bera (JB):  </th> <td>0.57</td>\n",
       "</tr>\n",
       "<tr>\n",
       "  <th>Prob(Q):</th>                <td>0.24</td> <th>  Prob(JB):          </th> <td>0.75</td>\n",
       "</tr>\n",
       "<tr>\n",
       "  <th>Heteroskedasticity (H):</th> <td>7.98</td> <th>  Skew:              </th> <td>0.15</td>\n",
       "</tr>\n",
       "<tr>\n",
       "  <th>Prob(H) (two-sided):</th>    <td>0.00</td> <th>  Kurtosis:          </th> <td>3.09</td>\n",
       "</tr>\n",
       "</table><br/><br/>Warnings:<br/>[1] Covariance matrix calculated using the outer product of gradients (complex-step).<br/>[2] Covariance matrix is singular or near-singular, with condition number 1.17e+27. Standard errors may be unstable."
      ],
      "text/latex": [
       "\\begin{center}\n",
       "\\begin{tabular}{lclc}\n",
       "\\toprule\n",
       "\\textbf{Dep. Variable:}          &    \\#CigSales    & \\textbf{  No. Observations:  } &    143      \\\\\n",
       "\\textbf{Model:}                  &  ARIMA(2, 0, 1)  & \\textbf{  Log Likelihood     } &  1287.929   \\\\\n",
       "\\textbf{Date:}                   & Sun, 10 Nov 2024 & \\textbf{  AIC                } & -2565.858   \\\\\n",
       "\\textbf{Time:}                   &     19:17:41     & \\textbf{  BIC                } & -2551.044   \\\\\n",
       "\\textbf{Sample:}                 &    02-01-1949    & \\textbf{  HQIC               } & -2559.838   \\\\\n",
       "\\textbf{}                        &   - 12-01-1960   & \\textbf{                     } &             \\\\\n",
       "\\textbf{Covariance Type:}        &       opg        & \\textbf{                     } &             \\\\\n",
       "\\bottomrule\n",
       "\\end{tabular}\n",
       "\\begin{tabular}{lcccccc}\n",
       "                & \\textbf{coef} & \\textbf{std err} & \\textbf{z} & \\textbf{P$> |$z$|$} & \\textbf{[0.025} & \\textbf{0.975]}  \\\\\n",
       "\\midrule\n",
       "\\textbf{const}  &    1.354e-06  &     1.92e-06     &     0.705  &         0.481        &    -2.41e-06    &     5.12e-06     \\\\\n",
       "\\textbf{ar.L1}  &       1.0672  &     1.88e-11     &  5.66e+10  &         0.000        &        1.067    &        1.067     \\\\\n",
       "\\textbf{ar.L2}  &      -0.4449  &      2.4e-11     & -1.86e+10  &         0.000        &       -0.445    &       -0.445     \\\\\n",
       "\\textbf{ma.L1}  &      -0.7214  &     1.63e-11     & -4.42e+10  &         0.000        &       -0.721    &       -0.721     \\\\\n",
       "\\textbf{sigma2} &    9.169e-10  &     2.91e-10     &     3.146  &         0.002        &     3.46e-10    &     1.49e-09     \\\\\n",
       "\\bottomrule\n",
       "\\end{tabular}\n",
       "\\begin{tabular}{lclc}\n",
       "\\textbf{Ljung-Box (L1) (Q):}     & 1.36 & \\textbf{  Jarque-Bera (JB):  } & 0.57  \\\\\n",
       "\\textbf{Prob(Q):}                & 0.24 & \\textbf{  Prob(JB):          } & 0.75  \\\\\n",
       "\\textbf{Heteroskedasticity (H):} & 7.98 & \\textbf{  Skew:              } & 0.15  \\\\\n",
       "\\textbf{Prob(H) (two-sided):}    & 0.00 & \\textbf{  Kurtosis:          } & 3.09  \\\\\n",
       "\\bottomrule\n",
       "\\end{tabular}\n",
       "%\\caption{SARIMAX Results}\n",
       "\\end{center}\n",
       "\n",
       "Warnings: \\newline\n",
       " [1] Covariance matrix calculated using the outer product of gradients (complex-step). \\newline\n",
       " [2] Covariance matrix is singular or near-singular, with condition number 1.17e+27. Standard errors may be unstable."
      ],
      "text/plain": [
       "<class 'statsmodels.iolib.summary.Summary'>\n",
       "\"\"\"\n",
       "                               SARIMAX Results                                \n",
       "==============================================================================\n",
       "Dep. Variable:              #CigSales   No. Observations:                  143\n",
       "Model:                 ARIMA(2, 0, 1)   Log Likelihood                1287.929\n",
       "Date:                Sun, 10 Nov 2024   AIC                          -2565.858\n",
       "Time:                        19:17:41   BIC                          -2551.044\n",
       "Sample:                    02-01-1949   HQIC                         -2559.838\n",
       "                         - 12-01-1960                                         \n",
       "Covariance Type:                  opg                                         \n",
       "==============================================================================\n",
       "                 coef    std err          z      P>|z|      [0.025      0.975]\n",
       "------------------------------------------------------------------------------\n",
       "const       1.354e-06   1.92e-06      0.705      0.481   -2.41e-06    5.12e-06\n",
       "ar.L1          1.0672   1.88e-11   5.66e+10      0.000       1.067       1.067\n",
       "ar.L2         -0.4449    2.4e-11  -1.86e+10      0.000      -0.445      -0.445\n",
       "ma.L1         -0.7214   1.63e-11  -4.42e+10      0.000      -0.721      -0.721\n",
       "sigma2      9.169e-10   2.91e-10      3.146      0.002    3.46e-10    1.49e-09\n",
       "===================================================================================\n",
       "Ljung-Box (L1) (Q):                   1.36   Jarque-Bera (JB):                 0.57\n",
       "Prob(Q):                              0.24   Prob(JB):                         0.75\n",
       "Heteroskedasticity (H):               7.98   Skew:                             0.15\n",
       "Prob(H) (two-sided):                  0.00   Kurtosis:                         3.09\n",
       "===================================================================================\n",
       "\n",
       "Warnings:\n",
       "[1] Covariance matrix calculated using the outer product of gradients (complex-step).\n",
       "[2] Covariance matrix is singular or near-singular, with condition number 1.17e+27. Standard errors may be unstable.\n",
       "\"\"\""
      ]
     },
     "execution_count": 72,
     "metadata": {},
     "output_type": "execute_result"
    }
   ],
   "source": [
    "model_fit.summary()"
   ]
  },
  {
   "cell_type": "markdown",
   "metadata": {},
   "source": [
    "### 3e. Visualize the results \n",
    "\n",
    "Visualize the original dataset plotted against our model. "
   ]
  },
  {
   "cell_type": "code",
   "execution_count": 74,
   "metadata": {},
   "outputs": [
    {
     "data": {
      "text/plain": [
       "[<matplotlib.lines.Line2D at 0x13b3d5e50>]"
      ]
     },
     "execution_count": 74,
     "metadata": {},
     "output_type": "execute_result"
    },
    {
     "data": {
      "image/png": "[encoded data removed]",
      "text/plain": [
       "<Figure size 1500x1000 with 1 Axes>"
      ]
     },
     "metadata": {},
     "output_type": "display_data"
    }
   ],
   "source": [
    "plt.figure(figsize=(15,10))\n",
    "plt.plot(log_diff)\n",
    "plt.plot(model_fit.predict(), color = 'red')"
   ]
  },
  {
   "cell_type": "markdown",
   "metadata": {},
   "source": [
    "### 3f. Application: Forecasting\n",
    "\n",
    "We've done well: our model fits pretty closely to our existing data. Let's now use it to forecast what's likely to occur in future."
   ]
  },
  {
   "cell_type": "code",
   "execution_count": 83,
   "metadata": {},
   "outputs": [
    {
     "data": {
      "image/png": "[encoded data removed]",
      "text/plain": [
       "<Figure size 1500x1000 with 1 Axes>"
      ]
     },
     "metadata": {},
     "output_type": "display_data"
    }
   ],
   "source": [
    "# Declare a variable called forecast_period with the amount of months to forecast, and\n",
    "# create a range of future dates that is the length of the periods you've chosen to forecast\n",
    "forecast_period = 24\n",
    "date_range = pd.date_range(log_diff.index[-1], periods = forecast_period + 1, \n",
    "              freq='MS')[1:].strftime(\"%Y-%m-%d\").tolist()\n",
    "\n",
    "# Convert that range into a dataframe that includes your predictions\n",
    "# First, call DataFrame on pd\n",
    "future_months = pd.DataFrame(date_range, columns = ['Month'])\n",
    "# Let's now convert the 'Month' column to a datetime object with to_datetime \n",
    "future_months['Month'] = pd.to_datetime(future_months['Month'])\n",
    "future_months.set_index('Month', inplace = True)\n",
    "future_months['Prediction'] = forecast\n",
    "\n",
    "# Concatenate the original log_diff series with future_months['Prediction']\n",
    "combined_series = pd.concat([log_diff, pd.Series(future_months['Prediction'])])\n",
    "\n",
    "# Plot your future predictions\n",
    "# Call figure() on plt\n",
    "plt.figure(figsize=(15,10))\n",
    "\n",
    "#plt.plot(log_diff['Nov 1960'].append(pd.Series(future_months['Prediction'])))\n",
    "\n",
    "plt.plot(log_diff, label='Original Data')\n",
    "#plt.plot(future_months['Prediction'])\n",
    "plt.plot(future_months['Prediction'], label='Forecast', color='red', linestyle='--')\n",
    "plt.legend()\n",
    "plt.show()"
   ]
  },
  {
   "cell_type": "code",
   "execution_count": 93,
   "metadata": {},
   "outputs": [
    {
     "data": {
      "image/png": "[encoded data removed]",
      "text/plain": [
       "<Figure size 1500x1000 with 1 Axes>"
      ]
     },
     "metadata": {},
     "output_type": "display_data"
    }
   ],
   "source": [
    "# Apply log transformation\n",
    "cigData['CigSales_Log'] = np.log(cigData['#CigSales'] + 1)  # Adding 1 to avoid log(0)\n",
    "\n",
    "# Plot the log-transformed data\n",
    "plt.figure(figsize=(15, 10))\n",
    "plt.plot(cigData.index, cigData['CigSales_Log'], label='Log Transformed Data', color='green')\n",
    "plt.title('Log Transformed Cigarette Sales Data')\n",
    "plt.xlabel('Time')\n",
    "plt.ylabel('Log Transformed Values')\n",
    "plt.legend()\n",
    "plt.show()\n"
   ]
  },
  {
   "cell_type": "code",
   "execution_count": 96,
   "metadata": {},
   "outputs": [
    {
     "name": "stdout",
     "output_type": "stream",
     "text": [
      "1958-09-01    1.000502e+06\n",
      "1958-10-01    1.000498e+06\n",
      "1958-11-01    1.000496e+06\n",
      "1958-12-01    1.000495e+06\n",
      "1959-01-01    1.000494e+06\n",
      "1959-02-01    1.000494e+06\n",
      "1959-03-01    1.000493e+06\n",
      "1959-04-01    1.000493e+06\n",
      "1959-05-01    1.000493e+06\n",
      "1959-06-01    1.000493e+06\n",
      "1959-07-01    1.000493e+06\n",
      "1959-08-01    1.000493e+06\n",
      "1959-09-01    1.000493e+06\n",
      "1959-10-01    1.000493e+06\n",
      "1959-11-01    1.000493e+06\n",
      "1959-12-01    1.000493e+06\n",
      "1960-01-01    1.000493e+06\n",
      "1960-02-01    1.000493e+06\n",
      "1960-03-01    1.000493e+06\n",
      "1960-04-01    1.000493e+06\n",
      "1960-05-01    1.000493e+06\n",
      "1960-06-01    1.000493e+06\n",
      "1960-07-01    1.000493e+06\n",
      "1960-08-01    1.000493e+06\n",
      "1960-09-01    1.000493e+06\n",
      "1960-10-01    1.000493e+06\n",
      "1960-11-01    1.000493e+06\n",
      "1960-12-01    1.000493e+06\n",
      "Freq: MS, Name: predicted_mean, dtype: float64\n"
     ]
    }
   ],
   "source": [
    "# Import necessary packages\n",
    "from statsmodels.tsa.arima.model import ARIMA\n",
    "import numpy as np\n",
    "\n",
    "# Split the data into train and test sets\n",
    "train = cigData.iloc[:-int(len(cigData) * 0.2)]\n",
    "test = cigData.iloc[-int(len(cigData) * 0.2):]\n",
    "\n",
    "# Build and fit the ARIMA model using the log-transformed data\n",
    "model = ARIMA(train['CigSales_Log'], order=(2, 1, 2)).fit()\n",
    "\n",
    "# Forecast for the length of the test set\n",
    "log_forecasts = model.forecast(steps=len(test))\n",
    "\n",
    "# Inverse the log transformation to get the forecasts back in the original scale\n",
    "forecasts = np.exp(log_forecasts)\n",
    "\n",
    "# Print or plot the forecasts\n",
    "print(forecasts)\n"
   ]
  },
  {
   "cell_type": "markdown",
   "metadata": {},
   "source": [
    "## Note: Got stuck and had to watch Youtube video that helped me create the graph below. "
   ]
  },
  {
   "cell_type": "code",
   "execution_count": 97,
   "metadata": {},
   "outputs": [
    {
     "data": {
      "application/vnd.plotly.v1+json": {
       "config": {
        "plotlyServerURL": "https://plot.ly"
       },
       "data": [
        {
         "name": "Train",
         "type": "scatter",
         "x": [
          "1949-01-01T00:00:00",
          "1949-02-01T00:00:00",
          "1949-03-01T00:00:00",
          "1949-04-01T00:00:00",
          "1949-05-01T00:00:00",
          "1949-06-01T00:00:00",
          "1949-07-01T00:00:00",
          "1949-08-01T00:00:00",
          "1949-09-01T00:00:00",
          "1949-10-01T00:00:00",
          "1949-11-01T00:00:00",
          "1949-12-01T00:00:00",
          "1950-01-01T00:00:00",
          "1950-02-01T00:00:00",
          "1950-03-01T00:00:00",
          "1950-04-01T00:00:00",
          "1950-05-01T00:00:00",
          "1950-06-01T00:00:00",
          "1950-07-01T00:00:00",
          "1950-08-01T00:00:00",
          "1950-09-01T00:00:00",
          "1950-10-01T00:00:00",
          "1950-11-01T00:00:00",
          "1950-12-01T00:00:00",
          "1951-01-01T00:00:00",
          "1951-02-01T00:00:00",
          "1951-03-01T00:00:00",
          "1951-04-01T00:00:00",
          "1951-05-01T00:00:00",
          "1951-06-01T00:00:00",
          "1951-07-01T00:00:00",
          "1951-08-01T00:00:00",
          "1951-09-01T00:00:00",
          "1951-10-01T00:00:00",
          "1951-11-01T00:00:00",
          "1951-12-01T00:00:00",
          "1952-01-01T00:00:00",
          "1952-02-01T00:00:00",
          "1952-03-01T00:00:00",
          "1952-04-01T00:00:00",
          "1952-05-01T00:00:00",
          "1952-06-01T00:00:00",
          "1952-07-01T00:00:00",
          "1952-08-01T00:00:00",
          "1952-09-01T00:00:00",
          "1952-10-01T00:00:00",
          "1952-11-01T00:00:00",
          "1952-12-01T00:00:00",
          "1953-01-01T00:00:00",
          "1953-02-01T00:00:00",
          "1953-03-01T00:00:00",
          "1953-04-01T00:00:00",
          "1953-05-01T00:00:00",
          "1953-06-01T00:00:00",
          "1953-07-01T00:00:00",
          "1953-08-01T00:00:00",
          "1953-09-01T00:00:00",
          "1953-10-01T00:00:00",
          "1953-11-01T00:00:00",
          "1953-12-01T00:00:00",
          "1954-01-01T00:00:00",
          "1954-02-01T00:00:00",
          "1954-03-01T00:00:00",
          "1954-04-01T00:00:00",
          "1954-05-01T00:00:00",
          "1954-06-01T00:00:00",
          "1954-07-01T00:00:00",
          "1954-08-01T00:00:00",
          "1954-09-01T00:00:00",
          "1954-10-01T00:00:00",
          "1954-11-01T00:00:00",
          "1954-12-01T00:00:00",
          "1955-01-01T00:00:00",
          "1955-02-01T00:00:00",
          "1955-03-01T00:00:00",
          "1955-04-01T00:00:00",
          "1955-05-01T00:00:00",
          "1955-06-01T00:00:00",
          "1955-07-01T00:00:00",
          "1955-08-01T00:00:00",
          "1955-09-01T00:00:00",
          "1955-10-01T00:00:00",
          "1955-11-01T00:00:00",
          "1955-12-01T00:00:00",
          "1956-01-01T00:00:00",
          "1956-02-01T00:00:00",
          "1956-03-01T00:00:00",
          "1956-04-01T00:00:00",
          "1956-05-01T00:00:00",
          "1956-06-01T00:00:00",
          "1956-07-01T00:00:00",
          "1956-08-01T00:00:00",
          "1956-09-01T00:00:00",
          "1956-10-01T00:00:00",
          "1956-11-01T00:00:00",
          "1956-12-01T00:00:00",
          "1957-01-01T00:00:00",
          "1957-02-01T00:00:00",
          "1957-03-01T00:00:00",
          "1957-04-01T00:00:00",
          "1957-05-01T00:00:00",
          "1957-06-01T00:00:00",
          "1957-07-01T00:00:00",
          "1957-08-01T00:00:00",
          "1957-09-01T00:00:00",
          "1957-10-01T00:00:00",
          "1957-11-01T00:00:00",
          "1957-12-01T00:00:00",
          "1958-01-01T00:00:00",
          "1958-02-01T00:00:00",
          "1958-03-01T00:00:00",
          "1958-04-01T00:00:00",
          "1958-05-01T00:00:00",
          "1958-06-01T00:00:00",
          "1958-07-01T00:00:00",
          "1958-08-01T00:00:00"
         ],
         "y": [
          1000112,
          1000118,
          1000132,
          1000129,
          1000121,
          1000135,
          1000148,
          1000148,
          1000136,
          1000119,
          1000104,
          1000118,
          1000115,
          1000126,
          1000141,
          1000135,
          1000125,
          1000149,
          1000170,
          1000170,
          1000158,
          1000133,
          1000114,
          1000140,
          1000145,
          1000150,
          1000178,
          1000163,
          1000172,
          1000178,
          1000199,
          1000199,
          1000184,
          1000162,
          1000146,
          1000166,
          1000171,
          1000180,
          1000193,
          1000181,
          1000183,
          1000218,
          1000230,
          1000242,
          1000209,
          1000191,
          1000172,
          1000194,
          1000196,
          1000196,
          1000236,
          1000235,
          1000229,
          1000243,
          1000264,
          1000272,
          1000237,
          1000211,
          1000180,
          1000201,
          1000204,
          1000188,
          1000235,
          1000227,
          1000234,
          1000264,
          1000302,
          1000293,
          1000259,
          1000229,
          1000203,
          1000229,
          1000242,
          1000233,
          1000267,
          1000269,
          1000270,
          1000315,
          1000364,
          1000347,
          1000312,
          1000274,
          1000237,
          1000278,
          1000284,
          1000277,
          1000317,
          1000313,
          1000318,
          1000374,
          1000413,
          1000405,
          1000355,
          1000306,
          1000271,
          1000306,
          1000315,
          1000301,
          1000356,
          1000348,
          1000355,
          1000422,
          1000465,
          1000467,
          1000404,
          1000347,
          1000305,
          1000336,
          1000340,
          1000318,
          1000362,
          1000348,
          1000363,
          1000435,
          1000491,
          1000505
         ]
        },
        {
         "name": "Test",
         "type": "scatter",
         "x": [
          "1958-09-01T00:00:00",
          "1958-10-01T00:00:00",
          "1958-11-01T00:00:00",
          "1958-12-01T00:00:00",
          "1959-01-01T00:00:00",
          "1959-02-01T00:00:00",
          "1959-03-01T00:00:00",
          "1959-04-01T00:00:00",
          "1959-05-01T00:00:00",
          "1959-06-01T00:00:00",
          "1959-07-01T00:00:00",
          "1959-08-01T00:00:00",
          "1959-09-01T00:00:00",
          "1959-10-01T00:00:00",
          "1959-11-01T00:00:00",
          "1959-12-01T00:00:00",
          "1960-01-01T00:00:00",
          "1960-02-01T00:00:00",
          "1960-03-01T00:00:00",
          "1960-04-01T00:00:00",
          "1960-05-01T00:00:00",
          "1960-06-01T00:00:00",
          "1960-07-01T00:00:00",
          "1960-08-01T00:00:00",
          "1960-09-01T00:00:00",
          "1960-10-01T00:00:00",
          "1960-11-01T00:00:00",
          "1960-12-01T00:00:00"
         ],
         "y": [
          1000404,
          1000359,
          1000310,
          1000337,
          1000360,
          1000342,
          1000406,
          1000396,
          1000420,
          1000472,
          1000548,
          1000559,
          1000463,
          1000407,
          1000362,
          1000405,
          1000417,
          1000391,
          1000419,
          1000461,
          1000472,
          1000535,
          1000622,
          1000606,
          1000508,
          1000461,
          1000390,
          1000432
         ]
        },
        {
         "line": {
          "dash": "dot"
         },
         "name": "Forecast",
         "type": "scatter",
         "x": [
          "1958-09-01T00:00:00",
          "1958-10-01T00:00:00",
          "1958-11-01T00:00:00",
          "1958-12-01T00:00:00",
          "1959-01-01T00:00:00",
          "1959-02-01T00:00:00",
          "1959-03-01T00:00:00",
          "1959-04-01T00:00:00",
          "1959-05-01T00:00:00",
          "1959-06-01T00:00:00",
          "1959-07-01T00:00:00",
          "1959-08-01T00:00:00",
          "1959-09-01T00:00:00",
          "1959-10-01T00:00:00",
          "1959-11-01T00:00:00",
          "1959-12-01T00:00:00",
          "1960-01-01T00:00:00",
          "1960-02-01T00:00:00",
          "1960-03-01T00:00:00",
          "1960-04-01T00:00:00",
          "1960-05-01T00:00:00",
          "1960-06-01T00:00:00",
          "1960-07-01T00:00:00",
          "1960-08-01T00:00:00",
          "1960-09-01T00:00:00",
          "1960-10-01T00:00:00",
          "1960-11-01T00:00:00",
          "1960-12-01T00:00:00"
         ],
         "y": [
          1000501.6851644132,
          1000497.8356446626,
          1000495.8644737613,
          1000494.7024078447,
          1000494.045103688,
          1000493.668923732,
          1000493.4543551956,
          1000493.3318503847,
          1000493.2619272025,
          1000493.2220133836,
          1000493.1992301351,
          1000493.1862251211,
          1000493.1788016815,
          1000493.1745642785,
          1000493.1721455107,
          1000493.1707648442,
          1000493.169976741,
          1000493.1695268806,
          1000493.1692700936,
          1000493.1691235163,
          1000493.1690398478,
          1000493.1689920882,
          1000493.1689648272,
          1000493.1689492657,
          1000493.1689403831,
          1000493.1689353127,
          1000493.1689324194,
          1000493.1689307665
         ]
        }
       ],
       "layout": {
        "font": {
         "size": 18
        },
        "height": 500,
        "template": {
         "data": {
          "bar": [
           {
            "error_x": {
             "color": "rgb(36,36,36)"
            },
            "error_y": {
             "color": "rgb(36,36,36)"
            },
            "marker": {
             "line": {
              "color": "white",
              "width": 0.5
             },
             "pattern": {
              "fillmode": "overlay",
              "size": 10,
              "solidity": 0.2
             }
            },
            "type": "bar"
           }
          ],
          "barpolar": [
           {
            "marker": {
             "line": {
              "color": "white",
              "width": 0.5
             },
             "pattern": {
              "fillmode": "overlay",
              "size": 10,
              "solidity": 0.2
             }
            },
            "type": "barpolar"
           }
          ],
          "carpet": [
           {
            "aaxis": {
             "endlinecolor": "rgb(36,36,36)",
             "gridcolor": "white",
             "linecolor": "white",
             "minorgridcolor": "white",
             "startlinecolor": "rgb(36,36,36)"
            },
            "baxis": {
             "endlinecolor": "rgb(36,36,36)",
             "gridcolor": "white",
             "linecolor": "white",
             "minorgridcolor": "white",
             "startlinecolor": "rgb(36,36,36)"
            },
            "type": "carpet"
           }
          ],
          "choropleth": [
           {
            "colorbar": {
             "outlinewidth": 1,
             "tickcolor": "rgb(36,36,36)",
             "ticks": "outside"
            },
            "type": "choropleth"
           }
          ],
          "contour": [
           {
            "colorbar": {
             "outlinewidth": 1,
             "tickcolor": "rgb(36,36,36)",
             "ticks": "outside"
            },
            "colorscale": [
             [
              0,
              "#440154"
             ],
             [
              0.1111111111111111,
              "#482878"
             ],
             [
              0.2222222222222222,
              "#3e4989"
             ],
             [
              0.3333333333333333,
              "#31688e"
             ],
             [
              0.4444444444444444,
              "#26828e"
             ],
             [
              0.5555555555555556,
              "#1f9e89"
             ],
             [
              0.6666666666666666,
              "#35b779"
             ],
             [
              0.7777777777777778,
              "#6ece58"
             ],
             [
              0.8888888888888888,
              "#b5de2b"
             ],
             [
              1,
              "#fde725"
             ]
            ],
            "type": "contour"
           }
          ],
          "contourcarpet": [
           {
            "colorbar": {
             "outlinewidth": 1,
             "tickcolor": "rgb(36,36,36)",
             "ticks": "outside"
            },
            "type": "contourcarpet"
           }
          ],
          "heatmap": [
           {
            "colorbar": {
             "outlinewidth": 1,
             "tickcolor": "rgb(36,36,36)",
             "ticks": "outside"
            },
            "colorscale": [
             [
              0,
              "#440154"
             ],
             [
              0.1111111111111111,
              "#482878"
             ],
             [
              0.2222222222222222,
              "#3e4989"
             ],
             [
              0.3333333333333333,
              "#31688e"
             ],
             [
              0.4444444444444444,
              "#26828e"
             ],
             [
              0.5555555555555556,
              "#1f9e89"
             ],
             [
              0.6666666666666666,
              "#35b779"
             ],
             [
              0.7777777777777778,
              "#6ece58"
             ],
             [
              0.8888888888888888,
              "#b5de2b"
             ],
             [
              1,
              "#fde725"
             ]
            ],
            "type": "heatmap"
           }
          ],
          "heatmapgl": [
           {
            "colorbar": {
             "outlinewidth": 1,
             "tickcolor": "rgb(36,36,36)",
             "ticks": "outside"
            },
            "colorscale": [
             [
              0,
              "#440154"
             ],
             [
              0.1111111111111111,
              "#482878"
             ],
             [
              0.2222222222222222,
              "#3e4989"
             ],
             [
              0.3333333333333333,
              "#31688e"
             ],
             [
              0.4444444444444444,
              "#26828e"
             ],
             [
              0.5555555555555556,
              "#1f9e89"
             ],
             [
              0.6666666666666666,
              "#35b779"
             ],
             [
              0.7777777777777778,
              "#6ece58"
             ],
             [
              0.8888888888888888,
              "#b5de2b"
             ],
             [
              1,
              "#fde725"
             ]
            ],
            "type": "heatmapgl"
           }
          ],
          "histogram": [
           {
            "marker": {
             "line": {
              "color": "white",
              "width": 0.6
             }
            },
            "type": "histogram"
           }
          ],
          "histogram2d": [
           {
            "colorbar": {
             "outlinewidth": 1,
             "tickcolor": "rgb(36,36,36)",
             "ticks": "outside"
            },
            "colorscale": [
             [
              0,
              "#440154"
             ],
             [
              0.1111111111111111,
              "#482878"
             ],
             [
              0.2222222222222222,
              "#3e4989"
             ],
             [
              0.3333333333333333,
              "#31688e"
             ],
             [
              0.4444444444444444,
              "#26828e"
             ],
             [
              0.5555555555555556,
              "#1f9e89"
             ],
             [
              0.6666666666666666,
              "#35b779"
             ],
             [
              0.7777777777777778,
              "#6ece58"
             ],
             [
              0.8888888888888888,
              "#b5de2b"
             ],
             [
              1,
              "#fde725"
             ]
            ],
            "type": "histogram2d"
           }
          ],
          "histogram2dcontour": [
           {
            "colorbar": {
             "outlinewidth": 1,
             "tickcolor": "rgb(36,36,36)",
             "ticks": "outside"
            },
            "colorscale": [
             [
              0,
              "#440154"
             ],
             [
              0.1111111111111111,
              "#482878"
             ],
             [
              0.2222222222222222,
              "#3e4989"
             ],
             [
              0.3333333333333333,
              "#31688e"
             ],
             [
              0.4444444444444444,
              "#26828e"
             ],
             [
              0.5555555555555556,
              "#1f9e89"
             ],
             [
              0.6666666666666666,
              "#35b779"
             ],
             [
              0.7777777777777778,
              "#6ece58"
             ],
             [
              0.8888888888888888,
              "#b5de2b"
             ],
             [
              1,
              "#fde725"
             ]
            ],
            "type": "histogram2dcontour"
           }
          ],
          "mesh3d": [
           {
            "colorbar": {
             "outlinewidth": 1,
             "tickcolor": "rgb(36,36,36)",
             "ticks": "outside"
            },
            "type": "mesh3d"
           }
          ],
          "parcoords": [
           {
            "line": {
             "colorbar": {
              "outlinewidth": 1,
              "tickcolor": "rgb(36,36,36)",
              "ticks": "outside"
             }
            },
            "type": "parcoords"
           }
          ],
          "pie": [
           {
            "automargin": true,
            "type": "pie"
           }
          ],
          "scatter": [
           {
            "fillpattern": {
             "fillmode": "overlay",
             "size": 10,
             "solidity": 0.2
            },
            "type": "scatter"
           }
          ],
          "scatter3d": [
           {
            "line": {
             "colorbar": {
              "outlinewidth": 1,
              "tickcolor": "rgb(36,36,36)",
              "ticks": "outside"
             }
            },
            "marker": {
             "colorbar": {
              "outlinewidth": 1,
              "tickcolor": "rgb(36,36,36)",
              "ticks": "outside"
             }
            },
            "type": "scatter3d"
           }
          ],
          "scattercarpet": [
           {
            "marker": {
             "colorbar": {
              "outlinewidth": 1,
              "tickcolor": "rgb(36,36,36)",
              "ticks": "outside"
             }
            },
            "type": "scattercarpet"
           }
          ],
          "scattergeo": [
           {
            "marker": {
             "colorbar": {
              "outlinewidth": 1,
              "tickcolor": "rgb(36,36,36)",
              "ticks": "outside"
             }
            },
            "type": "scattergeo"
           }
          ],
          "scattergl": [
           {
            "marker": {
             "colorbar": {
              "outlinewidth": 1,
              "tickcolor": "rgb(36,36,36)",
              "ticks": "outside"
             }
            },
            "type": "scattergl"
           }
          ],
          "scattermapbox": [
           {
            "marker": {
             "colorbar": {
              "outlinewidth": 1,
              "tickcolor": "rgb(36,36,36)",
              "ticks": "outside"
             }
            },
            "type": "scattermapbox"
           }
          ],
          "scatterpolar": [
           {
            "marker": {
             "colorbar": {
              "outlinewidth": 1,
              "tickcolor": "rgb(36,36,36)",
              "ticks": "outside"
             }
            },
            "type": "scatterpolar"
           }
          ],
          "scatterpolargl": [
           {
            "marker": {
             "colorbar": {
              "outlinewidth": 1,
              "tickcolor": "rgb(36,36,36)",
              "ticks": "outside"
             }
            },
            "type": "scatterpolargl"
           }
          ],
          "scatterternary": [
           {
            "marker": {
             "colorbar": {
              "outlinewidth": 1,
              "tickcolor": "rgb(36,36,36)",
              "ticks": "outside"
             }
            },
            "type": "scatterternary"
           }
          ],
          "surface": [
           {
            "colorbar": {
             "outlinewidth": 1,
             "tickcolor": "rgb(36,36,36)",
             "ticks": "outside"
            },
            "colorscale": [
             [
              0,
              "#440154"
             ],
             [
              0.1111111111111111,
              "#482878"
             ],
             [
              0.2222222222222222,
              "#3e4989"
             ],
             [
              0.3333333333333333,
              "#31688e"
             ],
             [
              0.4444444444444444,
              "#26828e"
             ],
             [
              0.5555555555555556,
              "#1f9e89"
             ],
             [
              0.6666666666666666,
              "#35b779"
             ],
             [
              0.7777777777777778,
              "#6ece58"
             ],
             [
              0.8888888888888888,
              "#b5de2b"
             ],
             [
              1,
              "#fde725"
             ]
            ],
            "type": "surface"
           }
          ],
          "table": [
           {
            "cells": {
             "fill": {
              "color": "rgb(237,237,237)"
             },
             "line": {
              "color": "white"
             }
            },
            "header": {
             "fill": {
              "color": "rgb(217,217,217)"
             },
             "line": {
              "color": "white"
             }
            },
            "type": "table"
           }
          ]
         },
         "layout": {
          "annotationdefaults": {
           "arrowhead": 0,
           "arrowwidth": 1
          },
          "autotypenumbers": "strict",
          "coloraxis": {
           "colorbar": {
            "outlinewidth": 1,
            "tickcolor": "rgb(36,36,36)",
            "ticks": "outside"
           }
          },
          "colorscale": {
           "diverging": [
            [
             0,
             "rgb(103,0,31)"
            ],
            [
             0.1,
             "rgb(178,24,43)"
            ],
            [
             0.2,
             "rgb(214,96,77)"
            ],
            [
             0.3,
             "rgb(244,165,130)"
            ],
            [
             0.4,
             "rgb(253,219,199)"
            ],
            [
             0.5,
             "rgb(247,247,247)"
            ],
            [
             0.6,
             "rgb(209,229,240)"
            ],
            [
             0.7,
             "rgb(146,197,222)"
            ],
            [
             0.8,
             "rgb(67,147,195)"
            ],
            [
             0.9,
             "rgb(33,102,172)"
            ],
            [
             1,
             "rgb(5,48,97)"
            ]
           ],
           "sequential": [
            [
             0,
             "#440154"
            ],
            [
             0.1111111111111111,
             "#482878"
            ],
            [
             0.2222222222222222,
             "#3e4989"
            ],
            [
             0.3333333333333333,
             "#31688e"
            ],
            [
             0.4444444444444444,
             "#26828e"
            ],
            [
             0.5555555555555556,
             "#1f9e89"
            ],
            [
             0.6666666666666666,
             "#35b779"
            ],
            [
             0.7777777777777778,
             "#6ece58"
            ],
            [
             0.8888888888888888,
             "#b5de2b"
            ],
            [
             1,
             "#fde725"
            ]
           ],
           "sequentialminus": [
            [
             0,
             "#440154"
            ],
            [
             0.1111111111111111,
             "#482878"
            ],
            [
             0.2222222222222222,
             "#3e4989"
            ],
            [
             0.3333333333333333,
             "#31688e"
            ],
            [
             0.4444444444444444,
             "#26828e"
            ],
            [
             0.5555555555555556,
             "#1f9e89"
            ],
            [
             0.6666666666666666,
             "#35b779"
            ],
            [
             0.7777777777777778,
             "#6ece58"
            ],
            [
             0.8888888888888888,
             "#b5de2b"
            ],
            [
             1,
             "#fde725"
            ]
           ]
          },
          "colorway": [
           "#1F77B4",
           "#FF7F0E",
           "#2CA02C",
           "#D62728",
           "#9467BD",
           "#8C564B",
           "#E377C2",
           "#7F7F7F",
           "#BCBD22",
           "#17BECF"
          ],
          "font": {
           "color": "rgb(36,36,36)"
          },
          "geo": {
           "bgcolor": "white",
           "lakecolor": "white",
           "landcolor": "white",
           "showlakes": true,
           "showland": true,
           "subunitcolor": "white"
          },
          "hoverlabel": {
           "align": "left"
          },
          "hovermode": "closest",
          "mapbox": {
           "style": "light"
          },
          "paper_bgcolor": "white",
          "plot_bgcolor": "white",
          "polar": {
           "angularaxis": {
            "gridcolor": "rgb(232,232,232)",
            "linecolor": "rgb(36,36,36)",
            "showgrid": false,
            "showline": true,
            "ticks": "outside"
           },
           "bgcolor": "white",
           "radialaxis": {
            "gridcolor": "rgb(232,232,232)",
            "linecolor": "rgb(36,36,36)",
            "showgrid": false,
            "showline": true,
            "ticks": "outside"
           }
          },
          "scene": {
           "xaxis": {
            "backgroundcolor": "white",
            "gridcolor": "rgb(232,232,232)",
            "gridwidth": 2,
            "linecolor": "rgb(36,36,36)",
            "showbackground": true,
            "showgrid": false,
            "showline": true,
            "ticks": "outside",
            "zeroline": false,
            "zerolinecolor": "rgb(36,36,36)"
           },
           "yaxis": {
            "backgroundcolor": "white",
            "gridcolor": "rgb(232,232,232)",
            "gridwidth": 2,
            "linecolor": "rgb(36,36,36)",
            "showbackground": true,
            "showgrid": false,
            "showline": true,
            "ticks": "outside",
            "zeroline": false,
            "zerolinecolor": "rgb(36,36,36)"
           },
           "zaxis": {
            "backgroundcolor": "white",
            "gridcolor": "rgb(232,232,232)",
            "gridwidth": 2,
            "linecolor": "rgb(36,36,36)",
            "showbackground": true,
            "showgrid": false,
            "showline": true,
            "ticks": "outside",
            "zeroline": false,
            "zerolinecolor": "rgb(36,36,36)"
           }
          },
          "shapedefaults": {
           "fillcolor": "black",
           "line": {
            "width": 0
           },
           "opacity": 0.3
          },
          "ternary": {
           "aaxis": {
            "gridcolor": "rgb(232,232,232)",
            "linecolor": "rgb(36,36,36)",
            "showgrid": false,
            "showline": true,
            "ticks": "outside"
           },
           "baxis": {
            "gridcolor": "rgb(232,232,232)",
            "linecolor": "rgb(36,36,36)",
            "showgrid": false,
            "showline": true,
            "ticks": "outside"
           },
           "bgcolor": "white",
           "caxis": {
            "gridcolor": "rgb(232,232,232)",
            "linecolor": "rgb(36,36,36)",
            "showgrid": false,
            "showline": true,
            "ticks": "outside"
           }
          },
          "title": {
           "x": 0.05
          },
          "xaxis": {
           "automargin": true,
           "gridcolor": "rgb(232,232,232)",
           "linecolor": "rgb(36,36,36)",
           "showgrid": false,
           "showline": true,
           "ticks": "outside",
           "title": {
            "standoff": 15
           },
           "zeroline": false,
           "zerolinecolor": "rgb(36,36,36)"
          },
          "yaxis": {
           "automargin": true,
           "gridcolor": "rgb(232,232,232)",
           "linecolor": "rgb(36,36,36)",
           "showgrid": false,
           "showline": true,
           "ticks": "outside",
           "title": {
            "standoff": 15
           },
           "zeroline": false,
           "zerolinecolor": "rgb(36,36,36)"
          }
         }
        },
        "title": {
         "text": "ARIMA Forecast for Cigarette Sales",
         "x": 0.5
        },
        "width": 800,
        "xaxis": {
         "title": {
          "text": "Date"
         }
        },
        "yaxis": {
         "title": {
          "text": "Cigarette Sales Volume"
         }
        }
       }
      }
     },
     "metadata": {},
     "output_type": "display_data"
    }
   ],
   "source": [
    "# Import packages\n",
    "import plotly.graph_objects as go\n",
    "\n",
    "# Define the function to plot forecasts\n",
    "def plot_forecasts(forecasts: list[float], title: str) -> None:\n",
    "    \"\"\"Function to plot the forecasts.\"\"\"\n",
    "    fig = go.Figure()\n",
    "    \n",
    "    # Plot the training data\n",
    "    fig.add_trace(go.Scatter(x=train.index, y=train['#CigSales'], name='Train'))\n",
    "    \n",
    "    # Plot the test data\n",
    "    fig.add_trace(go.Scatter(x=test.index, y=test['#CigSales'], name='Test'))\n",
    "    \n",
    "    # Plot the forecasts\n",
    "    fig.add_trace(go.Scatter(x=test.index, y=forecasts, name='Forecast', line=dict(dash='dot')))\n",
    "    \n",
    "    # Update layout\n",
    "    fig.update_layout(\n",
    "        template=\"simple_white\", \n",
    "        font=dict(size=18), \n",
    "        title_text=title,\n",
    "        width=800, \n",
    "        title_x=0.5, \n",
    "        height=500, \n",
    "        xaxis_title='Date',\n",
    "        yaxis_title='Cigarette Sales Volume'\n",
    "    )\n",
    "\n",
    "    return fig.show()\n",
    "\n",
    "# Plot the forecasts\n",
    "plot_forecasts(forecasts, 'ARIMA Forecast for Cigarette Sales')\n"
   ]
  },
  {
   "cell_type": "markdown",
   "metadata": {},
   "source": [
    "## 4. Evaluating and Concluding\n",
    "\n",
    "Our model captures the centre of a line that's increasing at a remarkable rate. Cowboy Cigarettes sell more cigarettes in the summer, perhaps due to the good weather, disposable income and time off that people enjoy, and the least in the winter, when people might be spending less and enjoying less free time outdoors. \n",
    "\n",
    "Remarkably, our ARIMA model made predictions using just one variable. We can only speculate, however, on the causes of the behaviour predicted by our model. We should also take heed that spikes in data, due to sudden unusual circumstances like wars, are not handled well by ARIMA; and the outbreak of the Vietnam War in the 1960s would likely cause our model some distress.  \n",
    "\n",
    "We could suggest to our employers that, if they are interested in discovering the causes of the cigarette sales trajectory, they execute a regression analysis in addition to the time series one. "
   ]
  }
 ],
 "metadata": {
  "kernelspec": {
   "display_name": "Python 3",
   "language": "python",
   "name": "python3"
  },
  "language_info": {
   "codemirror_mode": {
    "name": "ipython",
    "version": 3
   },
   "file_extension": ".py",
   "mimetype": "text/x-python",
   "name": "python",
   "nbconvert_exporter": "python",
   "pygments_lexer": "ipython3",
   "version": "3.12.3"
  }
 },
 "nbformat": 4,
 "nbformat_minor": 2
}
