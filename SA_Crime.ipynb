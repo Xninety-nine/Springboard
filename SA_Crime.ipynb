{
 "cells": [
  {
   "cell_type": "code",
   "execution_count": 2,
   "id": "5e525e5c",
   "metadata": {},
   "outputs": [
    {
     "data": {
      "text/html": [
       "<div>\n",
       "<style scoped>\n",
       "    .dataframe tbody tr th:only-of-type {\n",
       "        vertical-align: middle;\n",
       "    }\n",
       "\n",
       "    .dataframe tbody tr th {\n",
       "        vertical-align: top;\n",
       "    }\n",
       "\n",
       "    .dataframe thead th {\n",
       "        text-align: right;\n",
       "    }\n",
       "</style>\n",
       "<table border=\"1\" class=\"dataframe\">\n",
       "  <thead>\n",
       "    <tr style=\"text-align: right;\">\n",
       "      <th></th>\n",
       "      <th>_id</th>\n",
       "      <th>Report_ID</th>\n",
       "      <th>Report_Date</th>\n",
       "      <th>NIBRS_Code_Name</th>\n",
       "      <th>NIBRS_Crime_Against</th>\n",
       "      <th>Service_Area</th>\n",
       "      <th>NIBRS_Group</th>\n",
       "      <th>Zip_Code</th>\n",
       "      <th>DateTime</th>\n",
       "    </tr>\n",
       "  </thead>\n",
       "  <tbody>\n",
       "    <tr>\n",
       "      <th>0</th>\n",
       "      <td>1</td>\n",
       "      <td>45000634662</td>\n",
       "      <td>2023-03-05</td>\n",
       "      <td>Aggravated Assault</td>\n",
       "      <td>PERSON</td>\n",
       "      <td>CENTRAL</td>\n",
       "      <td>Assault Offenses</td>\n",
       "      <td>78201</td>\n",
       "      <td>2025-08-01</td>\n",
       "    </tr>\n",
       "    <tr>\n",
       "      <th>1</th>\n",
       "      <td>2</td>\n",
       "      <td>53896892246</td>\n",
       "      <td>2024-01-25</td>\n",
       "      <td>Aggravated Assault</td>\n",
       "      <td>PERSON</td>\n",
       "      <td>WEST</td>\n",
       "      <td>Assault Offenses</td>\n",
       "      <td>78201</td>\n",
       "      <td>2025-08-01</td>\n",
       "    </tr>\n",
       "    <tr>\n",
       "      <th>2</th>\n",
       "      <td>3</td>\n",
       "      <td>55602801987</td>\n",
       "      <td>2024-04-19</td>\n",
       "      <td>Aggravated Assault</td>\n",
       "      <td>PERSON</td>\n",
       "      <td>CENTRAL</td>\n",
       "      <td>Assault Offenses</td>\n",
       "      <td>78201</td>\n",
       "      <td>2025-08-01</td>\n",
       "    </tr>\n",
       "    <tr>\n",
       "      <th>3</th>\n",
       "      <td>4</td>\n",
       "      <td>58290386300</td>\n",
       "      <td>2024-08-10</td>\n",
       "      <td>Aggravated Assault</td>\n",
       "      <td>PERSON</td>\n",
       "      <td>WEST</td>\n",
       "      <td>Assault Offenses</td>\n",
       "      <td>78201</td>\n",
       "      <td>2025-08-01</td>\n",
       "    </tr>\n",
       "    <tr>\n",
       "      <th>4</th>\n",
       "      <td>5</td>\n",
       "      <td>63379733088</td>\n",
       "      <td>2025-03-28</td>\n",
       "      <td>Aggravated Assault</td>\n",
       "      <td>PERSON</td>\n",
       "      <td>CENTRAL</td>\n",
       "      <td>Assault Offenses</td>\n",
       "      <td>78201</td>\n",
       "      <td>2025-08-01</td>\n",
       "    </tr>\n",
       "  </tbody>\n",
       "</table>\n",
       "</div>"
      ],
      "text/plain": [
       "   _id    Report_ID Report_Date     NIBRS_Code_Name NIBRS_Crime_Against  \\\n",
       "0    1  45000634662  2023-03-05  Aggravated Assault              PERSON   \n",
       "1    2  53896892246  2024-01-25  Aggravated Assault              PERSON   \n",
       "2    3  55602801987  2024-04-19  Aggravated Assault              PERSON   \n",
       "3    4  58290386300  2024-08-10  Aggravated Assault              PERSON   \n",
       "4    5  63379733088  2025-03-28  Aggravated Assault              PERSON   \n",
       "\n",
       "  Service_Area       NIBRS_Group Zip_Code    DateTime  \n",
       "0      CENTRAL  Assault Offenses    78201  2025-08-01  \n",
       "1         WEST  Assault Offenses    78201  2025-08-01  \n",
       "2      CENTRAL  Assault Offenses    78201  2025-08-01  \n",
       "3         WEST  Assault Offenses    78201  2025-08-01  \n",
       "4      CENTRAL  Assault Offenses    78201  2025-08-01  "
      ]
     },
     "execution_count": 2,
     "metadata": {},
     "output_type": "execute_result"
    }
   ],
   "source": [
    "import pandas as pd\n",
    "import numpy as np\n",
    "import matplotlib.pyplot as plt\n",
    "import seaborn as sns\n",
    "import datetime\n",
    "import plotly.express as px\n",
    "sa_crimes = pd.read_csv(\"SA_Data.csv\", delimiter=';')\n",
    "sa_crimes.head()"
   ]
  },
  {
   "cell_type": "code",
   "execution_count": null,
   "id": "aab19e13",
   "metadata": {},
   "outputs": [],
   "source": []
  },
  {
   "cell_type": "code",
   "execution_count": 3,
   "id": "cdb30f1a",
   "metadata": {},
   "outputs": [
    {
     "data": {
      "text/plain": [
       "_id                     int64\n",
       "Report_ID               int64\n",
       "Report_Date            object\n",
       "NIBRS_Code_Name        object\n",
       "NIBRS_Crime_Against    object\n",
       "Service_Area           object\n",
       "NIBRS_Group            object\n",
       "Zip_Code               object\n",
       "DateTime               object\n",
       "dtype: object"
      ]
     },
     "execution_count": 3,
     "metadata": {},
     "output_type": "execute_result"
    }
   ],
   "source": [
    "sa_crimes.dtypes"
   ]
  },
  {
   "cell_type": "code",
   "execution_count": 4,
   "id": "ab6e8dcc",
   "metadata": {},
   "outputs": [],
   "source": [
    "# Convert report date to datetime\n",
    "sa_crimes['Report_Date'] = pd.to_datetime(sa_crimes['Report_Date'])"
   ]
  },
  {
   "cell_type": "code",
   "execution_count": 5,
   "id": "343abdb7",
   "metadata": {},
   "outputs": [
    {
     "data": {
      "text/plain": [
       "_id                    0\n",
       "Report_ID              0\n",
       "Report_Date            0\n",
       "NIBRS_Code_Name        0\n",
       "NIBRS_Crime_Against    0\n",
       "Service_Area           0\n",
       "NIBRS_Group            0\n",
       "Zip_Code               0\n",
       "DateTime               0\n",
       "dtype: int64"
      ]
     },
     "execution_count": 5,
     "metadata": {},
     "output_type": "execute_result"
    }
   ],
   "source": [
    "#Check for missing data\n",
    "sa_crimes.isna().sum()"
   ]
  },
  {
   "cell_type": "code",
   "execution_count": 6,
   "id": "021f0508",
   "metadata": {},
   "outputs": [
    {
     "data": {
      "text/plain": [
       "0"
      ]
     },
     "execution_count": 6,
     "metadata": {},
     "output_type": "execute_result"
    }
   ],
   "source": [
    "#Check duplicate values\n",
    "sa_crimes.duplicated().sum()"
   ]
  },
  {
   "cell_type": "code",
   "execution_count": 7,
   "id": "09de63c8",
   "metadata": {},
   "outputs": [
    {
     "data": {
      "text/plain": [
       "False    394239\n",
       "Name: count, dtype: int64"
      ]
     },
     "execution_count": 7,
     "metadata": {},
     "output_type": "execute_result"
    }
   ],
   "source": [
    "sa_crimes.duplicated().value_counts()"
   ]
  },
  {
   "cell_type": "code",
   "execution_count": 8,
   "id": "de855b5f",
   "metadata": {},
   "outputs": [
    {
     "data": {
      "text/html": [
       "<div>\n",
       "<style scoped>\n",
       "    .dataframe tbody tr th:only-of-type {\n",
       "        vertical-align: middle;\n",
       "    }\n",
       "\n",
       "    .dataframe tbody tr th {\n",
       "        vertical-align: top;\n",
       "    }\n",
       "\n",
       "    .dataframe thead th {\n",
       "        text-align: right;\n",
       "    }\n",
       "</style>\n",
       "<table border=\"1\" class=\"dataframe\">\n",
       "  <thead>\n",
       "    <tr style=\"text-align: right;\">\n",
       "      <th></th>\n",
       "      <th>_id</th>\n",
       "      <th>Report_ID</th>\n",
       "      <th>Report_Date</th>\n",
       "    </tr>\n",
       "  </thead>\n",
       "  <tbody>\n",
       "    <tr>\n",
       "      <th>count</th>\n",
       "      <td>394239.000000</td>\n",
       "      <td>3.942390e+05</td>\n",
       "      <td>394239</td>\n",
       "    </tr>\n",
       "    <tr>\n",
       "      <th>mean</th>\n",
       "      <td>197120.000000</td>\n",
       "      <td>5.550395e+10</td>\n",
       "      <td>2024-04-03 01:27:17.837960960</td>\n",
       "    </tr>\n",
       "    <tr>\n",
       "      <th>min</th>\n",
       "      <td>1.000000</td>\n",
       "      <td>1.628253e+10</td>\n",
       "      <td>2023-01-01 00:00:00</td>\n",
       "    </tr>\n",
       "    <tr>\n",
       "      <th>25%</th>\n",
       "      <td>98560.500000</td>\n",
       "      <td>5.188929e+10</td>\n",
       "      <td>2023-08-14 00:00:00</td>\n",
       "    </tr>\n",
       "    <tr>\n",
       "      <th>50%</th>\n",
       "      <td>197120.000000</td>\n",
       "      <td>5.505829e+10</td>\n",
       "      <td>2024-03-29 00:00:00</td>\n",
       "    </tr>\n",
       "    <tr>\n",
       "      <th>75%</th>\n",
       "      <td>295679.500000</td>\n",
       "      <td>6.081927e+10</td>\n",
       "      <td>2024-11-14 00:00:00</td>\n",
       "    </tr>\n",
       "    <tr>\n",
       "      <th>max</th>\n",
       "      <td>394239.000000</td>\n",
       "      <td>6.521967e+10</td>\n",
       "      <td>2025-07-31 00:00:00</td>\n",
       "    </tr>\n",
       "    <tr>\n",
       "      <th>std</th>\n",
       "      <td>113807.140725</td>\n",
       "      <td>6.172600e+09</td>\n",
       "      <td>NaN</td>\n",
       "    </tr>\n",
       "  </tbody>\n",
       "</table>\n",
       "</div>"
      ],
      "text/plain": [
       "                 _id     Report_ID                    Report_Date\n",
       "count  394239.000000  3.942390e+05                         394239\n",
       "mean   197120.000000  5.550395e+10  2024-04-03 01:27:17.837960960\n",
       "min         1.000000  1.628253e+10            2023-01-01 00:00:00\n",
       "25%     98560.500000  5.188929e+10            2023-08-14 00:00:00\n",
       "50%    197120.000000  5.505829e+10            2024-03-29 00:00:00\n",
       "75%    295679.500000  6.081927e+10            2024-11-14 00:00:00\n",
       "max    394239.000000  6.521967e+10            2025-07-31 00:00:00\n",
       "std    113807.140725  6.172600e+09                            NaN"
      ]
     },
     "execution_count": 8,
     "metadata": {},
     "output_type": "execute_result"
    }
   ],
   "source": [
    "sa_crimes.describe()"
   ]
  },
  {
   "cell_type": "code",
   "execution_count": 9,
   "id": "7cdb1e1a",
   "metadata": {},
   "outputs": [
    {
     "data": {
      "text/html": [
       "<div>\n",
       "<style scoped>\n",
       "    .dataframe tbody tr th:only-of-type {\n",
       "        vertical-align: middle;\n",
       "    }\n",
       "\n",
       "    .dataframe tbody tr th {\n",
       "        vertical-align: top;\n",
       "    }\n",
       "\n",
       "    .dataframe thead th {\n",
       "        text-align: right;\n",
       "    }\n",
       "</style>\n",
       "<table border=\"1\" class=\"dataframe\">\n",
       "  <thead>\n",
       "    <tr style=\"text-align: right;\">\n",
       "      <th></th>\n",
       "      <th>_id</th>\n",
       "      <th>Report_ID</th>\n",
       "      <th>Report_Date</th>\n",
       "      <th>NIBRS_Code_Name</th>\n",
       "      <th>NIBRS_Crime_Against</th>\n",
       "      <th>Service_Area</th>\n",
       "      <th>NIBRS_Group</th>\n",
       "      <th>Zip_Code</th>\n",
       "      <th>DateTime</th>\n",
       "    </tr>\n",
       "  </thead>\n",
       "  <tbody>\n",
       "    <tr>\n",
       "      <th>0</th>\n",
       "      <td>1</td>\n",
       "      <td>45000634662</td>\n",
       "      <td>2023-03-05</td>\n",
       "      <td>Aggravated Assault</td>\n",
       "      <td>PERSON</td>\n",
       "      <td>CENTRAL</td>\n",
       "      <td>Assault Offenses</td>\n",
       "      <td>78201</td>\n",
       "      <td>2025-08-01</td>\n",
       "    </tr>\n",
       "    <tr>\n",
       "      <th>1</th>\n",
       "      <td>2</td>\n",
       "      <td>53896892246</td>\n",
       "      <td>2024-01-25</td>\n",
       "      <td>Aggravated Assault</td>\n",
       "      <td>PERSON</td>\n",
       "      <td>WEST</td>\n",
       "      <td>Assault Offenses</td>\n",
       "      <td>78201</td>\n",
       "      <td>2025-08-01</td>\n",
       "    </tr>\n",
       "    <tr>\n",
       "      <th>2</th>\n",
       "      <td>3</td>\n",
       "      <td>55602801987</td>\n",
       "      <td>2024-04-19</td>\n",
       "      <td>Aggravated Assault</td>\n",
       "      <td>PERSON</td>\n",
       "      <td>CENTRAL</td>\n",
       "      <td>Assault Offenses</td>\n",
       "      <td>78201</td>\n",
       "      <td>2025-08-01</td>\n",
       "    </tr>\n",
       "    <tr>\n",
       "      <th>3</th>\n",
       "      <td>4</td>\n",
       "      <td>58290386300</td>\n",
       "      <td>2024-08-10</td>\n",
       "      <td>Aggravated Assault</td>\n",
       "      <td>PERSON</td>\n",
       "      <td>WEST</td>\n",
       "      <td>Assault Offenses</td>\n",
       "      <td>78201</td>\n",
       "      <td>2025-08-01</td>\n",
       "    </tr>\n",
       "    <tr>\n",
       "      <th>4</th>\n",
       "      <td>5</td>\n",
       "      <td>63379733088</td>\n",
       "      <td>2025-03-28</td>\n",
       "      <td>Aggravated Assault</td>\n",
       "      <td>PERSON</td>\n",
       "      <td>CENTRAL</td>\n",
       "      <td>Assault Offenses</td>\n",
       "      <td>78201</td>\n",
       "      <td>2025-08-01</td>\n",
       "    </tr>\n",
       "  </tbody>\n",
       "</table>\n",
       "</div>"
      ],
      "text/plain": [
       "   _id    Report_ID Report_Date     NIBRS_Code_Name NIBRS_Crime_Against  \\\n",
       "0    1  45000634662  2023-03-05  Aggravated Assault              PERSON   \n",
       "1    2  53896892246  2024-01-25  Aggravated Assault              PERSON   \n",
       "2    3  55602801987  2024-04-19  Aggravated Assault              PERSON   \n",
       "3    4  58290386300  2024-08-10  Aggravated Assault              PERSON   \n",
       "4    5  63379733088  2025-03-28  Aggravated Assault              PERSON   \n",
       "\n",
       "  Service_Area       NIBRS_Group Zip_Code    DateTime  \n",
       "0      CENTRAL  Assault Offenses    78201  2025-08-01  \n",
       "1         WEST  Assault Offenses    78201  2025-08-01  \n",
       "2      CENTRAL  Assault Offenses    78201  2025-08-01  \n",
       "3         WEST  Assault Offenses    78201  2025-08-01  \n",
       "4      CENTRAL  Assault Offenses    78201  2025-08-01  "
      ]
     },
     "execution_count": 9,
     "metadata": {},
     "output_type": "execute_result"
    }
   ],
   "source": [
    "sa_crimes.head()"
   ]
  },
  {
   "cell_type": "markdown",
   "id": "56a7919e",
   "metadata": {},
   "source": [
    "# EDA\n",
    "\n",
    "1) Are there months in which crime increases?\n",
    "2) Days of the week with most crime\n",
    "\n"
   ]
  },
  {
   "cell_type": "markdown",
   "id": "11194d4e",
   "metadata": {},
   "source": [
    "# SA Crime time series 2023-2025"
   ]
  },
  {
   "cell_type": "code",
   "execution_count": 10,
   "id": "a9f1632e",
   "metadata": {},
   "outputs": [],
   "source": [
    "# Check seasonality of crimes\n",
    "sa_crimes['month'] = pd.to_datetime(sa_crimes['Report_Date'])"
   ]
  },
  {
   "cell_type": "code",
   "execution_count": 42,
   "id": "ac7d8d16",
   "metadata": {},
   "outputs": [
    {
     "data": {
      "image/png": "[encoded data removed]",
      "text/plain": [
       "<Figure size 1500x800 with 1 Axes>"
      ]
     },
     "metadata": {},
     "output_type": "display_data"
    }
   ],
   "source": [
    "import seaborn as sns\n",
    "# Time distribution \n",
    "event_counts =sa_crimes.groupby('Report_Date').size().reset_index(name='count')\n",
    "\n",
    "plt.figure(figsize=(15,8))\n",
    "\n",
    "sns.lineplot(data= event_counts, x='Report_Date', y='count')\n",
    "plt.xlabel('Date of Crime Occurence')\n",
    "plt.ylabel('Number of Crimes Reported')\n",
    "plt.xticks(rotation=60)\n",
    "plt.title('Time Series of Crimes in SA')\n",
    "plt.show()"
   ]
  },
  {
   "cell_type": "code",
   "execution_count": 12,
   "id": "d4d9402f",
   "metadata": {},
   "outputs": [
    {
     "name": "stdout",
     "output_type": "stream",
     "text": [
      "Average number of crimes per day in San Antonio is 418 crimes per day\n"
     ]
    }
   ],
   "source": [
    "average_crime = round(event_counts['count'].mean())\n",
    "\n",
    "print(f'Average number of crimes per day in San Antonio is {average_crime} crimes per day')"
   ]
  },
  {
   "cell_type": "code",
   "execution_count": 13,
   "id": "dd74d4d2",
   "metadata": {},
   "outputs": [],
   "source": [
    "crime_count = event_counts['count'].value_counts()"
   ]
  },
  {
   "cell_type": "code",
   "execution_count": 14,
   "id": "0b00488b",
   "metadata": {},
   "outputs": [
    {
     "data": {
      "text/plain": [
       "count\n",
       "441    13\n",
       "389    13\n",
       "398    12\n",
       "400    12\n",
       "448    11\n",
       "       ..\n",
       "337     1\n",
       "344     1\n",
       "357     1\n",
       "254     1\n",
       "329     1\n",
       "Name: count, Length: 207, dtype: int64"
      ]
     },
     "execution_count": 14,
     "metadata": {},
     "output_type": "execute_result"
    }
   ],
   "source": [
    "crime_count"
   ]
  },
  {
   "cell_type": "code",
   "execution_count": 15,
   "id": "431605c4",
   "metadata": {},
   "outputs": [
    {
     "data": {
      "text/html": [
       "<div>\n",
       "<style scoped>\n",
       "    .dataframe tbody tr th:only-of-type {\n",
       "        vertical-align: middle;\n",
       "    }\n",
       "\n",
       "    .dataframe tbody tr th {\n",
       "        vertical-align: top;\n",
       "    }\n",
       "\n",
       "    .dataframe thead th {\n",
       "        text-align: right;\n",
       "    }\n",
       "</style>\n",
       "<table border=\"1\" class=\"dataframe\">\n",
       "  <thead>\n",
       "    <tr style=\"text-align: right;\">\n",
       "      <th></th>\n",
       "      <th>Report_Date</th>\n",
       "      <th>count</th>\n",
       "    </tr>\n",
       "  </thead>\n",
       "  <tbody>\n",
       "    <tr>\n",
       "      <th>0</th>\n",
       "      <td>2023-01-01</td>\n",
       "      <td>378</td>\n",
       "    </tr>\n",
       "    <tr>\n",
       "      <th>1</th>\n",
       "      <td>2023-01-02</td>\n",
       "      <td>441</td>\n",
       "    </tr>\n",
       "    <tr>\n",
       "      <th>2</th>\n",
       "      <td>2023-01-03</td>\n",
       "      <td>484</td>\n",
       "    </tr>\n",
       "    <tr>\n",
       "      <th>3</th>\n",
       "      <td>2023-01-04</td>\n",
       "      <td>443</td>\n",
       "    </tr>\n",
       "    <tr>\n",
       "      <th>4</th>\n",
       "      <td>2023-01-05</td>\n",
       "      <td>427</td>\n",
       "    </tr>\n",
       "  </tbody>\n",
       "</table>\n",
       "</div>"
      ],
      "text/plain": [
       "  Report_Date  count\n",
       "0  2023-01-01    378\n",
       "1  2023-01-02    441\n",
       "2  2023-01-03    484\n",
       "3  2023-01-04    443\n",
       "4  2023-01-05    427"
      ]
     },
     "execution_count": 15,
     "metadata": {},
     "output_type": "execute_result"
    }
   ],
   "source": [
    "event_counts.head()"
   ]
  },
  {
   "cell_type": "code",
   "execution_count": 16,
   "id": "d9fd51b7",
   "metadata": {},
   "outputs": [
    {
     "data": {
      "application/vnd.plotly.v1+json": {
       "config": {
        "plotlyServerURL": "https://plot.ly"
       },
       "data": [
        {
         "hovertemplate": "Report_Date=%{x}<br>count=%{y}<extra></extra>",
         "legendgroup": "",
         "line": {
          "color": "#636efa",
          "dash": "solid"
         },
         "marker": {
          "symbol": "circle"
         },
         "mode": "lines+markers",
         "name": "",
         "orientation": "v",
         "showlegend": false,
         "type": "scatter",
         "x": [
          "2023-01-01T00:00:00",
          "2023-01-02T00:00:00",
          "2023-01-03T00:00:00",
          "2023-01-04T00:00:00",
          "2023-01-05T00:00:00",
          "2023-01-06T00:00:00",
          "2023-01-07T00:00:00",
          "2023-01-08T00:00:00",
          "2023-01-09T00:00:00",
          "2023-01-10T00:00:00",
          "2023-01-11T00:00:00",
          "2023-01-12T00:00:00",
          "2023-01-13T00:00:00",
          "2023-01-14T00:00:00",
          "2023-01-15T00:00:00",
          "2023-01-16T00:00:00",
          "2023-01-17T00:00:00",
          "2023-01-18T00:00:00",
          "2023-01-19T00:00:00",
          "2023-01-20T00:00:00",
          "2023-01-21T00:00:00",
          "2023-01-22T00:00:00",
          "2023-01-23T00:00:00",
          "2023-01-24T00:00:00",
          "2023-01-25T00:00:00",
          "2023-01-26T00:00:00",
          "2023-01-27T00:00:00",
          "2023-01-28T00:00:00",
          "2023-01-29T00:00:00",
          "2023-01-30T00:00:00",
          "2023-01-31T00:00:00",
          "2023-02-01T00:00:00",
          "2023-02-02T00:00:00",
          "2023-02-03T00:00:00",
          "2023-02-04T00:00:00",
          "2023-02-05T00:00:00",
          "2023-02-06T00:00:00",
          "2023-02-07T00:00:00",
          "2023-02-08T00:00:00",
          "2023-02-09T00:00:00",
          "2023-02-10T00:00:00",
          "2023-02-11T00:00:00",
          "2023-02-12T00:00:00",
          "2023-02-13T00:00:00",
          "2023-02-14T00:00:00",
          "2023-02-15T00:00:00",
          "2023-02-16T00:00:00",
          "2023-02-17T00:00:00",
          "2023-02-18T00:00:00",
          "2023-02-19T00:00:00",
          "2023-02-20T00:00:00",
          "2023-02-21T00:00:00",
          "2023-02-22T00:00:00",
          "2023-02-23T00:00:00",
          "2023-02-24T00:00:00",
          "2023-02-25T00:00:00",
          "2023-02-26T00:00:00",
          "2023-02-27T00:00:00",
          "2023-02-28T00:00:00",
          "2023-03-01T00:00:00",
          "2023-03-02T00:00:00",
          "2023-03-03T00:00:00",
          "2023-03-04T00:00:00",
          "2023-03-05T00:00:00",
          "2023-03-06T00:00:00",
          "2023-03-07T00:00:00",
          "2023-03-08T00:00:00",
          "2023-03-09T00:00:00",
          "2023-03-10T00:00:00",
          "2023-03-11T00:00:00",
          "2023-03-12T00:00:00",
          "2023-03-13T00:00:00",
          "2023-03-14T00:00:00",
          "2023-03-15T00:00:00",
          "2023-03-16T00:00:00",
          "2023-03-17T00:00:00",
          "2023-03-18T00:00:00",
          "2023-03-19T00:00:00",
          "2023-03-20T00:00:00",
          "2023-03-21T00:00:00",
          "2023-03-22T00:00:00",
          "2023-03-23T00:00:00",
          "2023-03-24T00:00:00",
          "2023-03-25T00:00:00",
          "2023-03-26T00:00:00",
          "2023-03-27T00:00:00",
          "2023-03-28T00:00:00",
          "2023-03-29T00:00:00",
          "2023-03-30T00:00:00",
          "2023-03-31T00:00:00",
          "2023-04-01T00:00:00",
          "2023-04-02T00:00:00",
          "2023-04-03T00:00:00",
          "2023-04-04T00:00:00",
          "2023-04-05T00:00:00",
          "2023-04-06T00:00:00",
          "2023-04-07T00:00:00",
          "2023-04-08T00:00:00",
          "2023-04-09T00:00:00",
          "2023-04-10T00:00:00",
          "2023-04-11T00:00:00",
          "2023-04-12T00:00:00",
          "2023-04-13T00:00:00",
          "2023-04-14T00:00:00",
          "2023-04-15T00:00:00",
          "2023-04-16T00:00:00",
          "2023-04-17T00:00:00",
          "2023-04-18T00:00:00",
          "2023-04-19T00:00:00",
          "2023-04-20T00:00:00",
          "2023-04-21T00:00:00",
          "2023-04-22T00:00:00",
          "2023-04-23T00:00:00",
          "2023-04-24T00:00:00",
          "2023-04-25T00:00:00",
          "2023-04-26T00:00:00",
          "2023-04-27T00:00:00",
          "2023-04-28T00:00:00",
          "2023-04-29T00:00:00",
          "2023-04-30T00:00:00",
          "2023-05-01T00:00:00",
          "2023-05-02T00:00:00",
          "2023-05-03T00:00:00",
          "2023-05-04T00:00:00",
          "2023-05-05T00:00:00",
          "2023-05-06T00:00:00",
          "2023-05-07T00:00:00",
          "2023-05-08T00:00:00",
          "2023-05-09T00:00:00",
          "2023-05-10T00:00:00",
          "2023-05-11T00:00:00",
          "2023-05-12T00:00:00",
          "2023-05-13T00:00:00",
          "2023-05-14T00:00:00",
          "2023-05-15T00:00:00",
          "2023-05-16T00:00:00",
          "2023-05-17T00:00:00",
          "2023-05-18T00:00:00",
          "2023-05-19T00:00:00",
          "2023-05-20T00:00:00",
          "2023-05-21T00:00:00",
          "2023-05-22T00:00:00",
          "2023-05-23T00:00:00",
          "2023-05-24T00:00:00",
          "2023-05-25T00:00:00",
          "2023-05-26T00:00:00",
          "2023-05-27T00:00:00",
          "2023-05-28T00:00:00",
          "2023-05-29T00:00:00",
          "2023-05-30T00:00:00",
          "2023-05-31T00:00:00",
          "2023-06-01T00:00:00",
          "2023-06-02T00:00:00",
          "2023-06-03T00:00:00",
          "2023-06-04T00:00:00",
          "2023-06-05T00:00:00",
          "2023-06-06T00:00:00",
          "2023-06-07T00:00:00",
          "2023-06-08T00:00:00",
          "2023-06-09T00:00:00",
          "2023-06-10T00:00:00",
          "2023-06-11T00:00:00",
          "2023-06-12T00:00:00",
          "2023-06-13T00:00:00",
          "2023-06-14T00:00:00",
          "2023-06-15T00:00:00",
          "2023-06-16T00:00:00",
          "2023-06-17T00:00:00",
          "2023-06-18T00:00:00",
          "2023-06-19T00:00:00",
          "2023-06-20T00:00:00",
          "2023-06-21T00:00:00",
          "2023-06-22T00:00:00",
          "2023-06-23T00:00:00",
          "2023-06-24T00:00:00",
          "2023-06-25T00:00:00",
          "2023-06-26T00:00:00",
          "2023-06-27T00:00:00",
          "2023-06-28T00:00:00",
          "2023-06-29T00:00:00",
          "2023-06-30T00:00:00",
          "2023-07-01T00:00:00",
          "2023-07-02T00:00:00",
          "2023-07-03T00:00:00",
          "2023-07-04T00:00:00",
          "2023-07-05T00:00:00",
          "2023-07-06T00:00:00",
          "2023-07-07T00:00:00",
          "2023-07-08T00:00:00",
          "2023-07-09T00:00:00",
          "2023-07-10T00:00:00",
          "2023-07-11T00:00:00",
          "2023-07-12T00:00:00",
          "2023-07-13T00:00:00",
          "2023-07-14T00:00:00",
          "2023-07-15T00:00:00",
          "2023-07-16T00:00:00",
          "2023-07-17T00:00:00",
          "2023-07-18T00:00:00",
          "2023-07-19T00:00:00",
          "2023-07-20T00:00:00",
          "2023-07-21T00:00:00",
          "2023-07-22T00:00:00",
          "2023-07-23T00:00:00",
          "2023-07-24T00:00:00",
          "2023-07-25T00:00:00",
          "2023-07-26T00:00:00",
          "2023-07-27T00:00:00",
          "2023-07-28T00:00:00",
          "2023-07-29T00:00:00",
          "2023-07-30T00:00:00",
          "2023-07-31T00:00:00",
          "2023-08-01T00:00:00",
          "2023-08-02T00:00:00",
          "2023-08-03T00:00:00",
          "2023-08-04T00:00:00",
          "2023-08-05T00:00:00",
          "2023-08-06T00:00:00",
          "2023-08-07T00:00:00",
          "2023-08-08T00:00:00",
          "2023-08-09T00:00:00",
          "2023-08-10T00:00:00",
          "2023-08-11T00:00:00",
          "2023-08-12T00:00:00",
          "2023-08-13T00:00:00",
          "2023-08-14T00:00:00",
          "2023-08-15T00:00:00",
          "2023-08-16T00:00:00",
          "2023-08-17T00:00:00",
          "2023-08-18T00:00:00",
          "2023-08-19T00:00:00",
          "2023-08-20T00:00:00",
          "2023-08-21T00:00:00",
          "2023-08-22T00:00:00",
          "2023-08-23T00:00:00",
          "2023-08-24T00:00:00",
          "2023-08-25T00:00:00",
          "2023-08-26T00:00:00",
          "2023-08-27T00:00:00",
          "2023-08-28T00:00:00",
          "2023-08-29T00:00:00",
          "2023-08-30T00:00:00",
          "2023-08-31T00:00:00",
          "2023-09-01T00:00:00",
          "2023-09-02T00:00:00",
          "2023-09-03T00:00:00",
          "2023-09-04T00:00:00",
          "2023-09-05T00:00:00",
          "2023-09-06T00:00:00",
          "2023-09-07T00:00:00",
          "2023-09-08T00:00:00",
          "2023-09-09T00:00:00",
          "2023-09-10T00:00:00",
          "2023-09-11T00:00:00",
          "2023-09-12T00:00:00",
          "2023-09-13T00:00:00",
          "2023-09-14T00:00:00",
          "2023-09-15T00:00:00",
          "2023-09-16T00:00:00",
          "2023-09-17T00:00:00",
          "2023-09-18T00:00:00",
          "2023-09-19T00:00:00",
          "2023-09-20T00:00:00",
          "2023-09-21T00:00:00",
          "2023-09-22T00:00:00",
          "2023-09-23T00:00:00",
          "2023-09-24T00:00:00",
          "2023-09-25T00:00:00",
          "2023-09-26T00:00:00",
          "2023-09-27T00:00:00",
          "2023-09-28T00:00:00",
          "2023-09-29T00:00:00",
          "2023-09-30T00:00:00",
          "2023-10-01T00:00:00",
          "2023-10-02T00:00:00",
          "2023-10-03T00:00:00",
          "2023-10-04T00:00:00",
          "2023-10-05T00:00:00",
          "2023-10-06T00:00:00",
          "2023-10-07T00:00:00",
          "2023-10-08T00:00:00",
          "2023-10-09T00:00:00",
          "2023-10-10T00:00:00",
          "2023-10-11T00:00:00",
          "2023-10-12T00:00:00",
          "2023-10-13T00:00:00",
          "2023-10-14T00:00:00",
          "2023-10-15T00:00:00",
          "2023-10-16T00:00:00",
          "2023-10-17T00:00:00",
          "2023-10-18T00:00:00",
          "2023-10-19T00:00:00",
          "2023-10-20T00:00:00",
          "2023-10-21T00:00:00",
          "2023-10-22T00:00:00",
          "2023-10-23T00:00:00",
          "2023-10-24T00:00:00",
          "2023-10-25T00:00:00",
          "2023-10-26T00:00:00",
          "2023-10-27T00:00:00",
          "2023-10-28T00:00:00",
          "2023-10-29T00:00:00",
          "2023-10-30T00:00:00",
          "2023-10-31T00:00:00",
          "2023-11-01T00:00:00",
          "2023-11-02T00:00:00",
          "2023-11-03T00:00:00",
          "2023-11-04T00:00:00",
          "2023-11-05T00:00:00",
          "2023-11-06T00:00:00",
          "2023-11-07T00:00:00",
          "2023-11-08T00:00:00",
          "2023-11-09T00:00:00",
          "2023-11-10T00:00:00",
          "2023-11-11T00:00:00",
          "2023-11-12T00:00:00",
          "2023-11-13T00:00:00",
          "2023-11-14T00:00:00",
          "2023-11-15T00:00:00",
          "2023-11-16T00:00:00",
          "2023-11-17T00:00:00",
          "2023-11-18T00:00:00",
          "2023-11-19T00:00:00",
          "2023-11-20T00:00:00",
          "2023-11-21T00:00:00",
          "2023-11-22T00:00:00",
          "2023-11-23T00:00:00",
          "2023-11-24T00:00:00",
          "2023-11-25T00:00:00",
          "2023-11-26T00:00:00",
          "2023-11-27T00:00:00",
          "2023-11-28T00:00:00",
          "2023-11-29T00:00:00",
          "2023-11-30T00:00:00",
          "2023-12-01T00:00:00",
          "2023-12-02T00:00:00",
          "2023-12-03T00:00:00",
          "2023-12-04T00:00:00",
          "2023-12-05T00:00:00",
          "2023-12-06T00:00:00",
          "2023-12-07T00:00:00",
          "2023-12-08T00:00:00",
          "2023-12-09T00:00:00",
          "2023-12-10T00:00:00",
          "2023-12-11T00:00:00",
          "2023-12-12T00:00:00",
          "2023-12-13T00:00:00",
          "2023-12-14T00:00:00",
          "2023-12-15T00:00:00",
          "2023-12-16T00:00:00",
          "2023-12-17T00:00:00",
          "2023-12-18T00:00:00",
          "2023-12-19T00:00:00",
          "2023-12-20T00:00:00",
          "2023-12-21T00:00:00",
          "2023-12-22T00:00:00",
          "2023-12-23T00:00:00",
          "2023-12-24T00:00:00",
          "2023-12-25T00:00:00",
          "2023-12-26T00:00:00",
          "2023-12-27T00:00:00",
          "2023-12-28T00:00:00",
          "2023-12-29T00:00:00",
          "2023-12-30T00:00:00",
          "2023-12-31T00:00:00",
          "2024-01-01T00:00:00",
          "2024-01-02T00:00:00",
          "2024-01-03T00:00:00",
          "2024-01-04T00:00:00",
          "2024-01-05T00:00:00",
          "2024-01-06T00:00:00",
          "2024-01-07T00:00:00",
          "2024-01-08T00:00:00",
          "2024-01-09T00:00:00",
          "2024-01-10T00:00:00",
          "2024-01-11T00:00:00",
          "2024-01-12T00:00:00",
          "2024-01-13T00:00:00",
          "2024-01-14T00:00:00",
          "2024-01-15T00:00:00",
          "2024-01-16T00:00:00",
          "2024-01-17T00:00:00",
          "2024-01-18T00:00:00",
          "2024-01-19T00:00:00",
          "2024-01-20T00:00:00",
          "2024-01-21T00:00:00",
          "2024-01-22T00:00:00",
          "2024-01-23T00:00:00",
          "2024-01-24T00:00:00",
          "2024-01-25T00:00:00",
          "2024-01-26T00:00:00",
          "2024-01-27T00:00:00",
          "2024-01-28T00:00:00",
          "2024-01-29T00:00:00",
          "2024-01-30T00:00:00",
          "2024-01-31T00:00:00",
          "2024-02-01T00:00:00",
          "2024-02-02T00:00:00",
          "2024-02-03T00:00:00",
          "2024-02-04T00:00:00",
          "2024-02-05T00:00:00",
          "2024-02-06T00:00:00",
          "2024-02-07T00:00:00",
          "2024-02-08T00:00:00",
          "2024-02-09T00:00:00",
          "2024-02-10T00:00:00",
          "2024-02-11T00:00:00",
          "2024-02-12T00:00:00",
          "2024-02-13T00:00:00",
          "2024-02-14T00:00:00",
          "2024-02-15T00:00:00",
          "2024-02-16T00:00:00",
          "2024-02-17T00:00:00",
          "2024-02-18T00:00:00",
          "2024-02-19T00:00:00",
          "2024-02-20T00:00:00",
          "2024-02-21T00:00:00",
          "2024-02-22T00:00:00",
          "2024-02-23T00:00:00",
          "2024-02-24T00:00:00",
          "2024-02-25T00:00:00",
          "2024-02-26T00:00:00",
          "2024-02-27T00:00:00",
          "2024-02-28T00:00:00",
          "2024-02-29T00:00:00",
          "2024-03-01T00:00:00",
          "2024-03-02T00:00:00",
          "2024-03-03T00:00:00",
          "2024-03-04T00:00:00",
          "2024-03-05T00:00:00",
          "2024-03-06T00:00:00",
          "2024-03-07T00:00:00",
          "2024-03-08T00:00:00",
          "2024-03-09T00:00:00",
          "2024-03-10T00:00:00",
          "2024-03-11T00:00:00",
          "2024-03-12T00:00:00",
          "2024-03-13T00:00:00",
          "2024-03-14T00:00:00",
          "2024-03-15T00:00:00",
          "2024-03-16T00:00:00",
          "2024-03-17T00:00:00",
          "2024-03-18T00:00:00",
          "2024-03-19T00:00:00",
          "2024-03-20T00:00:00",
          "2024-03-21T00:00:00",
          "2024-03-22T00:00:00",
          "2024-03-23T00:00:00",
          "2024-03-24T00:00:00",
          "2024-03-25T00:00:00",
          "2024-03-26T00:00:00",
          "2024-03-27T00:00:00",
          "2024-03-28T00:00:00",
          "2024-03-29T00:00:00",
          "2024-03-30T00:00:00",
          "2024-03-31T00:00:00",
          "2024-04-01T00:00:00",
          "2024-04-02T00:00:00",
          "2024-04-03T00:00:00",
          "2024-04-04T00:00:00",
          "2024-04-05T00:00:00",
          "2024-04-06T00:00:00",
          "2024-04-07T00:00:00",
          "2024-04-08T00:00:00",
          "2024-04-09T00:00:00",
          "2024-04-10T00:00:00",
          "2024-04-11T00:00:00",
          "2024-04-12T00:00:00",
          "2024-04-13T00:00:00",
          "2024-04-14T00:00:00",
          "2024-04-15T00:00:00",
          "2024-04-16T00:00:00",
          "2024-04-17T00:00:00",
          "2024-04-18T00:00:00",
          "2024-04-19T00:00:00",
          "2024-04-20T00:00:00",
          "2024-04-21T00:00:00",
          "2024-04-22T00:00:00",
          "2024-04-23T00:00:00",
          "2024-04-24T00:00:00",
          "2024-04-25T00:00:00",
          "2024-04-26T00:00:00",
          "2024-04-27T00:00:00",
          "2024-04-28T00:00:00",
          "2024-04-29T00:00:00",
          "2024-04-30T00:00:00",
          "2024-05-01T00:00:00",
          "2024-05-02T00:00:00",
          "2024-05-03T00:00:00",
          "2024-05-04T00:00:00",
          "2024-05-05T00:00:00",
          "2024-05-06T00:00:00",
          "2024-05-07T00:00:00",
          "2024-05-08T00:00:00",
          "2024-05-09T00:00:00",
          "2024-05-10T00:00:00",
          "2024-05-11T00:00:00",
          "2024-05-12T00:00:00",
          "2024-05-13T00:00:00",
          "2024-05-14T00:00:00",
          "2024-05-15T00:00:00",
          "2024-05-16T00:00:00",
          "2024-05-17T00:00:00",
          "2024-05-18T00:00:00",
          "2024-05-19T00:00:00",
          "2024-05-20T00:00:00",
          "2024-05-21T00:00:00",
          "2024-05-22T00:00:00",
          "2024-05-23T00:00:00",
          "2024-05-24T00:00:00",
          "2024-05-25T00:00:00",
          "2024-05-26T00:00:00",
          "2024-05-27T00:00:00",
          "2024-05-28T00:00:00",
          "2024-05-29T00:00:00",
          "2024-05-30T00:00:00",
          "2024-05-31T00:00:00",
          "2024-06-01T00:00:00",
          "2024-06-02T00:00:00",
          "2024-06-03T00:00:00",
          "2024-06-04T00:00:00",
          "2024-06-05T00:00:00",
          "2024-06-06T00:00:00",
          "2024-06-07T00:00:00",
          "2024-06-08T00:00:00",
          "2024-06-09T00:00:00",
          "2024-06-10T00:00:00",
          "2024-06-11T00:00:00",
          "2024-06-12T00:00:00",
          "2024-06-13T00:00:00",
          "2024-06-14T00:00:00",
          "2024-06-15T00:00:00",
          "2024-06-16T00:00:00",
          "2024-06-17T00:00:00",
          "2024-06-18T00:00:00",
          "2024-06-19T00:00:00",
          "2024-06-20T00:00:00",
          "2024-06-21T00:00:00",
          "2024-06-22T00:00:00",
          "2024-06-23T00:00:00",
          "2024-06-24T00:00:00",
          "2024-06-25T00:00:00",
          "2024-06-26T00:00:00",
          "2024-06-27T00:00:00",
          "2024-06-28T00:00:00",
          "2024-06-29T00:00:00",
          "2024-06-30T00:00:00",
          "2024-07-01T00:00:00",
          "2024-07-02T00:00:00",
          "2024-07-03T00:00:00",
          "2024-07-04T00:00:00",
          "2024-07-05T00:00:00",
          "2024-07-06T00:00:00",
          "2024-07-07T00:00:00",
          "2024-07-08T00:00:00",
          "2024-07-09T00:00:00",
          "2024-07-10T00:00:00",
          "2024-07-11T00:00:00",
          "2024-07-12T00:00:00",
          "2024-07-13T00:00:00",
          "2024-07-14T00:00:00",
          "2024-07-15T00:00:00",
          "2024-07-16T00:00:00",
          "2024-07-17T00:00:00",
          "2024-07-18T00:00:00",
          "2024-07-19T00:00:00",
          "2024-07-20T00:00:00",
          "2024-07-21T00:00:00",
          "2024-07-22T00:00:00",
          "2024-07-23T00:00:00",
          "2024-07-24T00:00:00",
          "2024-07-25T00:00:00",
          "2024-07-26T00:00:00",
          "2024-07-27T00:00:00",
          "2024-07-28T00:00:00",
          "2024-07-29T00:00:00",
          "2024-07-30T00:00:00",
          "2024-07-31T00:00:00",
          "2024-08-01T00:00:00",
          "2024-08-02T00:00:00",
          "2024-08-03T00:00:00",
          "2024-08-04T00:00:00",
          "2024-08-05T00:00:00",
          "2024-08-06T00:00:00",
          "2024-08-07T00:00:00",
          "2024-08-08T00:00:00",
          "2024-08-09T00:00:00",
          "2024-08-10T00:00:00",
          "2024-08-11T00:00:00",
          "2024-08-12T00:00:00",
          "2024-08-13T00:00:00",
          "2024-08-14T00:00:00",
          "2024-08-15T00:00:00",
          "2024-08-16T00:00:00",
          "2024-08-17T00:00:00",
          "2024-08-18T00:00:00",
          "2024-08-19T00:00:00",
          "2024-08-20T00:00:00",
          "2024-08-21T00:00:00",
          "2024-08-22T00:00:00",
          "2024-08-23T00:00:00",
          "2024-08-24T00:00:00",
          "2024-08-25T00:00:00",
          "2024-08-26T00:00:00",
          "2024-08-27T00:00:00",
          "2024-08-28T00:00:00",
          "2024-08-29T00:00:00",
          "2024-08-30T00:00:00",
          "2024-08-31T00:00:00",
          "2024-09-01T00:00:00",
          "2024-09-02T00:00:00",
          "2024-09-03T00:00:00",
          "2024-09-04T00:00:00",
          "2024-09-05T00:00:00",
          "2024-09-06T00:00:00",
          "2024-09-07T00:00:00",
          "2024-09-08T00:00:00",
          "2024-09-09T00:00:00",
          "2024-09-10T00:00:00",
          "2024-09-11T00:00:00",
          "2024-09-12T00:00:00",
          "2024-09-13T00:00:00",
          "2024-09-14T00:00:00",
          "2024-09-15T00:00:00",
          "2024-09-16T00:00:00",
          "2024-09-17T00:00:00",
          "2024-09-18T00:00:00",
          "2024-09-19T00:00:00",
          "2024-09-20T00:00:00",
          "2024-09-21T00:00:00",
          "2024-09-22T00:00:00",
          "2024-09-23T00:00:00",
          "2024-09-24T00:00:00",
          "2024-09-25T00:00:00",
          "2024-09-26T00:00:00",
          "2024-09-27T00:00:00",
          "2024-09-28T00:00:00",
          "2024-09-29T00:00:00",
          "2024-09-30T00:00:00",
          "2024-10-01T00:00:00",
          "2024-10-02T00:00:00",
          "2024-10-03T00:00:00",
          "2024-10-04T00:00:00",
          "2024-10-05T00:00:00",
          "2024-10-06T00:00:00",
          "2024-10-07T00:00:00",
          "2024-10-08T00:00:00",
          "2024-10-09T00:00:00",
          "2024-10-10T00:00:00",
          "2024-10-11T00:00:00",
          "2024-10-12T00:00:00",
          "2024-10-13T00:00:00",
          "2024-10-14T00:00:00",
          "2024-10-15T00:00:00",
          "2024-10-16T00:00:00",
          "2024-10-17T00:00:00",
          "2024-10-18T00:00:00",
          "2024-10-19T00:00:00",
          "2024-10-20T00:00:00",
          "2024-10-21T00:00:00",
          "2024-10-22T00:00:00",
          "2024-10-23T00:00:00",
          "2024-10-24T00:00:00",
          "2024-10-25T00:00:00",
          "2024-10-26T00:00:00",
          "2024-10-27T00:00:00",
          "2024-10-28T00:00:00",
          "2024-10-29T00:00:00",
          "2024-10-30T00:00:00",
          "2024-10-31T00:00:00",
          "2024-11-01T00:00:00",
          "2024-11-02T00:00:00",
          "2024-11-03T00:00:00",
          "2024-11-04T00:00:00",
          "2024-11-05T00:00:00",
          "2024-11-06T00:00:00",
          "2024-11-07T00:00:00",
          "2024-11-08T00:00:00",
          "2024-11-09T00:00:00",
          "2024-11-10T00:00:00",
          "2024-11-11T00:00:00",
          "2024-11-12T00:00:00",
          "2024-11-13T00:00:00",
          "2024-11-14T00:00:00",
          "2024-11-15T00:00:00",
          "2024-11-16T00:00:00",
          "2024-11-17T00:00:00",
          "2024-11-18T00:00:00",
          "2024-11-19T00:00:00",
          "2024-11-20T00:00:00",
          "2024-11-21T00:00:00",
          "2024-11-22T00:00:00",
          "2024-11-23T00:00:00",
          "2024-11-24T00:00:00",
          "2024-11-25T00:00:00",
          "2024-11-26T00:00:00",
          "2024-11-27T00:00:00",
          "2024-11-28T00:00:00",
          "2024-11-29T00:00:00",
          "2024-11-30T00:00:00",
          "2024-12-01T00:00:00",
          "2024-12-02T00:00:00",
          "2024-12-03T00:00:00",
          "2024-12-04T00:00:00",
          "2024-12-05T00:00:00",
          "2024-12-06T00:00:00",
          "2024-12-07T00:00:00",
          "2024-12-08T00:00:00",
          "2024-12-09T00:00:00",
          "2024-12-10T00:00:00",
          "2024-12-11T00:00:00",
          "2024-12-12T00:00:00",
          "2024-12-13T00:00:00",
          "2024-12-14T00:00:00",
          "2024-12-15T00:00:00",
          "2024-12-16T00:00:00",
          "2024-12-17T00:00:00",
          "2024-12-18T00:00:00",
          "2024-12-19T00:00:00",
          "2024-12-20T00:00:00",
          "2024-12-21T00:00:00",
          "2024-12-22T00:00:00",
          "2024-12-23T00:00:00",
          "2024-12-24T00:00:00",
          "2024-12-25T00:00:00",
          "2024-12-26T00:00:00",
          "2024-12-27T00:00:00",
          "2024-12-28T00:00:00",
          "2024-12-29T00:00:00",
          "2024-12-30T00:00:00",
          "2024-12-31T00:00:00",
          "2025-01-01T00:00:00",
          "2025-01-02T00:00:00",
          "2025-01-03T00:00:00",
          "2025-01-04T00:00:00",
          "2025-01-05T00:00:00",
          "2025-01-06T00:00:00",
          "2025-01-07T00:00:00",
          "2025-01-08T00:00:00",
          "2025-01-09T00:00:00",
          "2025-01-10T00:00:00",
          "2025-01-11T00:00:00",
          "2025-01-12T00:00:00",
          "2025-01-13T00:00:00",
          "2025-01-14T00:00:00",
          "2025-01-15T00:00:00",
          "2025-01-16T00:00:00",
          "2025-01-17T00:00:00",
          "2025-01-18T00:00:00",
          "2025-01-19T00:00:00",
          "2025-01-20T00:00:00",
          "2025-01-21T00:00:00",
          "2025-01-22T00:00:00",
          "2025-01-23T00:00:00",
          "2025-01-24T00:00:00",
          "2025-01-25T00:00:00",
          "2025-01-26T00:00:00",
          "2025-01-27T00:00:00",
          "2025-01-28T00:00:00",
          "2025-01-29T00:00:00",
          "2025-01-30T00:00:00",
          "2025-01-31T00:00:00",
          "2025-02-01T00:00:00",
          "2025-02-02T00:00:00",
          "2025-02-03T00:00:00",
          "2025-02-04T00:00:00",
          "2025-02-05T00:00:00",
          "2025-02-06T00:00:00",
          "2025-02-07T00:00:00",
          "2025-02-08T00:00:00",
          "2025-02-09T00:00:00",
          "2025-02-10T00:00:00",
          "2025-02-11T00:00:00",
          "2025-02-12T00:00:00",
          "2025-02-13T00:00:00",
          "2025-02-14T00:00:00",
          "2025-02-15T00:00:00",
          "2025-02-16T00:00:00",
          "2025-02-17T00:00:00",
          "2025-02-18T00:00:00",
          "2025-02-19T00:00:00",
          "2025-02-20T00:00:00",
          "2025-02-21T00:00:00",
          "2025-02-22T00:00:00",
          "2025-02-23T00:00:00",
          "2025-02-24T00:00:00",
          "2025-02-25T00:00:00",
          "2025-02-26T00:00:00",
          "2025-02-27T00:00:00",
          "2025-02-28T00:00:00",
          "2025-03-01T00:00:00",
          "2025-03-02T00:00:00",
          "2025-03-03T00:00:00",
          "2025-03-04T00:00:00",
          "2025-03-05T00:00:00",
          "2025-03-06T00:00:00",
          "2025-03-07T00:00:00",
          "2025-03-08T00:00:00",
          "2025-03-09T00:00:00",
          "2025-03-10T00:00:00",
          "2025-03-11T00:00:00",
          "2025-03-12T00:00:00",
          "2025-03-13T00:00:00",
          "2025-03-14T00:00:00",
          "2025-03-15T00:00:00",
          "2025-03-16T00:00:00",
          "2025-03-17T00:00:00",
          "2025-03-18T00:00:00",
          "2025-03-19T00:00:00",
          "2025-03-20T00:00:00",
          "2025-03-21T00:00:00",
          "2025-03-22T00:00:00",
          "2025-03-23T00:00:00",
          "2025-03-24T00:00:00",
          "2025-03-25T00:00:00",
          "2025-03-26T00:00:00",
          "2025-03-27T00:00:00",
          "2025-03-28T00:00:00",
          "2025-03-29T00:00:00",
          "2025-03-30T00:00:00",
          "2025-03-31T00:00:00",
          "2025-04-01T00:00:00",
          "2025-04-02T00:00:00",
          "2025-04-03T00:00:00",
          "2025-04-04T00:00:00",
          "2025-04-05T00:00:00",
          "2025-04-06T00:00:00",
          "2025-04-07T00:00:00",
          "2025-04-08T00:00:00",
          "2025-04-09T00:00:00",
          "2025-04-10T00:00:00",
          "2025-04-11T00:00:00",
          "2025-04-12T00:00:00",
          "2025-04-13T00:00:00",
          "2025-04-14T00:00:00",
          "2025-04-15T00:00:00",
          "2025-04-16T00:00:00",
          "2025-04-17T00:00:00",
          "2025-04-18T00:00:00",
          "2025-04-19T00:00:00",
          "2025-04-20T00:00:00",
          "2025-04-21T00:00:00",
          "2025-04-22T00:00:00",
          "2025-04-23T00:00:00",
          "2025-04-24T00:00:00",
          "2025-04-25T00:00:00",
          "2025-04-26T00:00:00",
          "2025-04-27T00:00:00",
          "2025-04-28T00:00:00",
          "2025-04-29T00:00:00",
          "2025-04-30T00:00:00",
          "2025-05-01T00:00:00",
          "2025-05-02T00:00:00",
          "2025-05-03T00:00:00",
          "2025-05-04T00:00:00",
          "2025-05-05T00:00:00",
          "2025-05-06T00:00:00",
          "2025-05-07T00:00:00",
          "2025-05-08T00:00:00",
          "2025-05-09T00:00:00",
          "2025-05-10T00:00:00",
          "2025-05-11T00:00:00",
          "2025-05-12T00:00:00",
          "2025-05-13T00:00:00",
          "2025-05-14T00:00:00",
          "2025-05-15T00:00:00",
          "2025-05-16T00:00:00",
          "2025-05-17T00:00:00",
          "2025-05-18T00:00:00",
          "2025-05-19T00:00:00",
          "2025-05-20T00:00:00",
          "2025-05-21T00:00:00",
          "2025-05-22T00:00:00",
          "2025-05-23T00:00:00",
          "2025-05-24T00:00:00",
          "2025-05-25T00:00:00",
          "2025-05-26T00:00:00",
          "2025-05-27T00:00:00",
          "2025-05-28T00:00:00",
          "2025-05-29T00:00:00",
          "2025-05-30T00:00:00",
          "2025-05-31T00:00:00",
          "2025-06-01T00:00:00",
          "2025-06-02T00:00:00",
          "2025-06-03T00:00:00",
          "2025-06-04T00:00:00",
          "2025-06-05T00:00:00",
          "2025-06-06T00:00:00",
          "2025-06-07T00:00:00",
          "2025-06-08T00:00:00",
          "2025-06-09T00:00:00",
          "2025-06-10T00:00:00",
          "2025-06-11T00:00:00",
          "2025-06-12T00:00:00",
          "2025-06-13T00:00:00",
          "2025-06-14T00:00:00",
          "2025-06-15T00:00:00",
          "2025-06-16T00:00:00",
          "2025-06-17T00:00:00",
          "2025-06-18T00:00:00",
          "2025-06-19T00:00:00",
          "2025-06-20T00:00:00",
          "2025-06-21T00:00:00",
          "2025-06-22T00:00:00",
          "2025-06-23T00:00:00",
          "2025-06-24T00:00:00",
          "2025-06-25T00:00:00",
          "2025-06-26T00:00:00",
          "2025-06-27T00:00:00",
          "2025-06-28T00:00:00",
          "2025-06-29T00:00:00",
          "2025-06-30T00:00:00",
          "2025-07-01T00:00:00",
          "2025-07-02T00:00:00",
          "2025-07-03T00:00:00",
          "2025-07-04T00:00:00",
          "2025-07-05T00:00:00",
          "2025-07-06T00:00:00",
          "2025-07-07T00:00:00",
          "2025-07-08T00:00:00",
          "2025-07-09T00:00:00",
          "2025-07-10T00:00:00",
          "2025-07-11T00:00:00",
          "2025-07-12T00:00:00",
          "2025-07-13T00:00:00",
          "2025-07-14T00:00:00",
          "2025-07-15T00:00:00",
          "2025-07-16T00:00:00",
          "2025-07-17T00:00:00",
          "2025-07-18T00:00:00",
          "2025-07-19T00:00:00",
          "2025-07-20T00:00:00",
          "2025-07-21T00:00:00",
          "2025-07-22T00:00:00",
          "2025-07-23T00:00:00",
          "2025-07-24T00:00:00",
          "2025-07-25T00:00:00",
          "2025-07-26T00:00:00",
          "2025-07-27T00:00:00",
          "2025-07-28T00:00:00",
          "2025-07-29T00:00:00",
          "2025-07-30T00:00:00",
          "2025-07-31T00:00:00"
         ],
         "xaxis": "x",
         "y": [
          378,
          441,
          484,
          443,
          427,
          423,
          456,
          375,
          448,
          420,
          430,
          429,
          381,
          375,
          366,
          406,
          428,
          437,
          484,
          403,
          441,
          353,
          468,
          409,
          373,
          383,
          407,
          377,
          412,
          424,
          337,
          320,
          425,
          414,
          386,
          410,
          466,
          440,
          398,
          450,
          420,
          384,
          432,
          468,
          428,
          439,
          458,
          415,
          400,
          389,
          477,
          451,
          458,
          385,
          427,
          403,
          369,
          460,
          433,
          373,
          424,
          438,
          433,
          400,
          473,
          488,
          472,
          437,
          417,
          396,
          411,
          442,
          405,
          377,
          468,
          371,
          398,
          372,
          447,
          420,
          415,
          432,
          423,
          400,
          412,
          539,
          471,
          409,
          450,
          491,
          455,
          410,
          458,
          464,
          401,
          410,
          351,
          456,
          336,
          479,
          477,
          400,
          446,
          451,
          444,
          447,
          486,
          447,
          446,
          417,
          443,
          480,
          427,
          488,
          468,
          482,
          450,
          440,
          374,
          380,
          503,
          439,
          432,
          457,
          412,
          407,
          387,
          465,
          401,
          403,
          393,
          417,
          386,
          371,
          495,
          406,
          426,
          453,
          447,
          455,
          427,
          490,
          448,
          470,
          402,
          424,
          444,
          426,
          420,
          491,
          470,
          442,
          441,
          420,
          397,
          495,
          471,
          427,
          467,
          455,
          376,
          449,
          452,
          413,
          435,
          493,
          444,
          407,
          390,
          482,
          487,
          506,
          480,
          457,
          464,
          362,
          450,
          471,
          428,
          460,
          481,
          481,
          387,
          552,
          405,
          481,
          515,
          456,
          472,
          483,
          506,
          462,
          426,
          465,
          461,
          437,
          454,
          496,
          485,
          467,
          480,
          480,
          415,
          451,
          505,
          478,
          456,
          489,
          457,
          459,
          388,
          446,
          469,
          412,
          435,
          441,
          426,
          415,
          494,
          448,
          486,
          490,
          467,
          469,
          423,
          496,
          417,
          471,
          502,
          445,
          445,
          438,
          440,
          430,
          472,
          396,
          447,
          443,
          448,
          500,
          475,
          460,
          473,
          450,
          408,
          393,
          416,
          479,
          440,
          433,
          434,
          439,
          427,
          467,
          444,
          446,
          448,
          443,
          462,
          445,
          487,
          497,
          417,
          415,
          429,
          440,
          431,
          433,
          470,
          414,
          432,
          458,
          439,
          433,
          473,
          469,
          405,
          404,
          396,
          441,
          390,
          485,
          490,
          456,
          467,
          419,
          421,
          515,
          462,
          462,
          516,
          457,
          444,
          434,
          456,
          529,
          469,
          474,
          402,
          448,
          413,
          449,
          430,
          389,
          403,
          426,
          434,
          421,
          431,
          464,
          428,
          439,
          401,
          408,
          403,
          464,
          529,
          412,
          365,
          426,
          379,
          441,
          407,
          497,
          485,
          377,
          281,
          421,
          424,
          417,
          431,
          398,
          411,
          389,
          394,
          424,
          472,
          441,
          459,
          416,
          458,
          454,
          511,
          465,
          465,
          446,
          401,
          447,
          444,
          406,
          420,
          524,
          497,
          434,
          463,
          466,
          429,
          374,
          263,
          421,
          448,
          442,
          432,
          436,
          360,
          377,
          382,
          416,
          402,
          451,
          390,
          386,
          395,
          424,
          400,
          398,
          493,
          445,
          378,
          312,
          342,
          345,
          410,
          384,
          400,
          387,
          371,
          408,
          409,
          411,
          441,
          476,
          416,
          441,
          431,
          413,
          415,
          423,
          498,
          422,
          526,
          413,
          417,
          427,
          426,
          406,
          410,
          506,
          433,
          410,
          430,
          452,
          478,
          413,
          455,
          402,
          436,
          434,
          456,
          413,
          425,
          480,
          433,
          405,
          377,
          466,
          440,
          393,
          447,
          438,
          434,
          449,
          458,
          449,
          381,
          445,
          435,
          445,
          444,
          462,
          455,
          436,
          468,
          437,
          443,
          395,
          456,
          447,
          389,
          430,
          490,
          442,
          385,
          515,
          425,
          368,
          442,
          441,
          411,
          467,
          473,
          473,
          474,
          400,
          433,
          473,
          475,
          469,
          501,
          476,
          530,
          479,
          429,
          442,
          481,
          470,
          409,
          420,
          474,
          445,
          403,
          490,
          424,
          457,
          488,
          455,
          365,
          400,
          440,
          494,
          417,
          469,
          441,
          456,
          389,
          429,
          383,
          398,
          460,
          401,
          366,
          419,
          437,
          408,
          374,
          410,
          438,
          409,
          414,
          455,
          364,
          453,
          405,
          450,
          419,
          414,
          484,
          423,
          463,
          456,
          460,
          432,
          446,
          444,
          431,
          412,
          450,
          460,
          448,
          427,
          472,
          422,
          443,
          455,
          418,
          354,
          416,
          441,
          465,
          398,
          457,
          458,
          404,
          435,
          434,
          408,
          430,
          471,
          414,
          500,
          359,
          405,
          442,
          382,
          528,
          461,
          435,
          440,
          437,
          404,
          436,
          513,
          483,
          411,
          408,
          437,
          387,
          416,
          474,
          510,
          448,
          429,
          445,
          467,
          390,
          451,
          496,
          426,
          454,
          439,
          459,
          409,
          515,
          413,
          435,
          392,
          445,
          435,
          466,
          449,
          496,
          472,
          413,
          418,
          487,
          434,
          425,
          411,
          415,
          399,
          412,
          424,
          427,
          430,
          447,
          428,
          399,
          408,
          409,
          395,
          366,
          414,
          415,
          375,
          426,
          405,
          454,
          462,
          438,
          395,
          392,
          443,
          396,
          503,
          476,
          471,
          432,
          450,
          469,
          516,
          474,
          485,
          439,
          392,
          371,
          425,
          431,
          447,
          443,
          403,
          417,
          399,
          437,
          398,
          391,
          484,
          431,
          366,
          367,
          394,
          424,
          369,
          469,
          421,
          450,
          377,
          372,
          366,
          421,
          461,
          366,
          411,
          332,
          335,
          344,
          391,
          448,
          343,
          405,
          377,
          427,
          360,
          414,
          366,
          370,
          376,
          405,
          386,
          370,
          335,
          385,
          355,
          357,
          377,
          367,
          355,
          450,
          331,
          376,
          347,
          400,
          363,
          391,
          386,
          450,
          418,
          385,
          254,
          313,
          334,
          328,
          408,
          384,
          326,
          397,
          378,
          341,
          332,
          455,
          389,
          404,
          339,
          369,
          370,
          398,
          448,
          388,
          368,
          361,
          365,
          379,
          362,
          378,
          356,
          240,
          398,
          405,
          434,
          389,
          403,
          340,
          335,
          371,
          435,
          388,
          399,
          378,
          331,
          352,
          294,
          363,
          318,
          283,
          442,
          317,
          371,
          379,
          363,
          365,
          338,
          318,
          281,
          377,
          382,
          358,
          378,
          350,
          434,
          373,
          343,
          377,
          375,
          352,
          383,
          380,
          398,
          369,
          348,
          385,
          407,
          321,
          433,
          380,
          358,
          406,
          311,
          400,
          421,
          395,
          390,
          361,
          317,
          388,
          271,
          331,
          414,
          356,
          346,
          356,
          390,
          408,
          410,
          404,
          386,
          416,
          355,
          387,
          346,
          298,
          386,
          359,
          403,
          398,
          389,
          421,
          335,
          405,
          439,
          407,
          423,
          355,
          368,
          395,
          430,
          435,
          347,
          367,
          346,
          400,
          402,
          395,
          391,
          385,
          364,
          375,
          358,
          389,
          411,
          367,
          394,
          365,
          394,
          338,
          305,
          373,
          373,
          368,
          415,
          386,
          384,
          307,
          366,
          409,
          388,
          366,
          413,
          397,
          352,
          431,
          392,
          313,
          355,
          324,
          349,
          380,
          380,
          407,
          391,
          368,
          355,
          386,
          359,
          440,
          409,
          423,
          393,
          363,
          399,
          375,
          421,
          424,
          392,
          366,
          371,
          384,
          380,
          353,
          438,
          400,
          413,
          428,
          402,
          399,
          464,
          389,
          421,
          418,
          375,
          365,
          389,
          420,
          380,
          373,
          339,
          360,
          424,
          308,
          376,
          408,
          343,
          365,
          387,
          382,
          375,
          494,
          388,
          431,
          370,
          373,
          333,
          362,
          418,
          414,
          398,
          373,
          329,
          394,
          377,
          440,
          462,
          369,
          412,
          378,
          361,
          340,
          392,
          443,
          403,
          350,
          390,
          389,
          353,
          396,
          441,
          396,
          389,
          367,
          440,
          364,
          430,
          394,
          383,
          438
         ],
         "yaxis": "y"
        }
       ],
       "layout": {
        "legend": {
         "tracegroupgap": 0
        },
        "template": {
         "data": {
          "bar": [
           {
            "error_x": {
             "color": "#2a3f5f"
            },
            "error_y": {
             "color": "#2a3f5f"
            },
            "marker": {
             "line": {
              "color": "#E5ECF6",
              "width": 0.5
             },
             "pattern": {
              "fillmode": "overlay",
              "size": 10,
              "solidity": 0.2
             }
            },
            "type": "bar"
           }
          ],
          "barpolar": [
           {
            "marker": {
             "line": {
              "color": "#E5ECF6",
              "width": 0.5
             },
             "pattern": {
              "fillmode": "overlay",
              "size": 10,
              "solidity": 0.2
             }
            },
            "type": "barpolar"
           }
          ],
          "carpet": [
           {
            "aaxis": {
             "endlinecolor": "#2a3f5f",
             "gridcolor": "white",
             "linecolor": "white",
             "minorgridcolor": "white",
             "startlinecolor": "#2a3f5f"
            },
            "baxis": {
             "endlinecolor": "#2a3f5f",
             "gridcolor": "white",
             "linecolor": "white",
             "minorgridcolor": "white",
             "startlinecolor": "#2a3f5f"
            },
            "type": "carpet"
           }
          ],
          "choropleth": [
           {
            "colorbar": {
             "outlinewidth": 0,
             "ticks": ""
            },
            "type": "choropleth"
           }
          ],
          "contour": [
           {
            "colorbar": {
             "outlinewidth": 0,
             "ticks": ""
            },
            "colorscale": [
             [
              0,
              "#0d0887"
             ],
             [
              0.1111111111111111,
              "#46039f"
             ],
             [
              0.2222222222222222,
              "#7201a8"
             ],
             [
              0.3333333333333333,
              "#9c179e"
             ],
             [
              0.4444444444444444,
              "#bd3786"
             ],
             [
              0.5555555555555556,
              "#d8576b"
             ],
             [
              0.6666666666666666,
              "#ed7953"
             ],
             [
              0.7777777777777778,
              "#fb9f3a"
             ],
             [
              0.8888888888888888,
              "#fdca26"
             ],
             [
              1,
              "#f0f921"
             ]
            ],
            "type": "contour"
           }
          ],
          "contourcarpet": [
           {
            "colorbar": {
             "outlinewidth": 0,
             "ticks": ""
            },
            "type": "contourcarpet"
           }
          ],
          "heatmap": [
           {
            "colorbar": {
             "outlinewidth": 0,
             "ticks": ""
            },
            "colorscale": [
             [
              0,
              "#0d0887"
             ],
             [
              0.1111111111111111,
              "#46039f"
             ],
             [
              0.2222222222222222,
              "#7201a8"
             ],
             [
              0.3333333333333333,
              "#9c179e"
             ],
             [
              0.4444444444444444,
              "#bd3786"
             ],
             [
              0.5555555555555556,
              "#d8576b"
             ],
             [
              0.6666666666666666,
              "#ed7953"
             ],
             [
              0.7777777777777778,
              "#fb9f3a"
             ],
             [
              0.8888888888888888,
              "#fdca26"
             ],
             [
              1,
              "#f0f921"
             ]
            ],
            "type": "heatmap"
           }
          ],
          "heatmapgl": [
           {
            "colorbar": {
             "outlinewidth": 0,
             "ticks": ""
            },
            "colorscale": [
             [
              0,
              "#0d0887"
             ],
             [
              0.1111111111111111,
              "#46039f"
             ],
             [
              0.2222222222222222,
              "#7201a8"
             ],
             [
              0.3333333333333333,
              "#9c179e"
             ],
             [
              0.4444444444444444,
              "#bd3786"
             ],
             [
              0.5555555555555556,
              "#d8576b"
             ],
             [
              0.6666666666666666,
              "#ed7953"
             ],
             [
              0.7777777777777778,
              "#fb9f3a"
             ],
             [
              0.8888888888888888,
              "#fdca26"
             ],
             [
              1,
              "#f0f921"
             ]
            ],
            "type": "heatmapgl"
           }
          ],
          "histogram": [
           {
            "marker": {
             "pattern": {
              "fillmode": "overlay",
              "size": 10,
              "solidity": 0.2
             }
            },
            "type": "histogram"
           }
          ],
          "histogram2d": [
           {
            "colorbar": {
             "outlinewidth": 0,
             "ticks": ""
            },
            "colorscale": [
             [
              0,
              "#0d0887"
             ],
             [
              0.1111111111111111,
              "#46039f"
             ],
             [
              0.2222222222222222,
              "#7201a8"
             ],
             [
              0.3333333333333333,
              "#9c179e"
             ],
             [
              0.4444444444444444,
              "#bd3786"
             ],
             [
              0.5555555555555556,
              "#d8576b"
             ],
             [
              0.6666666666666666,
              "#ed7953"
             ],
             [
              0.7777777777777778,
              "#fb9f3a"
             ],
             [
              0.8888888888888888,
              "#fdca26"
             ],
             [
              1,
              "#f0f921"
             ]
            ],
            "type": "histogram2d"
           }
          ],
          "histogram2dcontour": [
           {
            "colorbar": {
             "outlinewidth": 0,
             "ticks": ""
            },
            "colorscale": [
             [
              0,
              "#0d0887"
             ],
             [
              0.1111111111111111,
              "#46039f"
             ],
             [
              0.2222222222222222,
              "#7201a8"
             ],
             [
              0.3333333333333333,
              "#9c179e"
             ],
             [
              0.4444444444444444,
              "#bd3786"
             ],
             [
              0.5555555555555556,
              "#d8576b"
             ],
             [
              0.6666666666666666,
              "#ed7953"
             ],
             [
              0.7777777777777778,
              "#fb9f3a"
             ],
             [
              0.8888888888888888,
              "#fdca26"
             ],
             [
              1,
              "#f0f921"
             ]
            ],
            "type": "histogram2dcontour"
           }
          ],
          "mesh3d": [
           {
            "colorbar": {
             "outlinewidth": 0,
             "ticks": ""
            },
            "type": "mesh3d"
           }
          ],
          "parcoords": [
           {
            "line": {
             "colorbar": {
              "outlinewidth": 0,
              "ticks": ""
             }
            },
            "type": "parcoords"
           }
          ],
          "pie": [
           {
            "automargin": true,
            "type": "pie"
           }
          ],
          "scatter": [
           {
            "fillpattern": {
             "fillmode": "overlay",
             "size": 10,
             "solidity": 0.2
            },
            "type": "scatter"
           }
          ],
          "scatter3d": [
           {
            "line": {
             "colorbar": {
              "outlinewidth": 0,
              "ticks": ""
             }
            },
            "marker": {
             "colorbar": {
              "outlinewidth": 0,
              "ticks": ""
             }
            },
            "type": "scatter3d"
           }
          ],
          "scattercarpet": [
           {
            "marker": {
             "colorbar": {
              "outlinewidth": 0,
              "ticks": ""
             }
            },
            "type": "scattercarpet"
           }
          ],
          "scattergeo": [
           {
            "marker": {
             "colorbar": {
              "outlinewidth": 0,
              "ticks": ""
             }
            },
            "type": "scattergeo"
           }
          ],
          "scattergl": [
           {
            "marker": {
             "colorbar": {
              "outlinewidth": 0,
              "ticks": ""
             }
            },
            "type": "scattergl"
           }
          ],
          "scattermapbox": [
           {
            "marker": {
             "colorbar": {
              "outlinewidth": 0,
              "ticks": ""
             }
            },
            "type": "scattermapbox"
           }
          ],
          "scatterpolar": [
           {
            "marker": {
             "colorbar": {
              "outlinewidth": 0,
              "ticks": ""
             }
            },
            "type": "scatterpolar"
           }
          ],
          "scatterpolargl": [
           {
            "marker": {
             "colorbar": {
              "outlinewidth": 0,
              "ticks": ""
             }
            },
            "type": "scatterpolargl"
           }
          ],
          "scatterternary": [
           {
            "marker": {
             "colorbar": {
              "outlinewidth": 0,
              "ticks": ""
             }
            },
            "type": "scatterternary"
           }
          ],
          "surface": [
           {
            "colorbar": {
             "outlinewidth": 0,
             "ticks": ""
            },
            "colorscale": [
             [
              0,
              "#0d0887"
             ],
             [
              0.1111111111111111,
              "#46039f"
             ],
             [
              0.2222222222222222,
              "#7201a8"
             ],
             [
              0.3333333333333333,
              "#9c179e"
             ],
             [
              0.4444444444444444,
              "#bd3786"
             ],
             [
              0.5555555555555556,
              "#d8576b"
             ],
             [
              0.6666666666666666,
              "#ed7953"
             ],
             [
              0.7777777777777778,
              "#fb9f3a"
             ],
             [
              0.8888888888888888,
              "#fdca26"
             ],
             [
              1,
              "#f0f921"
             ]
            ],
            "type": "surface"
           }
          ],
          "table": [
           {
            "cells": {
             "fill": {
              "color": "#EBF0F8"
             },
             "line": {
              "color": "white"
             }
            },
            "header": {
             "fill": {
              "color": "#C8D4E3"
             },
             "line": {
              "color": "white"
             }
            },
            "type": "table"
           }
          ]
         },
         "layout": {
          "annotationdefaults": {
           "arrowcolor": "#2a3f5f",
           "arrowhead": 0,
           "arrowwidth": 1
          },
          "autotypenumbers": "strict",
          "coloraxis": {
           "colorbar": {
            "outlinewidth": 0,
            "ticks": ""
           }
          },
          "colorscale": {
           "diverging": [
            [
             0,
             "#8e0152"
            ],
            [
             0.1,
             "#c51b7d"
            ],
            [
             0.2,
             "#de77ae"
            ],
            [
             0.3,
             "#f1b6da"
            ],
            [
             0.4,
             "#fde0ef"
            ],
            [
             0.5,
             "#f7f7f7"
            ],
            [
             0.6,
             "#e6f5d0"
            ],
            [
             0.7,
             "#b8e186"
            ],
            [
             0.8,
             "#7fbc41"
            ],
            [
             0.9,
             "#4d9221"
            ],
            [
             1,
             "#276419"
            ]
           ],
           "sequential": [
            [
             0,
             "#0d0887"
            ],
            [
             0.1111111111111111,
             "#46039f"
            ],
            [
             0.2222222222222222,
             "#7201a8"
            ],
            [
             0.3333333333333333,
             "#9c179e"
            ],
            [
             0.4444444444444444,
             "#bd3786"
            ],
            [
             0.5555555555555556,
             "#d8576b"
            ],
            [
             0.6666666666666666,
             "#ed7953"
            ],
            [
             0.7777777777777778,
             "#fb9f3a"
            ],
            [
             0.8888888888888888,
             "#fdca26"
            ],
            [
             1,
             "#f0f921"
            ]
           ],
           "sequentialminus": [
            [
             0,
             "#0d0887"
            ],
            [
             0.1111111111111111,
             "#46039f"
            ],
            [
             0.2222222222222222,
             "#7201a8"
            ],
            [
             0.3333333333333333,
             "#9c179e"
            ],
            [
             0.4444444444444444,
             "#bd3786"
            ],
            [
             0.5555555555555556,
             "#d8576b"
            ],
            [
             0.6666666666666666,
             "#ed7953"
            ],
            [
             0.7777777777777778,
             "#fb9f3a"
            ],
            [
             0.8888888888888888,
             "#fdca26"
            ],
            [
             1,
             "#f0f921"
            ]
           ]
          },
          "colorway": [
           "#636efa",
           "#EF553B",
           "#00cc96",
           "#ab63fa",
           "#FFA15A",
           "#19d3f3",
           "#FF6692",
           "#B6E880",
           "#FF97FF",
           "#FECB52"
          ],
          "font": {
           "color": "#2a3f5f"
          },
          "geo": {
           "bgcolor": "white",
           "lakecolor": "white",
           "landcolor": "#E5ECF6",
           "showlakes": true,
           "showland": true,
           "subunitcolor": "white"
          },
          "hoverlabel": {
           "align": "left"
          },
          "hovermode": "closest",
          "mapbox": {
           "style": "light"
          },
          "paper_bgcolor": "white",
          "plot_bgcolor": "#E5ECF6",
          "polar": {
           "angularaxis": {
            "gridcolor": "white",
            "linecolor": "white",
            "ticks": ""
           },
           "bgcolor": "#E5ECF6",
           "radialaxis": {
            "gridcolor": "white",
            "linecolor": "white",
            "ticks": ""
           }
          },
          "scene": {
           "xaxis": {
            "backgroundcolor": "#E5ECF6",
            "gridcolor": "white",
            "gridwidth": 2,
            "linecolor": "white",
            "showbackground": true,
            "ticks": "",
            "zerolinecolor": "white"
           },
           "yaxis": {
            "backgroundcolor": "#E5ECF6",
            "gridcolor": "white",
            "gridwidth": 2,
            "linecolor": "white",
            "showbackground": true,
            "ticks": "",
            "zerolinecolor": "white"
           },
           "zaxis": {
            "backgroundcolor": "#E5ECF6",
            "gridcolor": "white",
            "gridwidth": 2,
            "linecolor": "white",
            "showbackground": true,
            "ticks": "",
            "zerolinecolor": "white"
           }
          },
          "shapedefaults": {
           "line": {
            "color": "#2a3f5f"
           }
          },
          "ternary": {
           "aaxis": {
            "gridcolor": "white",
            "linecolor": "white",
            "ticks": ""
           },
           "baxis": {
            "gridcolor": "white",
            "linecolor": "white",
            "ticks": ""
           },
           "bgcolor": "#E5ECF6",
           "caxis": {
            "gridcolor": "white",
            "linecolor": "white",
            "ticks": ""
           }
          },
          "title": {
           "x": 0.05
          },
          "xaxis": {
           "automargin": true,
           "gridcolor": "white",
           "linecolor": "white",
           "ticks": "",
           "title": {
            "standoff": 15
           },
           "zerolinecolor": "white",
           "zerolinewidth": 2
          },
          "yaxis": {
           "automargin": true,
           "gridcolor": "white",
           "linecolor": "white",
           "ticks": "",
           "title": {
            "standoff": 15
           },
           "zerolinecolor": "white",
           "zerolinewidth": 2
          }
         }
        },
        "title": {
         "text": "Crime in San Antonio 2023-2025"
        },
        "xaxis": {
         "anchor": "y",
         "domain": [
          0,
          1
         ],
         "title": {
          "text": "Report_Date"
         }
        },
        "yaxis": {
         "anchor": "x",
         "domain": [
          0,
          1
         ],
         "title": {
          "text": "count"
         }
        }
       }
      }
     },
     "metadata": {},
     "output_type": "display_data"
    }
   ],
   "source": [
    "import plotly.graph_objects as go\n",
    "\n",
    "fig = px.line(event_counts, x='Report_Date', y='count', title='Crime in San Antonio 2023-2025', markers=True)\n",
    "\n",
    "fig.show()"
   ]
  },
  {
   "cell_type": "markdown",
   "id": "95972b38",
   "metadata": {},
   "source": [
    "## Crime by months"
   ]
  },
  {
   "cell_type": "code",
   "execution_count": 17,
   "id": "ce1f2451",
   "metadata": {},
   "outputs": [
    {
     "data": {
      "text/html": [
       "<div>\n",
       "<style scoped>\n",
       "    .dataframe tbody tr th:only-of-type {\n",
       "        vertical-align: middle;\n",
       "    }\n",
       "\n",
       "    .dataframe tbody tr th {\n",
       "        vertical-align: top;\n",
       "    }\n",
       "\n",
       "    .dataframe thead th {\n",
       "        text-align: right;\n",
       "    }\n",
       "</style>\n",
       "<table border=\"1\" class=\"dataframe\">\n",
       "  <thead>\n",
       "    <tr style=\"text-align: right;\">\n",
       "      <th></th>\n",
       "      <th>_id</th>\n",
       "      <th>Report_ID</th>\n",
       "      <th>Report_Date</th>\n",
       "      <th>NIBRS_Code_Name</th>\n",
       "      <th>NIBRS_Crime_Against</th>\n",
       "      <th>Service_Area</th>\n",
       "      <th>NIBRS_Group</th>\n",
       "      <th>Zip_Code</th>\n",
       "      <th>DateTime</th>\n",
       "      <th>month</th>\n",
       "    </tr>\n",
       "  </thead>\n",
       "  <tbody>\n",
       "    <tr>\n",
       "      <th>0</th>\n",
       "      <td>1</td>\n",
       "      <td>45000634662</td>\n",
       "      <td>2023-03-05</td>\n",
       "      <td>Aggravated Assault</td>\n",
       "      <td>PERSON</td>\n",
       "      <td>CENTRAL</td>\n",
       "      <td>Assault Offenses</td>\n",
       "      <td>78201</td>\n",
       "      <td>2025-08-01</td>\n",
       "      <td>2023-03-05</td>\n",
       "    </tr>\n",
       "    <tr>\n",
       "      <th>1</th>\n",
       "      <td>2</td>\n",
       "      <td>53896892246</td>\n",
       "      <td>2024-01-25</td>\n",
       "      <td>Aggravated Assault</td>\n",
       "      <td>PERSON</td>\n",
       "      <td>WEST</td>\n",
       "      <td>Assault Offenses</td>\n",
       "      <td>78201</td>\n",
       "      <td>2025-08-01</td>\n",
       "      <td>2024-01-25</td>\n",
       "    </tr>\n",
       "    <tr>\n",
       "      <th>2</th>\n",
       "      <td>3</td>\n",
       "      <td>55602801987</td>\n",
       "      <td>2024-04-19</td>\n",
       "      <td>Aggravated Assault</td>\n",
       "      <td>PERSON</td>\n",
       "      <td>CENTRAL</td>\n",
       "      <td>Assault Offenses</td>\n",
       "      <td>78201</td>\n",
       "      <td>2025-08-01</td>\n",
       "      <td>2024-04-19</td>\n",
       "    </tr>\n",
       "    <tr>\n",
       "      <th>3</th>\n",
       "      <td>4</td>\n",
       "      <td>58290386300</td>\n",
       "      <td>2024-08-10</td>\n",
       "      <td>Aggravated Assault</td>\n",
       "      <td>PERSON</td>\n",
       "      <td>WEST</td>\n",
       "      <td>Assault Offenses</td>\n",
       "      <td>78201</td>\n",
       "      <td>2025-08-01</td>\n",
       "      <td>2024-08-10</td>\n",
       "    </tr>\n",
       "    <tr>\n",
       "      <th>4</th>\n",
       "      <td>5</td>\n",
       "      <td>63379733088</td>\n",
       "      <td>2025-03-28</td>\n",
       "      <td>Aggravated Assault</td>\n",
       "      <td>PERSON</td>\n",
       "      <td>CENTRAL</td>\n",
       "      <td>Assault Offenses</td>\n",
       "      <td>78201</td>\n",
       "      <td>2025-08-01</td>\n",
       "      <td>2025-03-28</td>\n",
       "    </tr>\n",
       "  </tbody>\n",
       "</table>\n",
       "</div>"
      ],
      "text/plain": [
       "   _id    Report_ID Report_Date     NIBRS_Code_Name NIBRS_Crime_Against  \\\n",
       "0    1  45000634662  2023-03-05  Aggravated Assault              PERSON   \n",
       "1    2  53896892246  2024-01-25  Aggravated Assault              PERSON   \n",
       "2    3  55602801987  2024-04-19  Aggravated Assault              PERSON   \n",
       "3    4  58290386300  2024-08-10  Aggravated Assault              PERSON   \n",
       "4    5  63379733088  2025-03-28  Aggravated Assault              PERSON   \n",
       "\n",
       "  Service_Area       NIBRS_Group Zip_Code    DateTime      month  \n",
       "0      CENTRAL  Assault Offenses    78201  2025-08-01 2023-03-05  \n",
       "1         WEST  Assault Offenses    78201  2025-08-01 2024-01-25  \n",
       "2      CENTRAL  Assault Offenses    78201  2025-08-01 2024-04-19  \n",
       "3         WEST  Assault Offenses    78201  2025-08-01 2024-08-10  \n",
       "4      CENTRAL  Assault Offenses    78201  2025-08-01 2025-03-28  "
      ]
     },
     "execution_count": 17,
     "metadata": {},
     "output_type": "execute_result"
    }
   ],
   "source": [
    "sa_crimes.head()"
   ]
  },
  {
   "cell_type": "code",
   "execution_count": 18,
   "id": "e7c88eff",
   "metadata": {},
   "outputs": [],
   "source": [
    "# Extract months for better interpretability\n",
    "sa_crimes['month'] = sa_crimes['Report_Date'].dt.month_name()"
   ]
  },
  {
   "cell_type": "code",
   "execution_count": 19,
   "id": "3dadba30",
   "metadata": {},
   "outputs": [
    {
     "data": {
      "image/png": "[encoded data removed]",
      "text/plain": [
       "<Figure size 1000x800 with 1 Axes>"
      ]
     },
     "metadata": {},
     "output_type": "display_data"
    }
   ],
   "source": [
    "month_order = ['January', 'February', 'March', 'April', 'May', 'June',\n",
    "               'July', 'August', 'September', 'October', 'November', 'December']\n",
    "\n",
    "event_counts = sa_crimes.groupby('month').size().reset_index(name='count')\n",
    "\n",
    "\n",
    "event_counts['month'] = pd.Categorical(event_counts['month'], \n",
    "                                       categories=month_order, \n",
    "                                       ordered=True)\n",
    "\n",
    "\n",
    "event_counts = event_counts.sort_values('month')\n",
    "\n",
    "plt.figure(figsize=(10,8))\n",
    "\n",
    "sns.lineplot(data=event_counts, x='month',y='count',marker='o')\n",
    "plt.xlabel('Month')\n",
    "plt.xticks(rotation=45)\n",
    "plt.ylabel('Number of Crimes Reported')\n",
    "plt.title('Time Series of Crimes in LA by months')\n",
    "plt.show()"
   ]
  },
  {
   "cell_type": "markdown",
   "id": "2a4b1766",
   "metadata": {},
   "source": [
    "## Bug\n",
    "\n",
    "I will have to split this by year since there is a clear down trend my guy "
   ]
  },
  {
   "cell_type": "markdown",
   "id": "cf09e307",
   "metadata": {},
   "source": [
    "# Crime by Days of the week\n"
   ]
  },
  {
   "cell_type": "code",
   "execution_count": 20,
   "id": "1ebfdf06",
   "metadata": {},
   "outputs": [],
   "source": [
    "# Extract months for better interpretability\n",
    "sa_crimes['Day'] = sa_crimes['Report_Date'].dt.day_name()"
   ]
  },
  {
   "cell_type": "code",
   "execution_count": 21,
   "id": "f7e26087",
   "metadata": {},
   "outputs": [
    {
     "data": {
      "image/png": "[encoded data removed]",
      "text/plain": [
       "<Figure size 1000x800 with 1 Axes>"
      ]
     },
     "metadata": {},
     "output_type": "display_data"
    }
   ],
   "source": [
    "# Define the correct weekday order\n",
    "weekday_order = ['Monday', 'Tuesday', 'Wednesday', 'Thursday', \n",
    "                 'Friday', 'Saturday', 'Sunday']\n",
    "\n",
    "# Convert to categorical with proper order\n",
    "sa_crimes['Day'] = pd.Categorical(sa_crimes['Day'], \n",
    "                                       categories=weekday_order, \n",
    "                                       ordered=True)\n",
    "\n",
    "plt.figure(figsize=(10,8))\n",
    "sns.histplot(data=sa_crimes, x='Day')\n",
    "plt.xlabel('Day of Week')\n",
    "plt.xticks(rotation=45)\n",
    "plt.ylabel('Number of Crimes Reported')\n",
    "plt.title('Crime Distribution by Day of Week')\n",
    "plt.show()"
   ]
  },
  {
   "cell_type": "code",
   "execution_count": null,
   "id": "6c967e91",
   "metadata": {},
   "outputs": [],
   "source": []
  },
  {
   "cell_type": "code",
   "execution_count": 43,
   "id": "61e3247c",
   "metadata": {},
   "outputs": [
    {
     "data": {
      "text/html": [
       "<div>\n",
       "<style scoped>\n",
       "    .dataframe tbody tr th:only-of-type {\n",
       "        vertical-align: middle;\n",
       "    }\n",
       "\n",
       "    .dataframe tbody tr th {\n",
       "        vertical-align: top;\n",
       "    }\n",
       "\n",
       "    .dataframe thead th {\n",
       "        text-align: right;\n",
       "    }\n",
       "</style>\n",
       "<table border=\"1\" class=\"dataframe\">\n",
       "  <thead>\n",
       "    <tr style=\"text-align: right;\">\n",
       "      <th></th>\n",
       "      <th>_id</th>\n",
       "      <th>Report_ID</th>\n",
       "      <th>Report_Date</th>\n",
       "      <th>NIBRS_Code_Name</th>\n",
       "      <th>NIBRS_Crime_Against</th>\n",
       "      <th>Service_Area</th>\n",
       "      <th>NIBRS_Group</th>\n",
       "      <th>Zip_Code</th>\n",
       "      <th>DateTime</th>\n",
       "      <th>month</th>\n",
       "      <th>Day</th>\n",
       "      <th>ZIP_LAT</th>\n",
       "      <th>ZIP_LON</th>\n",
       "    </tr>\n",
       "  </thead>\n",
       "  <tbody>\n",
       "    <tr>\n",
       "      <th>0</th>\n",
       "      <td>1</td>\n",
       "      <td>45000634662</td>\n",
       "      <td>2023-03-05</td>\n",
       "      <td>Aggravated Assault</td>\n",
       "      <td>PERSON</td>\n",
       "      <td>CENTRAL</td>\n",
       "      <td>Assault Offenses</td>\n",
       "      <td>78201</td>\n",
       "      <td>2025-08-01</td>\n",
       "      <td>March</td>\n",
       "      <td>Sunday</td>\n",
       "      <td>29.4167</td>\n",
       "      <td>-98.4722</td>\n",
       "    </tr>\n",
       "    <tr>\n",
       "      <th>1</th>\n",
       "      <td>2</td>\n",
       "      <td>53896892246</td>\n",
       "      <td>2024-01-25</td>\n",
       "      <td>Aggravated Assault</td>\n",
       "      <td>PERSON</td>\n",
       "      <td>WEST</td>\n",
       "      <td>Assault Offenses</td>\n",
       "      <td>78201</td>\n",
       "      <td>2025-08-01</td>\n",
       "      <td>January</td>\n",
       "      <td>Thursday</td>\n",
       "      <td>29.4167</td>\n",
       "      <td>-98.4722</td>\n",
       "    </tr>\n",
       "    <tr>\n",
       "      <th>2</th>\n",
       "      <td>3</td>\n",
       "      <td>55602801987</td>\n",
       "      <td>2024-04-19</td>\n",
       "      <td>Aggravated Assault</td>\n",
       "      <td>PERSON</td>\n",
       "      <td>CENTRAL</td>\n",
       "      <td>Assault Offenses</td>\n",
       "      <td>78201</td>\n",
       "      <td>2025-08-01</td>\n",
       "      <td>April</td>\n",
       "      <td>Friday</td>\n",
       "      <td>29.4167</td>\n",
       "      <td>-98.4722</td>\n",
       "    </tr>\n",
       "    <tr>\n",
       "      <th>3</th>\n",
       "      <td>4</td>\n",
       "      <td>58290386300</td>\n",
       "      <td>2024-08-10</td>\n",
       "      <td>Aggravated Assault</td>\n",
       "      <td>PERSON</td>\n",
       "      <td>WEST</td>\n",
       "      <td>Assault Offenses</td>\n",
       "      <td>78201</td>\n",
       "      <td>2025-08-01</td>\n",
       "      <td>August</td>\n",
       "      <td>Saturday</td>\n",
       "      <td>29.4167</td>\n",
       "      <td>-98.4722</td>\n",
       "    </tr>\n",
       "    <tr>\n",
       "      <th>4</th>\n",
       "      <td>5</td>\n",
       "      <td>63379733088</td>\n",
       "      <td>2025-03-28</td>\n",
       "      <td>Aggravated Assault</td>\n",
       "      <td>PERSON</td>\n",
       "      <td>CENTRAL</td>\n",
       "      <td>Assault Offenses</td>\n",
       "      <td>78201</td>\n",
       "      <td>2025-08-01</td>\n",
       "      <td>March</td>\n",
       "      <td>Friday</td>\n",
       "      <td>29.4167</td>\n",
       "      <td>-98.4722</td>\n",
       "    </tr>\n",
       "  </tbody>\n",
       "</table>\n",
       "</div>"
      ],
      "text/plain": [
       "   _id    Report_ID Report_Date     NIBRS_Code_Name NIBRS_Crime_Against  \\\n",
       "0    1  45000634662  2023-03-05  Aggravated Assault              PERSON   \n",
       "1    2  53896892246  2024-01-25  Aggravated Assault              PERSON   \n",
       "2    3  55602801987  2024-04-19  Aggravated Assault              PERSON   \n",
       "3    4  58290386300  2024-08-10  Aggravated Assault              PERSON   \n",
       "4    5  63379733088  2025-03-28  Aggravated Assault              PERSON   \n",
       "\n",
       "  Service_Area       NIBRS_Group Zip_Code    DateTime    month       Day  \\\n",
       "0      CENTRAL  Assault Offenses    78201  2025-08-01    March    Sunday   \n",
       "1         WEST  Assault Offenses    78201  2025-08-01  January  Thursday   \n",
       "2      CENTRAL  Assault Offenses    78201  2025-08-01    April    Friday   \n",
       "3         WEST  Assault Offenses    78201  2025-08-01   August  Saturday   \n",
       "4      CENTRAL  Assault Offenses    78201  2025-08-01    March    Friday   \n",
       "\n",
       "   ZIP_LAT  ZIP_LON  \n",
       "0  29.4167 -98.4722  \n",
       "1  29.4167 -98.4722  \n",
       "2  29.4167 -98.4722  \n",
       "3  29.4167 -98.4722  \n",
       "4  29.4167 -98.4722  "
      ]
     },
     "execution_count": 43,
     "metadata": {},
     "output_type": "execute_result"
    }
   ],
   "source": [
    "sa_crimes.head()"
   ]
  },
  {
   "cell_type": "markdown",
   "id": "457707f0",
   "metadata": {},
   "source": [
    "# EDA\n",
    "3) Do crime rates change by zipcode?"
   ]
  },
  {
   "cell_type": "code",
   "execution_count": null,
   "id": "9e52b645",
   "metadata": {},
   "outputs": [],
   "source": [
    "#sa_crimes.groupby(['Zip_Code','NIBRS_Code_Name'])"
   ]
  },
  {
   "cell_type": "code",
   "execution_count": null,
   "id": "aaf8cf4f",
   "metadata": {},
   "outputs": [
    {
     "data": {
      "application/vnd.plotly.v1+json": {
       "config": {
        "plotlyServerURL": "https://plot.ly"
       },
       "data": [
        {
         "alignmentgroup": "True",
         "hovertemplate": "Crime Type=Destruction/Damage/Vandalism of Property<br>Area=%{x}<br>Number of Crimes=%{y}<extra></extra>",
         "legendgroup": "Destruction/Damage/Vandalism of Property",
         "marker": {
          "color": "#636efa",
          "pattern": {
           "shape": ""
          }
         },
         "name": "Destruction/Damage/Vandalism of Property",
         "offsetgroup": "Destruction/Damage/Vandalism of Property",
         "orientation": "v",
         "showlegend": true,
         "textposition": "auto",
         "type": "bar",
         "x": [
          "CENTRAL",
          "DOWNTOWN",
          "EAST",
          "NORTH",
          "PRUE",
          "SOUTH",
          "WEST"
         ],
         "xaxis": "x",
         "y": [
          6139,
          1948,
          6547,
          9614,
          10651,
          7609,
          9855
         ],
         "yaxis": "y"
        },
        {
         "alignmentgroup": "True",
         "hovertemplate": "Crime Type=Simple Assault<br>Area=%{x}<br>Number of Crimes=%{y}<extra></extra>",
         "legendgroup": "Simple Assault",
         "marker": {
          "color": "#EF553B",
          "pattern": {
           "shape": ""
          }
         },
         "name": "Simple Assault",
         "offsetgroup": "Simple Assault",
         "orientation": "v",
         "showlegend": true,
         "textposition": "auto",
         "type": "bar",
         "x": [
          "CENTRAL",
          "DOWNTOWN",
          "EAST",
          "NORTH",
          "PRUE",
          "SOUTH",
          "WEST"
         ],
         "xaxis": "x",
         "y": [
          5927,
          1754,
          8489,
          8058,
          8150,
          9525,
          9463
         ],
         "yaxis": "y"
        },
        {
         "alignmentgroup": "True",
         "hovertemplate": "Crime Type=Drug/Narcotic Violations<br>Area=%{x}<br>Number of Crimes=%{y}<extra></extra>",
         "legendgroup": "Drug/Narcotic Violations",
         "marker": {
          "color": "#00cc96",
          "pattern": {
           "shape": ""
          }
         },
         "name": "Drug/Narcotic Violations",
         "offsetgroup": "Drug/Narcotic Violations",
         "orientation": "v",
         "showlegend": true,
         "textposition": "auto",
         "type": "bar",
         "x": [
          "CENTRAL",
          "DOWNTOWN",
          "EAST",
          "NORTH",
          "PRUE",
          "SOUTH",
          "WEST"
         ],
         "xaxis": "x",
         "y": [
          4196,
          1380,
          2719,
          2021,
          1915,
          4380,
          4189
         ],
         "yaxis": "y"
        },
        {
         "alignmentgroup": "True",
         "hovertemplate": "Crime Type=Theft From Motor Vehicle<br>Area=%{x}<br>Number of Crimes=%{y}<extra></extra>",
         "legendgroup": "Theft From Motor Vehicle",
         "marker": {
          "color": "#ab63fa",
          "pattern": {
           "shape": ""
          }
         },
         "name": "Theft From Motor Vehicle",
         "offsetgroup": "Theft From Motor Vehicle",
         "orientation": "v",
         "showlegend": true,
         "textposition": "auto",
         "type": "bar",
         "x": [
          "CENTRAL",
          "DOWNTOWN",
          "EAST",
          "NORTH",
          "PRUE",
          "SOUTH",
          "WEST"
         ],
         "xaxis": "x",
         "y": [
          3895,
          1675,
          3696,
          11611,
          12914,
          5230,
          9412
         ],
         "yaxis": "y"
        },
        {
         "alignmentgroup": "True",
         "hovertemplate": "Crime Type=All Other Larceny<br>Area=%{x}<br>Number of Crimes=%{y}<extra></extra>",
         "legendgroup": "All Other Larceny",
         "marker": {
          "color": "#FFA15A",
          "pattern": {
           "shape": ""
          }
         },
         "name": "All Other Larceny",
         "offsetgroup": "All Other Larceny",
         "orientation": "v",
         "showlegend": true,
         "textposition": "auto",
         "type": "bar",
         "x": [
          "CENTRAL",
          "DOWNTOWN",
          "EAST",
          "NORTH",
          "PRUE",
          "SOUTH",
          "WEST"
         ],
         "xaxis": "x",
         "y": [
          3670,
          1064,
          4279,
          5186,
          5638,
          5355,
          5216
         ],
         "yaxis": "y"
        },
        {
         "alignmentgroup": "True",
         "hovertemplate": "Crime Type=Motor Vehicle Theft<br>Area=%{x}<br>Number of Crimes=%{y}<extra></extra>",
         "legendgroup": "Motor Vehicle Theft",
         "marker": {
          "color": "#19d3f3",
          "pattern": {
           "shape": ""
          }
         },
         "name": "Motor Vehicle Theft",
         "offsetgroup": "Motor Vehicle Theft",
         "orientation": "v",
         "showlegend": true,
         "textposition": "auto",
         "type": "bar",
         "x": [
          "CENTRAL",
          "DOWNTOWN",
          "EAST",
          "NORTH",
          "PRUE",
          "SOUTH",
          "WEST"
         ],
         "xaxis": "x",
         "y": [
          3580,
          820,
          5312,
          7592,
          7931,
          5836,
          7309
         ],
         "yaxis": "y"
        },
        {
         "alignmentgroup": "True",
         "hovertemplate": "Crime Type=Shoplifting<br>Area=%{x}<br>Number of Crimes=%{y}<extra></extra>",
         "legendgroup": "Shoplifting",
         "marker": {
          "color": "#FF6692",
          "pattern": {
           "shape": ""
          }
         },
         "name": "Shoplifting",
         "offsetgroup": "Shoplifting",
         "orientation": "v",
         "showlegend": true,
         "textposition": "auto",
         "type": "bar",
         "x": [
          "CENTRAL",
          "DOWNTOWN",
          "EAST",
          "NORTH",
          "PRUE",
          "SOUTH",
          "WEST"
         ],
         "xaxis": "x",
         "y": [
          3269,
          570,
          3778,
          6392,
          4501,
          5700,
          9271
         ],
         "yaxis": "y"
        },
        {
         "alignmentgroup": "True",
         "hovertemplate": "Crime Type=Burglary/Breaking & Entering<br>Area=%{x}<br>Number of Crimes=%{y}<extra></extra>",
         "legendgroup": "Burglary/Breaking & Entering",
         "marker": {
          "color": "#B6E880",
          "pattern": {
           "shape": ""
          }
         },
         "name": "Burglary/Breaking & Entering",
         "offsetgroup": "Burglary/Breaking & Entering",
         "orientation": "v",
         "showlegend": true,
         "textposition": "auto",
         "type": "bar",
         "x": [
          "CENTRAL",
          "DOWNTOWN",
          "EAST",
          "NORTH",
          "PRUE",
          "SOUTH",
          "WEST"
         ],
         "xaxis": "x",
         "y": [
          2019,
          494,
          2934,
          3500,
          3197,
          3388,
          3577
         ],
         "yaxis": "y"
        },
        {
         "alignmentgroup": "True",
         "hovertemplate": "Crime Type=Aggravated Assault<br>Area=%{x}<br>Number of Crimes=%{y}<extra></extra>",
         "legendgroup": "Aggravated Assault",
         "marker": {
          "color": "#FF97FF",
          "pattern": {
           "shape": ""
          }
         },
         "name": "Aggravated Assault",
         "offsetgroup": "Aggravated Assault",
         "orientation": "v",
         "showlegend": true,
         "textposition": "auto",
         "type": "bar",
         "x": [
          "CENTRAL",
          "DOWNTOWN",
          "EAST",
          "NORTH",
          "PRUE",
          "SOUTH",
          "WEST"
         ],
         "xaxis": "x",
         "y": [
          1775,
          370,
          2484,
          1807,
          1816,
          2437,
          2513
         ],
         "yaxis": "y"
        },
        {
         "alignmentgroup": "True",
         "hovertemplate": "Crime Type=Intimidation<br>Area=%{x}<br>Number of Crimes=%{y}<extra></extra>",
         "legendgroup": "Intimidation",
         "marker": {
          "color": "#FECB52",
          "pattern": {
           "shape": ""
          }
         },
         "name": "Intimidation",
         "offsetgroup": "Intimidation",
         "orientation": "v",
         "showlegend": true,
         "textposition": "auto",
         "type": "bar",
         "x": [
          "CENTRAL",
          "DOWNTOWN",
          "EAST",
          "NORTH",
          "PRUE",
          "SOUTH",
          "WEST"
         ],
         "xaxis": "x",
         "y": [
          1231,
          340,
          1861,
          1656,
          1577,
          1761,
          1870
         ],
         "yaxis": "y"
        },
        {
         "alignmentgroup": "True",
         "hovertemplate": "Crime Type=Theft From Building<br>Area=%{x}<br>Number of Crimes=%{y}<extra></extra>",
         "legendgroup": "Theft From Building",
         "marker": {
          "color": "#636efa",
          "pattern": {
           "shape": ""
          }
         },
         "name": "Theft From Building",
         "offsetgroup": "Theft From Building",
         "orientation": "v",
         "showlegend": true,
         "textposition": "auto",
         "type": "bar",
         "x": [
          "CENTRAL",
          "DOWNTOWN",
          "EAST",
          "NORTH",
          "PRUE",
          "SOUTH",
          "WEST"
         ],
         "xaxis": "x",
         "y": [
          1224,
          408,
          1258,
          1702,
          1607,
          1426,
          1654
         ],
         "yaxis": "y"
        },
        {
         "alignmentgroup": "True",
         "hovertemplate": "Crime Type=Drug Equipment Violations<br>Area=%{x}<br>Number of Crimes=%{y}<extra></extra>",
         "legendgroup": "Drug Equipment Violations",
         "marker": {
          "color": "#EF553B",
          "pattern": {
           "shape": ""
          }
         },
         "name": "Drug Equipment Violations",
         "offsetgroup": "Drug Equipment Violations",
         "orientation": "v",
         "showlegend": true,
         "textposition": "auto",
         "type": "bar",
         "x": [
          "CENTRAL",
          "DOWNTOWN",
          "EAST",
          "NORTH",
          "PRUE",
          "SOUTH",
          "WEST"
         ],
         "xaxis": "x",
         "y": [
          1210,
          501,
          622,
          585,
          365,
          764,
          925
         ],
         "yaxis": "y"
        },
        {
         "alignmentgroup": "True",
         "hovertemplate": "Crime Type=Theft of Motor Vehicle Parts or Accessories<br>Area=%{x}<br>Number of Crimes=%{y}<extra></extra>",
         "legendgroup": "Theft of Motor Vehicle Parts or Accessories",
         "marker": {
          "color": "#00cc96",
          "pattern": {
           "shape": ""
          }
         },
         "name": "Theft of Motor Vehicle Parts or Accessories",
         "offsetgroup": "Theft of Motor Vehicle Parts or Accessories",
         "orientation": "v",
         "showlegend": true,
         "textposition": "auto",
         "type": "bar",
         "x": [
          "CENTRAL",
          "DOWNTOWN",
          "EAST",
          "NORTH",
          "PRUE",
          "SOUTH",
          "WEST"
         ],
         "xaxis": "x",
         "y": [
          854,
          284,
          1212,
          2736,
          2871,
          1366,
          1909
         ],
         "yaxis": "y"
        },
        {
         "alignmentgroup": "True",
         "hovertemplate": "Crime Type=Weapon Law Violations<br>Area=%{x}<br>Number of Crimes=%{y}<extra></extra>",
         "legendgroup": "Weapon Law Violations",
         "marker": {
          "color": "#ab63fa",
          "pattern": {
           "shape": ""
          }
         },
         "name": "Weapon Law Violations",
         "offsetgroup": "Weapon Law Violations",
         "orientation": "v",
         "showlegend": true,
         "textposition": "auto",
         "type": "bar",
         "x": [
          "CENTRAL",
          "DOWNTOWN",
          "EAST",
          "NORTH",
          "PRUE",
          "SOUTH",
          "WEST"
         ],
         "xaxis": "x",
         "y": [
          762,
          183,
          791,
          754,
          508,
          1121,
          1027
         ],
         "yaxis": "y"
        },
        {
         "alignmentgroup": "True",
         "hovertemplate": "Crime Type=Robbery<br>Area=%{x}<br>Number of Crimes=%{y}<extra></extra>",
         "legendgroup": "Robbery",
         "marker": {
          "color": "#FFA15A",
          "pattern": {
           "shape": ""
          }
         },
         "name": "Robbery",
         "offsetgroup": "Robbery",
         "orientation": "v",
         "showlegend": true,
         "textposition": "auto",
         "type": "bar",
         "x": [
          "CENTRAL",
          "DOWNTOWN",
          "EAST",
          "NORTH",
          "PRUE",
          "SOUTH",
          "WEST"
         ],
         "xaxis": "x",
         "y": [
          741,
          155,
          706,
          565,
          511,
          785,
          915
         ],
         "yaxis": "y"
        },
        {
         "alignmentgroup": "True",
         "hovertemplate": "Crime Type=False Pretenses/Swindle/Confidence Game<br>Area=%{x}<br>Number of Crimes=%{y}<extra></extra>",
         "legendgroup": "False Pretenses/Swindle/Confidence Game",
         "marker": {
          "color": "#19d3f3",
          "pattern": {
           "shape": ""
          }
         },
         "name": "False Pretenses/Swindle/Confidence Game",
         "offsetgroup": "False Pretenses/Swindle/Confidence Game",
         "orientation": "v",
         "showlegend": true,
         "textposition": "auto",
         "type": "bar",
         "x": [
          "CENTRAL",
          "DOWNTOWN",
          "EAST",
          "NORTH",
          "PRUE",
          "SOUTH",
          "WEST"
         ],
         "xaxis": "x",
         "y": [
          737,
          315,
          827,
          1251,
          1067,
          911,
          1019
         ],
         "yaxis": "y"
        },
        {
         "alignmentgroup": "True",
         "hovertemplate": "Crime Type=Identity Theft<br>Area=%{x}<br>Number of Crimes=%{y}<extra></extra>",
         "legendgroup": "Identity Theft",
         "marker": {
          "color": "#FF6692",
          "pattern": {
           "shape": ""
          }
         },
         "name": "Identity Theft",
         "offsetgroup": "Identity Theft",
         "orientation": "v",
         "showlegend": true,
         "textposition": "auto",
         "type": "bar",
         "x": [
          "CENTRAL",
          "DOWNTOWN",
          "EAST",
          "NORTH",
          "PRUE",
          "SOUTH",
          "WEST"
         ],
         "xaxis": "x",
         "y": [
          730,
          175,
          1024,
          1660,
          1774,
          1141,
          1412
         ],
         "yaxis": "y"
        },
        {
         "alignmentgroup": "True",
         "hovertemplate": "Crime Type=Credit Card/Automated Teller Machine Fraud<br>Area=%{x}<br>Number of Crimes=%{y}<extra></extra>",
         "legendgroup": "Credit Card/Automated Teller Machine Fraud",
         "marker": {
          "color": "#B6E880",
          "pattern": {
           "shape": ""
          }
         },
         "name": "Credit Card/Automated Teller Machine Fraud",
         "offsetgroup": "Credit Card/Automated Teller Machine Fraud",
         "orientation": "v",
         "showlegend": true,
         "textposition": "auto",
         "type": "bar",
         "x": [
          "CENTRAL",
          "DOWNTOWN",
          "EAST",
          "NORTH",
          "PRUE",
          "SOUTH",
          "WEST"
         ],
         "xaxis": "x",
         "y": [
          658,
          241,
          1011,
          1762,
          1938,
          1186,
          1437
         ],
         "yaxis": "y"
        },
        {
         "alignmentgroup": "True",
         "hovertemplate": "Crime Type=Rape<br>Area=%{x}<br>Number of Crimes=%{y}<extra></extra>",
         "legendgroup": "Rape",
         "marker": {
          "color": "#FF97FF",
          "pattern": {
           "shape": ""
          }
         },
         "name": "Rape",
         "offsetgroup": "Rape",
         "orientation": "v",
         "showlegend": true,
         "textposition": "auto",
         "type": "bar",
         "x": [
          "CENTRAL",
          "DOWNTOWN",
          "EAST",
          "NORTH",
          "PRUE",
          "SOUTH",
          "WEST"
         ],
         "xaxis": "x",
         "y": [
          424,
          186,
          460,
          487,
          585,
          510,
          602
         ],
         "yaxis": "y"
        },
        {
         "alignmentgroup": "True",
         "hovertemplate": "Crime Type=Counterfeiting/Forgery<br>Area=%{x}<br>Number of Crimes=%{y}<extra></extra>",
         "legendgroup": "Counterfeiting/Forgery",
         "marker": {
          "color": "#FECB52",
          "pattern": {
           "shape": ""
          }
         },
         "name": "Counterfeiting/Forgery",
         "offsetgroup": "Counterfeiting/Forgery",
         "orientation": "v",
         "showlegend": true,
         "textposition": "auto",
         "type": "bar",
         "x": [
          "CENTRAL",
          "DOWNTOWN",
          "EAST",
          "NORTH",
          "PRUE",
          "SOUTH",
          "WEST"
         ],
         "xaxis": "x",
         "y": [
          414,
          104,
          558,
          1059,
          859,
          543,
          832
         ],
         "yaxis": "y"
        },
        {
         "alignmentgroup": "True",
         "hovertemplate": "Crime Type=Fondling<br>Area=%{x}<br>Number of Crimes=%{y}<extra></extra>",
         "legendgroup": "Fondling",
         "marker": {
          "color": "#636efa",
          "pattern": {
           "shape": ""
          }
         },
         "name": "Fondling",
         "offsetgroup": "Fondling",
         "orientation": "v",
         "showlegend": true,
         "textposition": "auto",
         "type": "bar",
         "x": [
          "CENTRAL",
          "DOWNTOWN",
          "EAST",
          "NORTH",
          "PRUE",
          "SOUTH",
          "WEST"
         ],
         "xaxis": "x",
         "y": [
          273,
          34,
          323,
          252,
          255,
          329,
          329
         ],
         "yaxis": "y"
        },
        {
         "alignmentgroup": "True",
         "hovertemplate": "Crime Type=Wire Fraud<br>Area=%{x}<br>Number of Crimes=%{y}<extra></extra>",
         "legendgroup": "Wire Fraud",
         "marker": {
          "color": "#EF553B",
          "pattern": {
           "shape": ""
          }
         },
         "name": "Wire Fraud",
         "offsetgroup": "Wire Fraud",
         "orientation": "v",
         "showlegend": true,
         "textposition": "auto",
         "type": "bar",
         "x": [
          "CENTRAL",
          "DOWNTOWN",
          "EAST",
          "NORTH",
          "PRUE",
          "SOUTH",
          "WEST"
         ],
         "xaxis": "x",
         "y": [
          163,
          36,
          238,
          434,
          454,
          233,
          316
         ],
         "yaxis": "y"
        },
        {
         "alignmentgroup": "True",
         "hovertemplate": "Crime Type=Pornography/Obscene Material<br>Area=%{x}<br>Number of Crimes=%{y}<extra></extra>",
         "legendgroup": "Pornography/Obscene Material",
         "marker": {
          "color": "#00cc96",
          "pattern": {
           "shape": ""
          }
         },
         "name": "Pornography/Obscene Material",
         "offsetgroup": "Pornography/Obscene Material",
         "orientation": "v",
         "showlegend": true,
         "textposition": "auto",
         "type": "bar",
         "x": [
          "CENTRAL",
          "DOWNTOWN",
          "EAST",
          "NORTH",
          "PRUE",
          "SOUTH",
          "WEST"
         ],
         "xaxis": "x",
         "y": [
          130,
          47,
          238,
          286,
          310,
          242,
          272
         ],
         "yaxis": "y"
        },
        {
         "alignmentgroup": "True",
         "hovertemplate": "Crime Type=Stolen Property Offenses<br>Area=%{x}<br>Number of Crimes=%{y}<extra></extra>",
         "legendgroup": "Stolen Property Offenses",
         "marker": {
          "color": "#ab63fa",
          "pattern": {
           "shape": ""
          }
         },
         "name": "Stolen Property Offenses",
         "offsetgroup": "Stolen Property Offenses",
         "orientation": "v",
         "showlegend": true,
         "textposition": "auto",
         "type": "bar",
         "x": [
          "CENTRAL",
          "DOWNTOWN",
          "EAST",
          "NORTH",
          "PRUE",
          "SOUTH",
          "WEST"
         ],
         "xaxis": "x",
         "y": [
          120,
          38,
          184,
          106,
          103,
          226,
          208
         ],
         "yaxis": "y"
        },
        {
         "alignmentgroup": "True",
         "hovertemplate": "Crime Type=Prostitution<br>Area=%{x}<br>Number of Crimes=%{y}<extra></extra>",
         "legendgroup": "Prostitution",
         "marker": {
          "color": "#FFA15A",
          "pattern": {
           "shape": ""
          }
         },
         "name": "Prostitution",
         "offsetgroup": "Prostitution",
         "orientation": "v",
         "showlegend": true,
         "textposition": "auto",
         "type": "bar",
         "x": [
          "CENTRAL",
          "DOWNTOWN",
          "EAST",
          "NORTH",
          "PRUE",
          "SOUTH",
          "WEST"
         ],
         "xaxis": "x",
         "y": [
          117,
          2,
          28,
          95,
          90,
          27,
          52
         ],
         "yaxis": "y"
        },
        {
         "alignmentgroup": "True",
         "hovertemplate": "Crime Type=Sodomy<br>Area=%{x}<br>Number of Crimes=%{y}<extra></extra>",
         "legendgroup": "Sodomy",
         "marker": {
          "color": "#19d3f3",
          "pattern": {
           "shape": ""
          }
         },
         "name": "Sodomy",
         "offsetgroup": "Sodomy",
         "orientation": "v",
         "showlegend": true,
         "textposition": "auto",
         "type": "bar",
         "x": [
          "CENTRAL",
          "DOWNTOWN",
          "EAST",
          "NORTH",
          "PRUE",
          "SOUTH",
          "WEST"
         ],
         "xaxis": "x",
         "y": [
          94,
          8,
          79,
          56,
          82,
          58,
          67
         ],
         "yaxis": "y"
        },
        {
         "alignmentgroup": "True",
         "hovertemplate": "Crime Type=Arson<br>Area=%{x}<br>Number of Crimes=%{y}<extra></extra>",
         "legendgroup": "Arson",
         "marker": {
          "color": "#FF6692",
          "pattern": {
           "shape": ""
          }
         },
         "name": "Arson",
         "offsetgroup": "Arson",
         "orientation": "v",
         "showlegend": true,
         "textposition": "auto",
         "type": "bar",
         "x": [
          "CENTRAL",
          "DOWNTOWN",
          "EAST",
          "NORTH",
          "PRUE",
          "SOUTH",
          "WEST"
         ],
         "xaxis": "x",
         "y": [
          88,
          18,
          83,
          57,
          63,
          99,
          90
         ],
         "yaxis": "y"
        },
        {
         "alignmentgroup": "True",
         "hovertemplate": "Crime Type=Sexual Assault With An Object<br>Area=%{x}<br>Number of Crimes=%{y}<extra></extra>",
         "legendgroup": "Sexual Assault With An Object",
         "marker": {
          "color": "#B6E880",
          "pattern": {
           "shape": ""
          }
         },
         "name": "Sexual Assault With An Object",
         "offsetgroup": "Sexual Assault With An Object",
         "orientation": "v",
         "showlegend": true,
         "textposition": "auto",
         "type": "bar",
         "x": [
          "CENTRAL",
          "DOWNTOWN",
          "EAST",
          "NORTH",
          "PRUE",
          "SOUTH",
          "WEST"
         ],
         "xaxis": "x",
         "y": [
          86,
          1,
          62,
          85,
          90,
          81,
          98
         ],
         "yaxis": "y"
        },
        {
         "alignmentgroup": "True",
         "hovertemplate": "Crime Type=Embezzlement<br>Area=%{x}<br>Number of Crimes=%{y}<extra></extra>",
         "legendgroup": "Embezzlement",
         "marker": {
          "color": "#FF97FF",
          "pattern": {
           "shape": ""
          }
         },
         "name": "Embezzlement",
         "offsetgroup": "Embezzlement",
         "orientation": "v",
         "showlegend": true,
         "textposition": "auto",
         "type": "bar",
         "x": [
          "CENTRAL",
          "DOWNTOWN",
          "EAST",
          "NORTH",
          "PRUE",
          "SOUTH",
          "WEST"
         ],
         "xaxis": "x",
         "y": [
          78,
          14,
          105,
          191,
          117,
          96,
          101
         ],
         "yaxis": "y"
        },
        {
         "alignmentgroup": "True",
         "hovertemplate": "Crime Type=Murder & Nonnegligent Manslaughter<br>Area=%{x}<br>Number of Crimes=%{y}<extra></extra>",
         "legendgroup": "Murder & Nonnegligent Manslaughter",
         "marker": {
          "color": "#FECB52",
          "pattern": {
           "shape": ""
          }
         },
         "name": "Murder & Nonnegligent Manslaughter",
         "offsetgroup": "Murder & Nonnegligent Manslaughter",
         "orientation": "v",
         "showlegend": true,
         "textposition": "auto",
         "type": "bar",
         "x": [
          "CENTRAL",
          "DOWNTOWN",
          "EAST",
          "NORTH",
          "PRUE",
          "SOUTH",
          "WEST"
         ],
         "xaxis": "x",
         "y": [
          52,
          12,
          77,
          36,
          42,
          65,
          55
         ],
         "yaxis": "y"
        },
        {
         "alignmentgroup": "True",
         "hovertemplate": "Crime Type=Pocket-picking<br>Area=%{x}<br>Number of Crimes=%{y}<extra></extra>",
         "legendgroup": "Pocket-picking",
         "marker": {
          "color": "#636efa",
          "pattern": {
           "shape": ""
          }
         },
         "name": "Pocket-picking",
         "offsetgroup": "Pocket-picking",
         "orientation": "v",
         "showlegend": true,
         "textposition": "auto",
         "type": "bar",
         "x": [
          "CENTRAL",
          "DOWNTOWN",
          "EAST",
          "NORTH",
          "PRUE",
          "SOUTH",
          "WEST"
         ],
         "xaxis": "x",
         "y": [
          48,
          21,
          30,
          44,
          29,
          24,
          43
         ],
         "yaxis": "y"
        },
        {
         "alignmentgroup": "True",
         "hovertemplate": "Crime Type=Welfare Fraud<br>Area=%{x}<br>Number of Crimes=%{y}<extra></extra>",
         "legendgroup": "Welfare Fraud",
         "marker": {
          "color": "#EF553B",
          "pattern": {
           "shape": ""
          }
         },
         "name": "Welfare Fraud",
         "offsetgroup": "Welfare Fraud",
         "orientation": "v",
         "showlegend": true,
         "textposition": "auto",
         "type": "bar",
         "x": [
          "CENTRAL",
          "DOWNTOWN",
          "EAST",
          "NORTH",
          "PRUE",
          "SOUTH",
          "WEST"
         ],
         "xaxis": "x",
         "y": [
          41,
          12,
          39,
          17,
          31,
          44,
          29
         ],
         "yaxis": "y"
        },
        {
         "alignmentgroup": "True",
         "hovertemplate": "Crime Type=Theft From Coin-Operated Machine or Device<br>Area=%{x}<br>Number of Crimes=%{y}<extra></extra>",
         "legendgroup": "Theft From Coin-Operated Machine or Device",
         "marker": {
          "color": "#00cc96",
          "pattern": {
           "shape": ""
          }
         },
         "name": "Theft From Coin-Operated Machine or Device",
         "offsetgroup": "Theft From Coin-Operated Machine or Device",
         "orientation": "v",
         "showlegend": true,
         "textposition": "auto",
         "type": "bar",
         "x": [
          "CENTRAL",
          "DOWNTOWN",
          "EAST",
          "NORTH",
          "PRUE",
          "SOUTH",
          "WEST"
         ],
         "xaxis": "x",
         "y": [
          39,
          10,
          57,
          51,
          47,
          67,
          65
         ],
         "yaxis": "y"
        },
        {
         "alignmentgroup": "True",
         "hovertemplate": "Crime Type=Animal Cruelty<br>Area=%{x}<br>Number of Crimes=%{y}<extra></extra>",
         "legendgroup": "Animal Cruelty",
         "marker": {
          "color": "#ab63fa",
          "pattern": {
           "shape": ""
          }
         },
         "name": "Animal Cruelty",
         "offsetgroup": "Animal Cruelty",
         "orientation": "v",
         "showlegend": true,
         "textposition": "auto",
         "type": "bar",
         "x": [
          "CENTRAL",
          "DOWNTOWN",
          "EAST",
          "NORTH",
          "PRUE",
          "SOUTH",
          "WEST"
         ],
         "xaxis": "x",
         "y": [
          33,
          9,
          61,
          54,
          43,
          52,
          57
         ],
         "yaxis": "y"
        },
        {
         "alignmentgroup": "True",
         "hovertemplate": "Crime Type=Impersonation<br>Area=%{x}<br>Number of Crimes=%{y}<extra></extra>",
         "legendgroup": "Impersonation",
         "marker": {
          "color": "#FFA15A",
          "pattern": {
           "shape": ""
          }
         },
         "name": "Impersonation",
         "offsetgroup": "Impersonation",
         "orientation": "v",
         "showlegend": true,
         "textposition": "auto",
         "type": "bar",
         "x": [
          "CENTRAL",
          "DOWNTOWN",
          "EAST",
          "NORTH",
          "PRUE",
          "SOUTH",
          "WEST"
         ],
         "xaxis": "x",
         "y": [
          30,
          7,
          33,
          79,
          73,
          33,
          56
         ],
         "yaxis": "y"
        },
        {
         "alignmentgroup": "True",
         "hovertemplate": "Crime Type=Extortion/Blackmail<br>Area=%{x}<br>Number of Crimes=%{y}<extra></extra>",
         "legendgroup": "Extortion/Blackmail",
         "marker": {
          "color": "#19d3f3",
          "pattern": {
           "shape": ""
          }
         },
         "name": "Extortion/Blackmail",
         "offsetgroup": "Extortion/Blackmail",
         "orientation": "v",
         "showlegend": true,
         "textposition": "auto",
         "type": "bar",
         "x": [
          "CENTRAL",
          "DOWNTOWN",
          "EAST",
          "NORTH",
          "PRUE",
          "SOUTH",
          "WEST"
         ],
         "xaxis": "x",
         "y": [
          28,
          5,
          32,
          52,
          71,
          41,
          55
         ],
         "yaxis": "y"
        },
        {
         "alignmentgroup": "True",
         "hovertemplate": "Crime Type=Kidnapping/Abduction<br>Area=%{x}<br>Number of Crimes=%{y}<extra></extra>",
         "legendgroup": "Kidnapping/Abduction",
         "marker": {
          "color": "#FF6692",
          "pattern": {
           "shape": ""
          }
         },
         "name": "Kidnapping/Abduction",
         "offsetgroup": "Kidnapping/Abduction",
         "orientation": "v",
         "showlegend": true,
         "textposition": "auto",
         "type": "bar",
         "x": [
          "CENTRAL",
          "DOWNTOWN",
          "EAST",
          "NORTH",
          "PRUE",
          "SOUTH",
          "WEST"
         ],
         "xaxis": "x",
         "y": [
          28,
          11,
          46,
          48,
          36,
          51,
          53
         ],
         "yaxis": "y"
        },
        {
         "alignmentgroup": "True",
         "hovertemplate": "Crime Type=Purse-snatching<br>Area=%{x}<br>Number of Crimes=%{y}<extra></extra>",
         "legendgroup": "Purse-snatching",
         "marker": {
          "color": "#B6E880",
          "pattern": {
           "shape": ""
          }
         },
         "name": "Purse-snatching",
         "offsetgroup": "Purse-snatching",
         "orientation": "v",
         "showlegend": true,
         "textposition": "auto",
         "type": "bar",
         "x": [
          "CENTRAL",
          "DOWNTOWN",
          "EAST",
          "NORTH",
          "PRUE",
          "SOUTH",
          "WEST"
         ],
         "xaxis": "x",
         "y": [
          25,
          5,
          17,
          23,
          17,
          20,
          25
         ],
         "yaxis": "y"
        },
        {
         "alignmentgroup": "True",
         "hovertemplate": "Crime Type=Human Trafficking, Commercial Sex Acts<br>Area=%{x}<br>Number of Crimes=%{y}<extra></extra>",
         "legendgroup": "Human Trafficking, Commercial Sex Acts",
         "marker": {
          "color": "#FF97FF",
          "pattern": {
           "shape": ""
          }
         },
         "name": "Human Trafficking, Commercial Sex Acts",
         "offsetgroup": "Human Trafficking, Commercial Sex Acts",
         "orientation": "v",
         "showlegend": true,
         "textposition": "auto",
         "type": "bar",
         "x": [
          "CENTRAL",
          "EAST",
          "NORTH",
          "PRUE",
          "SOUTH",
          "WEST"
         ],
         "xaxis": "x",
         "y": [
          9,
          12,
          5,
          12,
          6,
          7
         ],
         "yaxis": "y"
        },
        {
         "alignmentgroup": "True",
         "hovertemplate": "Crime Type=Purchasing Prostitution<br>Area=%{x}<br>Number of Crimes=%{y}<extra></extra>",
         "legendgroup": "Purchasing Prostitution",
         "marker": {
          "color": "#FECB52",
          "pattern": {
           "shape": ""
          }
         },
         "name": "Purchasing Prostitution",
         "offsetgroup": "Purchasing Prostitution",
         "orientation": "v",
         "showlegend": true,
         "textposition": "auto",
         "type": "bar",
         "x": [
          "CENTRAL",
          "EAST",
          "NORTH"
         ],
         "xaxis": "x",
         "y": [
          8,
          10,
          10
         ],
         "yaxis": "y"
        },
        {
         "alignmentgroup": "True",
         "hovertemplate": "Crime Type=Assisting or Promoting Prostitution<br>Area=%{x}<br>Number of Crimes=%{y}<extra></extra>",
         "legendgroup": "Assisting or Promoting Prostitution",
         "marker": {
          "color": "#636efa",
          "pattern": {
           "shape": ""
          }
         },
         "name": "Assisting or Promoting Prostitution",
         "offsetgroup": "Assisting or Promoting Prostitution",
         "orientation": "v",
         "showlegend": true,
         "textposition": "auto",
         "type": "bar",
         "x": [
          "CENTRAL",
          "EAST",
          "NORTH",
          "PRUE",
          "SOUTH",
          "WEST"
         ],
         "xaxis": "x",
         "y": [
          5,
          1,
          9,
          10,
          1,
          7
         ],
         "yaxis": "y"
        },
        {
         "alignmentgroup": "True",
         "hovertemplate": "Crime Type=Bribery<br>Area=%{x}<br>Number of Crimes=%{y}<extra></extra>",
         "legendgroup": "Bribery",
         "marker": {
          "color": "#EF553B",
          "pattern": {
           "shape": ""
          }
         },
         "name": "Bribery",
         "offsetgroup": "Bribery",
         "orientation": "v",
         "showlegend": true,
         "textposition": "auto",
         "type": "bar",
         "x": [
          "CENTRAL",
          "DOWNTOWN",
          "EAST",
          "NORTH",
          "PRUE",
          "SOUTH",
          "WEST"
         ],
         "xaxis": "x",
         "y": [
          4,
          3,
          1,
          2,
          2,
          3,
          2
         ],
         "yaxis": "y"
        },
        {
         "alignmentgroup": "True",
         "hovertemplate": "Crime Type=Negligent Manslaughter<br>Area=%{x}<br>Number of Crimes=%{y}<extra></extra>",
         "legendgroup": "Negligent Manslaughter",
         "marker": {
          "color": "#00cc96",
          "pattern": {
           "shape": ""
          }
         },
         "name": "Negligent Manslaughter",
         "offsetgroup": "Negligent Manslaughter",
         "orientation": "v",
         "showlegend": true,
         "textposition": "auto",
         "type": "bar",
         "x": [
          "CENTRAL",
          "DOWNTOWN",
          "EAST",
          "NORTH",
          "PRUE",
          "SOUTH",
          "WEST"
         ],
         "xaxis": "x",
         "y": [
          4,
          2,
          7,
          5,
          6,
          11,
          10
         ],
         "yaxis": "y"
        },
        {
         "alignmentgroup": "True",
         "hovertemplate": "Crime Type=Hacking/Computer Invasion<br>Area=%{x}<br>Number of Crimes=%{y}<extra></extra>",
         "legendgroup": "Hacking/Computer Invasion",
         "marker": {
          "color": "#ab63fa",
          "pattern": {
           "shape": ""
          }
         },
         "name": "Hacking/Computer Invasion",
         "offsetgroup": "Hacking/Computer Invasion",
         "orientation": "v",
         "showlegend": true,
         "textposition": "auto",
         "type": "bar",
         "x": [
          "CENTRAL",
          "DOWNTOWN",
          "EAST",
          "NORTH",
          "PRUE",
          "SOUTH",
          "WEST"
         ],
         "xaxis": "x",
         "y": [
          3,
          1,
          11,
          39,
          31,
          16,
          15
         ],
         "yaxis": "y"
        },
        {
         "alignmentgroup": "True",
         "hovertemplate": "Crime Type=Operating/Promoting/Assisting Gambling<br>Area=%{x}<br>Number of Crimes=%{y}<extra></extra>",
         "legendgroup": "Operating/Promoting/Assisting Gambling",
         "marker": {
          "color": "#FFA15A",
          "pattern": {
           "shape": ""
          }
         },
         "name": "Operating/Promoting/Assisting Gambling",
         "offsetgroup": "Operating/Promoting/Assisting Gambling",
         "orientation": "v",
         "showlegend": true,
         "textposition": "auto",
         "type": "bar",
         "x": [
          "CENTRAL",
          "DOWNTOWN",
          "EAST",
          "NORTH",
          "PRUE",
          "SOUTH",
          "WEST"
         ],
         "xaxis": "x",
         "y": [
          2,
          1,
          1,
          1,
          1,
          2,
          2
         ],
         "yaxis": "y"
        },
        {
         "alignmentgroup": "True",
         "hovertemplate": "Crime Type=Statutory Rape<br>Area=%{x}<br>Number of Crimes=%{y}<extra></extra>",
         "legendgroup": "Statutory Rape",
         "marker": {
          "color": "#19d3f3",
          "pattern": {
           "shape": ""
          }
         },
         "name": "Statutory Rape",
         "offsetgroup": "Statutory Rape",
         "orientation": "v",
         "showlegend": true,
         "textposition": "auto",
         "type": "bar",
         "x": [
          "CENTRAL"
         ],
         "xaxis": "x",
         "y": [
          1
         ],
         "yaxis": "y"
        },
        {
         "alignmentgroup": "True",
         "hovertemplate": "Crime Type=Incest<br>Area=%{x}<br>Number of Crimes=%{y}<extra></extra>",
         "legendgroup": "Incest",
         "marker": {
          "color": "#FF6692",
          "pattern": {
           "shape": ""
          }
         },
         "name": "Incest",
         "offsetgroup": "Incest",
         "orientation": "v",
         "showlegend": true,
         "textposition": "auto",
         "type": "bar",
         "x": [
          "DOWNTOWN",
          "EAST",
          "NORTH",
          "PRUE",
          "SOUTH",
          "WEST"
         ],
         "xaxis": "x",
         "y": [
          1,
          2,
          1,
          1,
          2,
          1
         ],
         "yaxis": "y"
        },
        {
         "alignmentgroup": "True",
         "hovertemplate": "Crime Type=Human Trafficking, Involuntary Servitude<br>Area=%{x}<br>Number of Crimes=%{y}<extra></extra>",
         "legendgroup": "Human Trafficking, Involuntary Servitude",
         "marker": {
          "color": "#B6E880",
          "pattern": {
           "shape": ""
          }
         },
         "name": "Human Trafficking, Involuntary Servitude",
         "offsetgroup": "Human Trafficking, Involuntary Servitude",
         "orientation": "v",
         "showlegend": true,
         "textposition": "auto",
         "type": "bar",
         "x": [
          "EAST",
          "NORTH",
          "PRUE",
          "SOUTH",
          "WEST"
         ],
         "xaxis": "x",
         "y": [
          4,
          2,
          2,
          1,
          1
         ],
         "yaxis": "y"
        },
        {
         "alignmentgroup": "True",
         "hovertemplate": "Crime Type=Gambling Equipment Violation<br>Area=%{x}<br>Number of Crimes=%{y}<extra></extra>",
         "legendgroup": "Gambling Equipment Violation",
         "marker": {
          "color": "#FF97FF",
          "pattern": {
           "shape": ""
          }
         },
         "name": "Gambling Equipment Violation",
         "offsetgroup": "Gambling Equipment Violation",
         "orientation": "v",
         "showlegend": true,
         "textposition": "auto",
         "type": "bar",
         "x": [
          "PRUE",
          "SOUTH"
         ],
         "xaxis": "x",
         "y": [
          1,
          2
         ],
         "yaxis": "y"
        }
       ],
       "layout": {
        "barmode": "relative",
        "height": 600,
        "legend": {
         "title": {
          "text": "Crime Type"
         },
         "tracegroupgap": 0
        },
        "template": {
         "data": {
          "bar": [
           {
            "error_x": {
             "color": "#2a3f5f"
            },
            "error_y": {
             "color": "#2a3f5f"
            },
            "marker": {
             "line": {
              "color": "#E5ECF6",
              "width": 0.5
             },
             "pattern": {
              "fillmode": "overlay",
              "size": 10,
              "solidity": 0.2
             }
            },
            "type": "bar"
           }
          ],
          "barpolar": [
           {
            "marker": {
             "line": {
              "color": "#E5ECF6",
              "width": 0.5
             },
             "pattern": {
              "fillmode": "overlay",
              "size": 10,
              "solidity": 0.2
             }
            },
            "type": "barpolar"
           }
          ],
          "carpet": [
           {
            "aaxis": {
             "endlinecolor": "#2a3f5f",
             "gridcolor": "white",
             "linecolor": "white",
             "minorgridcolor": "white",
             "startlinecolor": "#2a3f5f"
            },
            "baxis": {
             "endlinecolor": "#2a3f5f",
             "gridcolor": "white",
             "linecolor": "white",
             "minorgridcolor": "white",
             "startlinecolor": "#2a3f5f"
            },
            "type": "carpet"
           }
          ],
          "choropleth": [
           {
            "colorbar": {
             "outlinewidth": 0,
             "ticks": ""
            },
            "type": "choropleth"
           }
          ],
          "contour": [
           {
            "colorbar": {
             "outlinewidth": 0,
             "ticks": ""
            },
            "colorscale": [
             [
              0,
              "#0d0887"
             ],
             [
              0.1111111111111111,
              "#46039f"
             ],
             [
              0.2222222222222222,
              "#7201a8"
             ],
             [
              0.3333333333333333,
              "#9c179e"
             ],
             [
              0.4444444444444444,
              "#bd3786"
             ],
             [
              0.5555555555555556,
              "#d8576b"
             ],
             [
              0.6666666666666666,
              "#ed7953"
             ],
             [
              0.7777777777777778,
              "#fb9f3a"
             ],
             [
              0.8888888888888888,
              "#fdca26"
             ],
             [
              1,
              "#f0f921"
             ]
            ],
            "type": "contour"
           }
          ],
          "contourcarpet": [
           {
            "colorbar": {
             "outlinewidth": 0,
             "ticks": ""
            },
            "type": "contourcarpet"
           }
          ],
          "heatmap": [
           {
            "colorbar": {
             "outlinewidth": 0,
             "ticks": ""
            },
            "colorscale": [
             [
              0,
              "#0d0887"
             ],
             [
              0.1111111111111111,
              "#46039f"
             ],
             [
              0.2222222222222222,
              "#7201a8"
             ],
             [
              0.3333333333333333,
              "#9c179e"
             ],
             [
              0.4444444444444444,
              "#bd3786"
             ],
             [
              0.5555555555555556,
              "#d8576b"
             ],
             [
              0.6666666666666666,
              "#ed7953"
             ],
             [
              0.7777777777777778,
              "#fb9f3a"
             ],
             [
              0.8888888888888888,
              "#fdca26"
             ],
             [
              1,
              "#f0f921"
             ]
            ],
            "type": "heatmap"
           }
          ],
          "heatmapgl": [
           {
            "colorbar": {
             "outlinewidth": 0,
             "ticks": ""
            },
            "colorscale": [
             [
              0,
              "#0d0887"
             ],
             [
              0.1111111111111111,
              "#46039f"
             ],
             [
              0.2222222222222222,
              "#7201a8"
             ],
             [
              0.3333333333333333,
              "#9c179e"
             ],
             [
              0.4444444444444444,
              "#bd3786"
             ],
             [
              0.5555555555555556,
              "#d8576b"
             ],
             [
              0.6666666666666666,
              "#ed7953"
             ],
             [
              0.7777777777777778,
              "#fb9f3a"
             ],
             [
              0.8888888888888888,
              "#fdca26"
             ],
             [
              1,
              "#f0f921"
             ]
            ],
            "type": "heatmapgl"
           }
          ],
          "histogram": [
           {
            "marker": {
             "pattern": {
              "fillmode": "overlay",
              "size": 10,
              "solidity": 0.2
             }
            },
            "type": "histogram"
           }
          ],
          "histogram2d": [
           {
            "colorbar": {
             "outlinewidth": 0,
             "ticks": ""
            },
            "colorscale": [
             [
              0,
              "#0d0887"
             ],
             [
              0.1111111111111111,
              "#46039f"
             ],
             [
              0.2222222222222222,
              "#7201a8"
             ],
             [
              0.3333333333333333,
              "#9c179e"
             ],
             [
              0.4444444444444444,
              "#bd3786"
             ],
             [
              0.5555555555555556,
              "#d8576b"
             ],
             [
              0.6666666666666666,
              "#ed7953"
             ],
             [
              0.7777777777777778,
              "#fb9f3a"
             ],
             [
              0.8888888888888888,
              "#fdca26"
             ],
             [
              1,
              "#f0f921"
             ]
            ],
            "type": "histogram2d"
           }
          ],
          "histogram2dcontour": [
           {
            "colorbar": {
             "outlinewidth": 0,
             "ticks": ""
            },
            "colorscale": [
             [
              0,
              "#0d0887"
             ],
             [
              0.1111111111111111,
              "#46039f"
             ],
             [
              0.2222222222222222,
              "#7201a8"
             ],
             [
              0.3333333333333333,
              "#9c179e"
             ],
             [
              0.4444444444444444,
              "#bd3786"
             ],
             [
              0.5555555555555556,
              "#d8576b"
             ],
             [
              0.6666666666666666,
              "#ed7953"
             ],
             [
              0.7777777777777778,
              "#fb9f3a"
             ],
             [
              0.8888888888888888,
              "#fdca26"
             ],
             [
              1,
              "#f0f921"
             ]
            ],
            "type": "histogram2dcontour"
           }
          ],
          "mesh3d": [
           {
            "colorbar": {
             "outlinewidth": 0,
             "ticks": ""
            },
            "type": "mesh3d"
           }
          ],
          "parcoords": [
           {
            "line": {
             "colorbar": {
              "outlinewidth": 0,
              "ticks": ""
             }
            },
            "type": "parcoords"
           }
          ],
          "pie": [
           {
            "automargin": true,
            "type": "pie"
           }
          ],
          "scatter": [
           {
            "fillpattern": {
             "fillmode": "overlay",
             "size": 10,
             "solidity": 0.2
            },
            "type": "scatter"
           }
          ],
          "scatter3d": [
           {
            "line": {
             "colorbar": {
              "outlinewidth": 0,
              "ticks": ""
             }
            },
            "marker": {
             "colorbar": {
              "outlinewidth": 0,
              "ticks": ""
             }
            },
            "type": "scatter3d"
           }
          ],
          "scattercarpet": [
           {
            "marker": {
             "colorbar": {
              "outlinewidth": 0,
              "ticks": ""
             }
            },
            "type": "scattercarpet"
           }
          ],
          "scattergeo": [
           {
            "marker": {
             "colorbar": {
              "outlinewidth": 0,
              "ticks": ""
             }
            },
            "type": "scattergeo"
           }
          ],
          "scattergl": [
           {
            "marker": {
             "colorbar": {
              "outlinewidth": 0,
              "ticks": ""
             }
            },
            "type": "scattergl"
           }
          ],
          "scattermapbox": [
           {
            "marker": {
             "colorbar": {
              "outlinewidth": 0,
              "ticks": ""
             }
            },
            "type": "scattermapbox"
           }
          ],
          "scatterpolar": [
           {
            "marker": {
             "colorbar": {
              "outlinewidth": 0,
              "ticks": ""
             }
            },
            "type": "scatterpolar"
           }
          ],
          "scatterpolargl": [
           {
            "marker": {
             "colorbar": {
              "outlinewidth": 0,
              "ticks": ""
             }
            },
            "type": "scatterpolargl"
           }
          ],
          "scatterternary": [
           {
            "marker": {
             "colorbar": {
              "outlinewidth": 0,
              "ticks": ""
             }
            },
            "type": "scatterternary"
           }
          ],
          "surface": [
           {
            "colorbar": {
             "outlinewidth": 0,
             "ticks": ""
            },
            "colorscale": [
             [
              0,
              "#0d0887"
             ],
             [
              0.1111111111111111,
              "#46039f"
             ],
             [
              0.2222222222222222,
              "#7201a8"
             ],
             [
              0.3333333333333333,
              "#9c179e"
             ],
             [
              0.4444444444444444,
              "#bd3786"
             ],
             [
              0.5555555555555556,
              "#d8576b"
             ],
             [
              0.6666666666666666,
              "#ed7953"
             ],
             [
              0.7777777777777778,
              "#fb9f3a"
             ],
             [
              0.8888888888888888,
              "#fdca26"
             ],
             [
              1,
              "#f0f921"
             ]
            ],
            "type": "surface"
           }
          ],
          "table": [
           {
            "cells": {
             "fill": {
              "color": "#EBF0F8"
             },
             "line": {
              "color": "white"
             }
            },
            "header": {
             "fill": {
              "color": "#C8D4E3"
             },
             "line": {
              "color": "white"
             }
            },
            "type": "table"
           }
          ]
         },
         "layout": {
          "annotationdefaults": {
           "arrowcolor": "#2a3f5f",
           "arrowhead": 0,
           "arrowwidth": 1
          },
          "autotypenumbers": "strict",
          "coloraxis": {
           "colorbar": {
            "outlinewidth": 0,
            "ticks": ""
           }
          },
          "colorscale": {
           "diverging": [
            [
             0,
             "#8e0152"
            ],
            [
             0.1,
             "#c51b7d"
            ],
            [
             0.2,
             "#de77ae"
            ],
            [
             0.3,
             "#f1b6da"
            ],
            [
             0.4,
             "#fde0ef"
            ],
            [
             0.5,
             "#f7f7f7"
            ],
            [
             0.6,
             "#e6f5d0"
            ],
            [
             0.7,
             "#b8e186"
            ],
            [
             0.8,
             "#7fbc41"
            ],
            [
             0.9,
             "#4d9221"
            ],
            [
             1,
             "#276419"
            ]
           ],
           "sequential": [
            [
             0,
             "#0d0887"
            ],
            [
             0.1111111111111111,
             "#46039f"
            ],
            [
             0.2222222222222222,
             "#7201a8"
            ],
            [
             0.3333333333333333,
             "#9c179e"
            ],
            [
             0.4444444444444444,
             "#bd3786"
            ],
            [
             0.5555555555555556,
             "#d8576b"
            ],
            [
             0.6666666666666666,
             "#ed7953"
            ],
            [
             0.7777777777777778,
             "#fb9f3a"
            ],
            [
             0.8888888888888888,
             "#fdca26"
            ],
            [
             1,
             "#f0f921"
            ]
           ],
           "sequentialminus": [
            [
             0,
             "#0d0887"
            ],
            [
             0.1111111111111111,
             "#46039f"
            ],
            [
             0.2222222222222222,
             "#7201a8"
            ],
            [
             0.3333333333333333,
             "#9c179e"
            ],
            [
             0.4444444444444444,
             "#bd3786"
            ],
            [
             0.5555555555555556,
             "#d8576b"
            ],
            [
             0.6666666666666666,
             "#ed7953"
            ],
            [
             0.7777777777777778,
             "#fb9f3a"
            ],
            [
             0.8888888888888888,
             "#fdca26"
            ],
            [
             1,
             "#f0f921"
            ]
           ]
          },
          "colorway": [
           "#636efa",
           "#EF553B",
           "#00cc96",
           "#ab63fa",
           "#FFA15A",
           "#19d3f3",
           "#FF6692",
           "#B6E880",
           "#FF97FF",
           "#FECB52"
          ],
          "font": {
           "color": "#2a3f5f"
          },
          "geo": {
           "bgcolor": "white",
           "lakecolor": "white",
           "landcolor": "#E5ECF6",
           "showlakes": true,
           "showland": true,
           "subunitcolor": "white"
          },
          "hoverlabel": {
           "align": "left"
          },
          "hovermode": "closest",
          "mapbox": {
           "style": "light"
          },
          "paper_bgcolor": "white",
          "plot_bgcolor": "#E5ECF6",
          "polar": {
           "angularaxis": {
            "gridcolor": "white",
            "linecolor": "white",
            "ticks": ""
           },
           "bgcolor": "#E5ECF6",
           "radialaxis": {
            "gridcolor": "white",
            "linecolor": "white",
            "ticks": ""
           }
          },
          "scene": {
           "xaxis": {
            "backgroundcolor": "#E5ECF6",
            "gridcolor": "white",
            "gridwidth": 2,
            "linecolor": "white",
            "showbackground": true,
            "ticks": "",
            "zerolinecolor": "white"
           },
           "yaxis": {
            "backgroundcolor": "#E5ECF6",
            "gridcolor": "white",
            "gridwidth": 2,
            "linecolor": "white",
            "showbackground": true,
            "ticks": "",
            "zerolinecolor": "white"
           },
           "zaxis": {
            "backgroundcolor": "#E5ECF6",
            "gridcolor": "white",
            "gridwidth": 2,
            "linecolor": "white",
            "showbackground": true,
            "ticks": "",
            "zerolinecolor": "white"
           }
          },
          "shapedefaults": {
           "line": {
            "color": "#2a3f5f"
           }
          },
          "ternary": {
           "aaxis": {
            "gridcolor": "white",
            "linecolor": "white",
            "ticks": ""
           },
           "baxis": {
            "gridcolor": "white",
            "linecolor": "white",
            "ticks": ""
           },
           "bgcolor": "#E5ECF6",
           "caxis": {
            "gridcolor": "white",
            "linecolor": "white",
            "ticks": ""
           }
          },
          "title": {
           "x": 0.05
          },
          "xaxis": {
           "automargin": true,
           "gridcolor": "white",
           "linecolor": "white",
           "ticks": "",
           "title": {
            "standoff": 15
           },
           "zerolinecolor": "white",
           "zerolinewidth": 2
          },
          "yaxis": {
           "automargin": true,
           "gridcolor": "white",
           "linecolor": "white",
           "ticks": "",
           "title": {
            "standoff": 15
           },
           "zerolinecolor": "white",
           "zerolinewidth": 2
          }
         }
        },
        "title": {
         "text": "Crime Counts by Area"
        },
        "xaxis": {
         "anchor": "y",
         "domain": [
          0,
          1
         ],
         "tickangle": -45,
         "title": {
          "text": "Area"
         }
        },
        "yaxis": {
         "anchor": "x",
         "domain": [
          0,
          1
         ],
         "title": {
          "text": "Number of Crimes"
         }
        }
       }
      }
     },
     "metadata": {},
     "output_type": "display_data"
    }
   ],
   "source": [
    "# Assuming 'crime_counts' is the output of your groupby operation\n",
    "crime_counts = sa_crimes.groupby('Service_Area')['NIBRS_Code_Name'].value_counts().reset_index(name='count')\n",
    "# Bar chart showing total crimes per area\n",
    "fig = px.bar(crime_counts, \n",
    "             x='Service_Area', \n",
    "             y='count', \n",
    "             color='NIBRS_Code_Name', \n",
    "             title='Crime Type Distribution Counts by Area',\n",
    "             labels={'Service_Area': 'Area', 'count': 'Number of Crimes', 'NIBRS_Code_Name': 'Crime Type'},\n",
    "             height=600)\n",
    "fig.update_layout(xaxis_tickangle=-45)  # Rotate x-axis labels for better readability\n",
    "fig.show()\n"
   ]
  },
  {
   "cell_type": "markdown",
   "id": "d92bfe61",
   "metadata": {},
   "source": [
    "# Crimes by zipcode\n",
    "\n",
    "4) Which Areas have highest/lowest crime rate?"
   ]
  },
  {
   "cell_type": "code",
   "execution_count": 22,
   "id": "100d52d0",
   "metadata": {},
   "outputs": [
    {
     "data": {
      "text/plain": [
       "Zip_Code\n",
       "78216    0.052088\n",
       "78207    0.045665\n",
       "78223    0.038378\n",
       "78228    0.036105\n",
       "78227    0.034050\n",
       "           ...   \n",
       "78263    0.000015\n",
       "78206    0.000013\n",
       "78284    0.000008\n",
       "78279    0.000005\n",
       "78246    0.000003\n",
       "Name: proportion, Length: 69, dtype: float64"
      ]
     },
     "execution_count": 22,
     "metadata": {},
     "output_type": "execute_result"
    }
   ],
   "source": [
    "# 3: Crimes by zipcode\n",
    "sa_crimes['Zip_Code'].value_counts(normalize=True)"
   ]
  },
  {
   "cell_type": "code",
   "execution_count": 23,
   "id": "b089e12e",
   "metadata": {},
   "outputs": [
    {
     "data": {
      "text/html": [
       "<div>\n",
       "<style scoped>\n",
       "    .dataframe tbody tr th:only-of-type {\n",
       "        vertical-align: middle;\n",
       "    }\n",
       "\n",
       "    .dataframe tbody tr th {\n",
       "        vertical-align: top;\n",
       "    }\n",
       "\n",
       "    .dataframe thead th {\n",
       "        text-align: right;\n",
       "    }\n",
       "</style>\n",
       "<table border=\"1\" class=\"dataframe\">\n",
       "  <thead>\n",
       "    <tr style=\"text-align: right;\">\n",
       "      <th></th>\n",
       "      <th>_id</th>\n",
       "      <th>Report_ID</th>\n",
       "      <th>Report_Date</th>\n",
       "      <th>NIBRS_Code_Name</th>\n",
       "      <th>NIBRS_Crime_Against</th>\n",
       "      <th>Service_Area</th>\n",
       "      <th>NIBRS_Group</th>\n",
       "      <th>Zip_Code</th>\n",
       "      <th>DateTime</th>\n",
       "      <th>month</th>\n",
       "      <th>Day</th>\n",
       "    </tr>\n",
       "  </thead>\n",
       "  <tbody>\n",
       "    <tr>\n",
       "      <th>0</th>\n",
       "      <td>1</td>\n",
       "      <td>45000634662</td>\n",
       "      <td>2023-03-05</td>\n",
       "      <td>Aggravated Assault</td>\n",
       "      <td>PERSON</td>\n",
       "      <td>CENTRAL</td>\n",
       "      <td>Assault Offenses</td>\n",
       "      <td>78201</td>\n",
       "      <td>2025-08-01</td>\n",
       "      <td>March</td>\n",
       "      <td>Sunday</td>\n",
       "    </tr>\n",
       "    <tr>\n",
       "      <th>1</th>\n",
       "      <td>2</td>\n",
       "      <td>53896892246</td>\n",
       "      <td>2024-01-25</td>\n",
       "      <td>Aggravated Assault</td>\n",
       "      <td>PERSON</td>\n",
       "      <td>WEST</td>\n",
       "      <td>Assault Offenses</td>\n",
       "      <td>78201</td>\n",
       "      <td>2025-08-01</td>\n",
       "      <td>January</td>\n",
       "      <td>Thursday</td>\n",
       "    </tr>\n",
       "    <tr>\n",
       "      <th>2</th>\n",
       "      <td>3</td>\n",
       "      <td>55602801987</td>\n",
       "      <td>2024-04-19</td>\n",
       "      <td>Aggravated Assault</td>\n",
       "      <td>PERSON</td>\n",
       "      <td>CENTRAL</td>\n",
       "      <td>Assault Offenses</td>\n",
       "      <td>78201</td>\n",
       "      <td>2025-08-01</td>\n",
       "      <td>April</td>\n",
       "      <td>Friday</td>\n",
       "    </tr>\n",
       "    <tr>\n",
       "      <th>3</th>\n",
       "      <td>4</td>\n",
       "      <td>58290386300</td>\n",
       "      <td>2024-08-10</td>\n",
       "      <td>Aggravated Assault</td>\n",
       "      <td>PERSON</td>\n",
       "      <td>WEST</td>\n",
       "      <td>Assault Offenses</td>\n",
       "      <td>78201</td>\n",
       "      <td>2025-08-01</td>\n",
       "      <td>August</td>\n",
       "      <td>Saturday</td>\n",
       "    </tr>\n",
       "    <tr>\n",
       "      <th>4</th>\n",
       "      <td>5</td>\n",
       "      <td>63379733088</td>\n",
       "      <td>2025-03-28</td>\n",
       "      <td>Aggravated Assault</td>\n",
       "      <td>PERSON</td>\n",
       "      <td>CENTRAL</td>\n",
       "      <td>Assault Offenses</td>\n",
       "      <td>78201</td>\n",
       "      <td>2025-08-01</td>\n",
       "      <td>March</td>\n",
       "      <td>Friday</td>\n",
       "    </tr>\n",
       "  </tbody>\n",
       "</table>\n",
       "</div>"
      ],
      "text/plain": [
       "   _id    Report_ID Report_Date     NIBRS_Code_Name NIBRS_Crime_Against  \\\n",
       "0    1  45000634662  2023-03-05  Aggravated Assault              PERSON   \n",
       "1    2  53896892246  2024-01-25  Aggravated Assault              PERSON   \n",
       "2    3  55602801987  2024-04-19  Aggravated Assault              PERSON   \n",
       "3    4  58290386300  2024-08-10  Aggravated Assault              PERSON   \n",
       "4    5  63379733088  2025-03-28  Aggravated Assault              PERSON   \n",
       "\n",
       "  Service_Area       NIBRS_Group Zip_Code    DateTime    month       Day  \n",
       "0      CENTRAL  Assault Offenses    78201  2025-08-01    March    Sunday  \n",
       "1         WEST  Assault Offenses    78201  2025-08-01  January  Thursday  \n",
       "2      CENTRAL  Assault Offenses    78201  2025-08-01    April    Friday  \n",
       "3         WEST  Assault Offenses    78201  2025-08-01   August  Saturday  \n",
       "4      CENTRAL  Assault Offenses    78201  2025-08-01    March    Friday  "
      ]
     },
     "execution_count": 23,
     "metadata": {},
     "output_type": "execute_result"
    }
   ],
   "source": [
    "sa_crimes.head()"
   ]
  },
  {
   "cell_type": "code",
   "execution_count": 24,
   "id": "c1fe6e97",
   "metadata": {},
   "outputs": [
    {
     "data": {
      "text/plain": [
       "Zip_Code\n",
       "78216    20535\n",
       "78207    18003\n",
       "78223    15130\n",
       "78228    14234\n",
       "78227    13424\n",
       "         ...  \n",
       "78263        6\n",
       "78206        5\n",
       "78284        3\n",
       "78279        2\n",
       "78246        1\n",
       "Name: count, Length: 69, dtype: int64"
      ]
     },
     "execution_count": 24,
     "metadata": {},
     "output_type": "execute_result"
    }
   ],
   "source": [
    "sa_crimes['Zip_Code'].value_counts()"
   ]
  },
  {
   "cell_type": "code",
   "execution_count": 25,
   "id": "c6e80b45",
   "metadata": {},
   "outputs": [
    {
     "data": {
      "text/plain": [
       "array(['78201', '78202', '78203', '78204', '78205', '78207', '78208',\n",
       "       '78209', '78210', '78211', '78212', '78213', '78214', '78215',\n",
       "       '78216', '78217', '78218', '78219', '78220', '78221', '78222',\n",
       "       '78223', '78224', '78225', '78226', '78227', '78228', '78229',\n",
       "       '78230', '78231', '78232', '78233', '78235', '78236', '78237',\n",
       "       '78238', '78239', '78240', '78242', '78243', '78244', '78245',\n",
       "       '78247', '78248', '78249', '78250', '78251', '78252', '78253',\n",
       "       '78254', '78255', '78256', '78257', '78258', '78259', '78260',\n",
       "       '78261', '78264', '78266', '78288', 'Not Listed',\n",
       "       'Out of Jurisdiction', '78241', '78234', '78284', '78263', '78279',\n",
       "       '78206', '78246'], dtype=object)"
      ]
     },
     "execution_count": 25,
     "metadata": {},
     "output_type": "execute_result"
    }
   ],
   "source": [
    "# Getting unique zipcodes to find their corresponding coordinates so I can map this data\n",
    "sa_crimes['Zip_Code'].unique()"
   ]
  },
  {
   "cell_type": "markdown",
   "id": "040bf742",
   "metadata": {},
   "source": [
    "# Used AI to help me extract longitude and latitude coordinates using zipcodes in San Antonio. "
   ]
  },
  {
   "cell_type": "code",
   "execution_count": 26,
   "id": "cfd6976a",
   "metadata": {},
   "outputs": [
    {
     "name": "stdout",
     "output_type": "stream",
     "text": [
      "Coordinate table: 69 entries (56 with coords, 13 unknown/labels)\n",
      "Columns after merge: ['_id', 'Report_ID', 'Report_Date', 'NIBRS_Code_Name', 'NIBRS_Crime_Against', 'Service_Area', 'NIBRS_Group', 'Zip_Code', 'DateTime', 'month', 'Day', 'ZIP_LAT', 'ZIP_LON']\n",
      "\n",
      "Merge successful!\n",
      "Total crimes: 394239\n",
      "Crimes with ZIP centroids: 389489\n",
      "Coverage (ZIP-based): 98.8%\n"
     ]
    }
   ],
   "source": [
    "import numpy as np\n",
    "import pandas as pd\n",
    "import math\n",
    "\n",
    "# ---- your provided ZIP values ----\n",
    "zip_values = np.array([\n",
    "    '78201','78202','78203','78204','78205','78207','78208','78209','78210','78211',\n",
    "    '78212','78213','78214','78215','78216','78217','78218','78219','78220','78221',\n",
    "    '78222','78223','78224','78225','78226','78227','78228','78229','78230','78231',\n",
    "    '78232','78233','78235','78236','78237','78238','78239','78240','78242','78243',\n",
    "    '78244','78245','78247','78248','78249','78250','78251','78252','78253','78254',\n",
    "    '78255','78256','78257','78258','78259','78260','78261','78264','78266','78288',\n",
    "    'Not Listed','Out of Jurisdiction','78241','78234','78284','78263','78279','78206','78246'\n",
    "], dtype=object)\n",
    "\n",
    "# ---- STATIC centroid dict (copied/extended from your earlier dict; unknowns -> NaN) ----\n",
    "sa_zip_coords = {\n",
    "    '78201': {'ZIP_LAT': 29.4167, 'ZIP_LON': -98.4722},\n",
    "    '78202': {'ZIP_LAT': 29.4308, 'ZIP_LON': -98.4625},\n",
    "    '78203': {'ZIP_LAT': 29.3958, 'ZIP_LON': -98.4789},\n",
    "    '78204': {'ZIP_LAT': 29.3847, 'ZIP_LON': -98.5153},\n",
    "    '78205': {'ZIP_LAT': 29.4419, 'ZIP_LON': -98.4950},\n",
    "    '78207': {'ZIP_LAT': 29.4631, 'ZIP_LON': -98.5264},\n",
    "    '78208': {'ZIP_LAT': 29.4697, 'ZIP_LON': -98.4464},\n",
    "    '78209': {'ZIP_LAT': 29.4958, 'ZIP_LON': -98.4636},\n",
    "    '78210': {'ZIP_LAT': 29.3644, 'ZIP_LON': -98.4706},\n",
    "    '78211': {'ZIP_LAT': 29.4014, 'ZIP_LON': -98.5464},\n",
    "    '78212': {'ZIP_LAT': 29.4742, 'ZIP_LON': -98.4903},\n",
    "    '78213': {'ZIP_LAT': 29.5131, 'ZIP_LON': -98.5097},\n",
    "    '78214': {'ZIP_LAT': 29.3594, 'ZIP_LON': -98.5236},\n",
    "    '78215': {'ZIP_LAT': 29.4361, 'ZIP_LON': -98.4547},\n",
    "    '78216': {'ZIP_LAT': 29.5242, 'ZIP_LON': -98.4656},\n",
    "    '78217': {'ZIP_LAT': 29.5306, 'ZIP_LON': -98.4236},\n",
    "    '78218': {'ZIP_LAT': 29.5053, 'ZIP_LON': -98.3953},\n",
    "    '78219': {'ZIP_LAT': 29.4492, 'ZIP_LON': -98.4183},\n",
    "    '78220': {'ZIP_LAT': 29.4075, 'ZIP_LON': -98.4308},\n",
    "    '78221': {'ZIP_LAT': 29.3478, 'ZIP_LON': -98.4658},\n",
    "    '78222': {'ZIP_LAT': 29.3661, 'ZIP_LON': -98.4253},\n",
    "    '78223': {'ZIP_LAT': 29.3428, 'ZIP_LON': -98.4972},\n",
    "    '78224': {'ZIP_LAT': 29.3200, 'ZIP_LON': -98.4583},\n",
    "    '78225': {'ZIP_LAT': 29.3481, 'ZIP_LON': -98.5406},\n",
    "    '78226': {'ZIP_LAT': 29.4067, 'ZIP_LON': -98.5831},\n",
    "    '78227': {'ZIP_LAT': 29.4317, 'ZIP_LON': -98.5658},\n",
    "    '78228': {'ZIP_LAT': 29.4622, 'ZIP_LON': -98.5831},\n",
    "    '78229': {'ZIP_LAT': 29.5144, 'ZIP_LON': -98.5681},\n",
    "    '78230': {'ZIP_LAT': 29.4906, 'ZIP_LON': -98.6131},\n",
    "    '78231': {'ZIP_LAT': 29.5250, 'ZIP_LON': -98.5069},\n",
    "    '78232': {'ZIP_LAT': 29.5597, 'ZIP_LON': -98.4664},\n",
    "    '78233': {'ZIP_LAT': 29.5458, 'ZIP_LON': -98.3958},\n",
    "    '78234': {'ZIP_LAT': 29.4864, 'ZIP_LON': -98.3586},\n",
    "    '78235': {'ZIP_LAT': 29.4425, 'ZIP_LON': -98.6447},\n",
    "    '78236': {'ZIP_LAT': 29.4111, 'ZIP_LON': -98.6375},\n",
    "    '78237': {'ZIP_LAT': 29.3556, 'ZIP_LON': -98.5958},\n",
    "    '78238': {'ZIP_LAT': 29.3306, 'ZIP_LON': -98.5597},\n",
    "    '78239': {'ZIP_LAT': 29.4514, 'ZIP_LON': -98.3447},\n",
    "    '78240': {'ZIP_LAT': 29.5631, 'ZIP_LON': -98.5381},\n",
    "    '78241': {'ZIP_LAT': math.nan, 'ZIP_LON': math.nan},  # placeholder\n",
    "    '78242': {'ZIP_LAT': 29.3708, 'ZIP_LON': -98.3831},\n",
    "    '78243': {'ZIP_LAT': 29.0000, 'ZIP_LON': -98.0000},   # placeholder\n",
    "    '78244': {'ZIP_LAT': 29.3844, 'ZIP_LON': -98.3492},\n",
    "    '78245': {'ZIP_LAT': 29.3294, 'ZIP_LON': -98.6431},\n",
    "    '78246': {'ZIP_LAT': math.nan, 'ZIP_LON': math.nan},  # placeholder\n",
    "    '78247': {'ZIP_LAT': 29.5806, 'ZIP_LON': -98.4831},\n",
    "    '78248': {'ZIP_LAT': 29.5578, 'ZIP_LON': -98.5853},\n",
    "    '78249': {'ZIP_LAT': 29.5247, 'ZIP_LON': -98.6264},\n",
    "    '78250': {'ZIP_LAT': 29.4833, 'ZIP_LON': -98.6581},\n",
    "    '78251': {'ZIP_LAT': 29.4239, 'ZIP_LON': -98.6981},\n",
    "    '78252': {'ZIP_LAT': 29.5331, 'ZIP_LON': -98.6581},\n",
    "    '78253': {'ZIP_LAT': 29.4622, 'ZIP_LON': -98.6997},\n",
    "    '78254': {'ZIP_LAT': 29.5331, 'ZIP_LON': -98.7131},\n",
    "    '78255': {'ZIP_LAT': 29.5831, 'ZIP_LON': -98.5331},\n",
    "    '78256': {'ZIP_LAT': 29.5556, 'ZIP_LON': -98.6331},\n",
    "    '78257': {'ZIP_LAT': 29.6331, 'ZIP_LON': -98.4831},\n",
    "    '78258': {'ZIP_LAT': 29.5831, 'ZIP_LON': -98.4331},\n",
    "    '78259': {'ZIP_LAT': 29.6131, 'ZIP_LON': -98.5831},\n",
    "    '78260': {'ZIP_LAT': math.nan, 'ZIP_LON': math.nan},  # unknowns below\n",
    "    '78261': {'ZIP_LAT': math.nan, 'ZIP_LON': math.nan},\n",
    "    '78263': {'ZIP_LAT': math.nan, 'ZIP_LON': math.nan},\n",
    "    '78264': {'ZIP_LAT': math.nan, 'ZIP_LON': math.nan},\n",
    "    '78266': {'ZIP_LAT': math.nan, 'ZIP_LON': math.nan},\n",
    "    '78279': {'ZIP_LAT': math.nan, 'ZIP_LON': math.nan},\n",
    "    '78284': {'ZIP_LAT': math.nan, 'ZIP_LON': math.nan},\n",
    "    '78288': {'ZIP_LAT': math.nan, 'ZIP_LON': math.nan},\n",
    "    '78206': {'ZIP_LAT': math.nan, 'ZIP_LON': math.nan},\n",
    "}\n",
    "\n",
    "# ---- build a coords table for exactly the items you care about ----\n",
    "all_zips = pd.Series(zip_values).astype(str).str.strip().str.upper()\n",
    "coords_rows = []\n",
    "for z in all_zips:\n",
    "    if z.isdigit() and len(z) == 5:\n",
    "        entry = sa_zip_coords.get(z, {'ZIP_LAT': math.nan, 'ZIP_LON': math.nan})\n",
    "        coords_rows.append({'Zip_Code': z, **entry})\n",
    "    else:\n",
    "        coords_rows.append({'Zip_Code': z, 'ZIP_LAT': math.nan, 'ZIP_LON': math.nan})\n",
    "coords_df = pd.DataFrame(coords_rows).drop_duplicates('Zip_Code')\n",
    "\n",
    "print(f\"Coordinate table: {len(coords_df)} entries \"\n",
    "      f\"({coords_df['ZIP_LAT'].notna().sum()} with coords, \"\n",
    "      f\"{coords_df['ZIP_LAT'].isna().sum()} unknown/labels)\")\n",
    "\n",
    "# ---- normalize crime ZIPs and merge ----\n",
    "sa_crimes['Zip_Code'] = sa_crimes['Zip_Code'].astype(str).str.strip().str.upper()\n",
    "mask_digits = sa_crimes['Zip_Code'].str.fullmatch(r'\\d{1,5}', na=False)\n",
    "sa_crimes.loc[mask_digits, 'Zip_Code'] = sa_crimes.loc[mask_digits, 'Zip_Code'].str.zfill(5)\n",
    "\n",
    "sa_crimes_merged = sa_crimes.merge(coords_df, on='Zip_Code', how='left')\n",
    "\n",
    "with_coords = sa_crimes_merged['ZIP_LAT'].notna() & sa_crimes_merged['ZIP_LON'].notna()\n",
    "total = len(sa_crimes_merged)\n",
    "\n",
    "print(\"Columns after merge:\", sa_crimes_merged.columns.tolist())\n",
    "print(\"\\nMerge successful!\")\n",
    "print(f\"Total crimes: {total}\")\n",
    "print(f\"Crimes with ZIP centroids: {with_coords.sum()}\")\n",
    "print(f\"Coverage (ZIP-based): {(with_coords.sum()/total*100 if total else 0):.1f}%\")\n",
    "\n",
    "# keep it\n",
    "sa_crimes = sa_crimes_merged\n"
   ]
  },
  {
   "cell_type": "code",
   "execution_count": 27,
   "id": "8d67309b",
   "metadata": {},
   "outputs": [
    {
     "data": {
      "text/html": [
       "<div>\n",
       "<style scoped>\n",
       "    .dataframe tbody tr th:only-of-type {\n",
       "        vertical-align: middle;\n",
       "    }\n",
       "\n",
       "    .dataframe tbody tr th {\n",
       "        vertical-align: top;\n",
       "    }\n",
       "\n",
       "    .dataframe thead th {\n",
       "        text-align: right;\n",
       "    }\n",
       "</style>\n",
       "<table border=\"1\" class=\"dataframe\">\n",
       "  <thead>\n",
       "    <tr style=\"text-align: right;\">\n",
       "      <th></th>\n",
       "      <th>_id</th>\n",
       "      <th>Report_ID</th>\n",
       "      <th>Report_Date</th>\n",
       "      <th>NIBRS_Code_Name</th>\n",
       "      <th>NIBRS_Crime_Against</th>\n",
       "      <th>Service_Area</th>\n",
       "      <th>NIBRS_Group</th>\n",
       "      <th>Zip_Code</th>\n",
       "      <th>DateTime</th>\n",
       "      <th>month</th>\n",
       "      <th>Day</th>\n",
       "      <th>ZIP_LAT</th>\n",
       "      <th>ZIP_LON</th>\n",
       "    </tr>\n",
       "  </thead>\n",
       "  <tbody>\n",
       "    <tr>\n",
       "      <th>0</th>\n",
       "      <td>1</td>\n",
       "      <td>45000634662</td>\n",
       "      <td>2023-03-05</td>\n",
       "      <td>Aggravated Assault</td>\n",
       "      <td>PERSON</td>\n",
       "      <td>CENTRAL</td>\n",
       "      <td>Assault Offenses</td>\n",
       "      <td>78201</td>\n",
       "      <td>2025-08-01</td>\n",
       "      <td>March</td>\n",
       "      <td>Sunday</td>\n",
       "      <td>29.4167</td>\n",
       "      <td>-98.4722</td>\n",
       "    </tr>\n",
       "    <tr>\n",
       "      <th>1</th>\n",
       "      <td>2</td>\n",
       "      <td>53896892246</td>\n",
       "      <td>2024-01-25</td>\n",
       "      <td>Aggravated Assault</td>\n",
       "      <td>PERSON</td>\n",
       "      <td>WEST</td>\n",
       "      <td>Assault Offenses</td>\n",
       "      <td>78201</td>\n",
       "      <td>2025-08-01</td>\n",
       "      <td>January</td>\n",
       "      <td>Thursday</td>\n",
       "      <td>29.4167</td>\n",
       "      <td>-98.4722</td>\n",
       "    </tr>\n",
       "    <tr>\n",
       "      <th>2</th>\n",
       "      <td>3</td>\n",
       "      <td>55602801987</td>\n",
       "      <td>2024-04-19</td>\n",
       "      <td>Aggravated Assault</td>\n",
       "      <td>PERSON</td>\n",
       "      <td>CENTRAL</td>\n",
       "      <td>Assault Offenses</td>\n",
       "      <td>78201</td>\n",
       "      <td>2025-08-01</td>\n",
       "      <td>April</td>\n",
       "      <td>Friday</td>\n",
       "      <td>29.4167</td>\n",
       "      <td>-98.4722</td>\n",
       "    </tr>\n",
       "    <tr>\n",
       "      <th>3</th>\n",
       "      <td>4</td>\n",
       "      <td>58290386300</td>\n",
       "      <td>2024-08-10</td>\n",
       "      <td>Aggravated Assault</td>\n",
       "      <td>PERSON</td>\n",
       "      <td>WEST</td>\n",
       "      <td>Assault Offenses</td>\n",
       "      <td>78201</td>\n",
       "      <td>2025-08-01</td>\n",
       "      <td>August</td>\n",
       "      <td>Saturday</td>\n",
       "      <td>29.4167</td>\n",
       "      <td>-98.4722</td>\n",
       "    </tr>\n",
       "    <tr>\n",
       "      <th>4</th>\n",
       "      <td>5</td>\n",
       "      <td>63379733088</td>\n",
       "      <td>2025-03-28</td>\n",
       "      <td>Aggravated Assault</td>\n",
       "      <td>PERSON</td>\n",
       "      <td>CENTRAL</td>\n",
       "      <td>Assault Offenses</td>\n",
       "      <td>78201</td>\n",
       "      <td>2025-08-01</td>\n",
       "      <td>March</td>\n",
       "      <td>Friday</td>\n",
       "      <td>29.4167</td>\n",
       "      <td>-98.4722</td>\n",
       "    </tr>\n",
       "  </tbody>\n",
       "</table>\n",
       "</div>"
      ],
      "text/plain": [
       "   _id    Report_ID Report_Date     NIBRS_Code_Name NIBRS_Crime_Against  \\\n",
       "0    1  45000634662  2023-03-05  Aggravated Assault              PERSON   \n",
       "1    2  53896892246  2024-01-25  Aggravated Assault              PERSON   \n",
       "2    3  55602801987  2024-04-19  Aggravated Assault              PERSON   \n",
       "3    4  58290386300  2024-08-10  Aggravated Assault              PERSON   \n",
       "4    5  63379733088  2025-03-28  Aggravated Assault              PERSON   \n",
       "\n",
       "  Service_Area       NIBRS_Group Zip_Code    DateTime    month       Day  \\\n",
       "0      CENTRAL  Assault Offenses    78201  2025-08-01    March    Sunday   \n",
       "1         WEST  Assault Offenses    78201  2025-08-01  January  Thursday   \n",
       "2      CENTRAL  Assault Offenses    78201  2025-08-01    April    Friday   \n",
       "3         WEST  Assault Offenses    78201  2025-08-01   August  Saturday   \n",
       "4      CENTRAL  Assault Offenses    78201  2025-08-01    March    Friday   \n",
       "\n",
       "   ZIP_LAT  ZIP_LON  \n",
       "0  29.4167 -98.4722  \n",
       "1  29.4167 -98.4722  \n",
       "2  29.4167 -98.4722  \n",
       "3  29.4167 -98.4722  \n",
       "4  29.4167 -98.4722  "
      ]
     },
     "execution_count": 27,
     "metadata": {},
     "output_type": "execute_result"
    }
   ],
   "source": [
    "sa_crimes.head()"
   ]
  },
  {
   "cell_type": "code",
   "execution_count": 28,
   "id": "912b04d1",
   "metadata": {},
   "outputs": [],
   "source": [
    "event_counts =sa_crimes.groupby('Zip_Code').size().reset_index(name='count')"
   ]
  },
  {
   "cell_type": "code",
   "execution_count": 29,
   "id": "946128b6",
   "metadata": {},
   "outputs": [
    {
     "data": {
      "application/vnd.plotly.v1+json": {
       "config": {
        "plotlyServerURL": "https://plot.ly"
       },
       "data": [
        {
         "customdata": [
          [
           "78201",
           3661
          ],
          [
           "78201",
           292
          ],
          [
           "78201",
           2
          ],
          [
           "78201",
           2
          ],
          [
           "78201",
           5
          ],
          [
           "78201",
           1
          ],
          [
           "78201",
           7661
          ],
          [
           "78202",
           11
          ],
          [
           "78202",
           350
          ],
          [
           "78202",
           4722
          ],
          [
           "78202",
           1
          ],
          [
           "78202",
           3
          ],
          [
           "78203",
           6
          ],
          [
           "78203",
           65
          ],
          [
           "78203",
           1812
          ],
          [
           "78203",
           2
          ],
          [
           "78204",
           2658
          ],
          [
           "78204",
           1502
          ],
          [
           "78204",
           1
          ],
          [
           "78204",
           1
          ],
          [
           "78204",
           2
          ],
          [
           "78204",
           640
          ],
          [
           "78204",
           1
          ],
          [
           "78205",
           5542
          ],
          [
           "78205",
           4057
          ],
          [
           "78205",
           381
          ],
          [
           "78205",
           4
          ],
          [
           "78205",
           2
          ],
          [
           "78205",
           1
          ],
          [
           "78207",
           17132
          ],
          [
           "78207",
           531
          ],
          [
           "78207",
           6
          ],
          [
           "78207",
           2
          ],
          [
           "78207",
           1
          ],
          [
           "78207",
           291
          ],
          [
           "78207",
           40
          ],
          [
           "78208",
           75
          ],
          [
           "78208",
           87
          ],
          [
           "78208",
           1443
          ],
          [
           "78208",
           1
          ],
          [
           "78209",
           611
          ],
          [
           "78209",
           372
          ],
          [
           "78209",
           96
          ],
          [
           "78209",
           6977
          ],
          [
           "78209",
           1
          ],
          [
           "78210",
           1088
          ],
          [
           "78210",
           870
          ],
          [
           "78210",
           5761
          ],
          [
           "78210",
           1
          ],
          [
           "78210",
           1863
          ],
          [
           "78210",
           5
          ],
          [
           "78211",
           1
          ],
          [
           "78211",
           1
          ],
          [
           "78211",
           2
          ],
          [
           "78211",
           1
          ],
          [
           "78211",
           7330
          ],
          [
           "78211",
           4
          ],
          [
           "78212",
           5453
          ],
          [
           "78212",
           3138
          ],
          [
           "78212",
           5
          ],
          [
           "78212",
           17
          ],
          [
           "78212",
           1
          ],
          [
           "78212",
           2
          ],
          [
           "78213",
           4940
          ],
          [
           "78213",
           4
          ],
          [
           "78213",
           4045
          ],
          [
           "78213",
           134
          ],
          [
           "78213",
           1
          ],
          [
           "78213",
           7
          ],
          [
           "78214",
           1
          ],
          [
           "78214",
           4
          ],
          [
           "78214",
           7303
          ],
          [
           "78214",
           2
          ],
          [
           "78215",
           2294
          ],
          [
           "78215",
           1961
          ],
          [
           "78215",
           172
          ],
          [
           "78216",
           23
          ],
          [
           "78216",
           5
          ],
          [
           "78216",
           4
          ],
          [
           "78216",
           19221
          ],
          [
           "78216",
           1281
          ],
          [
           "78216",
           1
          ],
          [
           "78217",
           1
          ],
          [
           "78217",
           2
          ],
          [
           "78217",
           183
          ],
          [
           "78217",
           9349
          ],
          [
           "78217",
           1
          ],
          [
           "78217",
           3
          ],
          [
           "78218",
           2
          ],
          [
           "78218",
           1
          ],
          [
           "78218",
           10293
          ],
          [
           "78218",
           815
          ],
          [
           "78218",
           11
          ],
          [
           "78219",
           4524
          ],
          [
           "78219",
           2
          ],
          [
           "78219",
           1
          ],
          [
           "78219",
           11
          ],
          [
           "78219",
           1
          ],
          [
           "78220",
           4
          ],
          [
           "78220",
           1
          ],
          [
           "78220",
           7170
          ],
          [
           "78220",
           1
          ],
          [
           "78220",
           3
          ],
          [
           "78220",
           1
          ],
          [
           "78220",
           1
          ],
          [
           "78221",
           1
          ],
          [
           "78221",
           2
          ],
          [
           "78221",
           3
          ],
          [
           "78221",
           1
          ],
          [
           "78221",
           9502
          ],
          [
           "78221",
           2
          ],
          [
           "78222",
           2
          ],
          [
           "78222",
           5105
          ],
          [
           "78222",
           1
          ],
          [
           "78222",
           4
          ],
          [
           "78222",
           2
          ],
          [
           "78223",
           5
          ],
          [
           "78223",
           6999
          ],
          [
           "78223",
           8
          ],
          [
           "78223",
           2
          ],
          [
           "78223",
           8116
          ],
          [
           "78224",
           2
          ],
          [
           "78224",
           1
          ],
          [
           "78224",
           3
          ],
          [
           "78224",
           2
          ],
          [
           "78224",
           1
          ],
          [
           "78224",
           9124
          ],
          [
           "78224",
           3
          ],
          [
           "78225",
           2
          ],
          [
           "78225",
           3
          ],
          [
           "78225",
           2
          ],
          [
           "78225",
           2480
          ],
          [
           "78225",
           2
          ],
          [
           "78226",
           2094
          ],
          [
           "78226",
           1
          ],
          [
           "78227",
           5
          ],
          [
           "78227",
           1
          ],
          [
           "78227",
           2
          ],
          [
           "78227",
           2663
          ],
          [
           "78227",
           10753
          ],
          [
           "78228",
           719
          ],
          [
           "78228",
           2
          ],
          [
           "78228",
           1
          ],
          [
           "78228",
           10
          ],
          [
           "78228",
           4
          ],
          [
           "78228",
           13498
          ],
          [
           "78229",
           2
          ],
          [
           "78229",
           1
          ],
          [
           "78229",
           4
          ],
          [
           "78229",
           12573
          ],
          [
           "78229",
           401
          ],
          [
           "78230",
           151
          ],
          [
           "78230",
           1
          ],
          [
           "78230",
           2
          ],
          [
           "78230",
           3
          ],
          [
           "78230",
           11980
          ],
          [
           "78230",
           1
          ],
          [
           "78231",
           1
          ],
          [
           "78231",
           782
          ],
          [
           "78231",
           629
          ],
          [
           "78232",
           2
          ],
          [
           "78232",
           3
          ],
          [
           "78232",
           6854
          ],
          [
           "78232",
           507
          ],
          [
           "78232",
           1
          ],
          [
           "78233",
           2
          ],
          [
           "78233",
           7
          ],
          [
           "78233",
           6943
          ],
          [
           "78233",
           7
          ],
          [
           "78234",
           1
          ],
          [
           "78234",
           1
          ],
          [
           "78234",
           13
          ],
          [
           "78234",
           2
          ],
          [
           "78234",
           2
          ],
          [
           "78234",
           20
          ],
          [
           "78235",
           1322
          ],
          [
           "78235",
           1
          ],
          [
           "78236",
           54
          ],
          [
           "78236",
           3
          ],
          [
           "78237",
           491
          ],
          [
           "78237",
           2
          ],
          [
           "78237",
           1
          ],
          [
           "78237",
           786
          ],
          [
           "78237",
           10426
          ],
          [
           "78238",
           3
          ],
          [
           "78238",
           1
          ],
          [
           "78238",
           3
          ],
          [
           "78238",
           901
          ],
          [
           "78238",
           4
          ],
          [
           "78238",
           8340
          ],
          [
           "78239",
           1
          ],
          [
           "78239",
           267
          ],
          [
           "78239",
           545
          ],
          [
           "78239",
           1
          ],
          [
           "78239",
           1
          ],
          [
           "78240",
           1
          ],
          [
           "78240",
           1
          ],
          [
           "78240",
           3
          ],
          [
           "78240",
           10253
          ],
          [
           "78240",
           2
          ],
          [
           "78240",
           1
          ],
          [
           "78242",
           2
          ],
          [
           "78242",
           1
          ],
          [
           "78242",
           6021
          ],
          [
           "78242",
           3
          ],
          [
           "78243",
           1
          ],
          [
           "78243",
           31
          ],
          [
           "78244",
           2
          ],
          [
           "78244",
           2175
          ],
          [
           "78244",
           7
          ],
          [
           "78244",
           1
          ],
          [
           "78245",
           1
          ],
          [
           "78245",
           1
          ],
          [
           "78245",
           3
          ],
          [
           "78245",
           2
          ],
          [
           "78245",
           3
          ],
          [
           "78245",
           11583
          ],
          [
           "78247",
           2
          ],
          [
           "78247",
           1
          ],
          [
           "78247",
           6387
          ],
          [
           "78247",
           1
          ],
          [
           "78247",
           3
          ],
          [
           "78248",
           7
          ],
          [
           "78248",
           1094
          ],
          [
           "78249",
           4
          ],
          [
           "78249",
           7
          ],
          [
           "78249",
           12194
          ],
          [
           "78249",
           2
          ],
          [
           "78249",
           1
          ],
          [
           "78250",
           2
          ],
          [
           "78250",
           2
          ],
          [
           "78250",
           5588
          ],
          [
           "78250",
           275
          ],
          [
           "78251",
           1
          ],
          [
           "78251",
           1
          ],
          [
           "78251",
           625
          ],
          [
           "78251",
           4
          ],
          [
           "78251",
           11220
          ],
          [
           "78252",
           1
          ],
          [
           "78252",
           1511
          ],
          [
           "78252",
           4
          ],
          [
           "78253",
           1
          ],
          [
           "78253",
           1
          ],
          [
           "78253",
           1
          ],
          [
           "78253",
           1490
          ],
          [
           "78254",
           1
          ],
          [
           "78254",
           1
          ],
          [
           "78254",
           2
          ],
          [
           "78254",
           1
          ],
          [
           "78254",
           2963
          ],
          [
           "78254",
           2
          ],
          [
           "78254",
           634
          ],
          [
           "78255",
           1
          ],
          [
           "78255",
           588
          ],
          [
           "78255",
           2
          ],
          [
           "78256",
           4247
          ],
          [
           "78257",
           1
          ],
          [
           "78257",
           1
          ],
          [
           "78257",
           1
          ],
          [
           "78257",
           5730
          ],
          [
           "78258",
           1
          ],
          [
           "78258",
           1
          ],
          [
           "78258",
           6170
          ],
          [
           "78258",
           26
          ],
          [
           "78258",
           2
          ],
          [
           "78259",
           1
          ],
          [
           "78259",
           3019
          ],
          [
           "78259",
           1
          ],
          [
           "78259",
           1
          ],
          [
           "78259",
           1
          ]
         ],
         "hovertemplate": "<b>%{hovertext}</b><br><br>Crime_Count=%{marker.color}<br>ZIP_LAT=%{lat}<br>ZIP_LON=%{lon}<br>Zip_Code=%{customdata[0]}<extra></extra>",
         "hovertext": [
          "CENTRAL",
          "DOWNTOWN",
          "EAST",
          "NORTH",
          "PRUE",
          "SOUTH",
          "WEST",
          "CENTRAL",
          "DOWNTOWN",
          "EAST",
          "SOUTH",
          "WEST",
          "CENTRAL",
          "DOWNTOWN",
          "EAST",
          "SOUTH",
          "CENTRAL",
          "DOWNTOWN",
          "EAST",
          "NORTH",
          "PRUE",
          "SOUTH",
          "WEST",
          "CENTRAL",
          "DOWNTOWN",
          "EAST",
          "NORTH",
          "SOUTH",
          "WEST",
          "CENTRAL",
          "DOWNTOWN",
          "EAST",
          "NORTH",
          "PRUE",
          "SOUTH",
          "WEST",
          "CENTRAL",
          "DOWNTOWN",
          "EAST",
          "PRUE",
          "CENTRAL",
          "DOWNTOWN",
          "EAST",
          "NORTH",
          "SOUTH",
          "CENTRAL",
          "DOWNTOWN",
          "EAST",
          "NORTH",
          "SOUTH",
          "WEST",
          "CENTRAL",
          "DOWNTOWN",
          "EAST",
          "NORTH",
          "SOUTH",
          "WEST",
          "CENTRAL",
          "DOWNTOWN",
          "EAST",
          "NORTH",
          "PRUE",
          "SOUTH",
          "CENTRAL",
          "EAST",
          "NORTH",
          "PRUE",
          "SOUTH",
          "WEST",
          "CENTRAL",
          "EAST",
          "SOUTH",
          "WEST",
          "CENTRAL",
          "DOWNTOWN",
          "EAST",
          "CENTRAL",
          "DOWNTOWN",
          "EAST",
          "NORTH",
          "PRUE",
          "WEST",
          "CENTRAL",
          "DOWNTOWN",
          "EAST",
          "NORTH",
          "PRUE",
          "SOUTH",
          "CENTRAL",
          "DOWNTOWN",
          "EAST",
          "NORTH",
          "SOUTH",
          "EAST",
          "NORTH",
          "PRUE",
          "SOUTH",
          "WEST",
          "CENTRAL",
          "DOWNTOWN",
          "EAST",
          "NORTH",
          "PRUE",
          "SOUTH",
          "WEST",
          "CENTRAL",
          "DOWNTOWN",
          "EAST",
          "NORTH",
          "SOUTH",
          "WEST",
          "CENTRAL",
          "EAST",
          "NORTH",
          "SOUTH",
          "WEST",
          "CENTRAL",
          "EAST",
          "NORTH",
          "PRUE",
          "SOUTH",
          "CENTRAL",
          "DOWNTOWN",
          "EAST",
          "NORTH",
          "PRUE",
          "SOUTH",
          "WEST",
          "CENTRAL",
          "NORTH",
          "PRUE",
          "SOUTH",
          "WEST",
          "SOUTH",
          "WEST",
          "CENTRAL",
          "NORTH",
          "PRUE",
          "SOUTH",
          "WEST",
          "CENTRAL",
          "EAST",
          "NORTH",
          "PRUE",
          "SOUTH",
          "WEST",
          "CENTRAL",
          "EAST",
          "NORTH",
          "PRUE",
          "WEST",
          "CENTRAL",
          "DOWNTOWN",
          "EAST",
          "NORTH",
          "PRUE",
          "SOUTH",
          "CENTRAL",
          "NORTH",
          "PRUE",
          "CENTRAL",
          "EAST",
          "NORTH",
          "PRUE",
          "SOUTH",
          "DOWNTOWN",
          "EAST",
          "NORTH",
          "SOUTH",
          "CENTRAL",
          "DOWNTOWN",
          "EAST",
          "NORTH",
          "PRUE",
          "SOUTH",
          "SOUTH",
          "WEST",
          "SOUTH",
          "WEST",
          "CENTRAL",
          "EAST",
          "PRUE",
          "SOUTH",
          "WEST",
          "CENTRAL",
          "DOWNTOWN",
          "NORTH",
          "PRUE",
          "SOUTH",
          "WEST",
          "CENTRAL",
          "EAST",
          "NORTH",
          "PRUE",
          "SOUTH",
          "CENTRAL",
          "EAST",
          "NORTH",
          "PRUE",
          "SOUTH",
          "WEST",
          "CENTRAL",
          "EAST",
          "SOUTH",
          "WEST",
          "NORTH",
          "SOUTH",
          "CENTRAL",
          "EAST",
          "SOUTH",
          "WEST",
          "CENTRAL",
          "DOWNTOWN",
          "NORTH",
          "PRUE",
          "SOUTH",
          "WEST",
          "CENTRAL",
          "EAST",
          "NORTH",
          "PRUE",
          "WEST",
          "NORTH",
          "PRUE",
          "EAST",
          "NORTH",
          "PRUE",
          "SOUTH",
          "WEST",
          "DOWNTOWN",
          "NORTH",
          "PRUE",
          "WEST",
          "DOWNTOWN",
          "NORTH",
          "PRUE",
          "SOUTH",
          "WEST",
          "PRUE",
          "SOUTH",
          "WEST",
          "CENTRAL",
          "DOWNTOWN",
          "EAST",
          "WEST",
          "CENTRAL",
          "DOWNTOWN",
          "EAST",
          "NORTH",
          "PRUE",
          "SOUTH",
          "WEST",
          "CENTRAL",
          "PRUE",
          "SOUTH",
          "PRUE",
          "DOWNTOWN",
          "EAST",
          "NORTH",
          "PRUE",
          "CENTRAL",
          "EAST",
          "NORTH",
          "PRUE",
          "SOUTH",
          "EAST",
          "NORTH",
          "PRUE",
          "SOUTH",
          "WEST"
         ],
         "lat": [
          29.4167,
          29.4167,
          29.4167,
          29.4167,
          29.4167,
          29.4167,
          29.4167,
          29.4308,
          29.4308,
          29.4308,
          29.4308,
          29.4308,
          29.3958,
          29.3958,
          29.3958,
          29.3958,
          29.3847,
          29.3847,
          29.3847,
          29.3847,
          29.3847,
          29.3847,
          29.3847,
          29.4419,
          29.4419,
          29.4419,
          29.4419,
          29.4419,
          29.4419,
          29.4631,
          29.4631,
          29.4631,
          29.4631,
          29.4631,
          29.4631,
          29.4631,
          29.4697,
          29.4697,
          29.4697,
          29.4697,
          29.4958,
          29.4958,
          29.4958,
          29.4958,
          29.4958,
          29.3644,
          29.3644,
          29.3644,
          29.3644,
          29.3644,
          29.3644,
          29.4014,
          29.4014,
          29.4014,
          29.4014,
          29.4014,
          29.4014,
          29.4742,
          29.4742,
          29.4742,
          29.4742,
          29.4742,
          29.4742,
          29.5131,
          29.5131,
          29.5131,
          29.5131,
          29.5131,
          29.5131,
          29.3594,
          29.3594,
          29.3594,
          29.3594,
          29.4361,
          29.4361,
          29.4361,
          29.5242,
          29.5242,
          29.5242,
          29.5242,
          29.5242,
          29.5242,
          29.5306,
          29.5306,
          29.5306,
          29.5306,
          29.5306,
          29.5306,
          29.5053,
          29.5053,
          29.5053,
          29.5053,
          29.5053,
          29.4492,
          29.4492,
          29.4492,
          29.4492,
          29.4492,
          29.4075,
          29.4075,
          29.4075,
          29.4075,
          29.4075,
          29.4075,
          29.4075,
          29.3478,
          29.3478,
          29.3478,
          29.3478,
          29.3478,
          29.3478,
          29.3661,
          29.3661,
          29.3661,
          29.3661,
          29.3661,
          29.3428,
          29.3428,
          29.3428,
          29.3428,
          29.3428,
          29.32,
          29.32,
          29.32,
          29.32,
          29.32,
          29.32,
          29.32,
          29.3481,
          29.3481,
          29.3481,
          29.3481,
          29.3481,
          29.4067,
          29.4067,
          29.4317,
          29.4317,
          29.4317,
          29.4317,
          29.4317,
          29.4622,
          29.4622,
          29.4622,
          29.4622,
          29.4622,
          29.4622,
          29.5144,
          29.5144,
          29.5144,
          29.5144,
          29.5144,
          29.4906,
          29.4906,
          29.4906,
          29.4906,
          29.4906,
          29.4906,
          29.525,
          29.525,
          29.525,
          29.5597,
          29.5597,
          29.5597,
          29.5597,
          29.5597,
          29.5458,
          29.5458,
          29.5458,
          29.5458,
          29.4864,
          29.4864,
          29.4864,
          29.4864,
          29.4864,
          29.4864,
          29.4425,
          29.4425,
          29.4111,
          29.4111,
          29.3556,
          29.3556,
          29.3556,
          29.3556,
          29.3556,
          29.3306,
          29.3306,
          29.3306,
          29.3306,
          29.3306,
          29.3306,
          29.4514,
          29.4514,
          29.4514,
          29.4514,
          29.4514,
          29.5631,
          29.5631,
          29.5631,
          29.5631,
          29.5631,
          29.5631,
          29.3708,
          29.3708,
          29.3708,
          29.3708,
          29,
          29,
          29.3844,
          29.3844,
          29.3844,
          29.3844,
          29.3294,
          29.3294,
          29.3294,
          29.3294,
          29.3294,
          29.3294,
          29.5806,
          29.5806,
          29.5806,
          29.5806,
          29.5806,
          29.5578,
          29.5578,
          29.5247,
          29.5247,
          29.5247,
          29.5247,
          29.5247,
          29.4833,
          29.4833,
          29.4833,
          29.4833,
          29.4239,
          29.4239,
          29.4239,
          29.4239,
          29.4239,
          29.5331,
          29.5331,
          29.5331,
          29.4622,
          29.4622,
          29.4622,
          29.4622,
          29.5331,
          29.5331,
          29.5331,
          29.5331,
          29.5331,
          29.5331,
          29.5331,
          29.5831,
          29.5831,
          29.5831,
          29.5556,
          29.6331,
          29.6331,
          29.6331,
          29.6331,
          29.5831,
          29.5831,
          29.5831,
          29.5831,
          29.5831,
          29.6131,
          29.6131,
          29.6131,
          29.6131,
          29.6131
         ],
         "legendgroup": "",
         "lon": [
          -98.4722,
          -98.4722,
          -98.4722,
          -98.4722,
          -98.4722,
          -98.4722,
          -98.4722,
          -98.4625,
          -98.4625,
          -98.4625,
          -98.4625,
          -98.4625,
          -98.4789,
          -98.4789,
          -98.4789,
          -98.4789,
          -98.5153,
          -98.5153,
          -98.5153,
          -98.5153,
          -98.5153,
          -98.5153,
          -98.5153,
          -98.495,
          -98.495,
          -98.495,
          -98.495,
          -98.495,
          -98.495,
          -98.5264,
          -98.5264,
          -98.5264,
          -98.5264,
          -98.5264,
          -98.5264,
          -98.5264,
          -98.4464,
          -98.4464,
          -98.4464,
          -98.4464,
          -98.4636,
          -98.4636,
          -98.4636,
          -98.4636,
          -98.4636,
          -98.4706,
          -98.4706,
          -98.4706,
          -98.4706,
          -98.4706,
          -98.4706,
          -98.5464,
          -98.5464,
          -98.5464,
          -98.5464,
          -98.5464,
          -98.5464,
          -98.4903,
          -98.4903,
          -98.4903,
          -98.4903,
          -98.4903,
          -98.4903,
          -98.5097,
          -98.5097,
          -98.5097,
          -98.5097,
          -98.5097,
          -98.5097,
          -98.5236,
          -98.5236,
          -98.5236,
          -98.5236,
          -98.4547,
          -98.4547,
          -98.4547,
          -98.4656,
          -98.4656,
          -98.4656,
          -98.4656,
          -98.4656,
          -98.4656,
          -98.4236,
          -98.4236,
          -98.4236,
          -98.4236,
          -98.4236,
          -98.4236,
          -98.3953,
          -98.3953,
          -98.3953,
          -98.3953,
          -98.3953,
          -98.4183,
          -98.4183,
          -98.4183,
          -98.4183,
          -98.4183,
          -98.4308,
          -98.4308,
          -98.4308,
          -98.4308,
          -98.4308,
          -98.4308,
          -98.4308,
          -98.4658,
          -98.4658,
          -98.4658,
          -98.4658,
          -98.4658,
          -98.4658,
          -98.4253,
          -98.4253,
          -98.4253,
          -98.4253,
          -98.4253,
          -98.4972,
          -98.4972,
          -98.4972,
          -98.4972,
          -98.4972,
          -98.4583,
          -98.4583,
          -98.4583,
          -98.4583,
          -98.4583,
          -98.4583,
          -98.4583,
          -98.5406,
          -98.5406,
          -98.5406,
          -98.5406,
          -98.5406,
          -98.5831,
          -98.5831,
          -98.5658,
          -98.5658,
          -98.5658,
          -98.5658,
          -98.5658,
          -98.5831,
          -98.5831,
          -98.5831,
          -98.5831,
          -98.5831,
          -98.5831,
          -98.5681,
          -98.5681,
          -98.5681,
          -98.5681,
          -98.5681,
          -98.6131,
          -98.6131,
          -98.6131,
          -98.6131,
          -98.6131,
          -98.6131,
          -98.5069,
          -98.5069,
          -98.5069,
          -98.4664,
          -98.4664,
          -98.4664,
          -98.4664,
          -98.4664,
          -98.3958,
          -98.3958,
          -98.3958,
          -98.3958,
          -98.3586,
          -98.3586,
          -98.3586,
          -98.3586,
          -98.3586,
          -98.3586,
          -98.6447,
          -98.6447,
          -98.6375,
          -98.6375,
          -98.5958,
          -98.5958,
          -98.5958,
          -98.5958,
          -98.5958,
          -98.5597,
          -98.5597,
          -98.5597,
          -98.5597,
          -98.5597,
          -98.5597,
          -98.3447,
          -98.3447,
          -98.3447,
          -98.3447,
          -98.3447,
          -98.5381,
          -98.5381,
          -98.5381,
          -98.5381,
          -98.5381,
          -98.5381,
          -98.3831,
          -98.3831,
          -98.3831,
          -98.3831,
          -98,
          -98,
          -98.3492,
          -98.3492,
          -98.3492,
          -98.3492,
          -98.6431,
          -98.6431,
          -98.6431,
          -98.6431,
          -98.6431,
          -98.6431,
          -98.4831,
          -98.4831,
          -98.4831,
          -98.4831,
          -98.4831,
          -98.5853,
          -98.5853,
          -98.6264,
          -98.6264,
          -98.6264,
          -98.6264,
          -98.6264,
          -98.6581,
          -98.6581,
          -98.6581,
          -98.6581,
          -98.6981,
          -98.6981,
          -98.6981,
          -98.6981,
          -98.6981,
          -98.6581,
          -98.6581,
          -98.6581,
          -98.6997,
          -98.6997,
          -98.6997,
          -98.6997,
          -98.7131,
          -98.7131,
          -98.7131,
          -98.7131,
          -98.7131,
          -98.7131,
          -98.7131,
          -98.5331,
          -98.5331,
          -98.5331,
          -98.6331,
          -98.4831,
          -98.4831,
          -98.4831,
          -98.4831,
          -98.4331,
          -98.4331,
          -98.4331,
          -98.4331,
          -98.4331,
          -98.5831,
          -98.5831,
          -98.5831,
          -98.5831,
          -98.5831
         ],
         "marker": {
          "color": [
           3661,
           292,
           2,
           2,
           5,
           1,
           7661,
           11,
           350,
           4722,
           1,
           3,
           6,
           65,
           1812,
           2,
           2658,
           1502,
           1,
           1,
           2,
           640,
           1,
           5542,
           4057,
           381,
           4,
           2,
           1,
           17132,
           531,
           6,
           2,
           1,
           291,
           40,
           75,
           87,
           1443,
           1,
           611,
           372,
           96,
           6977,
           1,
           1088,
           870,
           5761,
           1,
           1863,
           5,
           1,
           1,
           2,
           1,
           7330,
           4,
           5453,
           3138,
           5,
           17,
           1,
           2,
           4940,
           4,
           4045,
           134,
           1,
           7,
           1,
           4,
           7303,
           2,
           2294,
           1961,
           172,
           23,
           5,
           4,
           19221,
           1281,
           1,
           1,
           2,
           183,
           9349,
           1,
           3,
           2,
           1,
           10293,
           815,
           11,
           4524,
           2,
           1,
           11,
           1,
           4,
           1,
           7170,
           1,
           3,
           1,
           1,
           1,
           2,
           3,
           1,
           9502,
           2,
           2,
           5105,
           1,
           4,
           2,
           5,
           6999,
           8,
           2,
           8116,
           2,
           1,
           3,
           2,
           1,
           9124,
           3,
           2,
           3,
           2,
           2480,
           2,
           2094,
           1,
           5,
           1,
           2,
           2663,
           10753,
           719,
           2,
           1,
           10,
           4,
           13498,
           2,
           1,
           4,
           12573,
           401,
           151,
           1,
           2,
           3,
           11980,
           1,
           1,
           782,
           629,
           2,
           3,
           6854,
           507,
           1,
           2,
           7,
           6943,
           7,
           1,
           1,
           13,
           2,
           2,
           20,
           1322,
           1,
           54,
           3,
           491,
           2,
           1,
           786,
           10426,
           3,
           1,
           3,
           901,
           4,
           8340,
           1,
           267,
           545,
           1,
           1,
           1,
           1,
           3,
           10253,
           2,
           1,
           2,
           1,
           6021,
           3,
           1,
           31,
           2,
           2175,
           7,
           1,
           1,
           1,
           3,
           2,
           3,
           11583,
           2,
           1,
           6387,
           1,
           3,
           7,
           1094,
           4,
           7,
           12194,
           2,
           1,
           2,
           2,
           5588,
           275,
           1,
           1,
           625,
           4,
           11220,
           1,
           1511,
           4,
           1,
           1,
           1,
           1490,
           1,
           1,
           2,
           1,
           2963,
           2,
           634,
           1,
           588,
           2,
           4247,
           1,
           1,
           1,
           5730,
           1,
           1,
           6170,
           26,
           2,
           1,
           3019,
           1,
           1,
           1
          ],
          "coloraxis": "coloraxis",
          "size": [
           3661,
           292,
           2,
           2,
           5,
           1,
           7661,
           11,
           350,
           4722,
           1,
           3,
           6,
           65,
           1812,
           2,
           2658,
           1502,
           1,
           1,
           2,
           640,
           1,
           5542,
           4057,
           381,
           4,
           2,
           1,
           17132,
           531,
           6,
           2,
           1,
           291,
           40,
           75,
           87,
           1443,
           1,
           611,
           372,
           96,
           6977,
           1,
           1088,
           870,
           5761,
           1,
           1863,
           5,
           1,
           1,
           2,
           1,
           7330,
           4,
           5453,
           3138,
           5,
           17,
           1,
           2,
           4940,
           4,
           4045,
           134,
           1,
           7,
           1,
           4,
           7303,
           2,
           2294,
           1961,
           172,
           23,
           5,
           4,
           19221,
           1281,
           1,
           1,
           2,
           183,
           9349,
           1,
           3,
           2,
           1,
           10293,
           815,
           11,
           4524,
           2,
           1,
           11,
           1,
           4,
           1,
           7170,
           1,
           3,
           1,
           1,
           1,
           2,
           3,
           1,
           9502,
           2,
           2,
           5105,
           1,
           4,
           2,
           5,
           6999,
           8,
           2,
           8116,
           2,
           1,
           3,
           2,
           1,
           9124,
           3,
           2,
           3,
           2,
           2480,
           2,
           2094,
           1,
           5,
           1,
           2,
           2663,
           10753,
           719,
           2,
           1,
           10,
           4,
           13498,
           2,
           1,
           4,
           12573,
           401,
           151,
           1,
           2,
           3,
           11980,
           1,
           1,
           782,
           629,
           2,
           3,
           6854,
           507,
           1,
           2,
           7,
           6943,
           7,
           1,
           1,
           13,
           2,
           2,
           20,
           1322,
           1,
           54,
           3,
           491,
           2,
           1,
           786,
           10426,
           3,
           1,
           3,
           901,
           4,
           8340,
           1,
           267,
           545,
           1,
           1,
           1,
           1,
           3,
           10253,
           2,
           1,
           2,
           1,
           6021,
           3,
           1,
           31,
           2,
           2175,
           7,
           1,
           1,
           1,
           3,
           2,
           3,
           11583,
           2,
           1,
           6387,
           1,
           3,
           7,
           1094,
           4,
           7,
           12194,
           2,
           1,
           2,
           2,
           5588,
           275,
           1,
           1,
           625,
           4,
           11220,
           1,
           1511,
           4,
           1,
           1,
           1,
           1490,
           1,
           1,
           2,
           1,
           2963,
           2,
           634,
           1,
           588,
           2,
           4247,
           1,
           1,
           1,
           5730,
           1,
           1,
           6170,
           26,
           2,
           1,
           3019,
           1,
           1,
           1
          ],
          "sizemode": "area",
          "sizeref": 9.491851851851852
         },
         "mode": "markers",
         "name": "",
         "showlegend": false,
         "subplot": "mapbox",
         "type": "scattermapbox"
        }
       ],
       "layout": {
        "coloraxis": {
         "colorbar": {
          "title": {
           "text": "Crime_Count"
          }
         },
         "colorscale": [
          [
           0,
           "rgb(255,245,240)"
          ],
          [
           0.125,
           "rgb(254,224,210)"
          ],
          [
           0.25,
           "rgb(252,187,161)"
          ],
          [
           0.375,
           "rgb(252,146,114)"
          ],
          [
           0.5,
           "rgb(251,106,74)"
          ],
          [
           0.625,
           "rgb(239,59,44)"
          ],
          [
           0.75,
           "rgb(203,24,29)"
          ],
          [
           0.875,
           "rgb(165,15,21)"
          ],
          [
           1,
           "rgb(103,0,13)"
          ]
         ]
        },
        "height": 700,
        "legend": {
         "itemsizing": "constant",
         "tracegroupgap": 0
        },
        "mapbox": {
         "center": {
          "lat": 29.4241,
          "lon": -98.4936
         },
         "domain": {
          "x": [
           0,
           1
          ],
          "y": [
           0,
           1
          ]
         },
         "style": "open-street-map",
         "zoom": 9
        },
        "margin": {
         "b": 0,
         "l": 0,
         "r": 0,
         "t": 50
        },
        "template": {
         "data": {
          "bar": [
           {
            "error_x": {
             "color": "#2a3f5f"
            },
            "error_y": {
             "color": "#2a3f5f"
            },
            "marker": {
             "line": {
              "color": "#E5ECF6",
              "width": 0.5
             },
             "pattern": {
              "fillmode": "overlay",
              "size": 10,
              "solidity": 0.2
             }
            },
            "type": "bar"
           }
          ],
          "barpolar": [
           {
            "marker": {
             "line": {
              "color": "#E5ECF6",
              "width": 0.5
             },
             "pattern": {
              "fillmode": "overlay",
              "size": 10,
              "solidity": 0.2
             }
            },
            "type": "barpolar"
           }
          ],
          "carpet": [
           {
            "aaxis": {
             "endlinecolor": "#2a3f5f",
             "gridcolor": "white",
             "linecolor": "white",
             "minorgridcolor": "white",
             "startlinecolor": "#2a3f5f"
            },
            "baxis": {
             "endlinecolor": "#2a3f5f",
             "gridcolor": "white",
             "linecolor": "white",
             "minorgridcolor": "white",
             "startlinecolor": "#2a3f5f"
            },
            "type": "carpet"
           }
          ],
          "choropleth": [
           {
            "colorbar": {
             "outlinewidth": 0,
             "ticks": ""
            },
            "type": "choropleth"
           }
          ],
          "contour": [
           {
            "colorbar": {
             "outlinewidth": 0,
             "ticks": ""
            },
            "colorscale": [
             [
              0,
              "#0d0887"
             ],
             [
              0.1111111111111111,
              "#46039f"
             ],
             [
              0.2222222222222222,
              "#7201a8"
             ],
             [
              0.3333333333333333,
              "#9c179e"
             ],
             [
              0.4444444444444444,
              "#bd3786"
             ],
             [
              0.5555555555555556,
              "#d8576b"
             ],
             [
              0.6666666666666666,
              "#ed7953"
             ],
             [
              0.7777777777777778,
              "#fb9f3a"
             ],
             [
              0.8888888888888888,
              "#fdca26"
             ],
             [
              1,
              "#f0f921"
             ]
            ],
            "type": "contour"
           }
          ],
          "contourcarpet": [
           {
            "colorbar": {
             "outlinewidth": 0,
             "ticks": ""
            },
            "type": "contourcarpet"
           }
          ],
          "heatmap": [
           {
            "colorbar": {
             "outlinewidth": 0,
             "ticks": ""
            },
            "colorscale": [
             [
              0,
              "#0d0887"
             ],
             [
              0.1111111111111111,
              "#46039f"
             ],
             [
              0.2222222222222222,
              "#7201a8"
             ],
             [
              0.3333333333333333,
              "#9c179e"
             ],
             [
              0.4444444444444444,
              "#bd3786"
             ],
             [
              0.5555555555555556,
              "#d8576b"
             ],
             [
              0.6666666666666666,
              "#ed7953"
             ],
             [
              0.7777777777777778,
              "#fb9f3a"
             ],
             [
              0.8888888888888888,
              "#fdca26"
             ],
             [
              1,
              "#f0f921"
             ]
            ],
            "type": "heatmap"
           }
          ],
          "heatmapgl": [
           {
            "colorbar": {
             "outlinewidth": 0,
             "ticks": ""
            },
            "colorscale": [
             [
              0,
              "#0d0887"
             ],
             [
              0.1111111111111111,
              "#46039f"
             ],
             [
              0.2222222222222222,
              "#7201a8"
             ],
             [
              0.3333333333333333,
              "#9c179e"
             ],
             [
              0.4444444444444444,
              "#bd3786"
             ],
             [
              0.5555555555555556,
              "#d8576b"
             ],
             [
              0.6666666666666666,
              "#ed7953"
             ],
             [
              0.7777777777777778,
              "#fb9f3a"
             ],
             [
              0.8888888888888888,
              "#fdca26"
             ],
             [
              1,
              "#f0f921"
             ]
            ],
            "type": "heatmapgl"
           }
          ],
          "histogram": [
           {
            "marker": {
             "pattern": {
              "fillmode": "overlay",
              "size": 10,
              "solidity": 0.2
             }
            },
            "type": "histogram"
           }
          ],
          "histogram2d": [
           {
            "colorbar": {
             "outlinewidth": 0,
             "ticks": ""
            },
            "colorscale": [
             [
              0,
              "#0d0887"
             ],
             [
              0.1111111111111111,
              "#46039f"
             ],
             [
              0.2222222222222222,
              "#7201a8"
             ],
             [
              0.3333333333333333,
              "#9c179e"
             ],
             [
              0.4444444444444444,
              "#bd3786"
             ],
             [
              0.5555555555555556,
              "#d8576b"
             ],
             [
              0.6666666666666666,
              "#ed7953"
             ],
             [
              0.7777777777777778,
              "#fb9f3a"
             ],
             [
              0.8888888888888888,
              "#fdca26"
             ],
             [
              1,
              "#f0f921"
             ]
            ],
            "type": "histogram2d"
           }
          ],
          "histogram2dcontour": [
           {
            "colorbar": {
             "outlinewidth": 0,
             "ticks": ""
            },
            "colorscale": [
             [
              0,
              "#0d0887"
             ],
             [
              0.1111111111111111,
              "#46039f"
             ],
             [
              0.2222222222222222,
              "#7201a8"
             ],
             [
              0.3333333333333333,
              "#9c179e"
             ],
             [
              0.4444444444444444,
              "#bd3786"
             ],
             [
              0.5555555555555556,
              "#d8576b"
             ],
             [
              0.6666666666666666,
              "#ed7953"
             ],
             [
              0.7777777777777778,
              "#fb9f3a"
             ],
             [
              0.8888888888888888,
              "#fdca26"
             ],
             [
              1,
              "#f0f921"
             ]
            ],
            "type": "histogram2dcontour"
           }
          ],
          "mesh3d": [
           {
            "colorbar": {
             "outlinewidth": 0,
             "ticks": ""
            },
            "type": "mesh3d"
           }
          ],
          "parcoords": [
           {
            "line": {
             "colorbar": {
              "outlinewidth": 0,
              "ticks": ""
             }
            },
            "type": "parcoords"
           }
          ],
          "pie": [
           {
            "automargin": true,
            "type": "pie"
           }
          ],
          "scatter": [
           {
            "fillpattern": {
             "fillmode": "overlay",
             "size": 10,
             "solidity": 0.2
            },
            "type": "scatter"
           }
          ],
          "scatter3d": [
           {
            "line": {
             "colorbar": {
              "outlinewidth": 0,
              "ticks": ""
             }
            },
            "marker": {
             "colorbar": {
              "outlinewidth": 0,
              "ticks": ""
             }
            },
            "type": "scatter3d"
           }
          ],
          "scattercarpet": [
           {
            "marker": {
             "colorbar": {
              "outlinewidth": 0,
              "ticks": ""
             }
            },
            "type": "scattercarpet"
           }
          ],
          "scattergeo": [
           {
            "marker": {
             "colorbar": {
              "outlinewidth": 0,
              "ticks": ""
             }
            },
            "type": "scattergeo"
           }
          ],
          "scattergl": [
           {
            "marker": {
             "colorbar": {
              "outlinewidth": 0,
              "ticks": ""
             }
            },
            "type": "scattergl"
           }
          ],
          "scattermapbox": [
           {
            "marker": {
             "colorbar": {
              "outlinewidth": 0,
              "ticks": ""
             }
            },
            "type": "scattermapbox"
           }
          ],
          "scatterpolar": [
           {
            "marker": {
             "colorbar": {
              "outlinewidth": 0,
              "ticks": ""
             }
            },
            "type": "scatterpolar"
           }
          ],
          "scatterpolargl": [
           {
            "marker": {
             "colorbar": {
              "outlinewidth": 0,
              "ticks": ""
             }
            },
            "type": "scatterpolargl"
           }
          ],
          "scatterternary": [
           {
            "marker": {
             "colorbar": {
              "outlinewidth": 0,
              "ticks": ""
             }
            },
            "type": "scatterternary"
           }
          ],
          "surface": [
           {
            "colorbar": {
             "outlinewidth": 0,
             "ticks": ""
            },
            "colorscale": [
             [
              0,
              "#0d0887"
             ],
             [
              0.1111111111111111,
              "#46039f"
             ],
             [
              0.2222222222222222,
              "#7201a8"
             ],
             [
              0.3333333333333333,
              "#9c179e"
             ],
             [
              0.4444444444444444,
              "#bd3786"
             ],
             [
              0.5555555555555556,
              "#d8576b"
             ],
             [
              0.6666666666666666,
              "#ed7953"
             ],
             [
              0.7777777777777778,
              "#fb9f3a"
             ],
             [
              0.8888888888888888,
              "#fdca26"
             ],
             [
              1,
              "#f0f921"
             ]
            ],
            "type": "surface"
           }
          ],
          "table": [
           {
            "cells": {
             "fill": {
              "color": "#EBF0F8"
             },
             "line": {
              "color": "white"
             }
            },
            "header": {
             "fill": {
              "color": "#C8D4E3"
             },
             "line": {
              "color": "white"
             }
            },
            "type": "table"
           }
          ]
         },
         "layout": {
          "annotationdefaults": {
           "arrowcolor": "#2a3f5f",
           "arrowhead": 0,
           "arrowwidth": 1
          },
          "autotypenumbers": "strict",
          "coloraxis": {
           "colorbar": {
            "outlinewidth": 0,
            "ticks": ""
           }
          },
          "colorscale": {
           "diverging": [
            [
             0,
             "#8e0152"
            ],
            [
             0.1,
             "#c51b7d"
            ],
            [
             0.2,
             "#de77ae"
            ],
            [
             0.3,
             "#f1b6da"
            ],
            [
             0.4,
             "#fde0ef"
            ],
            [
             0.5,
             "#f7f7f7"
            ],
            [
             0.6,
             "#e6f5d0"
            ],
            [
             0.7,
             "#b8e186"
            ],
            [
             0.8,
             "#7fbc41"
            ],
            [
             0.9,
             "#4d9221"
            ],
            [
             1,
             "#276419"
            ]
           ],
           "sequential": [
            [
             0,
             "#0d0887"
            ],
            [
             0.1111111111111111,
             "#46039f"
            ],
            [
             0.2222222222222222,
             "#7201a8"
            ],
            [
             0.3333333333333333,
             "#9c179e"
            ],
            [
             0.4444444444444444,
             "#bd3786"
            ],
            [
             0.5555555555555556,
             "#d8576b"
            ],
            [
             0.6666666666666666,
             "#ed7953"
            ],
            [
             0.7777777777777778,
             "#fb9f3a"
            ],
            [
             0.8888888888888888,
             "#fdca26"
            ],
            [
             1,
             "#f0f921"
            ]
           ],
           "sequentialminus": [
            [
             0,
             "#0d0887"
            ],
            [
             0.1111111111111111,
             "#46039f"
            ],
            [
             0.2222222222222222,
             "#7201a8"
            ],
            [
             0.3333333333333333,
             "#9c179e"
            ],
            [
             0.4444444444444444,
             "#bd3786"
            ],
            [
             0.5555555555555556,
             "#d8576b"
            ],
            [
             0.6666666666666666,
             "#ed7953"
            ],
            [
             0.7777777777777778,
             "#fb9f3a"
            ],
            [
             0.8888888888888888,
             "#fdca26"
            ],
            [
             1,
             "#f0f921"
            ]
           ]
          },
          "colorway": [
           "#636efa",
           "#EF553B",
           "#00cc96",
           "#ab63fa",
           "#FFA15A",
           "#19d3f3",
           "#FF6692",
           "#B6E880",
           "#FF97FF",
           "#FECB52"
          ],
          "font": {
           "color": "#2a3f5f"
          },
          "geo": {
           "bgcolor": "white",
           "lakecolor": "white",
           "landcolor": "#E5ECF6",
           "showlakes": true,
           "showland": true,
           "subunitcolor": "white"
          },
          "hoverlabel": {
           "align": "left"
          },
          "hovermode": "closest",
          "mapbox": {
           "style": "light"
          },
          "paper_bgcolor": "white",
          "plot_bgcolor": "#E5ECF6",
          "polar": {
           "angularaxis": {
            "gridcolor": "white",
            "linecolor": "white",
            "ticks": ""
           },
           "bgcolor": "#E5ECF6",
           "radialaxis": {
            "gridcolor": "white",
            "linecolor": "white",
            "ticks": ""
           }
          },
          "scene": {
           "xaxis": {
            "backgroundcolor": "#E5ECF6",
            "gridcolor": "white",
            "gridwidth": 2,
            "linecolor": "white",
            "showbackground": true,
            "ticks": "",
            "zerolinecolor": "white"
           },
           "yaxis": {
            "backgroundcolor": "#E5ECF6",
            "gridcolor": "white",
            "gridwidth": 2,
            "linecolor": "white",
            "showbackground": true,
            "ticks": "",
            "zerolinecolor": "white"
           },
           "zaxis": {
            "backgroundcolor": "#E5ECF6",
            "gridcolor": "white",
            "gridwidth": 2,
            "linecolor": "white",
            "showbackground": true,
            "ticks": "",
            "zerolinecolor": "white"
           }
          },
          "shapedefaults": {
           "line": {
            "color": "#2a3f5f"
           }
          },
          "ternary": {
           "aaxis": {
            "gridcolor": "white",
            "linecolor": "white",
            "ticks": ""
           },
           "baxis": {
            "gridcolor": "white",
            "linecolor": "white",
            "ticks": ""
           },
           "bgcolor": "#E5ECF6",
           "caxis": {
            "gridcolor": "white",
            "linecolor": "white",
            "ticks": ""
           }
          },
          "title": {
           "x": 0.05
          },
          "xaxis": {
           "automargin": true,
           "gridcolor": "white",
           "linecolor": "white",
           "ticks": "",
           "title": {
            "standoff": 15
           },
           "zerolinecolor": "white",
           "zerolinewidth": 2
          },
          "yaxis": {
           "automargin": true,
           "gridcolor": "white",
           "linecolor": "white",
           "ticks": "",
           "title": {
            "standoff": 15
           },
           "zerolinecolor": "white",
           "zerolinewidth": 2
          }
         }
        },
        "title": {
         "text": "San Antonio Crime Heatmap by Area 2023-2025"
        },
        "width": 1000
       }
      }
     },
     "metadata": {},
     "output_type": "display_data"
    }
   ],
   "source": [
    "import plotly.express as px\n",
    "import pandas as pd\n",
    "\n",
    "# Aggregate by ZIP centroid + service area\n",
    "site_avg = (\n",
    "    sa_crimes.groupby(['Zip_Code', 'ZIP_LAT', 'ZIP_LON', 'Service_Area'])\n",
    "             .size()\n",
    "             .reset_index(name='Crime_Count')\n",
    ")\n",
    "\n",
    "# Remove rows without coordinates\n",
    "site_avg = site_avg.dropna(subset=['ZIP_LAT', 'ZIP_LON'])\n",
    "\n",
    "# Scatter mapbox visualization\n",
    "fig = px.scatter_mapbox(\n",
    "    site_avg,\n",
    "    lat='ZIP_LAT',\n",
    "    lon='ZIP_LON',\n",
    "    color='Crime_Count',\n",
    "    size='Crime_Count',\n",
    "    hover_name='Service_Area',\n",
    "    hover_data={'Zip_Code': True, 'Crime_Count': True},\n",
    "    color_continuous_scale='Reds',\n",
    "    size_max=45,\n",
    "    zoom=9,   # closer zoom for city-level\n",
    "    center={'lat': 29.4241, 'lon': -98.4936},  # San Antonio city center\n",
    "    mapbox_style='open-street-map',\n",
    "    title='San Antonio Crime Heatmap by Area 2023-2025'\n",
    ")\n",
    "\n",
    "fig.update_layout(\n",
    "    width=1000,\n",
    "    height=700,\n",
    "    margin={\"r\":0,\"t\":50,\"l\":0,\"b\":0}\n",
    ")\n",
    "\n",
    "fig.show()\n"
   ]
  },
  {
   "cell_type": "code",
   "execution_count": 34,
   "id": "910017a4",
   "metadata": {},
   "outputs": [
    {
     "data": {
      "text/plain": [
       "Service_Area\n",
       "WEST        0.193849\n",
       "PRUE        0.183630\n",
       "NORTH       0.182727\n",
       "SOUTH       0.159309\n",
       "EAST        0.132785\n",
       "CENTRAL     0.114053\n",
       "DOWNTOWN    0.033647\n",
       "Name: proportion, dtype: float64"
      ]
     },
     "execution_count": 34,
     "metadata": {},
     "output_type": "execute_result"
    }
   ],
   "source": [
    "# 4: Area Crimes rates\n",
    "sa_crimes['Service_Area'].value_counts(normalize=True)"
   ]
  },
  {
   "cell_type": "markdown",
   "id": "0471ddea",
   "metadata": {},
   "source": [
    "## Observations:\n",
    "- Approximately 20% of crimes in San Antonio occured on the West side\n",
    "- 18% occured in PRUE\n",
    "- 18% occured in the NORTH side\n",
    "- 16% occured in South \n",
    "- 13% occured in EAST\n",
    "- 11% of crimes occured in CENTRAL\n",
    "- 3% of crimes occured DOWNTOWN"
   ]
  },
  {
   "cell_type": "code",
   "execution_count": 31,
   "id": "a4d1a737",
   "metadata": {},
   "outputs": [],
   "source": [
    "# Group by cities average Oz level\n",
    "crime_areas = sa_crimes.groupby('Service_Area')['Service_Area'].value_counts() # I should try geometric mean or tuncated mean as well"
   ]
  },
  {
   "cell_type": "code",
   "execution_count": 32,
   "id": "f3a79546",
   "metadata": {},
   "outputs": [],
   "source": [
    "crime_areas = crime_areas.sort_values(ascending=False)"
   ]
  },
  {
   "cell_type": "code",
   "execution_count": null,
   "id": "d763ffac",
   "metadata": {},
   "outputs": [
    {
     "data": {
      "image/png": "[encoded data removed]",
      "text/plain": [
       "<Figure size 1200x600 with 1 Axes>"
      ]
     },
     "metadata": {},
     "output_type": "display_data"
    }
   ],
   "source": [
    "colors = [\"#b41f1f\", '#ff7f0e', \"#cacd1c\", \"#d6d627\", \"#adbd67\", \n",
    "          \"#5c8c4b\", \"#46a3ce\", '#7f7f7f', '#bcbd22', '#17becf'] # Custom colors that can be adjusted\n",
    "\n",
    "\n",
    "crime_areas.plot(kind='bar', figsize=(12, 6), color=colors)\n",
    "plt.title('San Antonio Crimes by Area')\n",
    "plt.ylabel('Number of crimes')\n",
    "plt.xlabel('Area')\n",
    "plt.xticks(rotation=90)\n",
    "plt.grid(True, alpha=.7, linestyle='--', axis='y')\n",
    "plt.show()"
   ]
  },
  {
   "cell_type": "markdown",
   "id": "38eecf3f",
   "metadata": {},
   "source": []
  },
  {
   "cell_type": "code",
   "execution_count": null,
   "id": "f90c2d15",
   "metadata": {},
   "outputs": [],
   "source": []
  },
  {
   "cell_type": "code",
   "execution_count": null,
   "id": "98e91052",
   "metadata": {},
   "outputs": [],
   "source": []
  },
  {
   "cell_type": "code",
   "execution_count": null,
   "id": "9e66c2e9",
   "metadata": {},
   "outputs": [],
   "source": []
  }
 ],
 "metadata": {
  "kernelspec": {
   "display_name": "Python 3",
   "language": "python",
   "name": "python3"
  },
  "language_info": {
   "codemirror_mode": {
    "name": "ipython",
    "version": 3
   },
   "file_extension": ".py",
   "mimetype": "text/x-python",
   "name": "python",
   "nbconvert_exporter": "python",
   "pygments_lexer": "ipython3",
   "version": "3.12.3"
  }
 },
 "nbformat": 4,
 "nbformat_minor": 5
}
