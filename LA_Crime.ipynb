{
 "cells": [
  {
   "cell_type": "markdown",
   "id": "31ab2131-3049-4d8d-b9dc-d195f72af27a",
   "metadata": {},
   "source": [
    "![Los Angeles skyline](la_skyline.jpg)\n",
    "\n",
    "Los Angeles, California 😎. The City of Angels. Tinseltown. The Entertainment Capital of the World! \n",
    "\n",
    "Known for its warm weather, palm trees, sprawling coastline, and Hollywood, along with producing some of the most iconic films and songs. However, as with any highly populated city, it isn't always glamorous and there can be a large volume of crime. That's where you can help!\n",
    "\n",
    "You have been asked to support the Los Angeles Police Department (LAPD) by analyzing crime data to identify patterns in criminal behavior. They plan to use your insights to allocate resources effectively to tackle various crimes in different areas.\n",
    "\n",
    "## The Data\n",
    "\n",
    "They have provided you with a single dataset to use. A summary and preview are provided below.\n",
    "\n",
    "It is a modified version of the original data, which is publicly available from Los Angeles Open Data.\n",
    "\n",
    "# crimes.csv\n",
    "\n",
    "| Column     | Description              |\n",
    "|------------|--------------------------|\n",
    "| `'DR_NO'` | Division of Records Number: Official file number made up of a 2-digit year, area ID, and 5 digits. |\n",
    "| `'Date Rptd'` | Date reported - MM/DD/YYYY. |\n",
    "| `'DATE OCC'` | Date of occurrence - MM/DD/YYYY. |\n",
    "| `'TIME OCC'` | In 24-hour military time. |\n",
    "| `'AREA NAME'` | The 21 Geographic Areas or Patrol Divisions are also given a name designation that references a landmark or the surrounding community that it is responsible for. For example, the 77th Street Division is located at the intersection of South Broadway and 77th Street, serving neighborhoods in South Los Angeles. |\n",
    "| `'Crm Cd Desc'` | Indicates the crime committed. |\n",
    "| `'Vict Age'` | Victim's age in years. |\n",
    "| `'Vict Sex'` | Victim's sex: `F`: Female, `M`: Male, `X`: Unknown. |\n",
    "| `'Vict Descent'` | Victim's descent:<ul><li>`A` - Other Asian</li><li>`B` - Black</li><li>`C` - Chinese</li><li>`D` - Cambodian</li><li>`F` - Filipino</li><li>`G` - Guamanian</li><li>`H` - Hispanic/Latin/Mexican</li><li>`I` - American Indian/Alaskan Native</li><li>`J` - Japanese</li><li>`K` - Korean</li><li>`L` - Laotian</li><li>`O` - Other</li><li>`P` - Pacific Islander</li><li>`S` - Samoan</li><li>`U` - Hawaiian</li><li>`V` - Vietnamese</li><li>`W` - White</li><li>`X` - Unknown</li><li>`Z` - Asian Indian</li> |\n",
    "| `'Weapon Desc'` | Description of the weapon used (if applicable). |\n",
    "| `'Status Desc'` | Crime status. |\n",
    "| `'LOCATION'` | Street address of the crime. |"
   ]
  },
  {
   "cell_type": "code",
   "execution_count": 1,
   "id": "7c6c3c36-5c8b-4cce-8681-95292b8f0861",
   "metadata": {
    "executionCancelledAt": null,
    "executionTime": 303,
    "lastExecutedAt": 1750969174287,
    "lastExecutedByKernel": "7f977ee9-ae99-46f6-a7b8-b70abd7c242c",
    "lastScheduledRunId": null,
    "lastSuccessfullyExecutedCode": "# Re-run this cell\n# Import required libraries\nimport pandas as pd\nimport numpy as np\nimport matplotlib.pyplot as plt\nimport seaborn as sns\nimport datetime\ncrimes = pd.read_csv(\"crimes.csv\", dtype={\"TIME OCC\": str})\ncrimes.head()",
    "outputsMetadata": {
     "0": {
      "height": 50,
      "tableState": {
       "customFilter": {
        "const": {
         "type": "boolean",
         "valid": true,
         "value": true
        },
        "id": "007ce7a0-46d3-425c-b4ee-7eb806cc354e",
        "nodeType": "const"
       },
       "quickFilterText": ""
      },
      "type": "dataFrame"
     }
    }
   },
   "outputs": [
    {
     "data": {
      "text/html": [
       "<div>\n",
       "<style scoped>\n",
       "    .dataframe tbody tr th:only-of-type {\n",
       "        vertical-align: middle;\n",
       "    }\n",
       "\n",
       "    .dataframe tbody tr th {\n",
       "        vertical-align: top;\n",
       "    }\n",
       "\n",
       "    .dataframe thead th {\n",
       "        text-align: right;\n",
       "    }\n",
       "</style>\n",
       "<table border=\"1\" class=\"dataframe\">\n",
       "  <thead>\n",
       "    <tr style=\"text-align: right;\">\n",
       "      <th></th>\n",
       "      <th>DR_NO</th>\n",
       "      <th>Date Rptd</th>\n",
       "      <th>DATE OCC</th>\n",
       "      <th>TIME OCC</th>\n",
       "      <th>AREA NAME</th>\n",
       "      <th>Crm Cd Desc</th>\n",
       "      <th>Vict Age</th>\n",
       "      <th>Vict Sex</th>\n",
       "      <th>Vict Descent</th>\n",
       "      <th>Weapon Desc</th>\n",
       "      <th>Status Desc</th>\n",
       "      <th>LOCATION</th>\n",
       "    </tr>\n",
       "  </thead>\n",
       "  <tbody>\n",
       "    <tr>\n",
       "      <th>0</th>\n",
       "      <td>220314085</td>\n",
       "      <td>2022-07-22</td>\n",
       "      <td>2020-05-12</td>\n",
       "      <td>1110</td>\n",
       "      <td>Southwest</td>\n",
       "      <td>THEFT OF IDENTITY</td>\n",
       "      <td>27</td>\n",
       "      <td>F</td>\n",
       "      <td>B</td>\n",
       "      <td>NaN</td>\n",
       "      <td>Invest Cont</td>\n",
       "      <td>2500 S  SYCAMORE                     AV</td>\n",
       "    </tr>\n",
       "    <tr>\n",
       "      <th>1</th>\n",
       "      <td>222013040</td>\n",
       "      <td>2022-08-06</td>\n",
       "      <td>2020-06-04</td>\n",
       "      <td>1620</td>\n",
       "      <td>Olympic</td>\n",
       "      <td>THEFT OF IDENTITY</td>\n",
       "      <td>60</td>\n",
       "      <td>M</td>\n",
       "      <td>H</td>\n",
       "      <td>NaN</td>\n",
       "      <td>Invest Cont</td>\n",
       "      <td>3300    SAN MARINO                   ST</td>\n",
       "    </tr>\n",
       "    <tr>\n",
       "      <th>2</th>\n",
       "      <td>220614831</td>\n",
       "      <td>2022-08-18</td>\n",
       "      <td>2020-08-17</td>\n",
       "      <td>1200</td>\n",
       "      <td>Hollywood</td>\n",
       "      <td>THEFT OF IDENTITY</td>\n",
       "      <td>28</td>\n",
       "      <td>M</td>\n",
       "      <td>H</td>\n",
       "      <td>NaN</td>\n",
       "      <td>Invest Cont</td>\n",
       "      <td>1900    TRANSIENT</td>\n",
       "    </tr>\n",
       "    <tr>\n",
       "      <th>3</th>\n",
       "      <td>231207725</td>\n",
       "      <td>2023-02-27</td>\n",
       "      <td>2020-01-27</td>\n",
       "      <td>0635</td>\n",
       "      <td>77th Street</td>\n",
       "      <td>THEFT OF IDENTITY</td>\n",
       "      <td>37</td>\n",
       "      <td>M</td>\n",
       "      <td>H</td>\n",
       "      <td>NaN</td>\n",
       "      <td>Invest Cont</td>\n",
       "      <td>6200    4TH                          AV</td>\n",
       "    </tr>\n",
       "    <tr>\n",
       "      <th>4</th>\n",
       "      <td>220213256</td>\n",
       "      <td>2022-07-14</td>\n",
       "      <td>2020-07-14</td>\n",
       "      <td>0900</td>\n",
       "      <td>Rampart</td>\n",
       "      <td>THEFT OF IDENTITY</td>\n",
       "      <td>79</td>\n",
       "      <td>M</td>\n",
       "      <td>B</td>\n",
       "      <td>NaN</td>\n",
       "      <td>Invest Cont</td>\n",
       "      <td>1200 W  7TH                          ST</td>\n",
       "    </tr>\n",
       "  </tbody>\n",
       "</table>\n",
       "</div>"
      ],
      "text/plain": [
       "       DR_NO   Date Rptd    DATE OCC TIME OCC    AREA NAME        Crm Cd Desc  \\\n",
       "0  220314085  2022-07-22  2020-05-12     1110    Southwest  THEFT OF IDENTITY   \n",
       "1  222013040  2022-08-06  2020-06-04     1620      Olympic  THEFT OF IDENTITY   \n",
       "2  220614831  2022-08-18  2020-08-17     1200    Hollywood  THEFT OF IDENTITY   \n",
       "3  231207725  2023-02-27  2020-01-27     0635  77th Street  THEFT OF IDENTITY   \n",
       "4  220213256  2022-07-14  2020-07-14     0900      Rampart  THEFT OF IDENTITY   \n",
       "\n",
       "   Vict Age Vict Sex Vict Descent Weapon Desc  Status Desc  \\\n",
       "0        27        F            B         NaN  Invest Cont   \n",
       "1        60        M            H         NaN  Invest Cont   \n",
       "2        28        M            H         NaN  Invest Cont   \n",
       "3        37        M            H         NaN  Invest Cont   \n",
       "4        79        M            B         NaN  Invest Cont   \n",
       "\n",
       "                                  LOCATION  \n",
       "0  2500 S  SYCAMORE                     AV  \n",
       "1  3300    SAN MARINO                   ST  \n",
       "2                        1900    TRANSIENT  \n",
       "3  6200    4TH                          AV  \n",
       "4  1200 W  7TH                          ST  "
      ]
     },
     "execution_count": 1,
     "metadata": {},
     "output_type": "execute_result"
    }
   ],
   "source": [
    "# Re-run this cell\n",
    "# Import required libraries\n",
    "import pandas as pd\n",
    "import numpy as np\n",
    "import matplotlib.pyplot as plt\n",
    "import seaborn as sns\n",
    "import datetime\n",
    "crimes = pd.read_csv(\"LA_crimes.csv\", dtype={\"TIME OCC\": str})\n",
    "crimes.head()"
   ]
  },
  {
   "cell_type": "code",
   "execution_count": 2,
   "id": "53eada96-447c-46c3-9848-f4ca3de53d06",
   "metadata": {
    "executionCancelledAt": null,
    "executionTime": 59,
    "lastExecutedAt": 1750969174346,
    "lastExecutedByKernel": "7f977ee9-ae99-46f6-a7b8-b70abd7c242c",
    "lastScheduledRunId": null,
    "lastSuccessfullyExecutedCode": "# Start coding here\n# Use as many cells as you need\n\n#Which hours has highest frequency of crimes?\n# Pseudo code:\n        # 1) Convert TIME occ to data time\n        # 2) Apply .value_counts(Normalize= True)\n        # 2) Create a visualization to spot addtitonal patterns and confirm\n\ncrimes.dtypes"
   },
   "outputs": [
    {
     "data": {
      "text/plain": [
       "DR_NO            int64\n",
       "Date Rptd       object\n",
       "DATE OCC        object\n",
       "TIME OCC        object\n",
       "AREA NAME       object\n",
       "Crm Cd Desc     object\n",
       "Vict Age         int64\n",
       "Vict Sex        object\n",
       "Vict Descent    object\n",
       "Weapon Desc     object\n",
       "Status Desc     object\n",
       "LOCATION        object\n",
       "dtype: object"
      ]
     },
     "execution_count": 2,
     "metadata": {},
     "output_type": "execute_result"
    }
   ],
   "source": [
    "# Start coding here\n",
    "# Use as many cells as you need\n",
    "\n",
    "#Which hours has highest frequency of crimes?\n",
    "# Pseudo code:\n",
    "        # 1) Convert TIME occ to data time\n",
    "        # 2) Apply .value_counts(Normalize= True)\n",
    "        # 2) Create a visualization to spot addtitonal patterns and confirm\n",
    "\n",
    "crimes.dtypes"
   ]
  },
  {
   "cell_type": "code",
   "execution_count": 3,
   "id": "b89f3035-135a-49b0-b545-21cdd1ee3b65",
   "metadata": {
    "executionCancelledAt": null,
    "executionTime": 57,
    "lastExecutedAt": 1750969174403,
    "lastExecutedByKernel": "7f977ee9-ae99-46f6-a7b8-b70abd7c242c",
    "lastScheduledRunId": null,
    "lastSuccessfullyExecutedCode": "#Based on this Noon appears to be the highest frequency hour for crime\ncrimes['TIME OCC'].value_counts()\n#There are several values that are not formatted properly, however they are in such low numbers that formatting them would not change results by much.",
    "outputsMetadata": {
     "0": {
      "height": 550,
      "tableState": {
       "customFilter": {
        "const": {
         "type": "boolean",
         "valid": true,
         "value": true
        },
        "id": "b457fe00-1eb0-43ee-a22b-bb141e17f400",
        "nodeType": "const"
       }
      },
      "type": "dataFrame"
     }
    }
   },
   "outputs": [
    {
     "data": {
      "text/plain": [
       "TIME OCC\n",
       "1200    6462\n",
       "1800    3991\n",
       "2000    3769\n",
       "1700    3754\n",
       "0001    3587\n",
       "        ... \n",
       "2332       4\n",
       "2259       3\n",
       "0511       3\n",
       "0528       3\n",
       "0531       3\n",
       "Name: count, Length: 1439, dtype: int64"
      ]
     },
     "execution_count": 3,
     "metadata": {},
     "output_type": "execute_result"
    }
   ],
   "source": [
    "#Based on this Noon appears to be the highest frequency hour for crime\n",
    "crimes['TIME OCC'].value_counts()\n",
    "#There are several values that are not formatted properly, however they are in such low numbers that formatting them would not change results by much."
   ]
  },
  {
   "cell_type": "code",
   "execution_count": 4,
   "id": "9da4df91-6fe9-4a82-86d1-476c5b902564",
   "metadata": {
    "executionCancelledAt": null,
    "executionTime": 75,
    "lastExecutedAt": 1750969174478,
    "lastExecutedByKernel": "7f977ee9-ae99-46f6-a7b8-b70abd7c242c",
    "lastScheduledRunId": null,
    "lastSuccessfullyExecutedCode": "#Subset to get just hours which are first two elements of the strings\ncrimes['Hour'] = crimes['TIME OCC'].str[:2]"
   },
   "outputs": [],
   "source": [
    "#Subset to get just hours which are first two elements of the strings\n",
    "crimes['Hour'] = crimes['TIME OCC'].str[:2]"
   ]
  },
  {
   "cell_type": "code",
   "execution_count": 5,
   "id": "00e69396-8dda-4828-9f75-bb15ea9f09f2",
   "metadata": {
    "executionCancelledAt": null,
    "executionTime": 67,
    "lastExecutedAt": 1750969174547,
    "lastExecutedByKernel": "7f977ee9-ae99-46f6-a7b8-b70abd7c242c",
    "lastScheduledRunId": null,
    "lastSuccessfullyExecutedCode": "#Use value counts to explore patterns \ncrimes['Hour'].value_counts() #Optional: I can use normalize=True arguement to see what percent each index makes up",
    "outputsMetadata": {
     "0": {
      "height": 550,
      "tableState": {
       "customFilter": {
        "const": {
         "type": "boolean",
         "valid": true,
         "value": true
        },
        "id": "b457fe00-1eb0-43ee-a22b-bb141e17f400",
        "nodeType": "const"
       }
      },
      "type": "dataFrame"
     }
    }
   },
   "outputs": [
    {
     "data": {
      "text/plain": [
       "Hour\n",
       "12    13663\n",
       "18    10125\n",
       "17     9964\n",
       "20     9579\n",
       "15     9393\n",
       "19     9262\n",
       "16     9224\n",
       "14     8872\n",
       "11     8787\n",
       "00     8728\n",
       "21     8701\n",
       "22     8531\n",
       "13     8474\n",
       "10     8440\n",
       "08     7523\n",
       "23     7419\n",
       "09     7092\n",
       "01     5836\n",
       "06     5621\n",
       "07     5403\n",
       "02     4726\n",
       "03     3943\n",
       "04     3238\n",
       "05     3171\n",
       "Name: count, dtype: int64"
      ]
     },
     "execution_count": 5,
     "metadata": {},
     "output_type": "execute_result"
    }
   ],
   "source": [
    "#Use value counts to explore patterns \n",
    "crimes['Hour'].value_counts() #Optional: I can use normalize=True arguement to see what percent each index makes up"
   ]
  },
  {
   "cell_type": "code",
   "execution_count": 6,
   "id": "1ed16300-1f2e-48dd-913c-06ae7a179883",
   "metadata": {
    "executionCancelledAt": null,
    "executionTime": 59,
    "lastExecutedAt": 1750969174606,
    "lastExecutedByKernel": "7f977ee9-ae99-46f6-a7b8-b70abd7c242c",
    "lastScheduledRunId": null,
    "lastSuccessfullyExecutedCode": "# Convert to int type\ncrimes['Hour'] = crimes['Hour'].astype(int)"
   },
   "outputs": [],
   "source": [
    "# Convert to int type\n",
    "crimes['Hour'] = crimes['Hour'].astype(int)"
   ]
  },
  {
   "cell_type": "code",
   "execution_count": 7,
   "id": "4c39f20a-2725-4d82-b9ca-826adc6346a9",
   "metadata": {
    "executionCancelledAt": null,
    "executionTime": 213,
    "lastExecutedAt": 1750969174819,
    "lastExecutedByKernel": "7f977ee9-ae99-46f6-a7b8-b70abd7c242c",
    "lastScheduledRunId": null,
    "lastSuccessfullyExecutedCode": "#Check missing values\ncrimes.isna().sum()",
    "outputsMetadata": {
     "0": {
      "height": 50,
      "tableState": {
       "customFilter": {
        "const": {
         "type": "boolean",
         "valid": true,
         "value": true
        },
        "id": "05e9dc17-3c08-40a2-a0f1-6d774c1d03cb",
        "nodeType": "const"
       }
      },
      "type": "dataFrame"
     }
    }
   },
   "outputs": [
    {
     "data": {
      "text/plain": [
       "DR_NO                0\n",
       "Date Rptd            0\n",
       "DATE OCC             0\n",
       "TIME OCC             0\n",
       "AREA NAME            0\n",
       "Crm Cd Desc          0\n",
       "Vict Age             0\n",
       "Vict Sex            11\n",
       "Vict Descent        10\n",
       "Weapon Desc     112213\n",
       "Status Desc          0\n",
       "LOCATION             0\n",
       "Hour                 0\n",
       "dtype: int64"
      ]
     },
     "execution_count": 7,
     "metadata": {},
     "output_type": "execute_result"
    }
   ],
   "source": [
    "#Check missing values\n",
    "crimes.isna().sum()"
   ]
  },
  {
   "cell_type": "code",
   "execution_count": 8,
   "id": "900ad8c5-2246-4b0e-aaaf-e36f83cd9423",
   "metadata": {
    "executionCancelledAt": null,
    "executionTime": 147,
    "lastExecutedAt": 1750969174966,
    "lastExecutedByKernel": "7f977ee9-ae99-46f6-a7b8-b70abd7c242c",
    "lastScheduledRunId": null,
    "lastSuccessfullyExecutedCode": "#Check for duplicates\ncrimes.duplicated().value_counts()",
    "outputsMetadata": {
     "0": {
      "height": 50,
      "tableState": {
       "customFilter": {
        "const": {
         "type": "boolean",
         "valid": true,
         "value": true
        },
        "id": "05e9dc17-3c08-40a2-a0f1-6d774c1d03cb",
        "nodeType": "const"
       }
      },
      "type": "dataFrame"
     }
    }
   },
   "outputs": [
    {
     "data": {
      "text/plain": [
       "False    185715\n",
       "Name: count, dtype: int64"
      ]
     },
     "execution_count": 8,
     "metadata": {},
     "output_type": "execute_result"
    }
   ],
   "source": [
    "#Check for duplicates\n",
    "crimes.duplicated().value_counts()"
   ]
  },
  {
   "cell_type": "code",
   "execution_count": 9,
   "id": "d76b949d-4b59-4b1c-b4b0-035f27c06b33",
   "metadata": {
    "executionCancelledAt": null,
    "executionTime": 73,
    "lastExecutedAt": 1750969175039,
    "lastExecutedByKernel": "7f977ee9-ae99-46f6-a7b8-b70abd7c242c",
    "lastScheduledRunId": null,
    "lastSuccessfullyExecutedCode": "crimes.dtypes"
   },
   "outputs": [
    {
     "data": {
      "text/plain": [
       "DR_NO            int64\n",
       "Date Rptd       object\n",
       "DATE OCC        object\n",
       "TIME OCC        object\n",
       "AREA NAME       object\n",
       "Crm Cd Desc     object\n",
       "Vict Age         int64\n",
       "Vict Sex        object\n",
       "Vict Descent    object\n",
       "Weapon Desc     object\n",
       "Status Desc     object\n",
       "LOCATION        object\n",
       "Hour             int64\n",
       "dtype: object"
      ]
     },
     "execution_count": 9,
     "metadata": {},
     "output_type": "execute_result"
    }
   ],
   "source": [
    "crimes.dtypes"
   ]
  },
  {
   "cell_type": "code",
   "execution_count": 10,
   "id": "794c1e17-820c-4fee-b96d-9e5bbff9d0e6",
   "metadata": {
    "executionCancelledAt": null,
    "executionTime": 52,
    "lastExecutedAt": 1750969175091,
    "lastExecutedByKernel": "7f977ee9-ae99-46f6-a7b8-b70abd7c242c",
    "lastScheduledRunId": null,
    "lastSuccessfullyExecutedCode": "#Check if Hour has any missing values\ncrimes['Hour'].isna().sum()"
   },
   "outputs": [
    {
     "data": {
      "text/plain": [
       "0"
      ]
     },
     "execution_count": 10,
     "metadata": {},
     "output_type": "execute_result"
    }
   ],
   "source": [
    "#Check if Hour has any missing values\n",
    "crimes['Hour'].isna().sum()"
   ]
  },
  {
   "cell_type": "code",
   "execution_count": 96,
   "id": "b2370dde-0f75-4beb-bba8-c1be29eac710",
   "metadata": {
    "executionCancelledAt": null,
    "executionTime": 51,
    "lastExecutedAt": 1750969175142,
    "lastExecutedByKernel": "7f977ee9-ae99-46f6-a7b8-b70abd7c242c",
    "lastScheduledRunId": null,
    "lastSuccessfullyExecutedCode": "\n# Plot the histogram\n#plt.figure(figsize=(14,10))\n#sns.histplot(data=crimes, x='Hour', bins=15)\n#plt.xticks(np.arange(0, 24,2))\n#plt.title('Crime Rate Distribution by Hour')\n#plt.show()\n#Observation: This confirms what value_counts() showed which is that peak crime hour is 12pm"
   },
   "outputs": [
    {
     "data": {
      "image/png": "[encoded data removed]",
      "text/plain": [
       "<Figure size 1400x1000 with 1 Axes>"
      ]
     },
     "metadata": {},
     "output_type": "display_data"
    }
   ],
   "source": [
    "\n",
    "# Plot the histogram\n",
    "plt.figure(figsize=(14,10))\n",
    "sns.histplot(data=crimes, x='Hour',kde=True)\n",
    "plt.xticks(np.arange(0, 24,1),ha='center')\n",
    "plt.title('Crime Rate Distribution by Hour')\n",
    "plt.xlabel('Hours in Military Time')\n",
    "plt.tight_layout()\n",
    "plt.show()\n",
    "#Observation: This confirms what value_counts() showed which is that peak crime hour is 12pm"
   ]
  },
  {
   "cell_type": "code",
   "execution_count": 109,
   "id": "da91ea57",
   "metadata": {},
   "outputs": [
    {
     "data": {
      "image/png": "[encoded data removed]",
      "text/plain": [
       "<Figure size 1200x800 with 1 Axes>"
      ]
     },
     "metadata": {},
     "output_type": "display_data"
    }
   ],
   "source": [
    "# Count the number of crimes per hour\n",
    "crime_counts = crimes['Hour'].value_counts().sort_index()\n",
    "\n",
    "# Plot the bar plot\n",
    "plt.figure(figsize=(12,8))\n",
    "sns.barplot(x=crime_counts.index, y=crime_counts.values, color='orange')\n",
    "\n",
    "# Set x-axis ticks and labels\n",
    "plt.xticks(np.arange(0, 24, 1), ha='center')\n",
    "\n",
    "# Add title and labels\n",
    "plt.title('Crime Rate Distribution by Hour')\n",
    "plt.xlabel('Hours in Military Time')\n",
    "plt.ylabel('Number of Crimes')\n",
    "\n",
    "# Tight layout for better spacing\n",
    "plt.tight_layout()\n",
    "\n",
    "plt.grid(axis='y',linestyle='--')\n",
    "# Show the plot\n",
    "plt.show()\n"
   ]
  },
  {
   "cell_type": "code",
   "execution_count": 11,
   "id": "958b9861-c459-4635-8292-2baf5c9d3e16",
   "metadata": {
    "executionCancelledAt": null,
    "executionTime": 47,
    "lastExecutedAt": 1750969175190,
    "lastExecutedByKernel": "7f977ee9-ae99-46f6-a7b8-b70abd7c242c",
    "lastScheduledRunId": null,
    "lastSuccessfullyExecutedCode": "peak_crime_hour = int(12)"
   },
   "outputs": [],
   "source": [
    "peak_crime_hour = int(12)"
   ]
  },
  {
   "cell_type": "code",
   "execution_count": 12,
   "id": "fd0be9c0-1e68-4b07-b454-9e5ae665ed96",
   "metadata": {
    "executionCancelledAt": null,
    "executionTime": 52,
    "lastExecutedAt": 1750969175243,
    "lastExecutedByKernel": "7f977ee9-ae99-46f6-a7b8-b70abd7c242c",
    "lastScheduledRunId": null,
    "lastSuccessfullyExecutedCode": "crimes.columns"
   },
   "outputs": [
    {
     "data": {
      "text/plain": [
       "Index(['DR_NO', 'Date Rptd', 'DATE OCC', 'TIME OCC', 'AREA NAME',\n",
       "       'Crm Cd Desc', 'Vict Age', 'Vict Sex', 'Vict Descent', 'Weapon Desc',\n",
       "       'Status Desc', 'LOCATION', 'Hour'],\n",
       "      dtype='object')"
      ]
     },
     "execution_count": 12,
     "metadata": {},
     "output_type": "execute_result"
    }
   ],
   "source": [
    "crimes.columns"
   ]
  },
  {
   "cell_type": "code",
   "execution_count": 181,
   "id": "638ed1df-22dc-46f2-9590-82a035e899c9",
   "metadata": {
    "executionCancelledAt": null,
    "executionTime": 51,
    "lastExecutedAt": 1750969175294,
    "lastExecutedByKernel": "7f977ee9-ae99-46f6-a7b8-b70abd7c242c",
    "lastScheduledRunId": null,
    "lastSuccessfullyExecutedCode": "# Which area has largest frequency of night crimes (10pm-4am)\n# Pseudo Code:\n        # Explor area column\n        # Create a mask to filter for times 10pm-4am\n        # Apply mask and Use value_counts() while subsetting for area ",
    "outputsMetadata": {
     "0": {
      "height": 38,
      "type": "dataFrame"
     }
    }
   },
   "outputs": [],
   "source": [
    "# Which area has largest frequency of night crimes (10pm-4am)\n",
    "# Pseudo Code:\n",
    "        # Explor area column\n",
    "        # Create a mask to filter for times 10pm-4am\n",
    "        # Apply mask and Use value_counts() while subsetting for area "
   ]
  },
  {
   "cell_type": "code",
   "execution_count": 13,
   "id": "7d3fd101-b201-4aaf-a98f-431baff9a38f",
   "metadata": {
    "executionCancelledAt": null,
    "executionTime": 55,
    "lastExecutedAt": 1750969175350,
    "lastExecutedByKernel": "7f977ee9-ae99-46f6-a7b8-b70abd7c242c",
    "lastScheduledRunId": null,
    "lastSuccessfullyExecutedCode": "crimes['AREA NAME'].value_counts(normalize=True)\n# Highest value is Central with approximately 8% of crimes happening here.\n#Observation: Statistically speaking I can assume that based on this distribution Central should remain the Highest Crime area. However I will apply mask just to be sure",
    "outputsMetadata": {
     "0": {
      "height": 550,
      "tableState": {
       "customFilter": {
        "const": {
         "type": "boolean",
         "valid": true,
         "value": true
        },
        "id": "b457fe00-1eb0-43ee-a22b-bb141e17f400",
        "nodeType": "const"
       }
      },
      "type": "dataFrame"
     }
    }
   },
   "outputs": [
    {
     "data": {
      "text/plain": [
       "AREA NAME\n",
       "Central        0.080467\n",
       "Southwest      0.064319\n",
       "77th Street    0.063210\n",
       "Pacific        0.053431\n",
       "Hollywood      0.052564\n",
       "Southeast      0.051536\n",
       "Olympic        0.050691\n",
       "Newton         0.049280\n",
       "Van Nuys       0.046421\n",
       "N Hollywood    0.045780\n",
       "Wilshire       0.045672\n",
       "Topanga        0.045651\n",
       "Rampart        0.044940\n",
       "West Valley    0.043626\n",
       "West LA        0.042598\n",
       "Northeast      0.041074\n",
       "Devonshire     0.039905\n",
       "Mission        0.037638\n",
       "Harbor         0.035635\n",
       "Hollenbeck     0.033347\n",
       "Foothill       0.032216\n",
       "Name: proportion, dtype: float64"
      ]
     },
     "execution_count": 13,
     "metadata": {},
     "output_type": "execute_result"
    }
   ],
   "source": [
    "crimes['AREA NAME'].value_counts(normalize=True)\n",
    "# Highest value is Central with approximately 8% of crimes happening here.\n",
    "#Observation: Statistically speaking I can assume that based on this distribution Central should remain the Highest Crime area. However I will apply mask just to be sure"
   ]
  },
  {
   "cell_type": "code",
   "execution_count": 14,
   "id": "cb8dc075-b1e9-42f5-a940-3d74906c3b06",
   "metadata": {
    "executionCancelledAt": null,
    "executionTime": 48,
    "lastExecutedAt": 1750969175398,
    "lastExecutedByKernel": "7f977ee9-ae99-46f6-a7b8-b70abd7c242c",
    "lastScheduledRunId": null,
    "lastSuccessfullyExecutedCode": "# Mask 10pm-4am\nmask = crimes['Hour'].isin([22,23,0,1,2,3])"
   },
   "outputs": [],
   "source": [
    "# Mask 10pm-4am\n",
    "mask = crimes['Hour'].isin([22,23,0,1,2,3])"
   ]
  },
  {
   "cell_type": "code",
   "execution_count": 15,
   "id": "7f7a3d7c-7d42-4578-a154-6cd6fc53baa2",
   "metadata": {
    "executionCancelledAt": null,
    "executionTime": 50,
    "lastExecutedAt": 1750969175450,
    "lastExecutedByKernel": "7f977ee9-ae99-46f6-a7b8-b70abd7c242c",
    "lastScheduledRunId": null,
    "lastSuccessfullyExecutedCode": "# Apply mask to crimes hours and area\nfilter_crimes = crimes[mask]",
    "outputsMetadata": {
     "0": {
      "height": 50,
      "tableState": {
       "customFilter": {
        "const": {
         "type": "boolean",
         "valid": true,
         "value": true
        },
        "id": "b457fe00-1eb0-43ee-a22b-bb141e17f400",
        "nodeType": "const"
       }
      },
      "type": "dataFrame"
     }
    }
   },
   "outputs": [],
   "source": [
    "# Apply mask to crimes hours and area\n",
    "filter_crimes = crimes[mask]"
   ]
  },
  {
   "cell_type": "code",
   "execution_count": 16,
   "id": "992ff78c-83e4-457e-99a3-bd7c61f4cbe3",
   "metadata": {
    "executionCancelledAt": null,
    "executionTime": 57,
    "lastExecutedAt": 1750969175508,
    "lastExecutedByKernel": "7f977ee9-ae99-46f6-a7b8-b70abd7c242c",
    "lastScheduledRunId": null,
    "lastSuccessfullyExecutedCode": "filter_crimes.head()",
    "outputsMetadata": {
     "0": {
      "height": 50,
      "tableState": {
       "customFilter": {
        "const": {
         "type": "boolean",
         "valid": true,
         "value": true
        },
        "id": "b457fe00-1eb0-43ee-a22b-bb141e17f400",
        "nodeType": "const"
       }
      },
      "type": "dataFrame"
     }
    }
   },
   "outputs": [
    {
     "data": {
      "text/html": [
       "<div>\n",
       "<style scoped>\n",
       "    .dataframe tbody tr th:only-of-type {\n",
       "        vertical-align: middle;\n",
       "    }\n",
       "\n",
       "    .dataframe tbody tr th {\n",
       "        vertical-align: top;\n",
       "    }\n",
       "\n",
       "    .dataframe thead th {\n",
       "        text-align: right;\n",
       "    }\n",
       "</style>\n",
       "<table border=\"1\" class=\"dataframe\">\n",
       "  <thead>\n",
       "    <tr style=\"text-align: right;\">\n",
       "      <th></th>\n",
       "      <th>DR_NO</th>\n",
       "      <th>Date Rptd</th>\n",
       "      <th>DATE OCC</th>\n",
       "      <th>TIME OCC</th>\n",
       "      <th>AREA NAME</th>\n",
       "      <th>Crm Cd Desc</th>\n",
       "      <th>Vict Age</th>\n",
       "      <th>Vict Sex</th>\n",
       "      <th>Vict Descent</th>\n",
       "      <th>Weapon Desc</th>\n",
       "      <th>Status Desc</th>\n",
       "      <th>LOCATION</th>\n",
       "      <th>Hour</th>\n",
       "    </tr>\n",
       "  </thead>\n",
       "  <tbody>\n",
       "    <tr>\n",
       "      <th>8</th>\n",
       "      <td>231207476</td>\n",
       "      <td>2023-02-27</td>\n",
       "      <td>2020-08-15</td>\n",
       "      <td>0001</td>\n",
       "      <td>77th Street</td>\n",
       "      <td>BURGLARY</td>\n",
       "      <td>72</td>\n",
       "      <td>M</td>\n",
       "      <td>B</td>\n",
       "      <td>NaN</td>\n",
       "      <td>Invest Cont</td>\n",
       "      <td>8800    HAAS                         AV</td>\n",
       "      <td>0</td>\n",
       "    </tr>\n",
       "    <tr>\n",
       "      <th>10</th>\n",
       "      <td>221711184</td>\n",
       "      <td>2022-06-15</td>\n",
       "      <td>2020-05-15</td>\n",
       "      <td>0155</td>\n",
       "      <td>Devonshire</td>\n",
       "      <td>THEFT OF IDENTITY</td>\n",
       "      <td>27</td>\n",
       "      <td>M</td>\n",
       "      <td>B</td>\n",
       "      <td>NaN</td>\n",
       "      <td>Invest Cont</td>\n",
       "      <td>8300    WHITE OAK                    AV</td>\n",
       "      <td>1</td>\n",
       "    </tr>\n",
       "    <tr>\n",
       "      <th>30</th>\n",
       "      <td>221314362</td>\n",
       "      <td>2022-07-11</td>\n",
       "      <td>2020-04-07</td>\n",
       "      <td>0001</td>\n",
       "      <td>Newton</td>\n",
       "      <td>THEFT OF IDENTITY</td>\n",
       "      <td>53</td>\n",
       "      <td>F</td>\n",
       "      <td>H</td>\n",
       "      <td>NaN</td>\n",
       "      <td>Invest Cont</td>\n",
       "      <td>1600 E  OLYMPIC                      BL</td>\n",
       "      <td>0</td>\n",
       "    </tr>\n",
       "    <tr>\n",
       "      <th>33</th>\n",
       "      <td>231307252</td>\n",
       "      <td>2023-03-03</td>\n",
       "      <td>2020-07-05</td>\n",
       "      <td>2305</td>\n",
       "      <td>Newton</td>\n",
       "      <td>THEFT OF IDENTITY</td>\n",
       "      <td>22</td>\n",
       "      <td>F</td>\n",
       "      <td>B</td>\n",
       "      <td>NaN</td>\n",
       "      <td>Invest Cont</td>\n",
       "      <td>6600 S  BROADWAY</td>\n",
       "      <td>23</td>\n",
       "    </tr>\n",
       "    <tr>\n",
       "      <th>36</th>\n",
       "      <td>221614254</td>\n",
       "      <td>2022-11-13</td>\n",
       "      <td>2020-01-01</td>\n",
       "      <td>0001</td>\n",
       "      <td>Foothill</td>\n",
       "      <td>THEFT OF IDENTITY</td>\n",
       "      <td>22</td>\n",
       "      <td>F</td>\n",
       "      <td>H</td>\n",
       "      <td>NaN</td>\n",
       "      <td>Invest Cont</td>\n",
       "      <td>10200    TELFAIR                      AV</td>\n",
       "      <td>0</td>\n",
       "    </tr>\n",
       "  </tbody>\n",
       "</table>\n",
       "</div>"
      ],
      "text/plain": [
       "        DR_NO   Date Rptd    DATE OCC TIME OCC    AREA NAME  \\\n",
       "8   231207476  2023-02-27  2020-08-15     0001  77th Street   \n",
       "10  221711184  2022-06-15  2020-05-15     0155   Devonshire   \n",
       "30  221314362  2022-07-11  2020-04-07     0001       Newton   \n",
       "33  231307252  2023-03-03  2020-07-05     2305       Newton   \n",
       "36  221614254  2022-11-13  2020-01-01     0001     Foothill   \n",
       "\n",
       "          Crm Cd Desc  Vict Age Vict Sex Vict Descent Weapon Desc  \\\n",
       "8            BURGLARY        72        M            B         NaN   \n",
       "10  THEFT OF IDENTITY        27        M            B         NaN   \n",
       "30  THEFT OF IDENTITY        53        F            H         NaN   \n",
       "33  THEFT OF IDENTITY        22        F            B         NaN   \n",
       "36  THEFT OF IDENTITY        22        F            H         NaN   \n",
       "\n",
       "    Status Desc                                  LOCATION  Hour  \n",
       "8   Invest Cont   8800    HAAS                         AV     0  \n",
       "10  Invest Cont   8300    WHITE OAK                    AV     1  \n",
       "30  Invest Cont   1600 E  OLYMPIC                      BL     0  \n",
       "33  Invest Cont                          6600 S  BROADWAY    23  \n",
       "36  Invest Cont  10200    TELFAIR                      AV     0  "
      ]
     },
     "execution_count": 16,
     "metadata": {},
     "output_type": "execute_result"
    }
   ],
   "source": [
    "filter_crimes.head()"
   ]
  },
  {
   "cell_type": "code",
   "execution_count": 17,
   "id": "75e3a7cd-e82c-42c2-ad7a-00c9dbffe232",
   "metadata": {
    "executionCancelledAt": null,
    "executionTime": 54,
    "lastExecutedAt": 1750969175562,
    "lastExecutedByKernel": "7f977ee9-ae99-46f6-a7b8-b70abd7c242c",
    "lastScheduledRunId": null,
    "lastSuccessfullyExecutedCode": "# Filter for just AREA NAME and Hour \nArea_Hour = filter_crimes[['AREA NAME','Hour']]"
   },
   "outputs": [],
   "source": [
    "# Filter for just AREA NAME and Hour \n",
    "Area_Hour = filter_crimes[['AREA NAME','Hour']]"
   ]
  },
  {
   "cell_type": "code",
   "execution_count": 18,
   "id": "d01a408a-33b2-42c2-a5e7-be2eb4f0b906",
   "metadata": {
    "executionCancelledAt": null,
    "executionTime": 52,
    "lastExecutedAt": 1750969175615,
    "lastExecutedByKernel": "7f977ee9-ae99-46f6-a7b8-b70abd7c242c",
    "lastScheduledRunId": null,
    "lastSuccessfullyExecutedCode": "Area_Hour.head()",
    "outputsMetadata": {
     "0": {
      "height": 50,
      "tableState": {
       "customFilter": {
        "const": {
         "type": "boolean",
         "valid": true,
         "value": true
        },
        "id": "b457fe00-1eb0-43ee-a22b-bb141e17f400",
        "nodeType": "const"
       }
      },
      "type": "dataFrame"
     }
    }
   },
   "outputs": [
    {
     "data": {
      "text/html": [
       "<div>\n",
       "<style scoped>\n",
       "    .dataframe tbody tr th:only-of-type {\n",
       "        vertical-align: middle;\n",
       "    }\n",
       "\n",
       "    .dataframe tbody tr th {\n",
       "        vertical-align: top;\n",
       "    }\n",
       "\n",
       "    .dataframe thead th {\n",
       "        text-align: right;\n",
       "    }\n",
       "</style>\n",
       "<table border=\"1\" class=\"dataframe\">\n",
       "  <thead>\n",
       "    <tr style=\"text-align: right;\">\n",
       "      <th></th>\n",
       "      <th>AREA NAME</th>\n",
       "      <th>Hour</th>\n",
       "    </tr>\n",
       "  </thead>\n",
       "  <tbody>\n",
       "    <tr>\n",
       "      <th>8</th>\n",
       "      <td>77th Street</td>\n",
       "      <td>0</td>\n",
       "    </tr>\n",
       "    <tr>\n",
       "      <th>10</th>\n",
       "      <td>Devonshire</td>\n",
       "      <td>1</td>\n",
       "    </tr>\n",
       "    <tr>\n",
       "      <th>30</th>\n",
       "      <td>Newton</td>\n",
       "      <td>0</td>\n",
       "    </tr>\n",
       "    <tr>\n",
       "      <th>33</th>\n",
       "      <td>Newton</td>\n",
       "      <td>23</td>\n",
       "    </tr>\n",
       "    <tr>\n",
       "      <th>36</th>\n",
       "      <td>Foothill</td>\n",
       "      <td>0</td>\n",
       "    </tr>\n",
       "  </tbody>\n",
       "</table>\n",
       "</div>"
      ],
      "text/plain": [
       "      AREA NAME  Hour\n",
       "8   77th Street     0\n",
       "10   Devonshire     1\n",
       "30       Newton     0\n",
       "33       Newton    23\n",
       "36     Foothill     0"
      ]
     },
     "execution_count": 18,
     "metadata": {},
     "output_type": "execute_result"
    }
   ],
   "source": [
    "Area_Hour.head()"
   ]
  },
  {
   "cell_type": "code",
   "execution_count": 19,
   "id": "c0aae20f-42d0-413b-9a8d-f3ec6a2af309",
   "metadata": {
    "executionCancelledAt": null,
    "executionTime": 52,
    "lastExecutedAt": 1750969175667,
    "lastExecutedByKernel": "7f977ee9-ae99-46f6-a7b8-b70abd7c242c",
    "lastScheduledRunId": null,
    "lastSuccessfullyExecutedCode": "#Use value_counts()\nArea_Hour.value_counts()\n\n#Observation this is not grouping by area, need to use groupby",
    "outputsMetadata": {
     "0": {
      "height": 550,
      "tableState": {
       "customFilter": {
        "const": {
         "type": "boolean",
         "valid": true,
         "value": true
        },
        "id": "b457fe00-1eb0-43ee-a22b-bb141e17f400",
        "nodeType": "const"
       }
      },
      "type": "dataFrame"
     }
    }
   },
   "outputs": [
    {
     "data": {
      "text/plain": [
       "AREA NAME    Hour\n",
       "Central      22      764\n",
       "             23      717\n",
       "Southeast    0       664\n",
       "77th Street  0       629\n",
       "Central      0       574\n",
       "                    ... \n",
       "West LA      3       142\n",
       "Hollenbeck   2       135\n",
       "Foothill     3       128\n",
       "Harbor       3       124\n",
       "Hollenbeck   3       121\n",
       "Name: count, Length: 126, dtype: int64"
      ]
     },
     "execution_count": 19,
     "metadata": {},
     "output_type": "execute_result"
    }
   ],
   "source": [
    "#Use value_counts()\n",
    "Area_Hour.value_counts()\n",
    "\n",
    "#Observation this is not grouping by area, need to use groupby"
   ]
  },
  {
   "cell_type": "code",
   "execution_count": 20,
   "id": "46a7b120-9a6e-48d0-bf60-2c586f7b3b6c",
   "metadata": {
    "executionCancelledAt": null,
    "executionTime": 46,
    "lastExecutedAt": 1750969175714,
    "lastExecutedByKernel": "7f977ee9-ae99-46f6-a7b8-b70abd7c242c",
    "lastScheduledRunId": null,
    "lastSuccessfullyExecutedCode": "Grouped_area = Area_Hour.groupby('AREA NAME')['Hour'].sum()"
   },
   "outputs": [],
   "source": [
    "Grouped_area = Area_Hour.groupby('AREA NAME')['Hour'].sum()"
   ]
  },
  {
   "cell_type": "code",
   "execution_count": 21,
   "id": "872925b1-592e-48ff-8e3c-aae6b3a8803a",
   "metadata": {
    "executionCancelledAt": null,
    "executionTime": 47,
    "lastExecutedAt": 1750969175762,
    "lastExecutedByKernel": "7f977ee9-ae99-46f6-a7b8-b70abd7c242c",
    "lastScheduledRunId": null,
    "lastSuccessfullyExecutedCode": "peak_night = Grouped_area.sort_values(ascending=False)",
    "outputsMetadata": {
     "0": {
      "height": 550,
      "tableState": {
       "customFilter": {
        "const": {
         "type": "boolean",
         "valid": true,
         "value": true
        },
        "id": "b457fe00-1eb0-43ee-a22b-bb141e17f400",
        "nodeType": "const"
       }
      },
      "type": "dataFrame"
     }
    }
   },
   "outputs": [],
   "source": [
    "peak_night = Grouped_area.sort_values(ascending=False)"
   ]
  },
  {
   "cell_type": "code",
   "execution_count": 22,
   "id": "d88db02b-6b40-4b22-a5ff-4dde4277d271",
   "metadata": {
    "executionCancelledAt": null,
    "executionTime": 51,
    "lastExecutedAt": 1750969175814,
    "lastExecutedByKernel": "7f977ee9-ae99-46f6-a7b8-b70abd7c242c",
    "lastScheduledRunId": null,
    "lastSuccessfullyExecutedCode": "peak_night.head()\n\n#As expected earlier Central is the highest crime area from 10pm-4am",
    "outputsMetadata": {
     "0": {
      "height": 50,
      "tableState": {
       "customFilter": {
        "const": {
         "type": "boolean",
         "valid": true,
         "value": true
        },
        "id": "b457fe00-1eb0-43ee-a22b-bb141e17f400",
        "nodeType": "const"
       }
      },
      "type": "dataFrame"
     }
    }
   },
   "outputs": [
    {
     "data": {
      "text/plain": [
       "AREA NAME\n",
       "Central        35546\n",
       "Hollywood      26186\n",
       "Southwest      23570\n",
       "77th Street    23171\n",
       "Olympic        21535\n",
       "Name: Hour, dtype: int64"
      ]
     },
     "execution_count": 22,
     "metadata": {},
     "output_type": "execute_result"
    }
   ],
   "source": [
    "peak_night.head()\n",
    "\n",
    "#As expected earlier Central is the highest crime area from 10pm-4am"
   ]
  },
  {
   "cell_type": "code",
   "execution_count": null,
   "id": "d2c0904c-2cb5-4903-8d0b-23dbc9051641",
   "metadata": {
    "executionCancelledAt": null,
    "executionTime": 52,
    "lastExecutedAt": 1750969175866,
    "lastExecutedByKernel": "7f977ee9-ae99-46f6-a7b8-b70abd7c242c",
    "lastScheduledRunId": null,
    "lastSuccessfullyExecutedCode": "#Getting the index of the max values using .idxmax()\nMax_area = Grouped_area.idxmax()"
   },
   "outputs": [
    {
     "data": {
      "text/plain": [
       "'Central'"
      ]
     },
     "execution_count": 47,
     "metadata": {},
     "output_type": "execute_result"
    }
   ],
   "source": [
    "#Getting the index of the max values using .idxmax()\n",
    "Max_area = Grouped_area.idxmax()\n"
   ]
  },
  {
   "cell_type": "code",
   "execution_count": 24,
   "id": "b9d35555-6983-4de7-b951-c0658912033a",
   "metadata": {
    "executionCancelledAt": null,
    "executionTime": 47,
    "lastExecutedAt": 1750969175914,
    "lastExecutedByKernel": "7f977ee9-ae99-46f6-a7b8-b70abd7c242c",
    "lastScheduledRunId": null,
    "lastSuccessfullyExecutedCode": "peak_night_crime_location = Max_area"
   },
   "outputs": [],
   "source": [
    "peak_night_crime_location = Max_area"
   ]
  },
  {
   "cell_type": "code",
   "execution_count": 25,
   "id": "3edb5886-b371-471b-8410-d0a17d224f49",
   "metadata": {
    "executionCancelledAt": null,
    "executionTime": 47,
    "lastExecutedAt": 1750969175963,
    "lastExecutedByKernel": "7f977ee9-ae99-46f6-a7b8-b70abd7c242c",
    "lastScheduledRunId": null,
    "lastSuccessfullyExecutedCode": "peak_night_crime_location",
    "outputsMetadata": {
     "0": {
      "height": 38,
      "type": "stream"
     }
    }
   },
   "outputs": [
    {
     "data": {
      "text/plain": [
       "'Central'"
      ]
     },
     "execution_count": 25,
     "metadata": {},
     "output_type": "execute_result"
    }
   ],
   "source": [
    "peak_night_crime_location"
   ]
  },
  {
   "cell_type": "code",
   "execution_count": 26,
   "id": "51da32db-9731-4b12-bb1f-3485d73a22da",
   "metadata": {
    "executionCancelledAt": null,
    "executionTime": 49,
    "lastExecutedAt": 1750969176012,
    "lastExecutedByKernel": "7f977ee9-ae99-46f6-a7b8-b70abd7c242c",
    "lastScheduledRunId": null,
    "lastSuccessfullyExecutedCode": "# Identify the number of crimes committed against victims of different afe groups\n        #Pseudo Code:\n        # Create age buckets\n        # Groupby age buckets and count\ncrimes.columns"
   },
   "outputs": [
    {
     "data": {
      "text/plain": [
       "Index(['DR_NO', 'Date Rptd', 'DATE OCC', 'TIME OCC', 'AREA NAME',\n",
       "       'Crm Cd Desc', 'Vict Age', 'Vict Sex', 'Vict Descent', 'Weapon Desc',\n",
       "       'Status Desc', 'LOCATION', 'Hour'],\n",
       "      dtype='object')"
      ]
     },
     "execution_count": 26,
     "metadata": {},
     "output_type": "execute_result"
    }
   ],
   "source": [
    "# Identify the number of crimes committed against victims of different afe groups\n",
    "        #Pseudo Code:\n",
    "        # Create age buckets\n",
    "        # Groupby age buckets and count\n",
    "crimes.columns"
   ]
  },
  {
   "cell_type": "code",
   "execution_count": 27,
   "id": "813fd282-1e8f-48ef-b2db-83762487e3c6",
   "metadata": {
    "executionCancelledAt": null,
    "executionTime": 59,
    "lastExecutedAt": 1750969176071,
    "lastExecutedByKernel": "7f977ee9-ae99-46f6-a7b8-b70abd7c242c",
    "lastScheduledRunId": null,
    "lastSuccessfullyExecutedCode": "crimes.head()",
    "outputsMetadata": {
     "0": {
      "height": 50,
      "tableState": {
       "customFilter": {
        "const": {
         "type": "boolean",
         "valid": true,
         "value": true
        },
        "id": "b457fe00-1eb0-43ee-a22b-bb141e17f400",
        "nodeType": "const"
       }
      },
      "type": "dataFrame"
     }
    }
   },
   "outputs": [
    {
     "data": {
      "text/html": [
       "<div>\n",
       "<style scoped>\n",
       "    .dataframe tbody tr th:only-of-type {\n",
       "        vertical-align: middle;\n",
       "    }\n",
       "\n",
       "    .dataframe tbody tr th {\n",
       "        vertical-align: top;\n",
       "    }\n",
       "\n",
       "    .dataframe thead th {\n",
       "        text-align: right;\n",
       "    }\n",
       "</style>\n",
       "<table border=\"1\" class=\"dataframe\">\n",
       "  <thead>\n",
       "    <tr style=\"text-align: right;\">\n",
       "      <th></th>\n",
       "      <th>DR_NO</th>\n",
       "      <th>Date Rptd</th>\n",
       "      <th>DATE OCC</th>\n",
       "      <th>TIME OCC</th>\n",
       "      <th>AREA NAME</th>\n",
       "      <th>Crm Cd Desc</th>\n",
       "      <th>Vict Age</th>\n",
       "      <th>Vict Sex</th>\n",
       "      <th>Vict Descent</th>\n",
       "      <th>Weapon Desc</th>\n",
       "      <th>Status Desc</th>\n",
       "      <th>LOCATION</th>\n",
       "      <th>Hour</th>\n",
       "    </tr>\n",
       "  </thead>\n",
       "  <tbody>\n",
       "    <tr>\n",
       "      <th>0</th>\n",
       "      <td>220314085</td>\n",
       "      <td>2022-07-22</td>\n",
       "      <td>2020-05-12</td>\n",
       "      <td>1110</td>\n",
       "      <td>Southwest</td>\n",
       "      <td>THEFT OF IDENTITY</td>\n",
       "      <td>27</td>\n",
       "      <td>F</td>\n",
       "      <td>B</td>\n",
       "      <td>NaN</td>\n",
       "      <td>Invest Cont</td>\n",
       "      <td>2500 S  SYCAMORE                     AV</td>\n",
       "      <td>11</td>\n",
       "    </tr>\n",
       "    <tr>\n",
       "      <th>1</th>\n",
       "      <td>222013040</td>\n",
       "      <td>2022-08-06</td>\n",
       "      <td>2020-06-04</td>\n",
       "      <td>1620</td>\n",
       "      <td>Olympic</td>\n",
       "      <td>THEFT OF IDENTITY</td>\n",
       "      <td>60</td>\n",
       "      <td>M</td>\n",
       "      <td>H</td>\n",
       "      <td>NaN</td>\n",
       "      <td>Invest Cont</td>\n",
       "      <td>3300    SAN MARINO                   ST</td>\n",
       "      <td>16</td>\n",
       "    </tr>\n",
       "    <tr>\n",
       "      <th>2</th>\n",
       "      <td>220614831</td>\n",
       "      <td>2022-08-18</td>\n",
       "      <td>2020-08-17</td>\n",
       "      <td>1200</td>\n",
       "      <td>Hollywood</td>\n",
       "      <td>THEFT OF IDENTITY</td>\n",
       "      <td>28</td>\n",
       "      <td>M</td>\n",
       "      <td>H</td>\n",
       "      <td>NaN</td>\n",
       "      <td>Invest Cont</td>\n",
       "      <td>1900    TRANSIENT</td>\n",
       "      <td>12</td>\n",
       "    </tr>\n",
       "    <tr>\n",
       "      <th>3</th>\n",
       "      <td>231207725</td>\n",
       "      <td>2023-02-27</td>\n",
       "      <td>2020-01-27</td>\n",
       "      <td>0635</td>\n",
       "      <td>77th Street</td>\n",
       "      <td>THEFT OF IDENTITY</td>\n",
       "      <td>37</td>\n",
       "      <td>M</td>\n",
       "      <td>H</td>\n",
       "      <td>NaN</td>\n",
       "      <td>Invest Cont</td>\n",
       "      <td>6200    4TH                          AV</td>\n",
       "      <td>6</td>\n",
       "    </tr>\n",
       "    <tr>\n",
       "      <th>4</th>\n",
       "      <td>220213256</td>\n",
       "      <td>2022-07-14</td>\n",
       "      <td>2020-07-14</td>\n",
       "      <td>0900</td>\n",
       "      <td>Rampart</td>\n",
       "      <td>THEFT OF IDENTITY</td>\n",
       "      <td>79</td>\n",
       "      <td>M</td>\n",
       "      <td>B</td>\n",
       "      <td>NaN</td>\n",
       "      <td>Invest Cont</td>\n",
       "      <td>1200 W  7TH                          ST</td>\n",
       "      <td>9</td>\n",
       "    </tr>\n",
       "  </tbody>\n",
       "</table>\n",
       "</div>"
      ],
      "text/plain": [
       "       DR_NO   Date Rptd    DATE OCC TIME OCC    AREA NAME        Crm Cd Desc  \\\n",
       "0  220314085  2022-07-22  2020-05-12     1110    Southwest  THEFT OF IDENTITY   \n",
       "1  222013040  2022-08-06  2020-06-04     1620      Olympic  THEFT OF IDENTITY   \n",
       "2  220614831  2022-08-18  2020-08-17     1200    Hollywood  THEFT OF IDENTITY   \n",
       "3  231207725  2023-02-27  2020-01-27     0635  77th Street  THEFT OF IDENTITY   \n",
       "4  220213256  2022-07-14  2020-07-14     0900      Rampart  THEFT OF IDENTITY   \n",
       "\n",
       "   Vict Age Vict Sex Vict Descent Weapon Desc  Status Desc  \\\n",
       "0        27        F            B         NaN  Invest Cont   \n",
       "1        60        M            H         NaN  Invest Cont   \n",
       "2        28        M            H         NaN  Invest Cont   \n",
       "3        37        M            H         NaN  Invest Cont   \n",
       "4        79        M            B         NaN  Invest Cont   \n",
       "\n",
       "                                  LOCATION  Hour  \n",
       "0  2500 S  SYCAMORE                     AV    11  \n",
       "1  3300    SAN MARINO                   ST    16  \n",
       "2                        1900    TRANSIENT    12  \n",
       "3  6200    4TH                          AV     6  \n",
       "4  1200 W  7TH                          ST     9  "
      ]
     },
     "execution_count": 27,
     "metadata": {},
     "output_type": "execute_result"
    }
   ],
   "source": [
    "crimes.head()"
   ]
  },
  {
   "cell_type": "code",
   "execution_count": 197,
   "id": "9e99c3c1-e9ed-43b5-bf35-cd515aab7321",
   "metadata": {
    "executionCancelledAt": null,
    "executionTime": 47,
    "lastExecutedAt": 1750969176118,
    "lastExecutedByKernel": "7f977ee9-ae99-46f6-a7b8-b70abd7c242c",
    "lastScheduledRunId": null,
    "lastSuccessfullyExecutedCode": "#Just curious about what the most common type of crime is.\n#crimes['Crm Cd Desc'].value_counts(normalize=True)\n\n#Observation: 12% of crimes are identity theft, 10% of crimes are BATTERY-SIMPLE ASSAULT",
    "outputsMetadata": {
     "0": {
      "height": 550,
      "tableState": {
       "customFilter": {
        "const": {
         "type": "boolean",
         "valid": true,
         "value": true
        },
        "id": "b457fe00-1eb0-43ee-a22b-bb141e17f400",
        "nodeType": "const"
       }
      },
      "type": "dataFrame"
     }
    }
   },
   "outputs": [],
   "source": [
    "#Just curious about what the most common type of crime is.\n",
    "#crimes['Crm Cd Desc'].value_counts(normalize=True)\n",
    "\n",
    "#Observation: 12% of crimes are identity theft, 10% of crimes are BATTERY-SIMPLE ASSAULT"
   ]
  },
  {
   "cell_type": "code",
   "execution_count": 28,
   "id": "5477df02-6bce-4bf7-8c6b-e9904a96f6ca",
   "metadata": {
    "executionCancelledAt": null,
    "executionTime": 51,
    "lastExecutedAt": 1750969176170,
    "lastExecutedByKernel": "7f977ee9-ae99-46f6-a7b8-b70abd7c242c",
    "lastScheduledRunId": null,
    "lastSuccessfullyExecutedCode": "#Check Vict Age dtype\ncrimes['Vict Age'].dtypes"
   },
   "outputs": [
    {
     "data": {
      "text/plain": [
       "dtype('int64')"
      ]
     },
     "execution_count": 28,
     "metadata": {},
     "output_type": "execute_result"
    }
   ],
   "source": [
    "#Check Vict Age dtype\n",
    "crimes['Vict Age'].dtypes"
   ]
  },
  {
   "cell_type": "code",
   "execution_count": 48,
   "id": "91534942-1770-4e8e-a9d2-8c0aefab2545",
   "metadata": {
    "executionCancelledAt": null,
    "executionTime": 48,
    "lastExecutedAt": 1750969176218,
    "lastExecutedByKernel": "7f977ee9-ae99-46f6-a7b8-b70abd7c242c",
    "lastScheduledRunId": null,
    "lastSuccessfullyExecutedCode": "#Visualize data to spot trends or patterns \n\n# Plot the histogram\n#plt.figure(figsize=(14,10))\n#sns.histplot(data=crimes, x='Vict Age', bins=50)\n#plt.xticks(np.arange(0, 100,2))\n##plt.title('Crime Rate Distribution by Victim Age')\n#plt.show()\n#Observation: This shows that data is normally distributed and that highest frequency of crimes committed against are victims ages 26-34."
   },
   "outputs": [
    {
     "data": {
      "image/png": "[encoded data removed]",
      "text/plain": [
       "<Figure size 1400x1000 with 1 Axes>"
      ]
     },
     "metadata": {},
     "output_type": "display_data"
    }
   ],
   "source": [
    "#Visualize data to spot trends or patterns \n",
    "\n",
    "# Plot the histogram\n",
    "plt.figure(figsize=(14,10))\n",
    "sns.histplot(data=crimes, x='Vict Age', bins=50)\n",
    "plt.xticks(np.arange(0, 100,2))\n",
    "plt.title('Crime Rate Distribution by Victim Age')\n",
    "plt.show()\n",
    "#Observation: This shows that data is normally distributed and that highest frequency of crimes committed against are victims ages 26-34."
   ]
  },
  {
   "cell_type": "markdown",
   "id": "d801b91f-3eec-43a4-bbd9-c2ec8eadd4fa",
   "metadata": {},
   "source": [
    "Observation: It is apparent from this graph that Victims ages '26-34' have the highest rate of crime committed against them. I must now group by age groups to display this using the data. "
   ]
  },
  {
   "cell_type": "code",
   "execution_count": 29,
   "id": "dd6f9e8c-251e-48de-ab2d-df81d5b557d3",
   "metadata": {
    "executionCancelledAt": null,
    "executionTime": 47,
    "lastExecutedAt": 1750969176266,
    "lastExecutedByKernel": "7f977ee9-ae99-46f6-a7b8-b70abd7c242c",
    "lastScheduledRunId": null,
    "lastSuccessfullyExecutedCode": "#Creating masks for different ages groups\nage_bins = [0, 18, 26, 35, 45, 55, 65, float('inf')]\nage_labels = ['0-17', '18-25', '26-34', '35-44', '45-54', '55-64', '65+']\n\ncrimes['victim_ages'] = pd.cut(crimes['Vict Age'], \n                              bins=age_bins, \n                              labels=age_labels, \n                              right=False)  # right=False means [0,17), [18,25), etc.\n"
   },
   "outputs": [],
   "source": [
    "#Creating masks for different ages groups\n",
    "age_bins = [0, 18, 26, 35, 45, 55, 65, float('inf')]\n",
    "age_labels = ['0-17', '18-25', '26-34', '35-44', '45-54', '55-64', '65+']\n",
    "\n",
    "crimes['victim_ages'] = pd.cut(crimes['Vict Age'], \n",
    "                              bins=age_bins, \n",
    "                              labels=age_labels, \n",
    "                              right=False)  # right=False means [0,17), [18,25), etc.\n"
   ]
  },
  {
   "cell_type": "code",
   "execution_count": 75,
   "id": "0b9b7a5a-7572-4b97-8fa8-aac6f477b998",
   "metadata": {
    "executionCancelledAt": null,
    "executionTime": 57,
    "lastExecutedAt": 1750969176324,
    "lastExecutedByKernel": "7f977ee9-ae99-46f6-a7b8-b70abd7c242c",
    "lastScheduledRunId": null,
    "lastSuccessfullyExecutedCode": "crimes.head(50)",
    "outputsMetadata": {
     "0": {
      "height": 550,
      "tableState": {
       "customFilter": {
        "const": {
         "type": "boolean",
         "valid": true,
         "value": true
        },
        "id": "b457fe00-1eb0-43ee-a22b-bb141e17f400",
        "nodeType": "const"
       }
      },
      "type": "dataFrame"
     }
    }
   },
   "outputs": [
    {
     "data": {
      "text/html": [
       "<div>\n",
       "<style scoped>\n",
       "    .dataframe tbody tr th:only-of-type {\n",
       "        vertical-align: middle;\n",
       "    }\n",
       "\n",
       "    .dataframe tbody tr th {\n",
       "        vertical-align: top;\n",
       "    }\n",
       "\n",
       "    .dataframe thead th {\n",
       "        text-align: right;\n",
       "    }\n",
       "</style>\n",
       "<table border=\"1\" class=\"dataframe\">\n",
       "  <thead>\n",
       "    <tr style=\"text-align: right;\">\n",
       "      <th></th>\n",
       "      <th>DR_NO</th>\n",
       "      <th>Date Rptd</th>\n",
       "      <th>DATE OCC</th>\n",
       "      <th>TIME OCC</th>\n",
       "      <th>AREA NAME</th>\n",
       "      <th>Crm Cd Desc</th>\n",
       "      <th>Vict Age</th>\n",
       "      <th>Vict Sex</th>\n",
       "      <th>Vict Descent</th>\n",
       "      <th>Weapon Desc</th>\n",
       "      <th>Status Desc</th>\n",
       "      <th>LOCATION</th>\n",
       "      <th>Hour</th>\n",
       "      <th>victim_ages</th>\n",
       "      <th>time_diff</th>\n",
       "    </tr>\n",
       "  </thead>\n",
       "  <tbody>\n",
       "    <tr>\n",
       "      <th>169921</th>\n",
       "      <td>231812834</td>\n",
       "      <td>2023-07-03</td>\n",
       "      <td>2023-07-03</td>\n",
       "      <td>0020</td>\n",
       "      <td>Southeast</td>\n",
       "      <td>ROBBERY</td>\n",
       "      <td>20</td>\n",
       "      <td>M</td>\n",
       "      <td>H</td>\n",
       "      <td>HAND GUN</td>\n",
       "      <td>Invest Cont</td>\n",
       "      <td>400 W  IMPERIAL                     HY</td>\n",
       "      <td>0</td>\n",
       "      <td>18-25</td>\n",
       "      <td>0.0</td>\n",
       "    </tr>\n",
       "    <tr>\n",
       "      <th>168267</th>\n",
       "      <td>230213539</td>\n",
       "      <td>2023-07-03</td>\n",
       "      <td>2023-07-03</td>\n",
       "      <td>0001</td>\n",
       "      <td>Rampart</td>\n",
       "      <td>ASSAULT WITH DEADLY WEAPON, AGGRAVATED ASSAULT</td>\n",
       "      <td>25</td>\n",
       "      <td>M</td>\n",
       "      <td>H</td>\n",
       "      <td>UNKNOWN WEAPON/OTHER WEAPON</td>\n",
       "      <td>Invest Cont</td>\n",
       "      <td>OLYMPIC</td>\n",
       "      <td>0</td>\n",
       "      <td>18-25</td>\n",
       "      <td>0.0</td>\n",
       "    </tr>\n",
       "    <tr>\n",
       "      <th>141363</th>\n",
       "      <td>230510615</td>\n",
       "      <td>2023-07-03</td>\n",
       "      <td>2023-07-03</td>\n",
       "      <td>0030</td>\n",
       "      <td>Harbor</td>\n",
       "      <td>ASSAULT WITH DEADLY WEAPON, AGGRAVATED ASSAULT</td>\n",
       "      <td>19</td>\n",
       "      <td>M</td>\n",
       "      <td>H</td>\n",
       "      <td>HAND GUN</td>\n",
       "      <td>Invest Cont</td>\n",
       "      <td>800    KING                         AV</td>\n",
       "      <td>0</td>\n",
       "      <td>18-25</td>\n",
       "      <td>0.0</td>\n",
       "    </tr>\n",
       "    <tr>\n",
       "      <th>138541</th>\n",
       "      <td>230313050</td>\n",
       "      <td>2023-07-03</td>\n",
       "      <td>2023-07-03</td>\n",
       "      <td>0900</td>\n",
       "      <td>Southwest</td>\n",
       "      <td>INTIMATE PARTNER - SIMPLE ASSAULT</td>\n",
       "      <td>51</td>\n",
       "      <td>F</td>\n",
       "      <td>B</td>\n",
       "      <td>STRONG-ARM (HANDS, FIST, FEET OR BODILY FORCE)</td>\n",
       "      <td>Invest Cont</td>\n",
       "      <td>3600    CHESAPEAKE                   AV</td>\n",
       "      <td>9</td>\n",
       "      <td>45-54</td>\n",
       "      <td>0.0</td>\n",
       "    </tr>\n",
       "    <tr>\n",
       "      <th>163832</th>\n",
       "      <td>231812838</td>\n",
       "      <td>2023-07-03</td>\n",
       "      <td>2023-07-03</td>\n",
       "      <td>0100</td>\n",
       "      <td>Southeast</td>\n",
       "      <td>ROBBERY</td>\n",
       "      <td>36</td>\n",
       "      <td>M</td>\n",
       "      <td>H</td>\n",
       "      <td>STRONG-ARM (HANDS, FIST, FEET OR BODILY FORCE)</td>\n",
       "      <td>Invest Cont</td>\n",
       "      <td>120TH                        ST</td>\n",
       "      <td>1</td>\n",
       "      <td>35-44</td>\n",
       "      <td>0.0</td>\n",
       "    </tr>\n",
       "  </tbody>\n",
       "</table>\n",
       "</div>"
      ],
      "text/plain": [
       "            DR_NO   Date Rptd   DATE OCC TIME OCC  AREA NAME  \\\n",
       "169921  231812834  2023-07-03 2023-07-03     0020  Southeast   \n",
       "168267  230213539  2023-07-03 2023-07-03     0001    Rampart   \n",
       "141363  230510615  2023-07-03 2023-07-03     0030     Harbor   \n",
       "138541  230313050  2023-07-03 2023-07-03     0900  Southwest   \n",
       "163832  231812838  2023-07-03 2023-07-03     0100  Southeast   \n",
       "\n",
       "                                           Crm Cd Desc  Vict Age Vict Sex  \\\n",
       "169921                                         ROBBERY        20        M   \n",
       "168267  ASSAULT WITH DEADLY WEAPON, AGGRAVATED ASSAULT        25        M   \n",
       "141363  ASSAULT WITH DEADLY WEAPON, AGGRAVATED ASSAULT        19        M   \n",
       "138541               INTIMATE PARTNER - SIMPLE ASSAULT        51        F   \n",
       "163832                                         ROBBERY        36        M   \n",
       "\n",
       "       Vict Descent                                     Weapon Desc  \\\n",
       "169921            H                                        HAND GUN   \n",
       "168267            H                     UNKNOWN WEAPON/OTHER WEAPON   \n",
       "141363            H                                        HAND GUN   \n",
       "138541            B  STRONG-ARM (HANDS, FIST, FEET OR BODILY FORCE)   \n",
       "163832            H  STRONG-ARM (HANDS, FIST, FEET OR BODILY FORCE)   \n",
       "\n",
       "        Status Desc                                 LOCATION  Hour  \\\n",
       "169921  Invest Cont   400 W  IMPERIAL                     HY     0   \n",
       "168267  Invest Cont                                  OLYMPIC     0   \n",
       "141363  Invest Cont   800    KING                         AV     0   \n",
       "138541  Invest Cont  3600    CHESAPEAKE                   AV     9   \n",
       "163832  Invest Cont          120TH                        ST     1   \n",
       "\n",
       "       victim_ages  time_diff  \n",
       "169921       18-25        0.0  \n",
       "168267       18-25        0.0  \n",
       "141363       18-25        0.0  \n",
       "138541       45-54        0.0  \n",
       "163832       35-44        0.0  "
      ]
     },
     "execution_count": 75,
     "metadata": {},
     "output_type": "execute_result"
    }
   ],
   "source": [
    "crimes.tail()"
   ]
  },
  {
   "cell_type": "code",
   "execution_count": 50,
   "id": "a02f9e99-25bb-4fac-af47-f7a19c9079f3",
   "metadata": {
    "executionCancelledAt": null,
    "executionTime": 46,
    "lastExecutedAt": 1750969176370,
    "lastExecutedByKernel": "7f977ee9-ae99-46f6-a7b8-b70abd7c242c",
    "lastScheduledRunId": null,
    "lastSuccessfullyExecutedCode": "victim_ages=crimes['victim_ages'].value_counts()",
    "outputsMetadata": {
     "0": {
      "height": 303,
      "tableState": {
       "customFilter": {
        "const": {
         "type": "boolean",
         "valid": true,
         "value": true
        },
        "id": "b457fe00-1eb0-43ee-a22b-bb141e17f400",
        "nodeType": "const"
       }
      },
      "type": "dataFrame"
     }
    }
   },
   "outputs": [],
   "source": [
    "victim_ages=crimes['victim_ages'].value_counts()"
   ]
  },
  {
   "cell_type": "code",
   "execution_count": 51,
   "id": "3d561349-eb71-430d-a90f-6f4fc769ceae",
   "metadata": {
    "executionCancelledAt": null,
    "executionTime": 52,
    "lastExecutedAt": 1750969176423,
    "lastExecutedByKernel": "7f977ee9-ae99-46f6-a7b8-b70abd7c242c",
    "lastScheduledRunId": null,
    "lastSuccessfullyExecutedCode": "victim_ages",
    "outputsMetadata": {
     "0": {
      "height": 50,
      "tableState": {
       "customFilter": {
        "const": {
         "type": "boolean",
         "valid": true,
         "value": true
        },
        "id": "b457fe00-1eb0-43ee-a22b-bb141e17f400",
        "nodeType": "const"
       }
      },
      "type": "dataFrame"
     }
    }
   },
   "outputs": [
    {
     "data": {
      "text/plain": [
       "victim_ages\n",
       "26-34    47470\n",
       "35-44    42157\n",
       "45-54    28353\n",
       "18-25    28291\n",
       "55-64    20169\n",
       "65+      14747\n",
       "0-17      4528\n",
       "Name: count, dtype: int64"
      ]
     },
     "execution_count": 51,
     "metadata": {},
     "output_type": "execute_result"
    }
   ],
   "source": [
    "victim_ages"
   ]
  },
  {
   "cell_type": "markdown",
   "id": "7ce78901",
   "metadata": {},
   "source": [
    "## Most common occurences of crimes"
   ]
  },
  {
   "cell_type": "code",
   "execution_count": 55,
   "id": "f0ca0cdc",
   "metadata": {},
   "outputs": [
    {
     "data": {
      "text/plain": [
       "AREA NAME    Crm Cd Desc                                     \n",
       "77th Street  THEFT OF IDENTITY                                   1977\n",
       "             ASSAULT WITH DEADLY WEAPON, AGGRAVATED ASSAULT      1344\n",
       "             BATTERY - SIMPLE ASSAULT                            1216\n",
       "             INTIMATE PARTNER - SIMPLE ASSAULT                   1002\n",
       "             ROBBERY                                              795\n",
       "                                                                 ... \n",
       "Wilshire     RECKLESS DRIVING                                       1\n",
       "             RESISTING ARREST                                       1\n",
       "             SHOTS FIRED AT MOVING VEHICLE, TRAIN OR AIRCRAFT       1\n",
       "             THEFT PLAIN - ATTEMPT                                  1\n",
       "             VEHICLE - STOLEN                                       1\n",
       "Name: count, Length: 1503, dtype: int64"
      ]
     },
     "execution_count": 55,
     "metadata": {},
     "output_type": "execute_result"
    }
   ],
   "source": [
    "crimes.groupby('AREA NAME')['Crm Cd Desc'].value_counts()"
   ]
  },
  {
   "cell_type": "code",
   "execution_count": 56,
   "id": "87d79ae9",
   "metadata": {},
   "outputs": [
    {
     "data": {
      "application/vnd.plotly.v1+json": {
       "config": {
        "plotlyServerURL": "https://plot.ly"
       },
       "data": [
        {
         "alignmentgroup": "True",
         "hovertemplate": "Crime Type=THEFT OF IDENTITY<br>Area=%{x}<br>Number of Crimes=%{y}<extra></extra>",
         "legendgroup": "THEFT OF IDENTITY",
         "marker": {
          "color": "#636efa",
          "pattern": {
           "shape": ""
          }
         },
         "name": "THEFT OF IDENTITY",
         "offsetgroup": "THEFT OF IDENTITY",
         "orientation": "v",
         "showlegend": true,
         "textposition": "auto",
         "type": "bar",
         "x": [
          "77th Street",
          "Central",
          "Devonshire",
          "Foothill",
          "Harbor",
          "Hollenbeck",
          "Hollywood",
          "Mission",
          "N Hollywood",
          "Newton",
          "Northeast",
          "Olympic",
          "Pacific",
          "Rampart",
          "Southeast",
          "Southwest",
          "Topanga",
          "Van Nuys",
          "West LA",
          "West Valley",
          "Wilshire"
         ],
         "xaxis": "x",
         "y": [
          1977,
          761,
          1100,
          1037,
          781,
          887,
          818,
          1171,
          1083,
          1332,
          769,
          720,
          772,
          967,
          2003,
          1555,
          1068,
          1016,
          957,
          1081,
          815
         ],
         "yaxis": "y"
        },
        {
         "alignmentgroup": "True",
         "hovertemplate": "Crime Type=ASSAULT WITH DEADLY WEAPON, AGGRAVATED ASSAULT<br>Area=%{x}<br>Number of Crimes=%{y}<extra></extra>",
         "legendgroup": "ASSAULT WITH DEADLY WEAPON, AGGRAVATED ASSAULT",
         "marker": {
          "color": "#EF553B",
          "pattern": {
           "shape": ""
          }
         },
         "name": "ASSAULT WITH DEADLY WEAPON, AGGRAVATED ASSAULT",
         "offsetgroup": "ASSAULT WITH DEADLY WEAPON, AGGRAVATED ASSAULT",
         "orientation": "v",
         "showlegend": true,
         "textposition": "auto",
         "type": "bar",
         "x": [
          "77th Street",
          "Central",
          "Devonshire",
          "Foothill",
          "Harbor",
          "Hollenbeck",
          "Hollywood",
          "Mission",
          "N Hollywood",
          "Newton",
          "Northeast",
          "Olympic",
          "Pacific",
          "Rampart",
          "Southeast",
          "Southwest",
          "Topanga",
          "Van Nuys",
          "West LA",
          "West Valley",
          "Wilshire"
         ],
         "xaxis": "x",
         "y": [
          1344,
          1170,
          350,
          422,
          525,
          605,
          682,
          450,
          473,
          984,
          419,
          775,
          442,
          841,
          1076,
          843,
          402,
          410,
          177,
          447,
          378
         ],
         "yaxis": "y"
        },
        {
         "alignmentgroup": "True",
         "hovertemplate": "Crime Type=BATTERY - SIMPLE ASSAULT<br>Area=%{x}<br>Number of Crimes=%{y}<extra></extra>",
         "legendgroup": "BATTERY - SIMPLE ASSAULT",
         "marker": {
          "color": "#00cc96",
          "pattern": {
           "shape": ""
          }
         },
         "name": "BATTERY - SIMPLE ASSAULT",
         "offsetgroup": "BATTERY - SIMPLE ASSAULT",
         "orientation": "v",
         "showlegend": true,
         "textposition": "auto",
         "type": "bar",
         "x": [
          "77th Street",
          "Central",
          "Devonshire",
          "Foothill",
          "Harbor",
          "Hollenbeck",
          "Hollywood",
          "Mission",
          "N Hollywood",
          "Newton",
          "Northeast",
          "Olympic",
          "Pacific",
          "Rampart",
          "Southeast",
          "Southwest",
          "Topanga",
          "Van Nuys",
          "West LA",
          "West Valley",
          "Wilshire"
         ],
         "xaxis": "x",
         "y": [
          1216,
          1976,
          744,
          618,
          778,
          777,
          1274,
          670,
          810,
          1196,
          712,
          1153,
          785,
          1109,
          969,
          1104,
          741,
          727,
          709,
          783,
          843
         ],
         "yaxis": "y"
        },
        {
         "alignmentgroup": "True",
         "hovertemplate": "Crime Type=INTIMATE PARTNER - SIMPLE ASSAULT<br>Area=%{x}<br>Number of Crimes=%{y}<extra></extra>",
         "legendgroup": "INTIMATE PARTNER - SIMPLE ASSAULT",
         "marker": {
          "color": "#ab63fa",
          "pattern": {
           "shape": ""
          }
         },
         "name": "INTIMATE PARTNER - SIMPLE ASSAULT",
         "offsetgroup": "INTIMATE PARTNER - SIMPLE ASSAULT",
         "orientation": "v",
         "showlegend": true,
         "textposition": "auto",
         "type": "bar",
         "x": [
          "77th Street",
          "Central",
          "Devonshire",
          "Foothill",
          "Harbor",
          "Hollenbeck",
          "Hollywood",
          "Mission",
          "N Hollywood",
          "Newton",
          "Northeast",
          "Olympic",
          "Pacific",
          "Rampart",
          "Southeast",
          "Southwest",
          "Topanga",
          "Van Nuys",
          "West LA",
          "West Valley",
          "Wilshire"
         ],
         "xaxis": "x",
         "y": [
          1002,
          611,
          503,
          459,
          623,
          443,
          532,
          666,
          548,
          694,
          382,
          642,
          357,
          630,
          859,
          755,
          514,
          563,
          275,
          530,
          393
         ],
         "yaxis": "y"
        },
        {
         "alignmentgroup": "True",
         "hovertemplate": "Crime Type=ROBBERY<br>Area=%{x}<br>Number of Crimes=%{y}<extra></extra>",
         "legendgroup": "ROBBERY",
         "marker": {
          "color": "#FFA15A",
          "pattern": {
           "shape": ""
          }
         },
         "name": "ROBBERY",
         "offsetgroup": "ROBBERY",
         "orientation": "v",
         "showlegend": true,
         "textposition": "auto",
         "type": "bar",
         "x": [
          "77th Street",
          "Central",
          "Devonshire",
          "Foothill",
          "Harbor",
          "Hollenbeck",
          "Hollywood",
          "Mission",
          "N Hollywood",
          "Newton",
          "Northeast",
          "Olympic",
          "Pacific",
          "Rampart",
          "Southeast",
          "Southwest",
          "Topanga",
          "Van Nuys",
          "West LA",
          "West Valley",
          "Wilshire"
         ],
         "xaxis": "x",
         "y": [
          795,
          646,
          120,
          125,
          179,
          195,
          366,
          198,
          194,
          492,
          186,
          366,
          183,
          418,
          504,
          457,
          253,
          204,
          98,
          218,
          273
         ],
         "yaxis": "y"
        },
        {
         "alignmentgroup": "True",
         "hovertemplate": "Crime Type=VANDALISM - FELONY ($400 & OVER, ALL CHURCH VANDALISMS)<br>Area=%{x}<br>Number of Crimes=%{y}<extra></extra>",
         "legendgroup": "VANDALISM - FELONY ($400 & OVER, ALL CHURCH VANDALISMS)",
         "marker": {
          "color": "#19d3f3",
          "pattern": {
           "shape": ""
          }
         },
         "name": "VANDALISM - FELONY ($400 & OVER, ALL CHURCH VANDALISMS)",
         "offsetgroup": "VANDALISM - FELONY ($400 & OVER, ALL CHURCH VANDALISMS)",
         "orientation": "v",
         "showlegend": true,
         "textposition": "auto",
         "type": "bar",
         "x": [
          "77th Street",
          "Central",
          "Devonshire",
          "Foothill",
          "Harbor",
          "Hollenbeck",
          "Hollywood",
          "Mission",
          "N Hollywood",
          "Newton",
          "Northeast",
          "Olympic",
          "Pacific",
          "Rampart",
          "Southeast",
          "Southwest",
          "Topanga",
          "Van Nuys",
          "West LA",
          "West Valley",
          "Wilshire"
         ],
         "xaxis": "x",
         "y": [
          633,
          746,
          329,
          356,
          393,
          401,
          546,
          431,
          584,
          485,
          457,
          571,
          553,
          387,
          512,
          773,
          482,
          581,
          545,
          429,
          525
         ],
         "yaxis": "y"
        },
        {
         "alignmentgroup": "True",
         "hovertemplate": "Crime Type=THEFT FROM MOTOR VEHICLE - GRAND ($950.01 AND OVER)<br>Area=%{x}<br>Number of Crimes=%{y}<extra></extra>",
         "legendgroup": "THEFT FROM MOTOR VEHICLE - GRAND ($950.01 AND OVER)",
         "marker": {
          "color": "#FF6692",
          "pattern": {
           "shape": ""
          }
         },
         "name": "THEFT FROM MOTOR VEHICLE - GRAND ($950.01 AND OVER)",
         "offsetgroup": "THEFT FROM MOTOR VEHICLE - GRAND ($950.01 AND OVER)",
         "orientation": "v",
         "showlegend": true,
         "textposition": "auto",
         "type": "bar",
         "x": [
          "77th Street",
          "Central",
          "Devonshire",
          "Foothill",
          "Harbor",
          "Hollenbeck",
          "Hollywood",
          "Mission",
          "N Hollywood",
          "Newton",
          "Northeast",
          "Olympic",
          "Pacific",
          "Rampart",
          "Southeast",
          "Southwest",
          "Topanga",
          "Van Nuys",
          "West LA",
          "West Valley",
          "Wilshire"
         ],
         "xaxis": "x",
         "y": [
          446,
          635,
          565,
          337,
          347,
          383,
          478,
          450,
          641,
          417,
          964,
          560,
          1157,
          446,
          231,
          602,
          476,
          593,
          607,
          575,
          574
         ],
         "yaxis": "y"
        },
        {
         "alignmentgroup": "True",
         "hovertemplate": "Crime Type=CRIMINAL THREATS - NO WEAPON DISPLAYED<br>Area=%{x}<br>Number of Crimes=%{y}<extra></extra>",
         "legendgroup": "CRIMINAL THREATS - NO WEAPON DISPLAYED",
         "marker": {
          "color": "#B6E880",
          "pattern": {
           "shape": ""
          }
         },
         "name": "CRIMINAL THREATS - NO WEAPON DISPLAYED",
         "offsetgroup": "CRIMINAL THREATS - NO WEAPON DISPLAYED",
         "orientation": "v",
         "showlegend": true,
         "textposition": "auto",
         "type": "bar",
         "x": [
          "77th Street",
          "Central",
          "Devonshire",
          "Foothill",
          "Harbor",
          "Hollenbeck",
          "Hollywood",
          "Mission",
          "N Hollywood",
          "Newton",
          "Northeast",
          "Olympic",
          "Pacific",
          "Rampart",
          "Southeast",
          "Southwest",
          "Topanga",
          "Van Nuys",
          "West LA",
          "West Valley",
          "Wilshire"
         ],
         "xaxis": "x",
         "y": [
          440,
          358,
          207,
          152,
          258,
          210,
          237,
          136,
          138,
          221,
          231,
          250,
          193,
          251,
          383,
          403,
          175,
          205,
          166,
          315,
          204
         ],
         "yaxis": "y"
        },
        {
         "alignmentgroup": "True",
         "hovertemplate": "Crime Type=INTIMATE PARTNER - AGGRAVATED ASSAULT<br>Area=%{x}<br>Number of Crimes=%{y}<extra></extra>",
         "legendgroup": "INTIMATE PARTNER - AGGRAVATED ASSAULT",
         "marker": {
          "color": "#FF97FF",
          "pattern": {
           "shape": ""
          }
         },
         "name": "INTIMATE PARTNER - AGGRAVATED ASSAULT",
         "offsetgroup": "INTIMATE PARTNER - AGGRAVATED ASSAULT",
         "orientation": "v",
         "showlegend": true,
         "textposition": "auto",
         "type": "bar",
         "x": [
          "77th Street",
          "Central",
          "Devonshire",
          "Foothill",
          "Harbor",
          "Hollenbeck",
          "Hollywood",
          "Mission",
          "N Hollywood",
          "Newton",
          "Northeast",
          "Olympic",
          "Pacific",
          "Rampart",
          "Southeast",
          "Southwest",
          "Topanga",
          "Van Nuys",
          "West LA",
          "West Valley",
          "Wilshire"
         ],
         "xaxis": "x",
         "y": [
          415,
          194,
          89,
          82,
          169,
          139,
          112,
          144,
          111,
          157,
          73,
          155,
          119,
          194,
          317,
          196,
          113,
          106,
          38,
          141,
          65
         ],
         "yaxis": "y"
        },
        {
         "alignmentgroup": "True",
         "hovertemplate": "Crime Type=THEFT PLAIN - PETTY ($950 & UNDER)<br>Area=%{x}<br>Number of Crimes=%{y}<extra></extra>",
         "legendgroup": "THEFT PLAIN - PETTY ($950 & UNDER)",
         "marker": {
          "color": "#FECB52",
          "pattern": {
           "shape": ""
          }
         },
         "name": "THEFT PLAIN - PETTY ($950 & UNDER)",
         "offsetgroup": "THEFT PLAIN - PETTY ($950 & UNDER)",
         "orientation": "v",
         "showlegend": true,
         "textposition": "auto",
         "type": "bar",
         "x": [
          "77th Street",
          "Central",
          "Devonshire",
          "Foothill",
          "Harbor",
          "Hollenbeck",
          "Hollywood",
          "Mission",
          "N Hollywood",
          "Newton",
          "Northeast",
          "Olympic",
          "Pacific",
          "Rampart",
          "Southeast",
          "Southwest",
          "Topanga",
          "Van Nuys",
          "West LA",
          "West Valley",
          "Wilshire"
         ],
         "xaxis": "x",
         "y": [
          398,
          941,
          401,
          253,
          336,
          268,
          778,
          307,
          510,
          296,
          459,
          623,
          1010,
          421,
          284,
          739,
          471,
          439,
          641,
          401,
          627
         ],
         "yaxis": "y"
        },
        {
         "alignmentgroup": "True",
         "hovertemplate": "Crime Type=BRANDISH WEAPON<br>Area=%{x}<br>Number of Crimes=%{y}<extra></extra>",
         "legendgroup": "BRANDISH WEAPON",
         "marker": {
          "color": "#636efa",
          "pattern": {
           "shape": ""
          }
         },
         "name": "BRANDISH WEAPON",
         "offsetgroup": "BRANDISH WEAPON",
         "orientation": "v",
         "showlegend": true,
         "textposition": "auto",
         "type": "bar",
         "x": [
          "77th Street",
          "Central",
          "Devonshire",
          "Foothill",
          "Harbor",
          "Hollenbeck",
          "Hollywood",
          "Mission",
          "N Hollywood",
          "Newton",
          "Northeast",
          "Olympic",
          "Pacific",
          "Rampart",
          "Southeast",
          "Southwest",
          "Topanga",
          "Van Nuys",
          "West LA",
          "West Valley",
          "Wilshire"
         ],
         "xaxis": "x",
         "y": [
          362,
          277,
          102,
          95,
          172,
          137,
          174,
          163,
          141,
          238,
          132,
          253,
          83,
          224,
          214,
          244,
          150,
          118,
          87,
          151,
          145
         ],
         "yaxis": "y"
        },
        {
         "alignmentgroup": "True",
         "hovertemplate": "Crime Type=BURGLARY FROM VEHICLE<br>Area=%{x}<br>Number of Crimes=%{y}<extra></extra>",
         "legendgroup": "BURGLARY FROM VEHICLE",
         "marker": {
          "color": "#EF553B",
          "pattern": {
           "shape": ""
          }
         },
         "name": "BURGLARY FROM VEHICLE",
         "offsetgroup": "BURGLARY FROM VEHICLE",
         "orientation": "v",
         "showlegend": true,
         "textposition": "auto",
         "type": "bar",
         "x": [
          "77th Street",
          "Central",
          "Devonshire",
          "Foothill",
          "Harbor",
          "Hollenbeck",
          "Hollywood",
          "Mission",
          "N Hollywood",
          "Newton",
          "Northeast",
          "Olympic",
          "Pacific",
          "Rampart",
          "Southeast",
          "Southwest",
          "Topanga",
          "Van Nuys",
          "West LA",
          "West Valley",
          "Wilshire"
         ],
         "xaxis": "x",
         "y": [
          342,
          2918,
          430,
          290,
          308,
          276,
          1031,
          325,
          681,
          661,
          741,
          804,
          782,
          559,
          305,
          418,
          445,
          561,
          672,
          568,
          682
         ],
         "yaxis": "y"
        },
        {
         "alignmentgroup": "True",
         "hovertemplate": "Crime Type=BURGLARY<br>Area=%{x}<br>Number of Crimes=%{y}<extra></extra>",
         "legendgroup": "BURGLARY",
         "marker": {
          "color": "#00cc96",
          "pattern": {
           "shape": ""
          }
         },
         "name": "BURGLARY",
         "offsetgroup": "BURGLARY",
         "orientation": "v",
         "showlegend": true,
         "textposition": "auto",
         "type": "bar",
         "x": [
          "77th Street",
          "Central",
          "Devonshire",
          "Foothill",
          "Harbor",
          "Hollenbeck",
          "Hollywood",
          "Mission",
          "N Hollywood",
          "Newton",
          "Northeast",
          "Olympic",
          "Pacific",
          "Rampart",
          "Southeast",
          "Southwest",
          "Topanga",
          "Van Nuys",
          "West LA",
          "West Valley",
          "Wilshire"
         ],
         "xaxis": "x",
         "y": [
          340,
          340,
          669,
          360,
          321,
          193,
          406,
          262,
          641,
          273,
          357,
          588,
          762,
          326,
          225,
          536,
          728,
          792,
          836,
          700,
          613
         ],
         "yaxis": "y"
        },
        {
         "alignmentgroup": "True",
         "hovertemplate": "Crime Type=VANDALISM - MISDEAMEANOR ($399 OR UNDER)<br>Area=%{x}<br>Number of Crimes=%{y}<extra></extra>",
         "legendgroup": "VANDALISM - MISDEAMEANOR ($399 OR UNDER)",
         "marker": {
          "color": "#ab63fa",
          "pattern": {
           "shape": ""
          }
         },
         "name": "VANDALISM - MISDEAMEANOR ($399 OR UNDER)",
         "offsetgroup": "VANDALISM - MISDEAMEANOR ($399 OR UNDER)",
         "orientation": "v",
         "showlegend": true,
         "textposition": "auto",
         "type": "bar",
         "x": [
          "77th Street",
          "Central",
          "Devonshire",
          "Foothill",
          "Harbor",
          "Hollenbeck",
          "Hollywood",
          "Mission",
          "N Hollywood",
          "Newton",
          "Northeast",
          "Olympic",
          "Pacific",
          "Rampart",
          "Southeast",
          "Southwest",
          "Topanga",
          "Van Nuys",
          "West LA",
          "West Valley",
          "Wilshire"
         ],
         "xaxis": "x",
         "y": [
          272,
          234,
          131,
          146,
          171,
          205,
          163,
          157,
          165,
          184,
          176,
          228,
          179,
          172,
          328,
          321,
          135,
          208,
          160,
          156,
          199
         ],
         "yaxis": "y"
        },
        {
         "alignmentgroup": "True",
         "hovertemplate": "Crime Type=THEFT-GRAND ($950.01 & OVER)EXCPT,GUNS,FOWL,LIVESTK,PROD<br>Area=%{x}<br>Number of Crimes=%{y}<extra></extra>",
         "legendgroup": "THEFT-GRAND ($950.01 & OVER)EXCPT,GUNS,FOWL,LIVESTK,PROD",
         "marker": {
          "color": "#FFA15A",
          "pattern": {
           "shape": ""
          }
         },
         "name": "THEFT-GRAND ($950.01 & OVER)EXCPT,GUNS,FOWL,LIVESTK,PROD",
         "offsetgroup": "THEFT-GRAND ($950.01 & OVER)EXCPT,GUNS,FOWL,LIVESTK,PROD",
         "orientation": "v",
         "showlegend": true,
         "textposition": "auto",
         "type": "bar",
         "x": [
          "77th Street",
          "Central",
          "Devonshire",
          "Foothill",
          "Harbor",
          "Hollenbeck",
          "Hollywood",
          "Mission",
          "N Hollywood",
          "Newton",
          "Northeast",
          "Olympic",
          "Pacific",
          "Rampart",
          "Southeast",
          "Southwest",
          "Topanga",
          "Van Nuys",
          "West LA",
          "West Valley",
          "Wilshire"
         ],
         "xaxis": "x",
         "y": [
          223,
          718,
          291,
          187,
          160,
          128,
          564,
          187,
          365,
          255,
          277,
          321,
          825,
          219,
          154,
          416,
          290,
          314,
          466,
          260,
          437
         ],
         "yaxis": "y"
        },
        {
         "alignmentgroup": "True",
         "hovertemplate": "Crime Type=VIOLATION OF RESTRAINING ORDER<br>Area=%{x}<br>Number of Crimes=%{y}<extra></extra>",
         "legendgroup": "VIOLATION OF RESTRAINING ORDER",
         "marker": {
          "color": "#19d3f3",
          "pattern": {
           "shape": ""
          }
         },
         "name": "VIOLATION OF RESTRAINING ORDER",
         "offsetgroup": "VIOLATION OF RESTRAINING ORDER",
         "orientation": "v",
         "showlegend": true,
         "textposition": "auto",
         "type": "bar",
         "x": [
          "77th Street",
          "Central",
          "Devonshire",
          "Foothill",
          "Harbor",
          "Hollenbeck",
          "Hollywood",
          "Mission",
          "N Hollywood",
          "Newton",
          "Northeast",
          "Olympic",
          "Pacific",
          "Rampart",
          "Southeast",
          "Southwest",
          "Topanga",
          "Van Nuys",
          "West LA",
          "West Valley",
          "Wilshire"
         ],
         "xaxis": "x",
         "y": [
          207,
          65,
          94,
          141,
          297,
          203,
          135,
          229,
          15,
          257,
          163,
          119,
          106,
          147,
          167,
          164,
          185,
          148,
          82,
          23,
          101
         ],
         "yaxis": "y"
        },
        {
         "alignmentgroup": "True",
         "hovertemplate": "Crime Type=CONTEMPT OF COURT<br>Area=%{x}<br>Number of Crimes=%{y}<extra></extra>",
         "legendgroup": "CONTEMPT OF COURT",
         "marker": {
          "color": "#FF6692",
          "pattern": {
           "shape": ""
          }
         },
         "name": "CONTEMPT OF COURT",
         "offsetgroup": "CONTEMPT OF COURT",
         "orientation": "v",
         "showlegend": true,
         "textposition": "auto",
         "type": "bar",
         "x": [
          "77th Street",
          "Central",
          "Devonshire",
          "Foothill",
          "Harbor",
          "Hollenbeck",
          "Hollywood",
          "Mission",
          "N Hollywood",
          "Newton",
          "Northeast",
          "Pacific",
          "Rampart",
          "Southeast",
          "Southwest",
          "Topanga",
          "Van Nuys",
          "West LA",
          "West Valley",
          "Wilshire"
         ],
         "xaxis": "x",
         "y": [
          174,
          1,
          36,
          114,
          9,
          7,
          12,
          13,
          255,
          1,
          1,
          3,
          2,
          7,
          5,
          3,
          19,
          5,
          28,
          1
         ],
         "yaxis": "y"
        },
        {
         "alignmentgroup": "True",
         "hovertemplate": "Crime Type=THEFT FROM MOTOR VEHICLE - PETTY ($950 & UNDER)<br>Area=%{x}<br>Number of Crimes=%{y}<extra></extra>",
         "legendgroup": "THEFT FROM MOTOR VEHICLE - PETTY ($950 & UNDER)",
         "marker": {
          "color": "#B6E880",
          "pattern": {
           "shape": ""
          }
         },
         "name": "THEFT FROM MOTOR VEHICLE - PETTY ($950 & UNDER)",
         "offsetgroup": "THEFT FROM MOTOR VEHICLE - PETTY ($950 & UNDER)",
         "orientation": "v",
         "showlegend": true,
         "textposition": "auto",
         "type": "bar",
         "x": [
          "77th Street",
          "Central",
          "Devonshire",
          "Foothill",
          "Harbor",
          "Hollenbeck",
          "Hollywood",
          "Mission",
          "N Hollywood",
          "Newton",
          "Northeast",
          "Olympic",
          "Pacific",
          "Rampart",
          "Southeast",
          "Southwest",
          "Topanga",
          "Van Nuys",
          "West LA",
          "West Valley",
          "Wilshire"
         ],
         "xaxis": "x",
         "y": [
          112,
          131,
          127,
          92,
          106,
          98,
          153,
          97,
          190,
          103,
          186,
          157,
          242,
          110,
          110,
          157,
          153,
          178,
          206,
          158,
          152
         ],
         "yaxis": "y"
        },
        {
         "alignmentgroup": "True",
         "hovertemplate": "Crime Type=ATTEMPTED ROBBERY<br>Area=%{x}<br>Number of Crimes=%{y}<extra></extra>",
         "legendgroup": "ATTEMPTED ROBBERY",
         "marker": {
          "color": "#FF97FF",
          "pattern": {
           "shape": ""
          }
         },
         "name": "ATTEMPTED ROBBERY",
         "offsetgroup": "ATTEMPTED ROBBERY",
         "orientation": "v",
         "showlegend": true,
         "textposition": "auto",
         "type": "bar",
         "x": [
          "77th Street",
          "Central",
          "Devonshire",
          "Foothill",
          "Harbor",
          "Hollenbeck",
          "Hollywood",
          "Mission",
          "N Hollywood",
          "Newton",
          "Northeast",
          "Olympic",
          "Pacific",
          "Rampart",
          "Southeast",
          "Southwest",
          "Topanga",
          "Van Nuys",
          "West LA",
          "West Valley",
          "Wilshire"
         ],
         "xaxis": "x",
         "y": [
          87,
          108,
          26,
          26,
          31,
          39,
          58,
          42,
          35,
          84,
          34,
          67,
          44,
          71,
          77,
          61,
          29,
          35,
          14,
          26,
          33
         ],
         "yaxis": "y"
        },
        {
         "alignmentgroup": "True",
         "hovertemplate": "Crime Type=SHOTS FIRED AT INHABITED DWELLING<br>Area=%{x}<br>Number of Crimes=%{y}<extra></extra>",
         "legendgroup": "SHOTS FIRED AT INHABITED DWELLING",
         "marker": {
          "color": "#FECB52",
          "pattern": {
           "shape": ""
          }
         },
         "name": "SHOTS FIRED AT INHABITED DWELLING",
         "offsetgroup": "SHOTS FIRED AT INHABITED DWELLING",
         "orientation": "v",
         "showlegend": true,
         "textposition": "auto",
         "type": "bar",
         "x": [
          "77th Street",
          "Central",
          "Devonshire",
          "Foothill",
          "Harbor",
          "Hollenbeck",
          "Hollywood",
          "Mission",
          "N Hollywood",
          "Newton",
          "Northeast",
          "Olympic",
          "Pacific",
          "Rampart",
          "Southeast",
          "Southwest",
          "Topanga",
          "Van Nuys",
          "West LA",
          "West Valley",
          "Wilshire"
         ],
         "xaxis": "x",
         "y": [
          85,
          11,
          8,
          8,
          14,
          22,
          5,
          12,
          7,
          30,
          14,
          14,
          11,
          9,
          62,
          16,
          14,
          6,
          3,
          5,
          12
         ],
         "yaxis": "y"
        },
        {
         "alignmentgroup": "True",
         "hovertemplate": "Crime Type=THEFT, PERSON<br>Area=%{x}<br>Number of Crimes=%{y}<extra></extra>",
         "legendgroup": "THEFT, PERSON",
         "marker": {
          "color": "#636efa",
          "pattern": {
           "shape": ""
          }
         },
         "name": "THEFT, PERSON",
         "offsetgroup": "THEFT, PERSON",
         "orientation": "v",
         "showlegend": true,
         "textposition": "auto",
         "type": "bar",
         "x": [
          "77th Street",
          "Central",
          "Devonshire",
          "Foothill",
          "Harbor",
          "Hollenbeck",
          "Hollywood",
          "Mission",
          "N Hollywood",
          "Newton",
          "Northeast",
          "Olympic",
          "Pacific",
          "Rampart",
          "Southeast",
          "Southwest",
          "Topanga",
          "Van Nuys",
          "West LA",
          "West Valley",
          "Wilshire"
         ],
         "xaxis": "x",
         "y": [
          73,
          182,
          31,
          13,
          11,
          10,
          76,
          28,
          22,
          59,
          27,
          87,
          26,
          55,
          73,
          99,
          35,
          34,
          52,
          32,
          61
         ],
         "yaxis": "y"
        },
        {
         "alignmentgroup": "True",
         "hovertemplate": "Crime Type=VIOLATION OF COURT ORDER<br>Area=%{x}<br>Number of Crimes=%{y}<extra></extra>",
         "legendgroup": "VIOLATION OF COURT ORDER",
         "marker": {
          "color": "#EF553B",
          "pattern": {
           "shape": ""
          }
         },
         "name": "VIOLATION OF COURT ORDER",
         "offsetgroup": "VIOLATION OF COURT ORDER",
         "orientation": "v",
         "showlegend": true,
         "textposition": "auto",
         "type": "bar",
         "x": [
          "77th Street",
          "Central",
          "Devonshire",
          "Foothill",
          "Harbor",
          "Hollenbeck",
          "Hollywood",
          "Mission",
          "N Hollywood",
          "Newton",
          "Northeast",
          "Olympic",
          "Pacific",
          "Rampart",
          "Southeast",
          "Southwest",
          "Topanga",
          "Van Nuys",
          "West LA",
          "West Valley",
          "Wilshire"
         ],
         "xaxis": "x",
         "y": [
          60,
          28,
          89,
          108,
          96,
          72,
          60,
          118,
          12,
          39,
          118,
          93,
          73,
          67,
          96,
          113,
          62,
          90,
          45,
          147,
          76
         ],
         "yaxis": "y"
        },
        {
         "alignmentgroup": "True",
         "hovertemplate": "Crime Type=BUNCO, GRAND THEFT<br>Area=%{x}<br>Number of Crimes=%{y}<extra></extra>",
         "legendgroup": "BUNCO, GRAND THEFT",
         "marker": {
          "color": "#00cc96",
          "pattern": {
           "shape": ""
          }
         },
         "name": "BUNCO, GRAND THEFT",
         "offsetgroup": "BUNCO, GRAND THEFT",
         "orientation": "v",
         "showlegend": true,
         "textposition": "auto",
         "type": "bar",
         "x": [
          "77th Street",
          "Central",
          "Devonshire",
          "Foothill",
          "Harbor",
          "Hollenbeck",
          "Hollywood",
          "Mission",
          "N Hollywood",
          "Newton",
          "Northeast",
          "Olympic",
          "Pacific",
          "Rampart",
          "Southeast",
          "Southwest",
          "Topanga",
          "Van Nuys",
          "West LA",
          "West Valley",
          "Wilshire"
         ],
         "xaxis": "x",
         "y": [
          59,
          59,
          132,
          63,
          59,
          46,
          96,
          61,
          98,
          42,
          86,
          132,
          107,
          49,
          15,
          90,
          151,
          80,
          158,
          87,
          85
         ],
         "yaxis": "y"
        },
        {
         "alignmentgroup": "True",
         "hovertemplate": "Crime Type=TRESPASSING<br>Area=%{x}<br>Number of Crimes=%{y}<extra></extra>",
         "legendgroup": "TRESPASSING",
         "marker": {
          "color": "#ab63fa",
          "pattern": {
           "shape": ""
          }
         },
         "name": "TRESPASSING",
         "offsetgroup": "TRESPASSING",
         "orientation": "v",
         "showlegend": true,
         "textposition": "auto",
         "type": "bar",
         "x": [
          "77th Street",
          "Central",
          "Devonshire",
          "Foothill",
          "Harbor",
          "Hollenbeck",
          "Hollywood",
          "Mission",
          "N Hollywood",
          "Newton",
          "Northeast",
          "Olympic",
          "Pacific",
          "Rampart",
          "Southeast",
          "Southwest",
          "Topanga",
          "Van Nuys",
          "West LA",
          "West Valley",
          "Wilshire"
         ],
         "xaxis": "x",
         "y": [
          57,
          102,
          106,
          56,
          64,
          42,
          129,
          80,
          130,
          39,
          107,
          78,
          97,
          77,
          57,
          193,
          136,
          114,
          171,
          167,
          205
         ],
         "yaxis": "y"
        },
        {
         "alignmentgroup": "True",
         "hovertemplate": "Crime Type=VEHICLE - ATTEMPT STOLEN<br>Area=%{x}<br>Number of Crimes=%{y}<extra></extra>",
         "legendgroup": "VEHICLE - ATTEMPT STOLEN",
         "marker": {
          "color": "#FFA15A",
          "pattern": {
           "shape": ""
          }
         },
         "name": "VEHICLE - ATTEMPT STOLEN",
         "offsetgroup": "VEHICLE - ATTEMPT STOLEN",
         "orientation": "v",
         "showlegend": true,
         "textposition": "auto",
         "type": "bar",
         "x": [
          "77th Street",
          "Central",
          "Devonshire",
          "Foothill",
          "Harbor",
          "Hollenbeck",
          "Hollywood",
          "Mission",
          "N Hollywood",
          "Newton",
          "Northeast",
          "Olympic",
          "Pacific",
          "Rampart",
          "Southeast",
          "Southwest",
          "Topanga",
          "Van Nuys",
          "West LA",
          "West Valley",
          "Wilshire"
         ],
         "xaxis": "x",
         "y": [
          56,
          34,
          17,
          11,
          63,
          38,
          22,
          12,
          28,
          33,
          26,
          46,
          79,
          68,
          85,
          74,
          12,
          29,
          13,
          32,
          11
         ],
         "yaxis": "y"
        },
        {
         "alignmentgroup": "True",
         "hovertemplate": "Crime Type=OTHER ASSAULT<br>Area=%{x}<br>Number of Crimes=%{y}<extra></extra>",
         "legendgroup": "OTHER ASSAULT",
         "marker": {
          "color": "#19d3f3",
          "pattern": {
           "shape": ""
          }
         },
         "name": "OTHER ASSAULT",
         "offsetgroup": "OTHER ASSAULT",
         "orientation": "v",
         "showlegend": true,
         "textposition": "auto",
         "type": "bar",
         "x": [
          "77th Street",
          "Central",
          "Devonshire",
          "Foothill",
          "Harbor",
          "Hollenbeck",
          "Hollywood",
          "Mission",
          "N Hollywood",
          "Newton",
          "Northeast",
          "Olympic",
          "Pacific",
          "Rampart",
          "Southeast",
          "Southwest",
          "Topanga",
          "Van Nuys",
          "West LA",
          "West Valley",
          "Wilshire"
         ],
         "xaxis": "x",
         "y": [
          55,
          162,
          44,
          19,
          45,
          29,
          74,
          37,
          44,
          32,
          52,
          54,
          36,
          66,
          31,
          60,
          31,
          40,
          52,
          46,
          49
         ],
         "yaxis": "y"
        },
        {
         "alignmentgroup": "True",
         "hovertemplate": "Crime Type=OTHER MISCELLANEOUS CRIME<br>Area=%{x}<br>Number of Crimes=%{y}<extra></extra>",
         "legendgroup": "OTHER MISCELLANEOUS CRIME",
         "marker": {
          "color": "#FF6692",
          "pattern": {
           "shape": ""
          }
         },
         "name": "OTHER MISCELLANEOUS CRIME",
         "offsetgroup": "OTHER MISCELLANEOUS CRIME",
         "orientation": "v",
         "showlegend": true,
         "textposition": "auto",
         "type": "bar",
         "x": [
          "77th Street",
          "Central",
          "Devonshire",
          "Foothill",
          "Harbor",
          "Hollenbeck",
          "Hollywood",
          "Mission",
          "N Hollywood",
          "Newton",
          "Northeast",
          "Olympic",
          "Pacific",
          "Rampart",
          "Southeast",
          "Southwest",
          "Topanga",
          "Van Nuys",
          "West LA",
          "West Valley",
          "Wilshire"
         ],
         "xaxis": "x",
         "y": [
          52,
          62,
          51,
          42,
          33,
          32,
          58,
          50,
          57,
          29,
          36,
          42,
          66,
          47,
          51,
          75,
          53,
          65,
          59,
          63,
          105
         ],
         "yaxis": "y"
        },
        {
         "alignmentgroup": "True",
         "hovertemplate": "Crime Type=CRM AGNST CHLD (13 OR UNDER) (14-15 & SUSP 10 YRS OLDER)<br>Area=%{x}<br>Number of Crimes=%{y}<extra></extra>",
         "legendgroup": "CRM AGNST CHLD (13 OR UNDER) (14-15 & SUSP 10 YRS OLDER)",
         "marker": {
          "color": "#B6E880",
          "pattern": {
           "shape": ""
          }
         },
         "name": "CRM AGNST CHLD (13 OR UNDER) (14-15 & SUSP 10 YRS OLDER)",
         "offsetgroup": "CRM AGNST CHLD (13 OR UNDER) (14-15 & SUSP 10 YRS OLDER)",
         "orientation": "v",
         "showlegend": true,
         "textposition": "auto",
         "type": "bar",
         "x": [
          "77th Street",
          "Central",
          "Devonshire",
          "Foothill",
          "Harbor",
          "Hollenbeck",
          "Hollywood",
          "Mission",
          "N Hollywood",
          "Newton",
          "Northeast",
          "Olympic",
          "Pacific",
          "Rampart",
          "Southeast",
          "Southwest",
          "Topanga",
          "Van Nuys",
          "West LA",
          "West Valley",
          "Wilshire"
         ],
         "xaxis": "x",
         "y": [
          46,
          4,
          16,
          44,
          25,
          24,
          9,
          50,
          11,
          39,
          14,
          32,
          14,
          35,
          31,
          24,
          13,
          17,
          10,
          14,
          9
         ],
         "yaxis": "y"
        },
        {
         "alignmentgroup": "True",
         "hovertemplate": "Crime Type=CRIMINAL HOMICIDE<br>Area=%{x}<br>Number of Crimes=%{y}<extra></extra>",
         "legendgroup": "CRIMINAL HOMICIDE",
         "marker": {
          "color": "#FF97FF",
          "pattern": {
           "shape": ""
          }
         },
         "name": "CRIMINAL HOMICIDE",
         "offsetgroup": "CRIMINAL HOMICIDE",
         "orientation": "v",
         "showlegend": true,
         "textposition": "auto",
         "type": "bar",
         "x": [
          "77th Street",
          "Central",
          "Devonshire",
          "Foothill",
          "Harbor",
          "Hollenbeck",
          "Hollywood",
          "Mission",
          "N Hollywood",
          "Newton",
          "Northeast",
          "Olympic",
          "Pacific",
          "Rampart",
          "Southeast",
          "Southwest",
          "Topanga",
          "Van Nuys",
          "West LA",
          "West Valley",
          "Wilshire"
         ],
         "xaxis": "x",
         "y": [
          45,
          35,
          10,
          11,
          15,
          40,
          16,
          8,
          13,
          30,
          12,
          16,
          6,
          28,
          51,
          23,
          13,
          8,
          5,
          4,
          3
         ],
         "yaxis": "y"
        },
        {
         "alignmentgroup": "True",
         "hovertemplate": "Crime Type=ARSON<br>Area=%{x}<br>Number of Crimes=%{y}<extra></extra>",
         "legendgroup": "ARSON",
         "marker": {
          "color": "#FECB52",
          "pattern": {
           "shape": ""
          }
         },
         "name": "ARSON",
         "offsetgroup": "ARSON",
         "orientation": "v",
         "showlegend": true,
         "textposition": "auto",
         "type": "bar",
         "x": [
          "77th Street",
          "Central",
          "Devonshire",
          "Foothill",
          "Harbor",
          "Hollenbeck",
          "Hollywood",
          "Mission",
          "N Hollywood",
          "Newton",
          "Northeast",
          "Olympic",
          "Pacific",
          "Rampart",
          "Southeast",
          "Southwest",
          "Topanga",
          "Van Nuys",
          "West LA",
          "West Valley",
          "Wilshire"
         ],
         "xaxis": "x",
         "y": [
          29,
          14,
          8,
          19,
          10,
          12,
          4,
          11,
          25,
          28,
          16,
          16,
          11,
          17,
          31,
          16,
          11,
          15,
          14,
          9,
          18
         ],
         "yaxis": "y"
        },
        {
         "alignmentgroup": "True",
         "hovertemplate": "Crime Type=SHOPLIFTING - PETTY THEFT ($950 & UNDER)<br>Area=%{x}<br>Number of Crimes=%{y}<extra></extra>",
         "legendgroup": "SHOPLIFTING - PETTY THEFT ($950 & UNDER)",
         "marker": {
          "color": "#636efa",
          "pattern": {
           "shape": ""
          }
         },
         "name": "SHOPLIFTING - PETTY THEFT ($950 & UNDER)",
         "offsetgroup": "SHOPLIFTING - PETTY THEFT ($950 & UNDER)",
         "orientation": "v",
         "showlegend": true,
         "textposition": "auto",
         "type": "bar",
         "x": [
          "77th Street",
          "Central",
          "Devonshire",
          "Foothill",
          "Harbor",
          "Hollenbeck",
          "Hollywood",
          "Mission",
          "N Hollywood",
          "Newton",
          "Northeast",
          "Olympic",
          "Pacific",
          "Rampart",
          "Southeast",
          "Southwest",
          "Topanga",
          "Van Nuys",
          "West LA",
          "West Valley",
          "Wilshire"
         ],
         "xaxis": "x",
         "y": [
          28,
          590,
          133,
          41,
          7,
          16,
          82,
          136,
          70,
          91,
          11,
          14,
          53,
          28,
          3,
          336,
          440,
          393,
          41,
          19,
          254
         ],
         "yaxis": "y"
        },
        {
         "alignmentgroup": "True",
         "hovertemplate": "Crime Type=BURGLARY, ATTEMPTED<br>Area=%{x}<br>Number of Crimes=%{y}<extra></extra>",
         "legendgroup": "BURGLARY, ATTEMPTED",
         "marker": {
          "color": "#EF553B",
          "pattern": {
           "shape": ""
          }
         },
         "name": "BURGLARY, ATTEMPTED",
         "offsetgroup": "BURGLARY, ATTEMPTED",
         "orientation": "v",
         "showlegend": true,
         "textposition": "auto",
         "type": "bar",
         "x": [
          "77th Street",
          "Central",
          "Devonshire",
          "Foothill",
          "Harbor",
          "Hollenbeck",
          "Hollywood",
          "Mission",
          "N Hollywood",
          "Newton",
          "Northeast",
          "Olympic",
          "Pacific",
          "Rampart",
          "Southeast",
          "Southwest",
          "Topanga",
          "Van Nuys",
          "West LA",
          "West Valley",
          "Wilshire"
         ],
         "xaxis": "x",
         "y": [
          25,
          28,
          56,
          23,
          20,
          14,
          23,
          17,
          31,
          17,
          31,
          60,
          57,
          26,
          28,
          45,
          50,
          47,
          29,
          67,
          13
         ],
         "yaxis": "y"
        },
        {
         "alignmentgroup": "True",
         "hovertemplate": "Crime Type=EXTORTION<br>Area=%{x}<br>Number of Crimes=%{y}<extra></extra>",
         "legendgroup": "EXTORTION",
         "marker": {
          "color": "#00cc96",
          "pattern": {
           "shape": ""
          }
         },
         "name": "EXTORTION",
         "offsetgroup": "EXTORTION",
         "orientation": "v",
         "showlegend": true,
         "textposition": "auto",
         "type": "bar",
         "x": [
          "77th Street",
          "Central",
          "Devonshire",
          "Foothill",
          "Harbor",
          "Hollenbeck",
          "Hollywood",
          "Mission",
          "N Hollywood",
          "Newton",
          "Northeast",
          "Olympic",
          "Pacific",
          "Rampart",
          "Southeast",
          "Southwest",
          "Topanga",
          "Van Nuys",
          "West LA",
          "West Valley",
          "Wilshire"
         ],
         "xaxis": "x",
         "y": [
          21,
          13,
          29,
          35,
          31,
          19,
          27,
          35,
          33,
          17,
          33,
          25,
          30,
          10,
          35,
          52,
          43,
          30,
          32,
          48,
          28
         ],
         "yaxis": "y"
        },
        {
         "alignmentgroup": "True",
         "hovertemplate": "Crime Type=BUNCO, PETTY THEFT<br>Area=%{x}<br>Number of Crimes=%{y}<extra></extra>",
         "legendgroup": "BUNCO, PETTY THEFT",
         "marker": {
          "color": "#ab63fa",
          "pattern": {
           "shape": ""
          }
         },
         "name": "BUNCO, PETTY THEFT",
         "offsetgroup": "BUNCO, PETTY THEFT",
         "orientation": "v",
         "showlegend": true,
         "textposition": "auto",
         "type": "bar",
         "x": [
          "77th Street",
          "Central",
          "Devonshire",
          "Foothill",
          "Harbor",
          "Hollenbeck",
          "Hollywood",
          "Mission",
          "N Hollywood",
          "Newton",
          "Northeast",
          "Olympic",
          "Pacific",
          "Rampart",
          "Southeast",
          "Southwest",
          "Topanga",
          "Van Nuys",
          "West LA",
          "West Valley",
          "Wilshire"
         ],
         "xaxis": "x",
         "y": [
          19,
          31,
          32,
          23,
          15,
          20,
          25,
          17,
          23,
          16,
          15,
          29,
          23,
          19,
          16,
          27,
          30,
          23,
          31,
          19,
          17
         ],
         "yaxis": "y"
        },
        {
         "alignmentgroup": "True",
         "hovertemplate": "Crime Type=SHOTS FIRED AT MOVING VEHICLE, TRAIN OR AIRCRAFT<br>Area=%{x}<br>Number of Crimes=%{y}<extra></extra>",
         "legendgroup": "SHOTS FIRED AT MOVING VEHICLE, TRAIN OR AIRCRAFT",
         "marker": {
          "color": "#FFA15A",
          "pattern": {
           "shape": ""
          }
         },
         "name": "SHOTS FIRED AT MOVING VEHICLE, TRAIN OR AIRCRAFT",
         "offsetgroup": "SHOTS FIRED AT MOVING VEHICLE, TRAIN OR AIRCRAFT",
         "orientation": "v",
         "showlegend": true,
         "textposition": "auto",
         "type": "bar",
         "x": [
          "77th Street",
          "Central",
          "Devonshire",
          "Foothill",
          "Harbor",
          "Hollenbeck",
          "Mission",
          "N Hollywood",
          "Newton",
          "Northeast",
          "Pacific",
          "Rampart",
          "Southeast",
          "Southwest",
          "Topanga",
          "Van Nuys",
          "West Valley",
          "Wilshire"
         ],
         "xaxis": "x",
         "y": [
          17,
          1,
          5,
          2,
          1,
          7,
          2,
          3,
          5,
          4,
          3,
          8,
          2,
          10,
          1,
          1,
          2,
          1
         ],
         "yaxis": "y"
        },
        {
         "alignmentgroup": "True",
         "hovertemplate": "Crime Type=DOCUMENT FORGERY / STOLEN FELONY<br>Area=%{x}<br>Number of Crimes=%{y}<extra></extra>",
         "legendgroup": "DOCUMENT FORGERY / STOLEN FELONY",
         "marker": {
          "color": "#19d3f3",
          "pattern": {
           "shape": ""
          }
         },
         "name": "DOCUMENT FORGERY / STOLEN FELONY",
         "offsetgroup": "DOCUMENT FORGERY / STOLEN FELONY",
         "orientation": "v",
         "showlegend": true,
         "textposition": "auto",
         "type": "bar",
         "x": [
          "77th Street",
          "Central",
          "Devonshire",
          "Foothill",
          "Harbor",
          "Hollenbeck",
          "Hollywood",
          "Mission",
          "N Hollywood",
          "Newton",
          "Northeast",
          "Olympic",
          "Pacific",
          "Rampart",
          "Southeast",
          "Southwest",
          "Topanga",
          "Van Nuys",
          "West LA",
          "West Valley",
          "Wilshire"
         ],
         "xaxis": "x",
         "y": [
          16,
          19,
          51,
          24,
          21,
          12,
          36,
          27,
          43,
          9,
          21,
          32,
          54,
          12,
          10,
          19,
          89,
          80,
          58,
          55,
          39
         ],
         "yaxis": "y"
        },
        {
         "alignmentgroup": "True",
         "hovertemplate": "Crime Type=KIDNAPPING<br>Area=%{x}<br>Number of Crimes=%{y}<extra></extra>",
         "legendgroup": "KIDNAPPING",
         "marker": {
          "color": "#FF6692",
          "pattern": {
           "shape": ""
          }
         },
         "name": "KIDNAPPING",
         "offsetgroup": "KIDNAPPING",
         "orientation": "v",
         "showlegend": true,
         "textposition": "auto",
         "type": "bar",
         "x": [
          "77th Street",
          "Central",
          "Devonshire",
          "Foothill",
          "Harbor",
          "Hollenbeck",
          "Hollywood",
          "Mission",
          "N Hollywood",
          "Newton",
          "Northeast",
          "Olympic",
          "Pacific",
          "Rampart",
          "Southeast",
          "Southwest",
          "Topanga",
          "Van Nuys",
          "West LA",
          "West Valley",
          "Wilshire"
         ],
         "xaxis": "x",
         "y": [
          15,
          14,
          13,
          14,
          6,
          6,
          10,
          15,
          8,
          11,
          9,
          5,
          7,
          17,
          14,
          17,
          10,
          6,
          1,
          6,
          9
         ],
         "yaxis": "y"
        },
        {
         "alignmentgroup": "True",
         "hovertemplate": "Crime Type=ORAL COPULATION<br>Area=%{x}<br>Number of Crimes=%{y}<extra></extra>",
         "legendgroup": "ORAL COPULATION",
         "marker": {
          "color": "#B6E880",
          "pattern": {
           "shape": ""
          }
         },
         "name": "ORAL COPULATION",
         "offsetgroup": "ORAL COPULATION",
         "orientation": "v",
         "showlegend": true,
         "textposition": "auto",
         "type": "bar",
         "x": [
          "77th Street",
          "Central",
          "Devonshire",
          "Foothill",
          "Harbor",
          "Hollenbeck",
          "Hollywood",
          "Mission",
          "N Hollywood",
          "Newton",
          "Northeast",
          "Olympic",
          "Pacific",
          "Rampart",
          "Southeast",
          "Southwest",
          "Topanga",
          "Van Nuys",
          "West LA",
          "West Valley",
          "Wilshire"
         ],
         "xaxis": "x",
         "y": [
          15,
          22,
          5,
          7,
          2,
          2,
          12,
          8,
          11,
          6,
          7,
          12,
          7,
          6,
          13,
          7,
          4,
          4,
          8,
          8,
          6
         ],
         "yaxis": "y"
        },
        {
         "alignmentgroup": "True",
         "hovertemplate": "Crime Type=HUMAN TRAFFICKING - INVOLUNTARY SERVITUDE<br>Area=%{x}<br>Number of Crimes=%{y}<extra></extra>",
         "legendgroup": "HUMAN TRAFFICKING - INVOLUNTARY SERVITUDE",
         "marker": {
          "color": "#FF97FF",
          "pattern": {
           "shape": ""
          }
         },
         "name": "HUMAN TRAFFICKING - INVOLUNTARY SERVITUDE",
         "offsetgroup": "HUMAN TRAFFICKING - INVOLUNTARY SERVITUDE",
         "orientation": "v",
         "showlegend": true,
         "textposition": "auto",
         "type": "bar",
         "x": [
          "77th Street",
          "Central",
          "N Hollywood",
          "Olympic",
          "Southeast",
          "Southwest",
          "Topanga",
          "West LA",
          "West Valley",
          "Wilshire"
         ],
         "xaxis": "x",
         "y": [
          13,
          1,
          1,
          1,
          7,
          1,
          2,
          1,
          1,
          1
         ],
         "yaxis": "y"
        },
        {
         "alignmentgroup": "True",
         "hovertemplate": "Crime Type=INDECENT EXPOSURE<br>Area=%{x}<br>Number of Crimes=%{y}<extra></extra>",
         "legendgroup": "INDECENT EXPOSURE",
         "marker": {
          "color": "#FECB52",
          "pattern": {
           "shape": ""
          }
         },
         "name": "INDECENT EXPOSURE",
         "offsetgroup": "INDECENT EXPOSURE",
         "orientation": "v",
         "showlegend": true,
         "textposition": "auto",
         "type": "bar",
         "x": [
          "77th Street",
          "Central",
          "Devonshire",
          "Foothill",
          "Harbor",
          "Hollenbeck",
          "Hollywood",
          "Mission",
          "N Hollywood",
          "Newton",
          "Northeast",
          "Olympic",
          "Pacific",
          "Rampart",
          "Southeast",
          "Southwest",
          "Topanga",
          "Van Nuys",
          "West LA",
          "West Valley",
          "Wilshire"
         ],
         "xaxis": "x",
         "y": [
          12,
          18,
          8,
          26,
          10,
          20,
          20,
          20,
          16,
          19,
          11,
          9,
          13,
          19,
          4,
          14,
          16,
          13,
          16,
          11,
          12
         ],
         "yaxis": "y"
        },
        {
         "alignmentgroup": "True",
         "hovertemplate": "Crime Type=STALKING<br>Area=%{x}<br>Number of Crimes=%{y}<extra></extra>",
         "legendgroup": "STALKING",
         "marker": {
          "color": "#636efa",
          "pattern": {
           "shape": ""
          }
         },
         "name": "STALKING",
         "offsetgroup": "STALKING",
         "orientation": "v",
         "showlegend": true,
         "textposition": "auto",
         "type": "bar",
         "x": [
          "77th Street",
          "Central",
          "Devonshire",
          "Foothill",
          "Harbor",
          "Hollenbeck",
          "Hollywood",
          "Mission",
          "N Hollywood",
          "Newton",
          "Northeast",
          "Olympic",
          "Pacific",
          "Rampart",
          "Southeast",
          "Southwest",
          "Topanga",
          "Van Nuys",
          "West LA",
          "West Valley",
          "Wilshire"
         ],
         "xaxis": "x",
         "y": [
          12,
          7,
          6,
          5,
          6,
          3,
          22,
          13,
          6,
          4,
          14,
          9,
          8,
          8,
          11,
          18,
          10,
          6,
          8,
          8,
          14
         ],
         "yaxis": "y"
        },
        {
         "alignmentgroup": "True",
         "hovertemplate": "Crime Type=BATTERY POLICE (SIMPLE)<br>Area=%{x}<br>Number of Crimes=%{y}<extra></extra>",
         "legendgroup": "BATTERY POLICE (SIMPLE)",
         "marker": {
          "color": "#EF553B",
          "pattern": {
           "shape": ""
          }
         },
         "name": "BATTERY POLICE (SIMPLE)",
         "offsetgroup": "BATTERY POLICE (SIMPLE)",
         "orientation": "v",
         "showlegend": true,
         "textposition": "auto",
         "type": "bar",
         "x": [
          "77th Street",
          "Central",
          "Devonshire",
          "Foothill",
          "Harbor",
          "Hollenbeck",
          "Hollywood",
          "Mission",
          "N Hollywood",
          "Newton",
          "Northeast",
          "Olympic",
          "Pacific",
          "Rampart",
          "Southeast",
          "Southwest",
          "Topanga",
          "Van Nuys",
          "West LA",
          "West Valley",
          "Wilshire"
         ],
         "xaxis": "x",
         "y": [
          10,
          17,
          7,
          5,
          3,
          2,
          1,
          3,
          3,
          1,
          6,
          4,
          16,
          3,
          2,
          29,
          10,
          3,
          3,
          8,
          8
         ],
         "yaxis": "y"
        },
        {
         "alignmentgroup": "True",
         "hovertemplate": "Crime Type=BIKE - STOLEN<br>Area=%{x}<br>Number of Crimes=%{y}<extra></extra>",
         "legendgroup": "BIKE - STOLEN",
         "marker": {
          "color": "#00cc96",
          "pattern": {
           "shape": ""
          }
         },
         "name": "BIKE - STOLEN",
         "offsetgroup": "BIKE - STOLEN",
         "orientation": "v",
         "showlegend": true,
         "textposition": "auto",
         "type": "bar",
         "x": [
          "77th Street",
          "Central",
          "Devonshire",
          "Foothill",
          "Harbor",
          "Hollenbeck",
          "Hollywood",
          "Mission",
          "N Hollywood",
          "Newton",
          "Northeast",
          "Olympic",
          "Pacific",
          "Rampart",
          "Southeast",
          "Southwest",
          "Topanga",
          "Van Nuys",
          "West LA",
          "West Valley",
          "Wilshire"
         ],
         "xaxis": "x",
         "y": [
          9,
          165,
          36,
          9,
          23,
          15,
          76,
          18,
          76,
          17,
          67,
          53,
          268,
          44,
          8,
          313,
          31,
          51,
          157,
          43,
          80
         ],
         "yaxis": "y"
        },
        {
         "alignmentgroup": "True",
         "hovertemplate": "Crime Type=DISCHARGE FIREARMS/SHOTS FIRED<br>Area=%{x}<br>Number of Crimes=%{y}<extra></extra>",
         "legendgroup": "DISCHARGE FIREARMS/SHOTS FIRED",
         "marker": {
          "color": "#ab63fa",
          "pattern": {
           "shape": ""
          }
         },
         "name": "DISCHARGE FIREARMS/SHOTS FIRED",
         "offsetgroup": "DISCHARGE FIREARMS/SHOTS FIRED",
         "orientation": "v",
         "showlegend": true,
         "textposition": "auto",
         "type": "bar",
         "x": [
          "77th Street",
          "Central",
          "Devonshire",
          "Foothill",
          "Harbor",
          "Hollywood",
          "Mission",
          "N Hollywood",
          "Newton",
          "Northeast",
          "Olympic",
          "Pacific",
          "Southeast",
          "Southwest",
          "Topanga",
          "Van Nuys",
          "West LA",
          "West Valley",
          "Wilshire"
         ],
         "xaxis": "x",
         "y": [
          9,
          2,
          4,
          7,
          1,
          2,
          5,
          4,
          9,
          3,
          1,
          4,
          6,
          34,
          10,
          9,
          1,
          2,
          4
         ],
         "yaxis": "y"
        },
        {
         "alignmentgroup": "True",
         "hovertemplate": "Crime Type=KIDNAPPING - GRAND ATTEMPT<br>Area=%{x}<br>Number of Crimes=%{y}<extra></extra>",
         "legendgroup": "KIDNAPPING - GRAND ATTEMPT",
         "marker": {
          "color": "#FFA15A",
          "pattern": {
           "shape": ""
          }
         },
         "name": "KIDNAPPING - GRAND ATTEMPT",
         "offsetgroup": "KIDNAPPING - GRAND ATTEMPT",
         "orientation": "v",
         "showlegend": true,
         "textposition": "auto",
         "type": "bar",
         "x": [
          "77th Street",
          "Devonshire",
          "Foothill",
          "Harbor",
          "Hollenbeck",
          "Hollywood",
          "N Hollywood",
          "Newton",
          "Northeast",
          "Olympic",
          "Pacific",
          "Rampart",
          "Southeast",
          "Southwest",
          "Van Nuys",
          "West LA",
          "West Valley"
         ],
         "xaxis": "x",
         "y": [
          9,
          2,
          4,
          1,
          2,
          2,
          2,
          3,
          2,
          4,
          3,
          4,
          6,
          4,
          2,
          3,
          3
         ],
         "yaxis": "y"
        },
        {
         "alignmentgroup": "True",
         "hovertemplate": "Crime Type=PIMPING<br>Area=%{x}<br>Number of Crimes=%{y}<extra></extra>",
         "legendgroup": "PIMPING",
         "marker": {
          "color": "#19d3f3",
          "pattern": {
           "shape": ""
          }
         },
         "name": "PIMPING",
         "offsetgroup": "PIMPING",
         "orientation": "v",
         "showlegend": true,
         "textposition": "auto",
         "type": "bar",
         "x": [
          "77th Street",
          "Central",
          "Hollywood",
          "N Hollywood",
          "Pacific",
          "Southeast",
          "Van Nuys",
          "West Valley"
         ],
         "xaxis": "x",
         "y": [
          9,
          1,
          4,
          3,
          2,
          4,
          2,
          1
         ],
         "yaxis": "y"
        },
        {
         "alignmentgroup": "True",
         "hovertemplate": "Crime Type=VEHICLE - STOLEN<br>Area=%{x}<br>Number of Crimes=%{y}<extra></extra>",
         "legendgroup": "VEHICLE - STOLEN",
         "marker": {
          "color": "#FF6692",
          "pattern": {
           "shape": ""
          }
         },
         "name": "VEHICLE - STOLEN",
         "offsetgroup": "VEHICLE - STOLEN",
         "orientation": "v",
         "showlegend": true,
         "textposition": "auto",
         "type": "bar",
         "x": [
          "77th Street",
          "Central",
          "Devonshire",
          "Foothill",
          "Harbor",
          "Hollenbeck",
          "Hollywood",
          "Mission",
          "N Hollywood",
          "Newton",
          "Northeast",
          "Olympic",
          "Pacific",
          "Rampart",
          "Southeast",
          "Southwest",
          "Topanga",
          "Van Nuys",
          "West LA",
          "West Valley",
          "Wilshire"
         ],
         "xaxis": "x",
         "y": [
          9,
          7,
          1,
          2,
          2,
          4,
          1,
          2,
          4,
          7,
          2,
          3,
          6,
          2,
          10,
          2,
          2,
          1,
          3,
          2,
          1
         ],
         "yaxis": "y"
        },
        {
         "alignmentgroup": "True",
         "hovertemplate": "Crime Type=SHOPLIFTING-GRAND THEFT ($950.01 & OVER)<br>Area=%{x}<br>Number of Crimes=%{y}<extra></extra>",
         "legendgroup": "SHOPLIFTING-GRAND THEFT ($950.01 & OVER)",
         "marker": {
          "color": "#B6E880",
          "pattern": {
           "shape": ""
          }
         },
         "name": "SHOPLIFTING-GRAND THEFT ($950.01 & OVER)",
         "offsetgroup": "SHOPLIFTING-GRAND THEFT ($950.01 & OVER)",
         "orientation": "v",
         "showlegend": true,
         "textposition": "auto",
         "type": "bar",
         "x": [
          "77th Street",
          "Central",
          "Devonshire",
          "Foothill",
          "Hollenbeck",
          "Hollywood",
          "Mission",
          "N Hollywood",
          "Newton",
          "Northeast",
          "Olympic",
          "Pacific",
          "Southeast",
          "Southwest",
          "Topanga",
          "Van Nuys",
          "West LA",
          "West Valley",
          "Wilshire"
         ],
         "xaxis": "x",
         "y": [
          8,
          27,
          30,
          13,
          4,
          18,
          30,
          17,
          26,
          2,
          1,
          17,
          7,
          60,
          178,
          97,
          13,
          6,
          54
         ],
         "yaxis": "y"
        },
        {
         "alignmentgroup": "True",
         "hovertemplate": "Crime Type=EMBEZZLEMENT, GRAND THEFT ($950.01 & OVER)<br>Area=%{x}<br>Number of Crimes=%{y}<extra></extra>",
         "legendgroup": "EMBEZZLEMENT, GRAND THEFT ($950.01 & OVER)",
         "marker": {
          "color": "#FF97FF",
          "pattern": {
           "shape": ""
          }
         },
         "name": "EMBEZZLEMENT, GRAND THEFT ($950.01 & OVER)",
         "offsetgroup": "EMBEZZLEMENT, GRAND THEFT ($950.01 & OVER)",
         "orientation": "v",
         "showlegend": true,
         "textposition": "auto",
         "type": "bar",
         "x": [
          "77th Street",
          "Central",
          "Devonshire",
          "Foothill",
          "Hollenbeck",
          "Hollywood",
          "Mission",
          "N Hollywood",
          "Newton",
          "Northeast",
          "Olympic",
          "Pacific",
          "Rampart",
          "Southeast",
          "Southwest",
          "Topanga",
          "Van Nuys",
          "West LA",
          "West Valley",
          "Wilshire"
         ],
         "xaxis": "x",
         "y": [
          7,
          5,
          8,
          2,
          6,
          6,
          3,
          2,
          8,
          3,
          4,
          9,
          3,
          3,
          58,
          14,
          16,
          5,
          2,
          12
         ],
         "yaxis": "y"
        },
        {
         "alignmentgroup": "True",
         "hovertemplate": "Crime Type=THEFT FROM MOTOR VEHICLE - ATTEMPT<br>Area=%{x}<br>Number of Crimes=%{y}<extra></extra>",
         "legendgroup": "THEFT FROM MOTOR VEHICLE - ATTEMPT",
         "marker": {
          "color": "#FECB52",
          "pattern": {
           "shape": ""
          }
         },
         "name": "THEFT FROM MOTOR VEHICLE - ATTEMPT",
         "offsetgroup": "THEFT FROM MOTOR VEHICLE - ATTEMPT",
         "orientation": "v",
         "showlegend": true,
         "textposition": "auto",
         "type": "bar",
         "x": [
          "77th Street",
          "Central",
          "Devonshire",
          "Foothill",
          "Harbor",
          "Hollenbeck",
          "Hollywood",
          "Mission",
          "N Hollywood",
          "Newton",
          "Northeast",
          "Olympic",
          "Pacific",
          "Rampart",
          "Southeast",
          "Southwest",
          "Topanga",
          "Van Nuys",
          "West LA",
          "West Valley",
          "Wilshire"
         ],
         "xaxis": "x",
         "y": [
          7,
          7,
          8,
          3,
          8,
          8,
          1,
          4,
          6,
          9,
          9,
          7,
          16,
          4,
          5,
          17,
          11,
          15,
          12,
          9,
          11
         ],
         "yaxis": "y"
        },
        {
         "alignmentgroup": "True",
         "hovertemplate": "Crime Type=FAILURE TO YIELD<br>Area=%{x}<br>Number of Crimes=%{y}<extra></extra>",
         "legendgroup": "FAILURE TO YIELD",
         "marker": {
          "color": "#636efa",
          "pattern": {
           "shape": ""
          }
         },
         "name": "FAILURE TO YIELD",
         "offsetgroup": "FAILURE TO YIELD",
         "orientation": "v",
         "showlegend": true,
         "textposition": "auto",
         "type": "bar",
         "x": [
          "77th Street",
          "Foothill",
          "Mission",
          "N Hollywood",
          "Newton",
          "Southeast",
          "Southwest",
          "Topanga",
          "Van Nuys",
          "Wilshire"
         ],
         "xaxis": "x",
         "y": [
          6,
          2,
          4,
          1,
          20,
          2,
          62,
          1,
          1,
          5
         ],
         "yaxis": "y"
        },
        {
         "alignmentgroup": "True",
         "hovertemplate": "Crime Type=FALSE IMPRISONMENT<br>Area=%{x}<br>Number of Crimes=%{y}<extra></extra>",
         "legendgroup": "FALSE IMPRISONMENT",
         "marker": {
          "color": "#EF553B",
          "pattern": {
           "shape": ""
          }
         },
         "name": "FALSE IMPRISONMENT",
         "offsetgroup": "FALSE IMPRISONMENT",
         "orientation": "v",
         "showlegend": true,
         "textposition": "auto",
         "type": "bar",
         "x": [
          "77th Street",
          "Central",
          "Devonshire",
          "Foothill",
          "Harbor",
          "Hollenbeck",
          "Hollywood",
          "Mission",
          "N Hollywood",
          "Newton",
          "Northeast",
          "Olympic",
          "Pacific",
          "Rampart",
          "Southeast",
          "Southwest",
          "Topanga",
          "Van Nuys",
          "West LA",
          "West Valley",
          "Wilshire"
         ],
         "xaxis": "x",
         "y": [
          6,
          13,
          1,
          5,
          5,
          3,
          9,
          3,
          2,
          4,
          2,
          7,
          4,
          1,
          4,
          7,
          3,
          7,
          2,
          2,
          3
         ],
         "yaxis": "y"
        },
        {
         "alignmentgroup": "True",
         "hovertemplate": "Crime Type=PICKPOCKET<br>Area=%{x}<br>Number of Crimes=%{y}<extra></extra>",
         "legendgroup": "PICKPOCKET",
         "marker": {
          "color": "#00cc96",
          "pattern": {
           "shape": ""
          }
         },
         "name": "PICKPOCKET",
         "offsetgroup": "PICKPOCKET",
         "orientation": "v",
         "showlegend": true,
         "textposition": "auto",
         "type": "bar",
         "x": [
          "77th Street",
          "Central",
          "Devonshire",
          "Foothill",
          "Harbor",
          "Hollenbeck",
          "Hollywood",
          "Mission",
          "N Hollywood",
          "Newton",
          "Northeast",
          "Olympic",
          "Pacific",
          "Rampart",
          "Southeast",
          "Southwest",
          "Topanga",
          "Van Nuys",
          "West LA",
          "West Valley",
          "Wilshire"
         ],
         "xaxis": "x",
         "y": [
          5,
          314,
          22,
          2,
          4,
          12,
          253,
          2,
          15,
          58,
          52,
          86,
          50,
          54,
          3,
          87,
          17,
          13,
          51,
          13,
          104
         ],
         "yaxis": "y"
        },
        {
         "alignmentgroup": "True",
         "hovertemplate": "Crime Type=RESISTING ARREST<br>Area=%{x}<br>Number of Crimes=%{y}<extra></extra>",
         "legendgroup": "RESISTING ARREST",
         "marker": {
          "color": "#ab63fa",
          "pattern": {
           "shape": ""
          }
         },
         "name": "RESISTING ARREST",
         "offsetgroup": "RESISTING ARREST",
         "orientation": "v",
         "showlegend": true,
         "textposition": "auto",
         "type": "bar",
         "x": [
          "77th Street",
          "Central",
          "Foothill",
          "Mission",
          "N Hollywood",
          "Newton",
          "Olympic",
          "Pacific",
          "Southwest",
          "Topanga",
          "Van Nuys",
          "Wilshire"
         ],
         "xaxis": "x",
         "y": [
          5,
          1,
          1,
          7,
          2,
          1,
          3,
          11,
          12,
          6,
          1,
          1
         ],
         "yaxis": "y"
        },
        {
         "alignmentgroup": "True",
         "hovertemplate": "Crime Type=BURGLARY FROM VEHICLE, ATTEMPTED<br>Area=%{x}<br>Number of Crimes=%{y}<extra></extra>",
         "legendgroup": "BURGLARY FROM VEHICLE, ATTEMPTED",
         "marker": {
          "color": "#FFA15A",
          "pattern": {
           "shape": ""
          }
         },
         "name": "BURGLARY FROM VEHICLE, ATTEMPTED",
         "offsetgroup": "BURGLARY FROM VEHICLE, ATTEMPTED",
         "orientation": "v",
         "showlegend": true,
         "textposition": "auto",
         "type": "bar",
         "x": [
          "77th Street",
          "Central",
          "Devonshire",
          "Foothill",
          "Harbor",
          "Hollenbeck",
          "Hollywood",
          "Mission",
          "N Hollywood",
          "Newton",
          "Northeast",
          "Olympic",
          "Pacific",
          "Rampart",
          "Southeast",
          "Southwest",
          "Topanga",
          "Van Nuys",
          "West LA",
          "West Valley",
          "Wilshire"
         ],
         "xaxis": "x",
         "y": [
          4,
          15,
          3,
          1,
          6,
          8,
          5,
          7,
          12,
          2,
          7,
          4,
          18,
          8,
          17,
          13,
          5,
          11,
          7,
          3,
          5
         ],
         "yaxis": "y"
        },
        {
         "alignmentgroup": "True",
         "hovertemplate": "Crime Type=THEFT PLAIN - ATTEMPT<br>Area=%{x}<br>Number of Crimes=%{y}<extra></extra>",
         "legendgroup": "THEFT PLAIN - ATTEMPT",
         "marker": {
          "color": "#19d3f3",
          "pattern": {
           "shape": ""
          }
         },
         "name": "THEFT PLAIN - ATTEMPT",
         "offsetgroup": "THEFT PLAIN - ATTEMPT",
         "orientation": "v",
         "showlegend": true,
         "textposition": "auto",
         "type": "bar",
         "x": [
          "77th Street",
          "Central",
          "Devonshire",
          "Foothill",
          "Hollenbeck",
          "Hollywood",
          "Mission",
          "N Hollywood",
          "Newton",
          "Northeast",
          "Pacific",
          "Rampart",
          "Southwest",
          "Topanga",
          "Van Nuys",
          "West LA",
          "West Valley",
          "Wilshire"
         ],
         "xaxis": "x",
         "y": [
          4,
          5,
          4,
          2,
          2,
          2,
          2,
          3,
          5,
          4,
          1,
          3,
          4,
          3,
          3,
          8,
          1,
          1
         ],
         "yaxis": "y"
        },
        {
         "alignmentgroup": "True",
         "hovertemplate": "Crime Type=UNAUTHORIZED COMPUTER ACCESS<br>Area=%{x}<br>Number of Crimes=%{y}<extra></extra>",
         "legendgroup": "UNAUTHORIZED COMPUTER ACCESS",
         "marker": {
          "color": "#FF6692",
          "pattern": {
           "shape": ""
          }
         },
         "name": "UNAUTHORIZED COMPUTER ACCESS",
         "offsetgroup": "UNAUTHORIZED COMPUTER ACCESS",
         "orientation": "v",
         "showlegend": true,
         "textposition": "auto",
         "type": "bar",
         "x": [
          "77th Street",
          "Central",
          "Devonshire",
          "Foothill",
          "Harbor",
          "Hollywood",
          "Mission",
          "N Hollywood",
          "Northeast",
          "Olympic",
          "Pacific",
          "Rampart",
          "Southwest",
          "Topanga",
          "Van Nuys",
          "West LA",
          "West Valley",
          "Wilshire"
         ],
         "xaxis": "x",
         "y": [
          4,
          2,
          4,
          3,
          1,
          6,
          2,
          3,
          4,
          4,
          3,
          3,
          5,
          12,
          8,
          17,
          28,
          8
         ],
         "yaxis": "y"
        },
        {
         "alignmentgroup": "True",
         "hovertemplate": "Crime Type=VIOLATION OF TEMPORARY RESTRAINING ORDER<br>Area=%{x}<br>Number of Crimes=%{y}<extra></extra>",
         "legendgroup": "VIOLATION OF TEMPORARY RESTRAINING ORDER",
         "marker": {
          "color": "#B6E880",
          "pattern": {
           "shape": ""
          }
         },
         "name": "VIOLATION OF TEMPORARY RESTRAINING ORDER",
         "offsetgroup": "VIOLATION OF TEMPORARY RESTRAINING ORDER",
         "orientation": "v",
         "showlegend": true,
         "textposition": "auto",
         "type": "bar",
         "x": [
          "77th Street",
          "Central",
          "Devonshire",
          "Foothill",
          "Harbor",
          "Hollenbeck",
          "Hollywood",
          "Mission",
          "N Hollywood",
          "Newton",
          "Northeast",
          "Olympic",
          "Pacific",
          "Rampart",
          "Southeast",
          "Southwest",
          "Topanga",
          "Van Nuys",
          "West LA",
          "West Valley",
          "Wilshire"
         ],
         "xaxis": "x",
         "y": [
          4,
          2,
          49,
          13,
          4,
          11,
          6,
          9,
          4,
          14,
          7,
          13,
          2,
          14,
          15,
          10,
          17,
          14,
          2,
          33,
          3
         ],
         "yaxis": "y"
        },
        {
         "alignmentgroup": "True",
         "hovertemplate": "Crime Type=CONTRIBUTING<br>Area=%{x}<br>Number of Crimes=%{y}<extra></extra>",
         "legendgroup": "CONTRIBUTING",
         "marker": {
          "color": "#FF97FF",
          "pattern": {
           "shape": ""
          }
         },
         "name": "CONTRIBUTING",
         "offsetgroup": "CONTRIBUTING",
         "orientation": "v",
         "showlegend": true,
         "textposition": "auto",
         "type": "bar",
         "x": [
          "77th Street",
          "Devonshire",
          "Mission",
          "N Hollywood",
          "Newton",
          "Northeast",
          "Van Nuys",
          "West Valley"
         ],
         "xaxis": "x",
         "y": [
          3,
          2,
          2,
          1,
          2,
          1,
          1,
          4
         ],
         "yaxis": "y"
        },
        {
         "alignmentgroup": "True",
         "hovertemplate": "Crime Type=CREDIT CARDS, FRAUD USE ($950 & UNDER<br>Area=%{x}<br>Number of Crimes=%{y}<extra></extra>",
         "legendgroup": "CREDIT CARDS, FRAUD USE ($950 & UNDER",
         "marker": {
          "color": "#FECB52",
          "pattern": {
           "shape": ""
          }
         },
         "name": "CREDIT CARDS, FRAUD USE ($950 & UNDER",
         "offsetgroup": "CREDIT CARDS, FRAUD USE ($950 & UNDER",
         "orientation": "v",
         "showlegend": true,
         "textposition": "auto",
         "type": "bar",
         "x": [
          "77th Street",
          "Central",
          "Devonshire",
          "Foothill",
          "Harbor",
          "Hollenbeck",
          "Mission",
          "N Hollywood",
          "Northeast",
          "Pacific",
          "Rampart",
          "Southeast",
          "Southwest",
          "Topanga",
          "West Valley",
          "Wilshire"
         ],
         "xaxis": "x",
         "y": [
          3,
          6,
          1,
          1,
          2,
          1,
          1,
          2,
          3,
          2,
          2,
          1,
          2,
          1,
          2,
          1
         ],
         "yaxis": "y"
        },
        {
         "alignmentgroup": "True",
         "hovertemplate": "Crime Type=CRUELTY TO ANIMALS<br>Area=%{x}<br>Number of Crimes=%{y}<extra></extra>",
         "legendgroup": "CRUELTY TO ANIMALS",
         "marker": {
          "color": "#636efa",
          "pattern": {
           "shape": ""
          }
         },
         "name": "CRUELTY TO ANIMALS",
         "offsetgroup": "CRUELTY TO ANIMALS",
         "orientation": "v",
         "showlegend": true,
         "textposition": "auto",
         "type": "bar",
         "x": [
          "77th Street",
          "Central",
          "Devonshire",
          "Foothill",
          "Harbor",
          "Hollenbeck",
          "Hollywood",
          "Mission",
          "N Hollywood",
          "Pacific",
          "Southeast",
          "Southwest",
          "Topanga",
          "Van Nuys",
          "West LA",
          "West Valley",
          "Wilshire"
         ],
         "xaxis": "x",
         "y": [
          3,
          2,
          1,
          2,
          2,
          2,
          2,
          1,
          2,
          2,
          4,
          1,
          4,
          4,
          1,
          3,
          1
         ],
         "yaxis": "y"
        },
        {
         "alignmentgroup": "True",
         "hovertemplate": "Crime Type=THEFT FROM PERSON - ATTEMPT<br>Area=%{x}<br>Number of Crimes=%{y}<extra></extra>",
         "legendgroup": "THEFT FROM PERSON - ATTEMPT",
         "marker": {
          "color": "#EF553B",
          "pattern": {
           "shape": ""
          }
         },
         "name": "THEFT FROM PERSON - ATTEMPT",
         "offsetgroup": "THEFT FROM PERSON - ATTEMPT",
         "orientation": "v",
         "showlegend": true,
         "textposition": "auto",
         "type": "bar",
         "x": [
          "77th Street",
          "Central",
          "Devonshire",
          "Harbor",
          "Mission",
          "Newton",
          "Northeast",
          "Olympic",
          "Pacific",
          "Southeast",
          "Southwest",
          "Topanga",
          "West LA",
          "Wilshire"
         ],
         "xaxis": "x",
         "y": [
          3,
          6,
          2,
          1,
          2,
          2,
          1,
          2,
          1,
          2,
          4,
          2,
          2,
          2
         ],
         "yaxis": "y"
        },
        {
         "alignmentgroup": "True",
         "hovertemplate": "Crime Type=THREATENING PHONE CALLS/LETTERS<br>Area=%{x}<br>Number of Crimes=%{y}<extra></extra>",
         "legendgroup": "THREATENING PHONE CALLS/LETTERS",
         "marker": {
          "color": "#00cc96",
          "pattern": {
           "shape": ""
          }
         },
         "name": "THREATENING PHONE CALLS/LETTERS",
         "offsetgroup": "THREATENING PHONE CALLS/LETTERS",
         "orientation": "v",
         "showlegend": true,
         "textposition": "auto",
         "type": "bar",
         "x": [
          "77th Street",
          "Central",
          "Devonshire",
          "Foothill",
          "Harbor",
          "Hollenbeck",
          "Hollywood",
          "Mission",
          "N Hollywood",
          "Newton",
          "Olympic",
          "Pacific",
          "Rampart",
          "Southeast",
          "Southwest",
          "Topanga",
          "Van Nuys",
          "West LA",
          "West Valley",
          "Wilshire"
         ],
         "xaxis": "x",
         "y": [
          3,
          5,
          4,
          1,
          4,
          1,
          2,
          3,
          7,
          2,
          21,
          4,
          1,
          3,
          7,
          19,
          1,
          4,
          3,
          6
         ],
         "yaxis": "y"
        },
        {
         "alignmentgroup": "True",
         "hovertemplate": "Crime Type=BUNCO, ATTEMPT<br>Area=%{x}<br>Number of Crimes=%{y}<extra></extra>",
         "legendgroup": "BUNCO, ATTEMPT",
         "marker": {
          "color": "#ab63fa",
          "pattern": {
           "shape": ""
          }
         },
         "name": "BUNCO, ATTEMPT",
         "offsetgroup": "BUNCO, ATTEMPT",
         "orientation": "v",
         "showlegend": true,
         "textposition": "auto",
         "type": "bar",
         "x": [
          "77th Street",
          "Central",
          "Devonshire",
          "Foothill",
          "Harbor",
          "Hollenbeck",
          "Hollywood",
          "Mission",
          "N Hollywood",
          "Newton",
          "Northeast",
          "Olympic",
          "Rampart",
          "Southeast",
          "Southwest",
          "Topanga",
          "West Valley",
          "Wilshire"
         ],
         "xaxis": "x",
         "y": [
          2,
          1,
          2,
          2,
          3,
          1,
          3,
          1,
          4,
          17,
          11,
          1,
          5,
          1,
          16,
          3,
          1,
          1
         ],
         "yaxis": "y"
        },
        {
         "alignmentgroup": "True",
         "hovertemplate": "Crime Type=EMBEZZLEMENT, PETTY THEFT ($950 & UNDER)<br>Area=%{x}<br>Number of Crimes=%{y}<extra></extra>",
         "legendgroup": "EMBEZZLEMENT, PETTY THEFT ($950 & UNDER)",
         "marker": {
          "color": "#FFA15A",
          "pattern": {
           "shape": ""
          }
         },
         "name": "EMBEZZLEMENT, PETTY THEFT ($950 & UNDER)",
         "offsetgroup": "EMBEZZLEMENT, PETTY THEFT ($950 & UNDER)",
         "orientation": "v",
         "showlegend": true,
         "textposition": "auto",
         "type": "bar",
         "x": [
          "77th Street",
          "Central",
          "Southwest",
          "Topanga",
          "Van Nuys",
          "Wilshire"
         ],
         "xaxis": "x",
         "y": [
          2,
          1,
          4,
          2,
          2,
          1
         ],
         "yaxis": "y"
        },
        {
         "alignmentgroup": "True",
         "hovertemplate": "Crime Type=THROWING OBJECT AT MOVING VEHICLE<br>Area=%{x}<br>Number of Crimes=%{y}<extra></extra>",
         "legendgroup": "THROWING OBJECT AT MOVING VEHICLE",
         "marker": {
          "color": "#19d3f3",
          "pattern": {
           "shape": ""
          }
         },
         "name": "THROWING OBJECT AT MOVING VEHICLE",
         "offsetgroup": "THROWING OBJECT AT MOVING VEHICLE",
         "orientation": "v",
         "showlegend": true,
         "textposition": "auto",
         "type": "bar",
         "x": [
          "77th Street",
          "Central",
          "Devonshire",
          "Foothill",
          "Harbor",
          "Hollenbeck",
          "Hollywood",
          "Mission",
          "N Hollywood",
          "Newton",
          "Northeast",
          "Olympic",
          "Pacific",
          "Rampart",
          "Southeast",
          "Southwest",
          "Topanga",
          "Van Nuys",
          "West LA",
          "West Valley",
          "Wilshire"
         ],
         "xaxis": "x",
         "y": [
          2,
          13,
          8,
          10,
          8,
          9,
          7,
          2,
          11,
          7,
          5,
          8,
          11,
          4,
          9,
          9,
          16,
          6,
          2,
          10,
          7
         ],
         "yaxis": "y"
        },
        {
         "alignmentgroup": "True",
         "hovertemplate": "Crime Type=BATTERY ON A FIREFIGHTER<br>Area=%{x}<br>Number of Crimes=%{y}<extra></extra>",
         "legendgroup": "BATTERY ON A FIREFIGHTER",
         "marker": {
          "color": "#FF6692",
          "pattern": {
           "shape": ""
          }
         },
         "name": "BATTERY ON A FIREFIGHTER",
         "offsetgroup": "BATTERY ON A FIREFIGHTER",
         "orientation": "v",
         "showlegend": true,
         "textposition": "auto",
         "type": "bar",
         "x": [
          "77th Street",
          "Central",
          "Devonshire",
          "Foothill",
          "Hollenbeck",
          "Hollywood",
          "Mission",
          "N Hollywood",
          "Newton",
          "Northeast",
          "Olympic",
          "Pacific",
          "Rampart",
          "Southeast",
          "Southwest",
          "Topanga",
          "West LA",
          "West Valley",
          "Wilshire"
         ],
         "xaxis": "x",
         "y": [
          1,
          8,
          4,
          1,
          4,
          1,
          2,
          1,
          2,
          2,
          1,
          5,
          6,
          2,
          3,
          4,
          1,
          4,
          1
         ],
         "yaxis": "y"
        },
        {
         "alignmentgroup": "True",
         "hovertemplate": "Crime Type=DISTURBING THE PEACE<br>Area=%{x}<br>Number of Crimes=%{y}<extra></extra>",
         "legendgroup": "DISTURBING THE PEACE",
         "marker": {
          "color": "#B6E880",
          "pattern": {
           "shape": ""
          }
         },
         "name": "DISTURBING THE PEACE",
         "offsetgroup": "DISTURBING THE PEACE",
         "orientation": "v",
         "showlegend": true,
         "textposition": "auto",
         "type": "bar",
         "x": [
          "77th Street",
          "Central",
          "Devonshire",
          "Foothill",
          "Harbor",
          "Hollenbeck",
          "Hollywood",
          "Mission",
          "N Hollywood",
          "Newton",
          "Northeast",
          "Olympic",
          "Pacific",
          "Rampart",
          "Southeast",
          "Southwest",
          "Topanga",
          "Van Nuys",
          "West LA",
          "West Valley",
          "Wilshire"
         ],
         "xaxis": "x",
         "y": [
          1,
          7,
          34,
          3,
          8,
          4,
          13,
          10,
          30,
          3,
          29,
          17,
          17,
          12,
          1,
          33,
          40,
          12,
          42,
          39,
          52
         ],
         "yaxis": "y"
        },
        {
         "alignmentgroup": "True",
         "hovertemplate": "Crime Type=DRIVING WITHOUT OWNER CONSENT (DWOC)<br>Area=%{x}<br>Number of Crimes=%{y}<extra></extra>",
         "legendgroup": "DRIVING WITHOUT OWNER CONSENT (DWOC)",
         "marker": {
          "color": "#FF97FF",
          "pattern": {
           "shape": ""
          }
         },
         "name": "DRIVING WITHOUT OWNER CONSENT (DWOC)",
         "offsetgroup": "DRIVING WITHOUT OWNER CONSENT (DWOC)",
         "orientation": "v",
         "showlegend": true,
         "textposition": "auto",
         "type": "bar",
         "x": [
          "77th Street",
          "Devonshire",
          "Harbor",
          "Hollenbeck",
          "Mission",
          "Newton",
          "Pacific",
          "Southeast",
          "Topanga"
         ],
         "xaxis": "x",
         "y": [
          1,
          1,
          1,
          1,
          1,
          1,
          1,
          1,
          1
         ],
         "yaxis": "y"
        },
        {
         "alignmentgroup": "True",
         "hovertemplate": "Crime Type=FALSE POLICE REPORT<br>Area=%{x}<br>Number of Crimes=%{y}<extra></extra>",
         "legendgroup": "FALSE POLICE REPORT",
         "marker": {
          "color": "#FECB52",
          "pattern": {
           "shape": ""
          }
         },
         "name": "FALSE POLICE REPORT",
         "offsetgroup": "FALSE POLICE REPORT",
         "orientation": "v",
         "showlegend": true,
         "textposition": "auto",
         "type": "bar",
         "x": [
          "77th Street",
          "Central",
          "Devonshire",
          "Foothill",
          "Harbor",
          "Hollenbeck",
          "Pacific",
          "Topanga",
          "Van Nuys",
          "West LA",
          "West Valley",
          "Wilshire"
         ],
         "xaxis": "x",
         "y": [
          1,
          1,
          1,
          1,
          1,
          1,
          1,
          2,
          1,
          1,
          1,
          6
         ],
         "yaxis": "y"
        },
        {
         "alignmentgroup": "True",
         "hovertemplate": "Crime Type=ILLEGAL DUMPING<br>Area=%{x}<br>Number of Crimes=%{y}<extra></extra>",
         "legendgroup": "ILLEGAL DUMPING",
         "marker": {
          "color": "#636efa",
          "pattern": {
           "shape": ""
          }
         },
         "name": "ILLEGAL DUMPING",
         "offsetgroup": "ILLEGAL DUMPING",
         "orientation": "v",
         "showlegend": true,
         "textposition": "auto",
         "type": "bar",
         "x": [
          "77th Street",
          "Hollywood",
          "Northeast",
          "Pacific",
          "Topanga",
          "West LA",
          "West Valley"
         ],
         "xaxis": "x",
         "y": [
          1,
          1,
          1,
          1,
          1,
          2,
          1
         ],
         "yaxis": "y"
        },
        {
         "alignmentgroup": "True",
         "hovertemplate": "Crime Type=PROWLER<br>Area=%{x}<br>Number of Crimes=%{y}<extra></extra>",
         "legendgroup": "PROWLER",
         "marker": {
          "color": "#EF553B",
          "pattern": {
           "shape": ""
          }
         },
         "name": "PROWLER",
         "offsetgroup": "PROWLER",
         "orientation": "v",
         "showlegend": true,
         "textposition": "auto",
         "type": "bar",
         "x": [
          "77th Street",
          "Devonshire",
          "Harbor",
          "Northeast",
          "Olympic",
          "Pacific",
          "Southwest",
          "Topanga",
          "Van Nuys",
          "West LA",
          "West Valley",
          "Wilshire"
         ],
         "xaxis": "x",
         "y": [
          1,
          4,
          1,
          5,
          2,
          8,
          2,
          1,
          1,
          3,
          25,
          2
         ],
         "yaxis": "y"
        },
        {
         "alignmentgroup": "True",
         "hovertemplate": "Crime Type=PURSE SNATCHING<br>Area=%{x}<br>Number of Crimes=%{y}<extra></extra>",
         "legendgroup": "PURSE SNATCHING",
         "marker": {
          "color": "#00cc96",
          "pattern": {
           "shape": ""
          }
         },
         "name": "PURSE SNATCHING",
         "offsetgroup": "PURSE SNATCHING",
         "orientation": "v",
         "showlegend": true,
         "textposition": "auto",
         "type": "bar",
         "x": [
          "77th Street",
          "Central",
          "Devonshire",
          "Harbor",
          "Hollywood",
          "Northeast",
          "Olympic",
          "Pacific",
          "Rampart",
          "Southeast",
          "Southwest",
          "Topanga",
          "Van Nuys",
          "West LA",
          "West Valley"
         ],
         "xaxis": "x",
         "y": [
          1,
          5,
          1,
          1,
          3,
          1,
          1,
          1,
          1,
          3,
          2,
          1,
          1,
          1,
          1
         ],
         "yaxis": "y"
        },
        {
         "alignmentgroup": "True",
         "hovertemplate": "Crime Type=RECKLESS DRIVING<br>Area=%{x}<br>Number of Crimes=%{y}<extra></extra>",
         "legendgroup": "RECKLESS DRIVING",
         "marker": {
          "color": "#ab63fa",
          "pattern": {
           "shape": ""
          }
         },
         "name": "RECKLESS DRIVING",
         "offsetgroup": "RECKLESS DRIVING",
         "orientation": "v",
         "showlegend": true,
         "textposition": "auto",
         "type": "bar",
         "x": [
          "77th Street",
          "Central",
          "Northeast",
          "Southwest",
          "Topanga",
          "West Valley",
          "Wilshire"
         ],
         "xaxis": "x",
         "y": [
          1,
          1,
          2,
          4,
          2,
          1,
          1
         ],
         "yaxis": "y"
        },
        {
         "alignmentgroup": "True",
         "hovertemplate": "Crime Type=VEHICLE, STOLEN - OTHER (MOTORIZED SCOOTERS, BIKES, ETC)<br>Area=%{x}<br>Number of Crimes=%{y}<extra></extra>",
         "legendgroup": "VEHICLE, STOLEN - OTHER (MOTORIZED SCOOTERS, BIKES, ETC)",
         "marker": {
          "color": "#FFA15A",
          "pattern": {
           "shape": ""
          }
         },
         "name": "VEHICLE, STOLEN - OTHER (MOTORIZED SCOOTERS, BIKES, ETC)",
         "offsetgroup": "VEHICLE, STOLEN - OTHER (MOTORIZED SCOOTERS, BIKES, ETC)",
         "orientation": "v",
         "showlegend": true,
         "textposition": "auto",
         "type": "bar",
         "x": [
          "Central",
          "Harbor",
          "Hollywood",
          "N Hollywood",
          "Northeast",
          "Olympic",
          "Pacific",
          "Rampart",
          "Southeast",
          "Southwest",
          "Van Nuys",
          "West LA",
          "West Valley",
          "Wilshire"
         ],
         "xaxis": "x",
         "y": [
          20,
          5,
          7,
          6,
          2,
          1,
          41,
          4,
          1,
          22,
          1,
          11,
          3,
          3
         ],
         "yaxis": "y"
        },
        {
         "alignmentgroup": "True",
         "hovertemplate": "Crime Type=BOMB SCARE<br>Area=%{x}<br>Number of Crimes=%{y}<extra></extra>",
         "legendgroup": "BOMB SCARE",
         "marker": {
          "color": "#19d3f3",
          "pattern": {
           "shape": ""
          }
         },
         "name": "BOMB SCARE",
         "offsetgroup": "BOMB SCARE",
         "orientation": "v",
         "showlegend": true,
         "textposition": "auto",
         "type": "bar",
         "x": [
          "Central",
          "Harbor",
          "Hollenbeck",
          "Hollywood",
          "Mission",
          "Pacific",
          "Southwest",
          "Topanga",
          "Van Nuys",
          "West Valley",
          "Wilshire"
         ],
         "xaxis": "x",
         "y": [
          5,
          1,
          1,
          1,
          2,
          7,
          2,
          3,
          3,
          1,
          1
         ],
         "yaxis": "y"
        },
        {
         "alignmentgroup": "True",
         "hovertemplate": "Crime Type=DRUNK ROLL<br>Area=%{x}<br>Number of Crimes=%{y}<extra></extra>",
         "legendgroup": "DRUNK ROLL",
         "marker": {
          "color": "#FF6692",
          "pattern": {
           "shape": ""
          }
         },
         "name": "DRUNK ROLL",
         "offsetgroup": "DRUNK ROLL",
         "orientation": "v",
         "showlegend": true,
         "textposition": "auto",
         "type": "bar",
         "x": [
          "Central",
          "Hollywood",
          "N Hollywood",
          "Newton",
          "Olympic",
          "Topanga",
          "Wilshire"
         ],
         "xaxis": "x",
         "y": [
          5,
          2,
          1,
          1,
          1,
          1,
          1
         ],
         "yaxis": "y"
        },
        {
         "alignmentgroup": "True",
         "hovertemplate": "Crime Type=DEFRAUDING INNKEEPER/THEFT OF SERVICES, $950 & UNDER<br>Area=%{x}<br>Number of Crimes=%{y}<extra></extra>",
         "legendgroup": "DEFRAUDING INNKEEPER/THEFT OF SERVICES, $950 & UNDER",
         "marker": {
          "color": "#B6E880",
          "pattern": {
           "shape": ""
          }
         },
         "name": "DEFRAUDING INNKEEPER/THEFT OF SERVICES, $950 & UNDER",
         "offsetgroup": "DEFRAUDING INNKEEPER/THEFT OF SERVICES, $950 & UNDER",
         "orientation": "v",
         "showlegend": true,
         "textposition": "auto",
         "type": "bar",
         "x": [
          "Central",
          "Mission",
          "Olympic",
          "Southwest",
          "Van Nuys",
          "Wilshire"
         ],
         "xaxis": "x",
         "y": [
          2,
          1,
          1,
          2,
          6,
          1
         ],
         "yaxis": "y"
        },
        {
         "alignmentgroup": "True",
         "hovertemplate": "Crime Type=SHOPLIFTING - ATTEMPT<br>Area=%{x}<br>Number of Crimes=%{y}<extra></extra>",
         "legendgroup": "SHOPLIFTING - ATTEMPT",
         "marker": {
          "color": "#FF97FF",
          "pattern": {
           "shape": ""
          }
         },
         "name": "SHOPLIFTING - ATTEMPT",
         "offsetgroup": "SHOPLIFTING - ATTEMPT",
         "orientation": "v",
         "showlegend": true,
         "textposition": "auto",
         "type": "bar",
         "x": [
          "Central",
          "Southwest",
          "Topanga",
          "Van Nuys"
         ],
         "xaxis": "x",
         "y": [
          2,
          2,
          2,
          1
         ],
         "yaxis": "y"
        },
        {
         "alignmentgroup": "True",
         "hovertemplate": "Crime Type=ASSAULT WITH DEADLY WEAPON ON POLICE OFFICER<br>Area=%{x}<br>Number of Crimes=%{y}<extra></extra>",
         "legendgroup": "ASSAULT WITH DEADLY WEAPON ON POLICE OFFICER",
         "marker": {
          "color": "#FECB52",
          "pattern": {
           "shape": ""
          }
         },
         "name": "ASSAULT WITH DEADLY WEAPON ON POLICE OFFICER",
         "offsetgroup": "ASSAULT WITH DEADLY WEAPON ON POLICE OFFICER",
         "orientation": "v",
         "showlegend": true,
         "textposition": "auto",
         "type": "bar",
         "x": [
          "Central",
          "Hollenbeck",
          "Mission",
          "Newton",
          "Olympic",
          "Pacific",
          "Rampart",
          "Southwest",
          "Topanga",
          "West LA",
          "Wilshire"
         ],
         "xaxis": "x",
         "y": [
          1,
          9,
          5,
          3,
          2,
          4,
          1,
          24,
          7,
          1,
          3
         ],
         "yaxis": "y"
        },
        {
         "alignmentgroup": "True",
         "hovertemplate": "Crime Type=CREDIT CARDS, FRAUD USE ($950.01 & OVER)<br>Area=%{x}<br>Number of Crimes=%{y}<extra></extra>",
         "legendgroup": "CREDIT CARDS, FRAUD USE ($950.01 & OVER)",
         "marker": {
          "color": "#636efa",
          "pattern": {
           "shape": ""
          }
         },
         "name": "CREDIT CARDS, FRAUD USE ($950.01 & OVER)",
         "offsetgroup": "CREDIT CARDS, FRAUD USE ($950.01 & OVER)",
         "orientation": "v",
         "showlegend": true,
         "textposition": "auto",
         "type": "bar",
         "x": [
          "Central",
          "Devonshire",
          "Foothill",
          "Harbor",
          "N Hollywood",
          "Newton",
          "Northeast",
          "Pacific",
          "Southwest",
          "Topanga",
          "Wilshire"
         ],
         "xaxis": "x",
         "y": [
          1,
          2,
          1,
          3,
          1,
          1,
          2,
          1,
          2,
          1,
          2
         ],
         "yaxis": "y"
        },
        {
         "alignmentgroup": "True",
         "hovertemplate": "Crime Type=DOCUMENT WORTHLESS ($200 & UNDER)<br>Area=%{x}<br>Number of Crimes=%{y}<extra></extra>",
         "legendgroup": "DOCUMENT WORTHLESS ($200 & UNDER)",
         "marker": {
          "color": "#EF553B",
          "pattern": {
           "shape": ""
          }
         },
         "name": "DOCUMENT WORTHLESS ($200 & UNDER)",
         "offsetgroup": "DOCUMENT WORTHLESS ($200 & UNDER)",
         "orientation": "v",
         "showlegend": true,
         "textposition": "auto",
         "type": "bar",
         "x": [
          "Central",
          "Hollywood",
          "Pacific",
          "West Valley"
         ],
         "xaxis": "x",
         "y": [
          1,
          1,
          1,
          1
         ],
         "yaxis": "y"
        },
        {
         "alignmentgroup": "True",
         "hovertemplate": "Crime Type=TILL TAP - PETTY ($950 & UNDER)<br>Area=%{x}<br>Number of Crimes=%{y}<extra></extra>",
         "legendgroup": "TILL TAP - PETTY ($950 & UNDER)",
         "marker": {
          "color": "#00cc96",
          "pattern": {
           "shape": ""
          }
         },
         "name": "TILL TAP - PETTY ($950 & UNDER)",
         "offsetgroup": "TILL TAP - PETTY ($950 & UNDER)",
         "orientation": "v",
         "showlegend": true,
         "textposition": "auto",
         "type": "bar",
         "x": [
          "Central",
          "West LA"
         ],
         "xaxis": "x",
         "y": [
          1,
          1
         ],
         "yaxis": "y"
        },
        {
         "alignmentgroup": "True",
         "hovertemplate": "Crime Type=THEFT, COIN MACHINE - PETTY ($950 & UNDER)<br>Area=%{x}<br>Number of Crimes=%{y}<extra></extra>",
         "legendgroup": "THEFT, COIN MACHINE - PETTY ($950 & UNDER)",
         "marker": {
          "color": "#ab63fa",
          "pattern": {
           "shape": ""
          }
         },
         "name": "THEFT, COIN MACHINE - PETTY ($950 & UNDER)",
         "offsetgroup": "THEFT, COIN MACHINE - PETTY ($950 & UNDER)",
         "orientation": "v",
         "showlegend": true,
         "textposition": "auto",
         "type": "bar",
         "x": [
          "Devonshire",
          "Topanga"
         ],
         "xaxis": "x",
         "y": [
          1,
          1
         ],
         "yaxis": "y"
        },
        {
         "alignmentgroup": "True",
         "hovertemplate": "Crime Type=DOCUMENT WORTHLESS ($200.01 & OVER)<br>Area=%{x}<br>Number of Crimes=%{y}<extra></extra>",
         "legendgroup": "DOCUMENT WORTHLESS ($200.01 & OVER)",
         "marker": {
          "color": "#FFA15A",
          "pattern": {
           "shape": ""
          }
         },
         "name": "DOCUMENT WORTHLESS ($200.01 & OVER)",
         "offsetgroup": "DOCUMENT WORTHLESS ($200.01 & OVER)",
         "orientation": "v",
         "showlegend": true,
         "textposition": "auto",
         "type": "bar",
         "x": [
          "Foothill",
          "N Hollywood",
          "Northeast",
          "Pacific",
          "Southwest",
          "Van Nuys",
          "West LA"
         ],
         "xaxis": "x",
         "y": [
          1,
          1,
          2,
          2,
          2,
          2,
          1
         ],
         "yaxis": "y"
        },
        {
         "alignmentgroup": "True",
         "hovertemplate": "Crime Type=WEAPONS POSSESSION/BOMBING<br>Area=%{x}<br>Number of Crimes=%{y}<extra></extra>",
         "legendgroup": "WEAPONS POSSESSION/BOMBING",
         "marker": {
          "color": "#19d3f3",
          "pattern": {
           "shape": ""
          }
         },
         "name": "WEAPONS POSSESSION/BOMBING",
         "offsetgroup": "WEAPONS POSSESSION/BOMBING",
         "orientation": "v",
         "showlegend": true,
         "textposition": "auto",
         "type": "bar",
         "x": [
          "Harbor",
          "N Hollywood",
          "Northeast",
          "Pacific",
          "Southwest"
         ],
         "xaxis": "x",
         "y": [
          1,
          1,
          2,
          1,
          1
         ],
         "yaxis": "y"
        },
        {
         "alignmentgroup": "True",
         "hovertemplate": "Crime Type=DISHONEST EMPLOYEE - GRAND THEFT<br>Area=%{x}<br>Number of Crimes=%{y}<extra></extra>",
         "legendgroup": "DISHONEST EMPLOYEE - GRAND THEFT",
         "marker": {
          "color": "#FF6692",
          "pattern": {
           "shape": ""
          }
         },
         "name": "DISHONEST EMPLOYEE - GRAND THEFT",
         "offsetgroup": "DISHONEST EMPLOYEE - GRAND THEFT",
         "orientation": "v",
         "showlegend": true,
         "textposition": "auto",
         "type": "bar",
         "x": [
          "Hollenbeck",
          "Northeast",
          "Olympic",
          "Pacific",
          "Southwest"
         ],
         "xaxis": "x",
         "y": [
          2,
          1,
          1,
          1,
          1
         ],
         "yaxis": "y"
        },
        {
         "alignmentgroup": "True",
         "hovertemplate": "Crime Type=GRAND THEFT / INSURANCE FRAUD<br>Area=%{x}<br>Number of Crimes=%{y}<extra></extra>",
         "legendgroup": "GRAND THEFT / INSURANCE FRAUD",
         "marker": {
          "color": "#B6E880",
          "pattern": {
           "shape": ""
          }
         },
         "name": "GRAND THEFT / INSURANCE FRAUD",
         "offsetgroup": "GRAND THEFT / INSURANCE FRAUD",
         "orientation": "v",
         "showlegend": true,
         "textposition": "auto",
         "type": "bar",
         "x": [
          "Hollywood"
         ],
         "xaxis": "x",
         "y": [
          1
         ],
         "yaxis": "y"
        },
        {
         "alignmentgroup": "True",
         "hovertemplate": "Crime Type=PANDERING<br>Area=%{x}<br>Number of Crimes=%{y}<extra></extra>",
         "legendgroup": "PANDERING",
         "marker": {
          "color": "#FF97FF",
          "pattern": {
           "shape": ""
          }
         },
         "name": "PANDERING",
         "offsetgroup": "PANDERING",
         "orientation": "v",
         "showlegend": true,
         "textposition": "auto",
         "type": "bar",
         "x": [
          "Hollywood",
          "Olympic",
          "Southwest",
          "Van Nuys",
          "West LA"
         ],
         "xaxis": "x",
         "y": [
          1,
          1,
          2,
          4,
          1
         ],
         "yaxis": "y"
        },
        {
         "alignmentgroup": "True",
         "hovertemplate": "Crime Type=DEFRAUDING INNKEEPER/THEFT OF SERVICES, OVER $950.01<br>Area=%{x}<br>Number of Crimes=%{y}<extra></extra>",
         "legendgroup": "DEFRAUDING INNKEEPER/THEFT OF SERVICES, OVER $950.01",
         "marker": {
          "color": "#FECB52",
          "pattern": {
           "shape": ""
          }
         },
         "name": "DEFRAUDING INNKEEPER/THEFT OF SERVICES, OVER $950.01",
         "offsetgroup": "DEFRAUDING INNKEEPER/THEFT OF SERVICES, OVER $950.01",
         "orientation": "v",
         "showlegend": true,
         "textposition": "auto",
         "type": "bar",
         "x": [
          "Mission",
          "Northeast",
          "Pacific",
          "West LA",
          "Wilshire"
         ],
         "xaxis": "x",
         "y": [
          1,
          1,
          1,
          1,
          2
         ],
         "yaxis": "y"
        },
        {
         "alignmentgroup": "True",
         "hovertemplate": "Crime Type=PURSE SNATCHING - ATTEMPT<br>Area=%{x}<br>Number of Crimes=%{y}<extra></extra>",
         "legendgroup": "PURSE SNATCHING - ATTEMPT",
         "marker": {
          "color": "#636efa",
          "pattern": {
           "shape": ""
          }
         },
         "name": "PURSE SNATCHING - ATTEMPT",
         "offsetgroup": "PURSE SNATCHING - ATTEMPT",
         "orientation": "v",
         "showlegend": true,
         "textposition": "auto",
         "type": "bar",
         "x": [
          "N Hollywood",
          "Southwest",
          "West LA"
         ],
         "xaxis": "x",
         "y": [
          2,
          1,
          1
         ],
         "yaxis": "y"
        },
        {
         "alignmentgroup": "True",
         "hovertemplate": "Crime Type=DISHONEST EMPLOYEE ATTEMPTED THEFT<br>Area=%{x}<br>Number of Crimes=%{y}<extra></extra>",
         "legendgroup": "DISHONEST EMPLOYEE ATTEMPTED THEFT",
         "marker": {
          "color": "#EF553B",
          "pattern": {
           "shape": ""
          }
         },
         "name": "DISHONEST EMPLOYEE ATTEMPTED THEFT",
         "offsetgroup": "DISHONEST EMPLOYEE ATTEMPTED THEFT",
         "orientation": "v",
         "showlegend": true,
         "textposition": "auto",
         "type": "bar",
         "x": [
          "N Hollywood"
         ],
         "xaxis": "x",
         "y": [
          1
         ],
         "yaxis": "y"
        },
        {
         "alignmentgroup": "True",
         "hovertemplate": "Crime Type=BIGAMY<br>Area=%{x}<br>Number of Crimes=%{y}<extra></extra>",
         "legendgroup": "BIGAMY",
         "marker": {
          "color": "#00cc96",
          "pattern": {
           "shape": ""
          }
         },
         "name": "BIGAMY",
         "offsetgroup": "BIGAMY",
         "orientation": "v",
         "showlegend": true,
         "textposition": "auto",
         "type": "bar",
         "x": [
          "Newton"
         ],
         "xaxis": "x",
         "y": [
          1
         ],
         "yaxis": "y"
        },
        {
         "alignmentgroup": "True",
         "hovertemplate": "Crime Type=REPLICA FIREARMS(SALE,DISPLAY,MANUFACTURE OR DISTRIBUTE)<br>Area=%{x}<br>Number of Crimes=%{y}<extra></extra>",
         "legendgroup": "REPLICA FIREARMS(SALE,DISPLAY,MANUFACTURE OR DISTRIBUTE)",
         "marker": {
          "color": "#ab63fa",
          "pattern": {
           "shape": ""
          }
         },
         "name": "REPLICA FIREARMS(SALE,DISPLAY,MANUFACTURE OR DISTRIBUTE)",
         "offsetgroup": "REPLICA FIREARMS(SALE,DISPLAY,MANUFACTURE OR DISTRIBUTE)",
         "orientation": "v",
         "showlegend": true,
         "textposition": "auto",
         "type": "bar",
         "x": [
          "Newton",
          "Northeast"
         ],
         "xaxis": "x",
         "y": [
          1,
          1
         ],
         "yaxis": "y"
        },
        {
         "alignmentgroup": "True",
         "hovertemplate": "Crime Type=COUNTERFEIT<br>Area=%{x}<br>Number of Crimes=%{y}<extra></extra>",
         "legendgroup": "COUNTERFEIT",
         "marker": {
          "color": "#FFA15A",
          "pattern": {
           "shape": ""
          }
         },
         "name": "COUNTERFEIT",
         "offsetgroup": "COUNTERFEIT",
         "orientation": "v",
         "showlegend": true,
         "textposition": "auto",
         "type": "bar",
         "x": [
          "Northeast",
          "Rampart",
          "Southwest",
          "Topanga",
          "Van Nuys",
          "West LA",
          "West Valley"
         ],
         "xaxis": "x",
         "y": [
          2,
          1,
          1,
          4,
          2,
          1,
          1
         ],
         "yaxis": "y"
        },
        {
         "alignmentgroup": "True",
         "hovertemplate": "Crime Type=BRIBERY<br>Area=%{x}<br>Number of Crimes=%{y}<extra></extra>",
         "legendgroup": "BRIBERY",
         "marker": {
          "color": "#19d3f3",
          "pattern": {
           "shape": ""
          }
         },
         "name": "BRIBERY",
         "offsetgroup": "BRIBERY",
         "orientation": "v",
         "showlegend": true,
         "textposition": "auto",
         "type": "bar",
         "x": [
          "Northeast"
         ],
         "xaxis": "x",
         "y": [
          1
         ],
         "yaxis": "y"
        },
        {
         "alignmentgroup": "True",
         "hovertemplate": "Crime Type=CONSPIRACY<br>Area=%{x}<br>Number of Crimes=%{y}<extra></extra>",
         "legendgroup": "CONSPIRACY",
         "marker": {
          "color": "#FF6692",
          "pattern": {
           "shape": ""
          }
         },
         "name": "CONSPIRACY",
         "offsetgroup": "CONSPIRACY",
         "orientation": "v",
         "showlegend": true,
         "textposition": "auto",
         "type": "bar",
         "x": [
          "Olympic",
          "Rampart"
         ],
         "xaxis": "x",
         "y": [
          1,
          1
         ],
         "yaxis": "y"
        },
        {
         "alignmentgroup": "True",
         "hovertemplate": "Crime Type=FIREARMS EMERGENCY PROTECTIVE ORDER (FIREARMS EPO)<br>Area=%{x}<br>Number of Crimes=%{y}<extra></extra>",
         "legendgroup": "FIREARMS EMERGENCY PROTECTIVE ORDER (FIREARMS EPO)",
         "marker": {
          "color": "#B6E880",
          "pattern": {
           "shape": ""
          }
         },
         "name": "FIREARMS EMERGENCY PROTECTIVE ORDER (FIREARMS EPO)",
         "offsetgroup": "FIREARMS EMERGENCY PROTECTIVE ORDER (FIREARMS EPO)",
         "orientation": "v",
         "showlegend": true,
         "textposition": "auto",
         "type": "bar",
         "x": [
          "Olympic"
         ],
         "xaxis": "x",
         "y": [
          1
         ],
         "yaxis": "y"
        },
        {
         "alignmentgroup": "True",
         "hovertemplate": "Crime Type=TELEPHONE PROPERTY - DAMAGE<br>Area=%{x}<br>Number of Crimes=%{y}<extra></extra>",
         "legendgroup": "TELEPHONE PROPERTY - DAMAGE",
         "marker": {
          "color": "#FF97FF",
          "pattern": {
           "shape": ""
          }
         },
         "name": "TELEPHONE PROPERTY - DAMAGE",
         "offsetgroup": "TELEPHONE PROPERTY - DAMAGE",
         "orientation": "v",
         "showlegend": true,
         "textposition": "auto",
         "type": "bar",
         "x": [
          "Pacific",
          "Southwest",
          "West Valley"
         ],
         "xaxis": "x",
         "y": [
          1,
          1,
          1
         ],
         "yaxis": "y"
        },
        {
         "alignmentgroup": "True",
         "hovertemplate": "Crime Type=TILL TAP - GRAND THEFT ($950.01 & OVER)<br>Area=%{x}<br>Number of Crimes=%{y}<extra></extra>",
         "legendgroup": "TILL TAP - GRAND THEFT ($950.01 & OVER)",
         "marker": {
          "color": "#FECB52",
          "pattern": {
           "shape": ""
          }
         },
         "name": "TILL TAP - GRAND THEFT ($950.01 & OVER)",
         "offsetgroup": "TILL TAP - GRAND THEFT ($950.01 & OVER)",
         "orientation": "v",
         "showlegend": true,
         "textposition": "auto",
         "type": "bar",
         "x": [
          "Pacific"
         ],
         "xaxis": "x",
         "y": [
          1
         ],
         "yaxis": "y"
        },
        {
         "alignmentgroup": "True",
         "hovertemplate": "Crime Type=LYNCHING<br>Area=%{x}<br>Number of Crimes=%{y}<extra></extra>",
         "legendgroup": "LYNCHING",
         "marker": {
          "color": "#636efa",
          "pattern": {
           "shape": ""
          }
         },
         "name": "LYNCHING",
         "offsetgroup": "LYNCHING",
         "orientation": "v",
         "showlegend": true,
         "textposition": "auto",
         "type": "bar",
         "x": [
          "Topanga"
         ],
         "xaxis": "x",
         "y": [
          1
         ],
         "yaxis": "y"
        },
        {
         "alignmentgroup": "True",
         "hovertemplate": "Crime Type=DISRUPT SCHOOL<br>Area=%{x}<br>Number of Crimes=%{y}<extra></extra>",
         "legendgroup": "DISRUPT SCHOOL",
         "marker": {
          "color": "#EF553B",
          "pattern": {
           "shape": ""
          }
         },
         "name": "DISRUPT SCHOOL",
         "offsetgroup": "DISRUPT SCHOOL",
         "orientation": "v",
         "showlegend": true,
         "textposition": "auto",
         "type": "bar",
         "x": [
          "Van Nuys"
         ],
         "xaxis": "x",
         "y": [
          1
         ],
         "yaxis": "y"
        },
        {
         "alignmentgroup": "True",
         "hovertemplate": "Crime Type=DISHONEST EMPLOYEE - PETTY THEFT<br>Area=%{x}<br>Number of Crimes=%{y}<extra></extra>",
         "legendgroup": "DISHONEST EMPLOYEE - PETTY THEFT",
         "marker": {
          "color": "#00cc96",
          "pattern": {
           "shape": ""
          }
         },
         "name": "DISHONEST EMPLOYEE - PETTY THEFT",
         "offsetgroup": "DISHONEST EMPLOYEE - PETTY THEFT",
         "orientation": "v",
         "showlegend": true,
         "textposition": "auto",
         "type": "bar",
         "x": [
          "West LA"
         ],
         "xaxis": "x",
         "y": [
          2
         ],
         "yaxis": "y"
        },
        {
         "alignmentgroup": "True",
         "hovertemplate": "Crime Type=BLOCKING DOOR INDUCTION CENTER<br>Area=%{x}<br>Number of Crimes=%{y}<extra></extra>",
         "legendgroup": "BLOCKING DOOR INDUCTION CENTER",
         "marker": {
          "color": "#ab63fa",
          "pattern": {
           "shape": ""
          }
         },
         "name": "BLOCKING DOOR INDUCTION CENTER",
         "offsetgroup": "BLOCKING DOOR INDUCTION CENTER",
         "orientation": "v",
         "showlegend": true,
         "textposition": "auto",
         "type": "bar",
         "x": [
          "West Valley"
         ],
         "xaxis": "x",
         "y": [
          4
         ],
         "yaxis": "y"
        }
       ],
       "layout": {
        "barmode": "relative",
        "height": 600,
        "legend": {
         "title": {
          "text": "Crime Type"
         },
         "tracegroupgap": 0
        },
        "template": {
         "data": {
          "bar": [
           {
            "error_x": {
             "color": "#2a3f5f"
            },
            "error_y": {
             "color": "#2a3f5f"
            },
            "marker": {
             "line": {
              "color": "#E5ECF6",
              "width": 0.5
             },
             "pattern": {
              "fillmode": "overlay",
              "size": 10,
              "solidity": 0.2
             }
            },
            "type": "bar"
           }
          ],
          "barpolar": [
           {
            "marker": {
             "line": {
              "color": "#E5ECF6",
              "width": 0.5
             },
             "pattern": {
              "fillmode": "overlay",
              "size": 10,
              "solidity": 0.2
             }
            },
            "type": "barpolar"
           }
          ],
          "carpet": [
           {
            "aaxis": {
             "endlinecolor": "#2a3f5f",
             "gridcolor": "white",
             "linecolor": "white",
             "minorgridcolor": "white",
             "startlinecolor": "#2a3f5f"
            },
            "baxis": {
             "endlinecolor": "#2a3f5f",
             "gridcolor": "white",
             "linecolor": "white",
             "minorgridcolor": "white",
             "startlinecolor": "#2a3f5f"
            },
            "type": "carpet"
           }
          ],
          "choropleth": [
           {
            "colorbar": {
             "outlinewidth": 0,
             "ticks": ""
            },
            "type": "choropleth"
           }
          ],
          "contour": [
           {
            "colorbar": {
             "outlinewidth": 0,
             "ticks": ""
            },
            "colorscale": [
             [
              0,
              "#0d0887"
             ],
             [
              0.1111111111111111,
              "#46039f"
             ],
             [
              0.2222222222222222,
              "#7201a8"
             ],
             [
              0.3333333333333333,
              "#9c179e"
             ],
             [
              0.4444444444444444,
              "#bd3786"
             ],
             [
              0.5555555555555556,
              "#d8576b"
             ],
             [
              0.6666666666666666,
              "#ed7953"
             ],
             [
              0.7777777777777778,
              "#fb9f3a"
             ],
             [
              0.8888888888888888,
              "#fdca26"
             ],
             [
              1,
              "#f0f921"
             ]
            ],
            "type": "contour"
           }
          ],
          "contourcarpet": [
           {
            "colorbar": {
             "outlinewidth": 0,
             "ticks": ""
            },
            "type": "contourcarpet"
           }
          ],
          "heatmap": [
           {
            "colorbar": {
             "outlinewidth": 0,
             "ticks": ""
            },
            "colorscale": [
             [
              0,
              "#0d0887"
             ],
             [
              0.1111111111111111,
              "#46039f"
             ],
             [
              0.2222222222222222,
              "#7201a8"
             ],
             [
              0.3333333333333333,
              "#9c179e"
             ],
             [
              0.4444444444444444,
              "#bd3786"
             ],
             [
              0.5555555555555556,
              "#d8576b"
             ],
             [
              0.6666666666666666,
              "#ed7953"
             ],
             [
              0.7777777777777778,
              "#fb9f3a"
             ],
             [
              0.8888888888888888,
              "#fdca26"
             ],
             [
              1,
              "#f0f921"
             ]
            ],
            "type": "heatmap"
           }
          ],
          "heatmapgl": [
           {
            "colorbar": {
             "outlinewidth": 0,
             "ticks": ""
            },
            "colorscale": [
             [
              0,
              "#0d0887"
             ],
             [
              0.1111111111111111,
              "#46039f"
             ],
             [
              0.2222222222222222,
              "#7201a8"
             ],
             [
              0.3333333333333333,
              "#9c179e"
             ],
             [
              0.4444444444444444,
              "#bd3786"
             ],
             [
              0.5555555555555556,
              "#d8576b"
             ],
             [
              0.6666666666666666,
              "#ed7953"
             ],
             [
              0.7777777777777778,
              "#fb9f3a"
             ],
             [
              0.8888888888888888,
              "#fdca26"
             ],
             [
              1,
              "#f0f921"
             ]
            ],
            "type": "heatmapgl"
           }
          ],
          "histogram": [
           {
            "marker": {
             "pattern": {
              "fillmode": "overlay",
              "size": 10,
              "solidity": 0.2
             }
            },
            "type": "histogram"
           }
          ],
          "histogram2d": [
           {
            "colorbar": {
             "outlinewidth": 0,
             "ticks": ""
            },
            "colorscale": [
             [
              0,
              "#0d0887"
             ],
             [
              0.1111111111111111,
              "#46039f"
             ],
             [
              0.2222222222222222,
              "#7201a8"
             ],
             [
              0.3333333333333333,
              "#9c179e"
             ],
             [
              0.4444444444444444,
              "#bd3786"
             ],
             [
              0.5555555555555556,
              "#d8576b"
             ],
             [
              0.6666666666666666,
              "#ed7953"
             ],
             [
              0.7777777777777778,
              "#fb9f3a"
             ],
             [
              0.8888888888888888,
              "#fdca26"
             ],
             [
              1,
              "#f0f921"
             ]
            ],
            "type": "histogram2d"
           }
          ],
          "histogram2dcontour": [
           {
            "colorbar": {
             "outlinewidth": 0,
             "ticks": ""
            },
            "colorscale": [
             [
              0,
              "#0d0887"
             ],
             [
              0.1111111111111111,
              "#46039f"
             ],
             [
              0.2222222222222222,
              "#7201a8"
             ],
             [
              0.3333333333333333,
              "#9c179e"
             ],
             [
              0.4444444444444444,
              "#bd3786"
             ],
             [
              0.5555555555555556,
              "#d8576b"
             ],
             [
              0.6666666666666666,
              "#ed7953"
             ],
             [
              0.7777777777777778,
              "#fb9f3a"
             ],
             [
              0.8888888888888888,
              "#fdca26"
             ],
             [
              1,
              "#f0f921"
             ]
            ],
            "type": "histogram2dcontour"
           }
          ],
          "mesh3d": [
           {
            "colorbar": {
             "outlinewidth": 0,
             "ticks": ""
            },
            "type": "mesh3d"
           }
          ],
          "parcoords": [
           {
            "line": {
             "colorbar": {
              "outlinewidth": 0,
              "ticks": ""
             }
            },
            "type": "parcoords"
           }
          ],
          "pie": [
           {
            "automargin": true,
            "type": "pie"
           }
          ],
          "scatter": [
           {
            "fillpattern": {
             "fillmode": "overlay",
             "size": 10,
             "solidity": 0.2
            },
            "type": "scatter"
           }
          ],
          "scatter3d": [
           {
            "line": {
             "colorbar": {
              "outlinewidth": 0,
              "ticks": ""
             }
            },
            "marker": {
             "colorbar": {
              "outlinewidth": 0,
              "ticks": ""
             }
            },
            "type": "scatter3d"
           }
          ],
          "scattercarpet": [
           {
            "marker": {
             "colorbar": {
              "outlinewidth": 0,
              "ticks": ""
             }
            },
            "type": "scattercarpet"
           }
          ],
          "scattergeo": [
           {
            "marker": {
             "colorbar": {
              "outlinewidth": 0,
              "ticks": ""
             }
            },
            "type": "scattergeo"
           }
          ],
          "scattergl": [
           {
            "marker": {
             "colorbar": {
              "outlinewidth": 0,
              "ticks": ""
             }
            },
            "type": "scattergl"
           }
          ],
          "scattermapbox": [
           {
            "marker": {
             "colorbar": {
              "outlinewidth": 0,
              "ticks": ""
             }
            },
            "type": "scattermapbox"
           }
          ],
          "scatterpolar": [
           {
            "marker": {
             "colorbar": {
              "outlinewidth": 0,
              "ticks": ""
             }
            },
            "type": "scatterpolar"
           }
          ],
          "scatterpolargl": [
           {
            "marker": {
             "colorbar": {
              "outlinewidth": 0,
              "ticks": ""
             }
            },
            "type": "scatterpolargl"
           }
          ],
          "scatterternary": [
           {
            "marker": {
             "colorbar": {
              "outlinewidth": 0,
              "ticks": ""
             }
            },
            "type": "scatterternary"
           }
          ],
          "surface": [
           {
            "colorbar": {
             "outlinewidth": 0,
             "ticks": ""
            },
            "colorscale": [
             [
              0,
              "#0d0887"
             ],
             [
              0.1111111111111111,
              "#46039f"
             ],
             [
              0.2222222222222222,
              "#7201a8"
             ],
             [
              0.3333333333333333,
              "#9c179e"
             ],
             [
              0.4444444444444444,
              "#bd3786"
             ],
             [
              0.5555555555555556,
              "#d8576b"
             ],
             [
              0.6666666666666666,
              "#ed7953"
             ],
             [
              0.7777777777777778,
              "#fb9f3a"
             ],
             [
              0.8888888888888888,
              "#fdca26"
             ],
             [
              1,
              "#f0f921"
             ]
            ],
            "type": "surface"
           }
          ],
          "table": [
           {
            "cells": {
             "fill": {
              "color": "#EBF0F8"
             },
             "line": {
              "color": "white"
             }
            },
            "header": {
             "fill": {
              "color": "#C8D4E3"
             },
             "line": {
              "color": "white"
             }
            },
            "type": "table"
           }
          ]
         },
         "layout": {
          "annotationdefaults": {
           "arrowcolor": "#2a3f5f",
           "arrowhead": 0,
           "arrowwidth": 1
          },
          "autotypenumbers": "strict",
          "coloraxis": {
           "colorbar": {
            "outlinewidth": 0,
            "ticks": ""
           }
          },
          "colorscale": {
           "diverging": [
            [
             0,
             "#8e0152"
            ],
            [
             0.1,
             "#c51b7d"
            ],
            [
             0.2,
             "#de77ae"
            ],
            [
             0.3,
             "#f1b6da"
            ],
            [
             0.4,
             "#fde0ef"
            ],
            [
             0.5,
             "#f7f7f7"
            ],
            [
             0.6,
             "#e6f5d0"
            ],
            [
             0.7,
             "#b8e186"
            ],
            [
             0.8,
             "#7fbc41"
            ],
            [
             0.9,
             "#4d9221"
            ],
            [
             1,
             "#276419"
            ]
           ],
           "sequential": [
            [
             0,
             "#0d0887"
            ],
            [
             0.1111111111111111,
             "#46039f"
            ],
            [
             0.2222222222222222,
             "#7201a8"
            ],
            [
             0.3333333333333333,
             "#9c179e"
            ],
            [
             0.4444444444444444,
             "#bd3786"
            ],
            [
             0.5555555555555556,
             "#d8576b"
            ],
            [
             0.6666666666666666,
             "#ed7953"
            ],
            [
             0.7777777777777778,
             "#fb9f3a"
            ],
            [
             0.8888888888888888,
             "#fdca26"
            ],
            [
             1,
             "#f0f921"
            ]
           ],
           "sequentialminus": [
            [
             0,
             "#0d0887"
            ],
            [
             0.1111111111111111,
             "#46039f"
            ],
            [
             0.2222222222222222,
             "#7201a8"
            ],
            [
             0.3333333333333333,
             "#9c179e"
            ],
            [
             0.4444444444444444,
             "#bd3786"
            ],
            [
             0.5555555555555556,
             "#d8576b"
            ],
            [
             0.6666666666666666,
             "#ed7953"
            ],
            [
             0.7777777777777778,
             "#fb9f3a"
            ],
            [
             0.8888888888888888,
             "#fdca26"
            ],
            [
             1,
             "#f0f921"
            ]
           ]
          },
          "colorway": [
           "#636efa",
           "#EF553B",
           "#00cc96",
           "#ab63fa",
           "#FFA15A",
           "#19d3f3",
           "#FF6692",
           "#B6E880",
           "#FF97FF",
           "#FECB52"
          ],
          "font": {
           "color": "#2a3f5f"
          },
          "geo": {
           "bgcolor": "white",
           "lakecolor": "white",
           "landcolor": "#E5ECF6",
           "showlakes": true,
           "showland": true,
           "subunitcolor": "white"
          },
          "hoverlabel": {
           "align": "left"
          },
          "hovermode": "closest",
          "mapbox": {
           "style": "light"
          },
          "paper_bgcolor": "white",
          "plot_bgcolor": "#E5ECF6",
          "polar": {
           "angularaxis": {
            "gridcolor": "white",
            "linecolor": "white",
            "ticks": ""
           },
           "bgcolor": "#E5ECF6",
           "radialaxis": {
            "gridcolor": "white",
            "linecolor": "white",
            "ticks": ""
           }
          },
          "scene": {
           "xaxis": {
            "backgroundcolor": "#E5ECF6",
            "gridcolor": "white",
            "gridwidth": 2,
            "linecolor": "white",
            "showbackground": true,
            "ticks": "",
            "zerolinecolor": "white"
           },
           "yaxis": {
            "backgroundcolor": "#E5ECF6",
            "gridcolor": "white",
            "gridwidth": 2,
            "linecolor": "white",
            "showbackground": true,
            "ticks": "",
            "zerolinecolor": "white"
           },
           "zaxis": {
            "backgroundcolor": "#E5ECF6",
            "gridcolor": "white",
            "gridwidth": 2,
            "linecolor": "white",
            "showbackground": true,
            "ticks": "",
            "zerolinecolor": "white"
           }
          },
          "shapedefaults": {
           "line": {
            "color": "#2a3f5f"
           }
          },
          "ternary": {
           "aaxis": {
            "gridcolor": "white",
            "linecolor": "white",
            "ticks": ""
           },
           "baxis": {
            "gridcolor": "white",
            "linecolor": "white",
            "ticks": ""
           },
           "bgcolor": "#E5ECF6",
           "caxis": {
            "gridcolor": "white",
            "linecolor": "white",
            "ticks": ""
           }
          },
          "title": {
           "x": 0.05
          },
          "xaxis": {
           "automargin": true,
           "gridcolor": "white",
           "linecolor": "white",
           "ticks": "",
           "title": {
            "standoff": 15
           },
           "zerolinecolor": "white",
           "zerolinewidth": 2
          },
          "yaxis": {
           "automargin": true,
           "gridcolor": "white",
           "linecolor": "white",
           "ticks": "",
           "title": {
            "standoff": 15
           },
           "zerolinecolor": "white",
           "zerolinewidth": 2
          }
         }
        },
        "title": {
         "text": "Crime Counts by Area"
        },
        "xaxis": {
         "anchor": "y",
         "domain": [
          0,
          1
         ],
         "tickangle": -45,
         "title": {
          "text": "Area"
         }
        },
        "yaxis": {
         "anchor": "x",
         "domain": [
          0,
          1
         ],
         "title": {
          "text": "Number of Crimes"
         }
        }
       }
      }
     },
     "metadata": {},
     "output_type": "display_data"
    }
   ],
   "source": [
    "import pandas as pd\n",
    "import plotly.express as px\n",
    "\n",
    "# Assuming 'crime_counts' is the output of your groupby operation\n",
    "crime_counts = crimes.groupby('AREA NAME')['Crm Cd Desc'].value_counts().reset_index(name='count')\n",
    "\n",
    "# Bar chart showing total crimes per area\n",
    "fig = px.bar(crime_counts, \n",
    "             x='AREA NAME', \n",
    "             y='count', \n",
    "             color='Crm Cd Desc', \n",
    "             title='Crime Counts by Area',\n",
    "             labels={'AREA NAME': 'Area', 'count': 'Number of Crimes', 'Crm Cd Desc': 'Crime Type'},\n",
    "             height=600)\n",
    "fig.update_layout(xaxis_tickangle=-45)  # Rotate x-axis labels for better readability\n",
    "fig.show()\n"
   ]
  },
  {
   "cell_type": "code",
   "execution_count": 73,
   "id": "6b546878",
   "metadata": {},
   "outputs": [
    {
     "data": {
      "text/plain": [
       "Crm Cd Desc\n",
       "DRUNK ROLL                                            1\n",
       "LYNCHING                                              1\n",
       "BUNCO, ATTEMPT                                        1\n",
       "FALSE POLICE REPORT                                   1\n",
       "UNAUTHORIZED COMPUTER ACCESS                          1\n",
       "                                                  ...  \n",
       "CRIMINAL THREATS - NO WEAPON DISPLAYED             5118\n",
       "ROBBERY                                            6470\n",
       "INTIMATE PARTNER - SIMPLE ASSAULT                 11965\n",
       "ASSAULT WITH DEADLY WEAPON, AGGRAVATED ASSAULT    13214\n",
       "BATTERY - SIMPLE ASSAULT                          19693\n",
       "Name: count, Length: 80, dtype: int64"
      ]
     },
     "execution_count": 73,
     "metadata": {},
     "output_type": "execute_result"
    }
   ],
   "source": [
    "crimes['Crm Cd Desc'].value_counts().sort_values()"
   ]
  },
  {
   "cell_type": "code",
   "execution_count": 74,
   "id": "b3617222",
   "metadata": {},
   "outputs": [
    {
     "data": {
      "image/png": "[encoded data removed]",
      "text/plain": [
       "<Figure size 640x480 with 1 Axes>"
      ]
     },
     "metadata": {},
     "output_type": "display_data"
    }
   ],
   "source": [
    "import numpy as np\n",
    "import matplotlib.pyplot as plt\n",
    "from scipy.stats import poisson\n",
    "\n",
    "# Example: Number of \"THEFT OF IDENTITY\" crimes in a specific area\n",
    "crime_counts = crimes[crimes['Crm Cd Desc'] == 'ROBBERY'].groupby('AREA NAME').size()\n",
    "\n",
    "# Fit a Poisson distribution to the data\n",
    "lambda_ = np.mean(crime_counts)  # Mean count of crimes (rate parameter)\n",
    "poisson_data = poisson.pmf(crime_counts, lambda_)\n",
    "\n",
    "# Plot the results\n",
    "plt.bar(crime_counts.index, poisson_data)\n",
    "plt.xlabel('Crime Counts per Area')\n",
    "plt.ylabel('Probability')\n",
    "plt.title('Poisson Distribution Fit for Theft of Identity Crimes')\n",
    "plt.xticks(rotation= 65)\n",
    "plt.show()\n"
   ]
  },
  {
   "cell_type": "code",
   "execution_count": 67,
   "id": "bb7937af",
   "metadata": {},
   "outputs": [
    {
     "data": {
      "text/html": [
       "<div>\n",
       "<style scoped>\n",
       "    .dataframe tbody tr th:only-of-type {\n",
       "        vertical-align: middle;\n",
       "    }\n",
       "\n",
       "    .dataframe tbody tr th {\n",
       "        vertical-align: top;\n",
       "    }\n",
       "\n",
       "    .dataframe thead th {\n",
       "        text-align: right;\n",
       "    }\n",
       "</style>\n",
       "<table border=\"1\" class=\"dataframe\">\n",
       "  <thead>\n",
       "    <tr style=\"text-align: right;\">\n",
       "      <th></th>\n",
       "      <th>DR_NO</th>\n",
       "      <th>Date Rptd</th>\n",
       "      <th>DATE OCC</th>\n",
       "      <th>TIME OCC</th>\n",
       "      <th>AREA NAME</th>\n",
       "      <th>Crm Cd Desc</th>\n",
       "      <th>Vict Age</th>\n",
       "      <th>Vict Sex</th>\n",
       "      <th>Vict Descent</th>\n",
       "      <th>Weapon Desc</th>\n",
       "      <th>Status Desc</th>\n",
       "      <th>LOCATION</th>\n",
       "      <th>Hour</th>\n",
       "      <th>victim_ages</th>\n",
       "      <th>time_diff</th>\n",
       "    </tr>\n",
       "  </thead>\n",
       "  <tbody>\n",
       "    <tr>\n",
       "      <th>204</th>\n",
       "      <td>222017118</td>\n",
       "      <td>2022-11-14</td>\n",
       "      <td>2020-01-01</td>\n",
       "      <td>0001</td>\n",
       "      <td>Olympic</td>\n",
       "      <td>CRM AGNST CHLD (13 OR UNDER) (14-15 &amp; SUSP 10 ...</td>\n",
       "      <td>8</td>\n",
       "      <td>F</td>\n",
       "      <td>H</td>\n",
       "      <td>STRONG-ARM (HANDS, FIST, FEET OR BODILY FORCE)</td>\n",
       "      <td>Invest Cont</td>\n",
       "      <td>1800 S  NORMANDIE                    AV</td>\n",
       "      <td>0</td>\n",
       "      <td>0-17</td>\n",
       "      <td>0.0</td>\n",
       "    </tr>\n",
       "    <tr>\n",
       "      <th>416</th>\n",
       "      <td>231804643</td>\n",
       "      <td>2023-01-10</td>\n",
       "      <td>2020-01-01</td>\n",
       "      <td>0800</td>\n",
       "      <td>Southeast</td>\n",
       "      <td>CRM AGNST CHLD (13 OR UNDER) (14-15 &amp; SUSP 10 ...</td>\n",
       "      <td>12</td>\n",
       "      <td>F</td>\n",
       "      <td>H</td>\n",
       "      <td>STRONG-ARM (HANDS, FIST, FEET OR BODILY FORCE)</td>\n",
       "      <td>Adult Other</td>\n",
       "      <td>900 E  IMPERIAL                     HY</td>\n",
       "      <td>8</td>\n",
       "      <td>0-17</td>\n",
       "      <td>0.0</td>\n",
       "    </tr>\n",
       "    <tr>\n",
       "      <th>230</th>\n",
       "      <td>231304402</td>\n",
       "      <td>2023-01-06</td>\n",
       "      <td>2020-01-01</td>\n",
       "      <td>1200</td>\n",
       "      <td>Newton</td>\n",
       "      <td>CRM AGNST CHLD (13 OR UNDER) (14-15 &amp; SUSP 10 ...</td>\n",
       "      <td>7</td>\n",
       "      <td>F</td>\n",
       "      <td>H</td>\n",
       "      <td>STRONG-ARM (HANDS, FIST, FEET OR BODILY FORCE)</td>\n",
       "      <td>Invest Cont</td>\n",
       "      <td>100 E  28TH                         ST</td>\n",
       "      <td>12</td>\n",
       "      <td>0-17</td>\n",
       "      <td>0.0</td>\n",
       "    </tr>\n",
       "    <tr>\n",
       "      <th>599</th>\n",
       "      <td>230705655</td>\n",
       "      <td>2023-01-06</td>\n",
       "      <td>2020-01-01</td>\n",
       "      <td>1200</td>\n",
       "      <td>Wilshire</td>\n",
       "      <td>CRM AGNST CHLD (13 OR UNDER) (14-15 &amp; SUSP 10 ...</td>\n",
       "      <td>13</td>\n",
       "      <td>F</td>\n",
       "      <td>H</td>\n",
       "      <td>STRONG-ARM (HANDS, FIST, FEET OR BODILY FORCE)</td>\n",
       "      <td>Adult Arrest</td>\n",
       "      <td>1100 S  NORTON                       AV</td>\n",
       "      <td>12</td>\n",
       "      <td>0-17</td>\n",
       "      <td>0.0</td>\n",
       "    </tr>\n",
       "    <tr>\n",
       "      <th>609</th>\n",
       "      <td>232010431</td>\n",
       "      <td>2023-05-17</td>\n",
       "      <td>2020-01-01</td>\n",
       "      <td>1200</td>\n",
       "      <td>Olympic</td>\n",
       "      <td>INTIMATE PARTNER - SIMPLE ASSAULT</td>\n",
       "      <td>35</td>\n",
       "      <td>F</td>\n",
       "      <td>B</td>\n",
       "      <td>STRONG-ARM (HANDS, FIST, FEET OR BODILY FORCE)</td>\n",
       "      <td>Invest Cont</td>\n",
       "      <td>FEDORA                       ST</td>\n",
       "      <td>12</td>\n",
       "      <td>35-44</td>\n",
       "      <td>0.0</td>\n",
       "    </tr>\n",
       "  </tbody>\n",
       "</table>\n",
       "</div>"
      ],
      "text/plain": [
       "         DR_NO   Date Rptd   DATE OCC TIME OCC  AREA NAME  \\\n",
       "204  222017118  2022-11-14 2020-01-01     0001    Olympic   \n",
       "416  231804643  2023-01-10 2020-01-01     0800  Southeast   \n",
       "230  231304402  2023-01-06 2020-01-01     1200     Newton   \n",
       "599  230705655  2023-01-06 2020-01-01     1200   Wilshire   \n",
       "609  232010431  2023-05-17 2020-01-01     1200    Olympic   \n",
       "\n",
       "                                           Crm Cd Desc  Vict Age Vict Sex  \\\n",
       "204  CRM AGNST CHLD (13 OR UNDER) (14-15 & SUSP 10 ...         8        F   \n",
       "416  CRM AGNST CHLD (13 OR UNDER) (14-15 & SUSP 10 ...        12        F   \n",
       "230  CRM AGNST CHLD (13 OR UNDER) (14-15 & SUSP 10 ...         7        F   \n",
       "599  CRM AGNST CHLD (13 OR UNDER) (14-15 & SUSP 10 ...        13        F   \n",
       "609                  INTIMATE PARTNER - SIMPLE ASSAULT        35        F   \n",
       "\n",
       "    Vict Descent                                     Weapon Desc  \\\n",
       "204            H  STRONG-ARM (HANDS, FIST, FEET OR BODILY FORCE)   \n",
       "416            H  STRONG-ARM (HANDS, FIST, FEET OR BODILY FORCE)   \n",
       "230            H  STRONG-ARM (HANDS, FIST, FEET OR BODILY FORCE)   \n",
       "599            H  STRONG-ARM (HANDS, FIST, FEET OR BODILY FORCE)   \n",
       "609            B  STRONG-ARM (HANDS, FIST, FEET OR BODILY FORCE)   \n",
       "\n",
       "      Status Desc                                 LOCATION  Hour victim_ages  \\\n",
       "204   Invest Cont  1800 S  NORMANDIE                    AV     0        0-17   \n",
       "416   Adult Other   900 E  IMPERIAL                     HY     8        0-17   \n",
       "230   Invest Cont   100 E  28TH                         ST    12        0-17   \n",
       "599  Adult Arrest  1100 S  NORTON                       AV    12        0-17   \n",
       "609   Invest Cont          FEDORA                       ST    12       35-44   \n",
       "\n",
       "     time_diff  \n",
       "204        0.0  \n",
       "416        0.0  \n",
       "230        0.0  \n",
       "599        0.0  \n",
       "609        0.0  "
      ]
     },
     "execution_count": 67,
     "metadata": {},
     "output_type": "execute_result"
    }
   ],
   "source": [
    "crimes.head()"
   ]
  },
  {
   "cell_type": "markdown",
   "id": "18b87414",
   "metadata": {},
   "source": [
    "## Geo Mapping Crimes using Plotly"
   ]
  },
  {
   "cell_type": "code",
   "execution_count": null,
   "id": "181ac145",
   "metadata": {},
   "outputs": [
    {
     "name": "stdout",
     "output_type": "stream",
     "text": [
      "Collecting geopy\n",
      "  Downloading geopy-2.4.1-py3-none-any.whl.metadata (6.8 kB)\n",
      "Collecting geographiclib<3,>=1.52 (from geopy)\n",
      "  Downloading geographiclib-2.0-py3-none-any.whl.metadata (1.4 kB)\n",
      "Downloading geopy-2.4.1-py3-none-any.whl (125 kB)\n",
      "\u001b[2K   \u001b[90m━━━━━━━━━━━━━━━━━━━━━━━━━━━━━━━━━━━━━━━\u001b[0m \u001b[32m125.4/125.4 kB\u001b[0m \u001b[31m618.9 kB/s\u001b[0m eta \u001b[36m0:00:00\u001b[0m0:01\u001b[0m0:01\u001b[0m\n",
      "\u001b[?25hDownloading geographiclib-2.0-py3-none-any.whl (40 kB)\n",
      "\u001b[2K   \u001b[90m━━━━━━━━━━━━━━━━━━━━━━━━━━━━━━━━━━━━━━━━\u001b[0m \u001b[32m40.3/40.3 kB\u001b[0m \u001b[31m1.2 MB/s\u001b[0m eta \u001b[36m0:00:00\u001b[0m\n",
      "\u001b[?25hInstalling collected packages: geographiclib, geopy\n",
      "Successfully installed geographiclib-2.0 geopy-2.4.1\n",
      "\n",
      "\u001b[1m[\u001b[0m\u001b[34;49mnotice\u001b[0m\u001b[1;39;49m]\u001b[0m\u001b[39;49m A new release of pip is available: \u001b[0m\u001b[31;49m24.0\u001b[0m\u001b[39;49m -> \u001b[0m\u001b[32;49m25.2\u001b[0m\n",
      "\u001b[1m[\u001b[0m\u001b[34;49mnotice\u001b[0m\u001b[1;39;49m]\u001b[0m\u001b[39;49m To update, run: \u001b[0m\u001b[32;49mpip install --upgrade pip\u001b[0m\n",
      "Note: you may need to restart the kernel to use updated packages.\n"
     ]
    }
   ],
   "source": [
    "#Installing geopy\n",
    "pip install geopy"
   ]
  },
  {
   "cell_type": "code",
   "execution_count": 37,
   "id": "9b39df48",
   "metadata": {},
   "outputs": [
    {
     "ename": "KeyboardInterrupt",
     "evalue": "",
     "output_type": "error",
     "traceback": [
      "\u001b[0;31m---------------------------------------------------------------------------\u001b[0m",
      "\u001b[0;31mKeyboardInterrupt\u001b[0m                         Traceback (most recent call last)",
      "Cell \u001b[0;32mIn[37], line 27\u001b[0m\n\u001b[1;32m     25\u001b[0m     latitudes\u001b[38;5;241m.\u001b[39mappend(latitude)\n\u001b[1;32m     26\u001b[0m     longitudes\u001b[38;5;241m.\u001b[39mappend(longitude)\n\u001b[0;32m---> 27\u001b[0m     \u001b[43mtime\u001b[49m\u001b[38;5;241;43m.\u001b[39;49m\u001b[43msleep\u001b[49m\u001b[43m(\u001b[49m\u001b[38;5;241;43m1\u001b[39;49m\u001b[43m)\u001b[49m  \u001b[38;5;66;03m# Adding a delay of 1 second between requests\u001b[39;00m\n\u001b[1;32m     29\u001b[0m crimes[\u001b[38;5;124m'\u001b[39m\u001b[38;5;124mlatitude\u001b[39m\u001b[38;5;124m'\u001b[39m] \u001b[38;5;241m=\u001b[39m latitudes\n\u001b[1;32m     30\u001b[0m crimes[\u001b[38;5;124m'\u001b[39m\u001b[38;5;124mlongitude\u001b[39m\u001b[38;5;124m'\u001b[39m] \u001b[38;5;241m=\u001b[39m longitudes\n",
      "\u001b[0;31mKeyboardInterrupt\u001b[0m: "
     ]
    }
   ],
   "source": [
    "import pandas as pd\n",
    "import plotly.express as px\n",
    "from geopy.geocoders import Nominatim\n",
    "import time\n",
    "\n",
    "# Step 1: Initialize the geocoder\n",
    "geolocator = Nominatim(user_agent=\"crime_mapping\")\n",
    "\n",
    "# Step 2: Function to geocode an address\n",
    "def geocode_address(address):\n",
    "    try:\n",
    "        location = geolocator.geocode(address)\n",
    "        if location:\n",
    "            return location.latitude, location.longitude\n",
    "        else:\n",
    "            return None, None\n",
    "    except Exception as e:\n",
    "        return None, None\n",
    "\n",
    "# Step 3: Apply geocoding to your dataframe with a delay to avoid rate limiting\n",
    "latitudes = []\n",
    "longitudes = []\n",
    "for address in crimes['LOCATION']:\n",
    "    latitude, longitude = geocode_address(address)\n",
    "    latitudes.append(latitude)\n",
    "    longitudes.append(longitude)\n",
    "    time.sleep(1)  # Adding a delay of 1 second between requests\n",
    "\n",
    "crimes['latitude'] = latitudes\n",
    "crimes['longitude'] = longitudes\n",
    "\n",
    "# Step 4: Create the plot\n",
    "fig = px.scatter_mapbox(crimes, \n",
    "                        lat='latitude', \n",
    "                        lon='longitude', \n",
    "                        color='Crm Cd Desc',  # Crime description or any other feature you want to visualize\n",
    "                        hover_name='LOCATION',  # Hover text\n",
    "                        hover_data=['DATE OCC', 'TIME OCC'],  # Other details to show on hover\n",
    "                        title='LA Crimes Map')\n",
    "\n",
    "# Use Mapbox style\n",
    "fig.update_layout(mapbox_style=\"carto-positron\", mapbox_zoom=10, mapbox_center={\"lat\": 34.0522, \"lon\": -118.2437})  # LA center\n",
    "\n",
    "# Show the plot\n",
    "fig.show()\n",
    "\n"
   ]
  },
  {
   "cell_type": "code",
   "execution_count": null,
   "id": "c33d92ec",
   "metadata": {},
   "outputs": [],
   "source": []
  },
  {
   "cell_type": "code",
   "execution_count": null,
   "id": "b77fc034",
   "metadata": {},
   "outputs": [],
   "source": []
  },
  {
   "cell_type": "code",
   "execution_count": null,
   "id": "737bb52b",
   "metadata": {},
   "outputs": [],
   "source": []
  },
  {
   "cell_type": "code",
   "execution_count": null,
   "id": "057445b2",
   "metadata": {},
   "outputs": [],
   "source": []
  }
 ],
 "metadata": {
  "colab": {
   "name": "Welcome to DataCamp Workspaces.ipynb",
   "provenance": []
  },
  "kernelspec": {
   "display_name": "Python 3",
   "language": "python",
   "name": "python3"
  },
  "language_info": {
   "codemirror_mode": {
    "name": "ipython",
    "version": 3
   },
   "file_extension": ".py",
   "mimetype": "text/x-python",
   "name": "python",
   "nbconvert_exporter": "python",
   "pygments_lexer": "ipython3",
   "version": "3.12.3"
  }
 },
 "nbformat": 4,
 "nbformat_minor": 5
}
